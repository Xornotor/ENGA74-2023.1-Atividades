{
 "cells": [
  {
   "attachments": {},
   "cell_type": "markdown",
   "metadata": {},
   "source": [
    "# Avaliação 01 - ENGA74 2023.1\n",
    "**Aluno:** André Paiva Conrado Rodrigues"
   ]
  },
  {
   "attachments": {},
   "cell_type": "markdown",
   "metadata": {},
   "source": [
    "## Questão 1\n",
    "\n",
    "Temos uma região retangular de área $x \\cdot y$ de modo que $2x + y = 80$, como ilustrado na imagem abaixo.\n",
    "\n",
    "<img src='av01-img/img01.png' width=300px/>\n",
    "\n"
   ]
  }
 ],
 "metadata": {
  "language_info": {
   "name": "python"
  },
  "orig_nbformat": 4
 },
 "nbformat": 4,
 "nbformat_minor": 2
}
