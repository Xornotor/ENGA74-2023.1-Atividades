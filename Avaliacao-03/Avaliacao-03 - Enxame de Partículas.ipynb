{
 "cells": [
  {
   "attachments": {},
   "cell_type": "markdown",
   "metadata": {},
   "source": [
    "# **Avaliação 03 - Enxame de Partículas - ENGA74 2023.1**\n",
    "**Aluno:** André Paiva Conrado Rodrigues"
   ]
  },
  {
   "attachments": {},
   "cell_type": "markdown",
   "metadata": {},
   "source": [
    "## **Importação de dependências para os códigos**"
   ]
  },
  {
   "cell_type": "code",
   "execution_count": null,
   "metadata": {},
   "outputs": [],
   "source": [
    "# Módulo customizado \"av03\"\n",
    "# Dependências: numpy, pandas, plotly, time\n",
    "import av03"
   ]
  },
  {
   "attachments": {},
   "cell_type": "markdown",
   "metadata": {},
   "source": [
    "## **3.1. Otimização da esfera em $\\mathbb{R}^{2}$ com 20 indivíduos e 50 iterações**"
   ]
  },
  {
   "attachments": {},
   "cell_type": "markdown",
   "metadata": {},
   "source": [
    "Caso 3.1.1:\n",
    "\n",
    "*   Cognição Pessoal Máxima: 40%\n",
    "*   Conhecimento Social Máximo: 60%\n",
    "*   Inércia Mínima: 0.1\n",
    "*   Inércia Máxima: 0.5"
   ]
  },
  {
   "cell_type": "code",
   "execution_count": null,
   "metadata": {},
   "outputs": [],
   "source": [
    "av03.treina_enxame(2, 'esfera', cognicao_max=0.4, social_max=0.6, inercia_min=0.1, inercia_max=0.5)"
   ]
  },
  {
   "attachments": {},
   "cell_type": "markdown",
   "metadata": {},
   "source": [
    "Caso 3.1.2:\n",
    "\n",
    "*   Cognição Pessoal Máxima: 40%\n",
    "*   Conhecimento Social Máximo: 60%\n",
    "*   Inércia Mínima: 0.0\n",
    "*   Inércia Máxima: 0.6"
   ]
  },
  {
   "cell_type": "code",
   "execution_count": null,
   "metadata": {},
   "outputs": [],
   "source": [
    "av03.treina_enxame(2, 'esfera', cognicao_max=0.4, social_max=0.6, inercia_min=0.0, inercia_max=0.6)"
   ]
  },
  {
   "attachments": {},
   "cell_type": "markdown",
   "metadata": {},
   "source": [
    "Caso 3.1.3:\n",
    "\n",
    "*   Cognição Pessoal Máxima: 40%\n",
    "*   Conhecimento Social Máximo: 60%\n",
    "*   Inércia Mínima: 0.0\n",
    "*   Inércia Máxima: 0.8"
   ]
  },
  {
   "cell_type": "code",
   "execution_count": null,
   "metadata": {},
   "outputs": [],
   "source": [
    "av03.treina_enxame(2, 'esfera', cognicao_max=0.4, social_max=0.6, inercia_min=0.0, inercia_max=0.8)"
   ]
  },
  {
   "attachments": {},
   "cell_type": "markdown",
   "metadata": {},
   "source": [
    "Caso 3.1.4:\n",
    "\n",
    "*   Cognição Pessoal Máxima: 40%\n",
    "*   Conhecimento Social Máximo: 60%\n",
    "*   Inércia Mínima: 0.2\n",
    "*   Inércia Máxima: 1.0"
   ]
  },
  {
   "cell_type": "code",
   "execution_count": null,
   "metadata": {},
   "outputs": [],
   "source": [
    "av03.treina_enxame(2, 'esfera', cognicao_max=0.4, social_max=0.6, inercia_min=0.2, inercia_max=1.0)"
   ]
  },
  {
   "attachments": {},
   "cell_type": "markdown",
   "metadata": {},
   "source": [
    "Caso 3.1.5:\n",
    "\n",
    "*   Cognição Pessoal Máxima: 40%\n",
    "*   Conhecimento Social Máximo: 60%\n",
    "*   Inércia Mínima: 0.0\n",
    "*   Inércia Máxima: 1.5"
   ]
  },
  {
   "cell_type": "code",
   "execution_count": null,
   "metadata": {},
   "outputs": [],
   "source": [
    "av03.treina_enxame(2, 'esfera', cognicao_max=0.4, social_max=0.6, inercia_min=0.0, inercia_max=1.5)"
   ]
  },
  {
   "attachments": {},
   "cell_type": "markdown",
   "metadata": {},
   "source": [
    "Caso 3.1.6:\n",
    "\n",
    "*   Cognição Pessoal Máxima: 20%\n",
    "*   Conhecimento Social Máximo: 80%\n",
    "*   Inércia Mínima: 0.0\n",
    "*   Inércia Máxima: 0.6"
   ]
  },
  {
   "cell_type": "code",
   "execution_count": null,
   "metadata": {},
   "outputs": [],
   "source": [
    "av03.treina_enxame(2, 'esfera', cognicao_max=0.2, social_max=0.8, inercia_min=0.0, inercia_max=0.6)"
   ]
  },
  {
   "attachments": {},
   "cell_type": "markdown",
   "metadata": {},
   "source": [
    "Caso 3.1.7:\n",
    "\n",
    "*   Cognição Pessoal Máxima: 30%\n",
    "*   Conhecimento Social Máximo: 70%\n",
    "*   Inércia Mínima: 0.0\n",
    "*   Inércia Máxima: 0.6"
   ]
  },
  {
   "cell_type": "code",
   "execution_count": null,
   "metadata": {},
   "outputs": [],
   "source": [
    "av03.treina_enxame(2, 'esfera', cognicao_max=0.3, social_max=0.7, inercia_min=0.0, inercia_max=0.6)"
   ]
  },
  {
   "attachments": {},
   "cell_type": "markdown",
   "metadata": {},
   "source": [
    "Caso 3.1.8:\n",
    "\n",
    "*   Cognição Pessoal Máxima: 50%\n",
    "*   Conhecimento Social Máximo: 50%\n",
    "*   Inércia Mínima: 0.0\n",
    "*   Inércia Máxima: 0.6"
   ]
  },
  {
   "cell_type": "code",
   "execution_count": null,
   "metadata": {},
   "outputs": [],
   "source": [
    "av03.treina_enxame(2, 'esfera', cognicao_max=0.5, social_max=0.5, inercia_min=0.0, inercia_max=0.6)"
   ]
  },
  {
   "attachments": {},
   "cell_type": "markdown",
   "metadata": {},
   "source": [
    "Caso 3.1.9:\n",
    "\n",
    "*   Cognição Pessoal Máxima: 60%\n",
    "*   Conhecimento Social Máximo: 40%\n",
    "*   Inércia Mínima: 0.0\n",
    "*   Inércia Máxima: 0.6"
   ]
  },
  {
   "cell_type": "code",
   "execution_count": null,
   "metadata": {},
   "outputs": [],
   "source": [
    "av03.treina_enxame(2, 'esfera', cognicao_max=0.6, social_max=0.4, inercia_min=0.0, inercia_max=0.6)"
   ]
  },
  {
   "attachments": {},
   "cell_type": "markdown",
   "metadata": {},
   "source": [
    "Caso 3.1.10:\n",
    "\n",
    "*   Cognição Pessoal Máxima: 70%\n",
    "*   Conhecimento Social Máximo: 30%\n",
    "*   Inércia Mínima: 0.0\n",
    "*   Inércia Máxima: 0.6"
   ]
  },
  {
   "cell_type": "code",
   "execution_count": null,
   "metadata": {},
   "outputs": [],
   "source": [
    "av03.treina_enxame(2, 'esfera', cognicao_max=0.7, social_max=0.3, inercia_min=0.0, inercia_max=0.6)"
   ]
  },
  {
   "attachments": {},
   "cell_type": "markdown",
   "metadata": {},
   "source": [
    "## **3.2. Otimização da esfera em $\\mathbb{R}^{3}$ com 20 indivíduos e 50 iterações**"
   ]
  },
  {
   "attachments": {},
   "cell_type": "markdown",
   "metadata": {},
   "source": [
    "Caso 3.2.1:\n",
    "\n",
    "*   Cognição Pessoal Máxima: 40%\n",
    "*   Conhecimento Social Máximo: 60%\n",
    "*   Inércia Mínima: 0.1\n",
    "*   Inércia Máxima: 0.5"
   ]
  },
  {
   "cell_type": "code",
   "execution_count": null,
   "metadata": {},
   "outputs": [],
   "source": [
    "av03.treina_enxame(3, 'esfera', cognicao_max=0.4, social_max=0.6, inercia_min=0.1, inercia_max=0.5)"
   ]
  },
  {
   "attachments": {},
   "cell_type": "markdown",
   "metadata": {},
   "source": [
    "Caso 3.2.2:\n",
    "\n",
    "*   Cognição Pessoal Máxima: 40%\n",
    "*   Conhecimento Social Máximo: 60%\n",
    "*   Inércia Mínima: 0.0\n",
    "*   Inércia Máxima: 0.6"
   ]
  },
  {
   "cell_type": "code",
   "execution_count": null,
   "metadata": {},
   "outputs": [],
   "source": [
    "av03.treina_enxame(3, 'esfera', cognicao_max=0.4, social_max=0.6, inercia_min=0.0, inercia_max=0.6)"
   ]
  },
  {
   "attachments": {},
   "cell_type": "markdown",
   "metadata": {},
   "source": [
    "Caso 3.2.3:\n",
    "\n",
    "*   Cognição Pessoal Máxima: 40%\n",
    "*   Conhecimento Social Máximo: 60%\n",
    "*   Inércia Mínima: 0.0\n",
    "*   Inércia Máxima: 0.8"
   ]
  },
  {
   "cell_type": "code",
   "execution_count": null,
   "metadata": {},
   "outputs": [],
   "source": [
    "av03.treina_enxame(3, 'esfera', cognicao_max=0.4, social_max=0.6, inercia_min=0.0, inercia_max=0.8)"
   ]
  },
  {
   "attachments": {},
   "cell_type": "markdown",
   "metadata": {},
   "source": [
    "Caso 3.2.4:\n",
    "\n",
    "*   Cognição Pessoal Máxima: 40%\n",
    "*   Conhecimento Social Máximo: 60%\n",
    "*   Inércia Mínima: 0.2\n",
    "*   Inércia Máxima: 1.0"
   ]
  },
  {
   "cell_type": "code",
   "execution_count": null,
   "metadata": {},
   "outputs": [],
   "source": [
    "av03.treina_enxame(3, 'esfera', cognicao_max=0.4, social_max=0.6, inercia_min=0.2, inercia_max=1.0)"
   ]
  },
  {
   "attachments": {},
   "cell_type": "markdown",
   "metadata": {},
   "source": [
    "Caso 3.2.5:\n",
    "\n",
    "*   Cognição Pessoal Máxima: 40%\n",
    "*   Conhecimento Social Máximo: 60%\n",
    "*   Inércia Mínima: 0.0\n",
    "*   Inércia Máxima: 1.5"
   ]
  },
  {
   "cell_type": "code",
   "execution_count": null,
   "metadata": {},
   "outputs": [],
   "source": [
    "av03.treina_enxame(3, 'esfera', cognicao_max=0.4, social_max=0.6, inercia_min=0.0, inercia_max=1.5)"
   ]
  },
  {
   "attachments": {},
   "cell_type": "markdown",
   "metadata": {},
   "source": [
    "Caso 3.2.6:\n",
    "\n",
    "*   Cognição Pessoal Máxima: 20%\n",
    "*   Conhecimento Social Máximo: 80%\n",
    "*   Inércia Mínima: 0.0\n",
    "*   Inércia Máxima: 0.6"
   ]
  },
  {
   "cell_type": "code",
   "execution_count": null,
   "metadata": {},
   "outputs": [],
   "source": [
    "av03.treina_enxame(3, 'esfera', cognicao_max=0.2, social_max=0.8, inercia_min=0.0, inercia_max=0.6)"
   ]
  },
  {
   "attachments": {},
   "cell_type": "markdown",
   "metadata": {},
   "source": [
    "Caso 3.2.7:\n",
    "\n",
    "*   Cognição Pessoal Máxima: 30%\n",
    "*   Conhecimento Social Máximo: 70%\n",
    "*   Inércia Mínima: 0.0\n",
    "*   Inércia Máxima: 0.6"
   ]
  },
  {
   "cell_type": "code",
   "execution_count": null,
   "metadata": {},
   "outputs": [],
   "source": [
    "av03.treina_enxame(3, 'esfera', cognicao_max=0.3, social_max=0.7, inercia_min=0.0, inercia_max=0.6)"
   ]
  },
  {
   "attachments": {},
   "cell_type": "markdown",
   "metadata": {},
   "source": [
    "Caso 3.2.8:\n",
    "\n",
    "*   Cognição Pessoal Máxima: 50%\n",
    "*   Conhecimento Social Máximo: 50%\n",
    "*   Inércia Mínima: 0.0\n",
    "*   Inércia Máxima: 0.6"
   ]
  },
  {
   "cell_type": "code",
   "execution_count": null,
   "metadata": {},
   "outputs": [],
   "source": [
    "av03.treina_enxame(3, 'esfera', cognicao_max=0.5, social_max=0.5, inercia_min=0.0, inercia_max=0.6)"
   ]
  },
  {
   "attachments": {},
   "cell_type": "markdown",
   "metadata": {},
   "source": [
    "Caso 3.2.9:\n",
    "\n",
    "*   Cognição Pessoal Máxima: 60%\n",
    "*   Conhecimento Social Máximo: 40%\n",
    "*   Inércia Mínima: 0.0\n",
    "*   Inércia Máxima: 0.6"
   ]
  },
  {
   "cell_type": "code",
   "execution_count": null,
   "metadata": {},
   "outputs": [],
   "source": [
    "av03.treina_enxame(3, 'esfera', cognicao_max=0.6, social_max=0.4, inercia_min=0.0, inercia_max=0.6)"
   ]
  },
  {
   "attachments": {},
   "cell_type": "markdown",
   "metadata": {},
   "source": [
    "Caso 3.2.10:\n",
    "\n",
    "*   Cognição Pessoal Máxima: 70%\n",
    "*   Conhecimento Social Máximo: 30%\n",
    "*   Inércia Mínima: 0.0\n",
    "*   Inércia Máxima: 0.6"
   ]
  },
  {
   "cell_type": "code",
   "execution_count": null,
   "metadata": {},
   "outputs": [],
   "source": [
    "av03.treina_enxame(3, 'esfera', cognicao_max=0.7, social_max=0.3, inercia_min=0.0, inercia_max=0.6)"
   ]
  },
  {
   "attachments": {},
   "cell_type": "markdown",
   "metadata": {},
   "source": [
    "## **3.3. Otimização da função ackley em $\\mathbb{R}^{2}$ com 20 indivíduos e 50 iterações**"
   ]
  },
  {
   "attachments": {},
   "cell_type": "markdown",
   "metadata": {},
   "source": [
    "Caso 3.3.1:\n",
    "\n",
    "*   Cognição Pessoal Máxima: 40%\n",
    "*   Conhecimento Social Máximo: 60%\n",
    "*   Inércia Mínima: 0.1\n",
    "*   Inércia Máxima: 0.4"
   ]
  },
  {
   "cell_type": "code",
   "execution_count": null,
   "metadata": {},
   "outputs": [],
   "source": [
    "av03.treina_enxame(2, 'ackley', cognicao_max=0.4, social_max=0.6, inercia_min=0.1, inercia_max=0.4)"
   ]
  },
  {
   "attachments": {},
   "cell_type": "markdown",
   "metadata": {},
   "source": [
    "Caso 3.3.2:\n",
    "\n",
    "*   Cognição Pessoal Máxima: 40%\n",
    "*   Conhecimento Social Máximo: 60%\n",
    "*   Inércia Mínima: 0.0\n",
    "*   Inércia Máxima: 0.6"
   ]
  },
  {
   "cell_type": "code",
   "execution_count": null,
   "metadata": {},
   "outputs": [],
   "source": [
    "av03.treina_enxame(2, 'ackley', cognicao_max=0.4, social_max=0.6, inercia_min=0.0, inercia_max=0.6)"
   ]
  },
  {
   "attachments": {},
   "cell_type": "markdown",
   "metadata": {},
   "source": [
    "Caso 3.3.3:\n",
    "\n",
    "*   Cognição Pessoal Máxima: 40%\n",
    "*   Conhecimento Social Máximo: 60%\n",
    "*   Inércia Mínima: 0.0\n",
    "*   Inércia Máxima: 0.8"
   ]
  },
  {
   "cell_type": "code",
   "execution_count": null,
   "metadata": {},
   "outputs": [],
   "source": [
    "av03.treina_enxame(2, 'ackley', cognicao_max=0.4, social_max=0.6, inercia_min=0.0, inercia_max=0.8)"
   ]
  },
  {
   "attachments": {},
   "cell_type": "markdown",
   "metadata": {},
   "source": [
    "Caso 3.3.4:\n",
    "\n",
    "*   Cognição Pessoal Máxima: 40%\n",
    "*   Conhecimento Social Máximo: 60%\n",
    "*   Inércia Mínima: 0.2\n",
    "*   Inércia Máxima: 1.0"
   ]
  },
  {
   "cell_type": "code",
   "execution_count": null,
   "metadata": {},
   "outputs": [],
   "source": [
    "av03.treina_enxame(2, 'ackley', cognicao_max=0.4, social_max=0.6, inercia_min=0.2, inercia_max=1.0)"
   ]
  },
  {
   "attachments": {},
   "cell_type": "markdown",
   "metadata": {},
   "source": [
    "Caso 3.3.5:\n",
    "\n",
    "*   Cognição Pessoal Máxima: 40%\n",
    "*   Conhecimento Social Máximo: 60%\n",
    "*   Inércia Mínima: 0.0\n",
    "*   Inércia Máxima: 1.5"
   ]
  },
  {
   "cell_type": "code",
   "execution_count": null,
   "metadata": {},
   "outputs": [],
   "source": [
    "av03.treina_enxame(2, 'ackley', cognicao_max=0.4, social_max=0.6, inercia_min=0.0, inercia_max=1.5)"
   ]
  },
  {
   "attachments": {},
   "cell_type": "markdown",
   "metadata": {},
   "source": [
    "Caso 3.3.6:\n",
    "\n",
    "*   Cognição Pessoal Máxima: 20%\n",
    "*   Conhecimento Social Máximo: 80%\n",
    "*   Inércia Mínima: 0.1\n",
    "*   Inércia Máxima: 0.4"
   ]
  },
  {
   "cell_type": "code",
   "execution_count": null,
   "metadata": {},
   "outputs": [],
   "source": [
    "av03.treina_enxame(2, 'ackley', cognicao_max=0.2, social_max=0.8, inercia_min=0.1, inercia_max=0.4)"
   ]
  },
  {
   "attachments": {},
   "cell_type": "markdown",
   "metadata": {},
   "source": [
    "Caso 3.3.7:\n",
    "\n",
    "*   Cognição Pessoal Máxima: 30%\n",
    "*   Conhecimento Social Máximo: 70%\n",
    "*   Inércia Mínima: 0.1\n",
    "*   Inércia Máxima: 0.4"
   ]
  },
  {
   "cell_type": "code",
   "execution_count": null,
   "metadata": {},
   "outputs": [],
   "source": [
    "av03.treina_enxame(2, 'ackley', cognicao_max=0.3, social_max=0.7, inercia_min=0.1, inercia_max=0.4)"
   ]
  },
  {
   "attachments": {},
   "cell_type": "markdown",
   "metadata": {},
   "source": [
    "Caso 3.3.8:\n",
    "\n",
    "*   Cognição Pessoal Máxima: 50%\n",
    "*   Conhecimento Social Máximo: 50%\n",
    "*   Inércia Mínima: 0.1\n",
    "*   Inércia Máxima: 0.4"
   ]
  },
  {
   "cell_type": "code",
   "execution_count": null,
   "metadata": {},
   "outputs": [],
   "source": [
    "av03.treina_enxame(2, 'ackley', cognicao_max=0.5, social_max=0.5, inercia_min=0.1, inercia_max=0.4)"
   ]
  },
  {
   "attachments": {},
   "cell_type": "markdown",
   "metadata": {},
   "source": [
    "Caso 3.3.9:\n",
    "\n",
    "*   Cognição Pessoal Máxima: 60%\n",
    "*   Conhecimento Social Máximo: 40%\n",
    "*   Inércia Mínima: 0.1\n",
    "*   Inércia Máxima: 0.4"
   ]
  },
  {
   "cell_type": "code",
   "execution_count": null,
   "metadata": {},
   "outputs": [],
   "source": [
    "av03.treina_enxame(2, 'ackley', cognicao_max=0.6, social_max=0.4, inercia_min=0.1, inercia_max=0.4)"
   ]
  },
  {
   "attachments": {},
   "cell_type": "markdown",
   "metadata": {},
   "source": [
    "Caso 3.3.10:\n",
    "\n",
    "*   Cognição Pessoal Máxima: 70%\n",
    "*   Conhecimento Social Máximo: 30%\n",
    "*   Inércia Mínima: 0.1\n",
    "*   Inércia Máxima: 0.4"
   ]
  },
  {
   "cell_type": "code",
   "execution_count": null,
   "metadata": {},
   "outputs": [],
   "source": [
    "av03.treina_enxame(2, 'ackley', cognicao_max=0.7, social_max=0.3, inercia_min=0.1, inercia_max=0.4)"
   ]
  },
  {
   "attachments": {},
   "cell_type": "markdown",
   "metadata": {},
   "source": [
    "## **3.4. Otimização da função ackley em $\\mathbb{R}^{3}$ com 20 indivíduos e 50 iterações**"
   ]
  },
  {
   "attachments": {},
   "cell_type": "markdown",
   "metadata": {},
   "source": [
    "Caso 3.4.1:\n",
    "\n",
    "*   Cognição Pessoal Máxima: 40%\n",
    "*   Conhecimento Social Máximo: 60%\n",
    "*   Inércia Mínima: 0.1\n",
    "*   Inércia Máxima: 0.3"
   ]
  },
  {
   "cell_type": "code",
   "execution_count": null,
   "metadata": {},
   "outputs": [],
   "source": [
    "av03.treina_enxame(3, 'ackley', cognicao_max=0.4, social_max=0.6, inercia_min=0.1, inercia_max=0.3)"
   ]
  },
  {
   "attachments": {},
   "cell_type": "markdown",
   "metadata": {},
   "source": [
    "Caso 3.4.2:\n",
    "\n",
    "*   Cognição Pessoal Máxima: 40%\n",
    "*   Conhecimento Social Máximo: 60%\n",
    "*   Inércia Mínima: 0.0\n",
    "*   Inércia Máxima: 0.6"
   ]
  },
  {
   "cell_type": "code",
   "execution_count": null,
   "metadata": {},
   "outputs": [],
   "source": [
    "av03.treina_enxame(3, 'ackley', cognicao_max=0.4, social_max=0.6, inercia_min=0.0, inercia_max=0.6)"
   ]
  },
  {
   "attachments": {},
   "cell_type": "markdown",
   "metadata": {},
   "source": [
    "Caso 3.4.3:\n",
    "\n",
    "*   Cognição Pessoal Máxima: 40%\n",
    "*   Conhecimento Social Máximo: 60%\n",
    "*   Inércia Mínima: 0.0\n",
    "*   Inércia Máxima: 0.8"
   ]
  },
  {
   "cell_type": "code",
   "execution_count": null,
   "metadata": {},
   "outputs": [],
   "source": [
    "av03.treina_enxame(3, 'ackley', cognicao_max=0.4, social_max=0.6, inercia_min=0.0, inercia_max=0.8)"
   ]
  },
  {
   "attachments": {},
   "cell_type": "markdown",
   "metadata": {},
   "source": [
    "Caso 3.4.4:\n",
    "\n",
    "*   Cognição Pessoal Máxima: 40%\n",
    "*   Conhecimento Social Máximo: 60%\n",
    "*   Inércia Mínima: 0.2\n",
    "*   Inércia Máxima: 1.0"
   ]
  },
  {
   "cell_type": "code",
   "execution_count": null,
   "metadata": {},
   "outputs": [],
   "source": [
    "av03.treina_enxame(3, 'ackley', cognicao_max=0.4, social_max=0.6, inercia_min=0.2, inercia_max=1.0)"
   ]
  },
  {
   "attachments": {},
   "cell_type": "markdown",
   "metadata": {},
   "source": [
    "Caso 3.4.5:\n",
    "\n",
    "*   Cognição Pessoal Máxima: 40%\n",
    "*   Conhecimento Social Máximo: 60%\n",
    "*   Inércia Mínima: 0.0\n",
    "*   Inércia Máxima: 1.5"
   ]
  },
  {
   "cell_type": "code",
   "execution_count": null,
   "metadata": {},
   "outputs": [],
   "source": [
    "av03.treina_enxame(3, 'ackley', cognicao_max=0.4, social_max=0.6, inercia_min=0.0, inercia_max=1.5)"
   ]
  },
  {
   "attachments": {},
   "cell_type": "markdown",
   "metadata": {},
   "source": [
    "Caso 3.4.6:\n",
    "\n",
    "*   Cognição Pessoal Máxima: 20%\n",
    "*   Conhecimento Social Máximo: 80%\n",
    "*   Inércia Mínima: 0.1\n",
    "*   Inércia Máxima: 0.3"
   ]
  },
  {
   "cell_type": "code",
   "execution_count": null,
   "metadata": {},
   "outputs": [],
   "source": [
    "av03.treina_enxame(3, 'ackley', cognicao_max=0.2, social_max=0.8, inercia_min=0.1, inercia_max=0.3)"
   ]
  },
  {
   "attachments": {},
   "cell_type": "markdown",
   "metadata": {},
   "source": [
    "Caso 3.4.7:\n",
    "\n",
    "*   Cognição Pessoal Máxima: 30%\n",
    "*   Conhecimento Social Máximo: 70%\n",
    "*   Inércia Mínima: 0.1\n",
    "*   Inércia Máxima: 0.3"
   ]
  },
  {
   "cell_type": "code",
   "execution_count": null,
   "metadata": {},
   "outputs": [],
   "source": [
    "av03.treina_enxame(3, 'ackley', cognicao_max=0.3, social_max=0.7, inercia_min=0.1, inercia_max=0.3)"
   ]
  },
  {
   "attachments": {},
   "cell_type": "markdown",
   "metadata": {},
   "source": [
    "Caso 3.4.8:\n",
    "\n",
    "*   Cognição Pessoal Máxima: 50%\n",
    "*   Conhecimento Social Máximo: 50%\n",
    "*   Inércia Mínima: 0.1\n",
    "*   Inércia Máxima: 0.3"
   ]
  },
  {
   "cell_type": "code",
   "execution_count": null,
   "metadata": {},
   "outputs": [],
   "source": [
    "av03.treina_enxame(3, 'ackley', cognicao_max=0.5, social_max=0.5, inercia_min=0.1, inercia_max=0.3)"
   ]
  },
  {
   "attachments": {},
   "cell_type": "markdown",
   "metadata": {},
   "source": [
    "Caso 3.4.9:\n",
    "\n",
    "*   Cognição Pessoal Máxima: 60%\n",
    "*   Conhecimento Social Máximo: 40%\n",
    "*   Inércia Mínima: 0.1\n",
    "*   Inércia Máxima: 0.3"
   ]
  },
  {
   "cell_type": "code",
   "execution_count": null,
   "metadata": {},
   "outputs": [],
   "source": [
    "av03.treina_enxame(3, 'ackley', cognicao_max=0.6, social_max=0.4, inercia_min=0.1, inercia_max=0.3)"
   ]
  },
  {
   "attachments": {},
   "cell_type": "markdown",
   "metadata": {},
   "source": [
    "Caso 3.4.10:\n",
    "\n",
    "*   Cognição Pessoal Máxima: 70%\n",
    "*   Conhecimento Social Máximo: 30%\n",
    "*   Inércia Mínima: 0.1\n",
    "*   Inércia Máxima: 0.3"
   ]
  },
  {
   "cell_type": "code",
   "execution_count": null,
   "metadata": {},
   "outputs": [],
   "source": [
    "av03.treina_enxame(3, 'ackley', cognicao_max=0.7, social_max=0.3, inercia_min=0.1, inercia_max=0.3)"
   ]
  }
 ],
 "metadata": {
  "kernelspec": {
   "display_name": "Python 3",
   "language": "python",
   "name": "python3"
  },
  "language_info": {
   "codemirror_mode": {
    "name": "ipython",
    "version": 3
   },
   "file_extension": ".py",
   "mimetype": "text/x-python",
   "name": "python",
   "nbconvert_exporter": "python",
   "pygments_lexer": "ipython3",
   "version": "3.10.11"
  },
  "orig_nbformat": 4
 },
 "nbformat": 4,
 "nbformat_minor": 2
}
