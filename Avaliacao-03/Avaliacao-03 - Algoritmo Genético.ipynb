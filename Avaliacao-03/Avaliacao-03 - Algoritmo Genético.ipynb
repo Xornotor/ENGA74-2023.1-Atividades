{
 "cells": [
  {
   "attachments": {},
   "cell_type": "markdown",
   "metadata": {},
   "source": [
    "# **Avaliação 03 - Algoritmo Genético - ENGA74 2023.1**\n",
    "**Aluno:** André Paiva Conrado Rodrigues"
   ]
  },
  {
   "attachments": {},
   "cell_type": "markdown",
   "metadata": {},
   "source": [
    "## **Importação de dependências para os códigos**"
   ]
  },
  {
   "cell_type": "code",
   "execution_count": null,
   "metadata": {},
   "outputs": [],
   "source": [
    "# Módulo customizado \"av03\"\n",
    "# Dependências: numpy, pandas, plotly, time\n",
    "import av03"
   ]
  },
  {
   "attachments": {},
   "cell_type": "markdown",
   "metadata": {},
   "source": [
    "## **2.1. Otimização da esfera em $\\mathbb{R}^{2}$ com 20 indivíduos e 50 iterações**"
   ]
  },
  {
   "attachments": {},
   "cell_type": "markdown",
   "metadata": {},
   "source": [
    "Caso 2.1.1: Recombinação = 10%, Mutação = 1%"
   ]
  },
  {
   "cell_type": "code",
   "execution_count": null,
   "metadata": {},
   "outputs": [],
   "source": [
    "av03.treina_genetico(dim=2, funcao='esfera', iteracoes=50, taxa_recomb=0.1, taxa_mut=0.01)"
   ]
  },
  {
   "attachments": {},
   "cell_type": "markdown",
   "metadata": {},
   "source": [
    "Caso 2.1.2: Recombinação = 20%, Mutação = 1%"
   ]
  },
  {
   "cell_type": "code",
   "execution_count": null,
   "metadata": {},
   "outputs": [],
   "source": [
    "av03.treina_genetico(dim=2, funcao='esfera', iteracoes=50, taxa_recomb=0.2, taxa_mut=0.01)"
   ]
  },
  {
   "attachments": {},
   "cell_type": "markdown",
   "metadata": {},
   "source": [
    "Caso 2.1.3: Recombinação = 30%, Mutação = 1%"
   ]
  },
  {
   "cell_type": "code",
   "execution_count": null,
   "metadata": {},
   "outputs": [],
   "source": [
    "av03.treina_genetico(dim=2, funcao='esfera', iteracoes=50, taxa_recomb=0.3, taxa_mut=0.01)"
   ]
  },
  {
   "attachments": {},
   "cell_type": "markdown",
   "metadata": {},
   "source": [
    "Caso 2.1.4: Recombinação = 40%, Mutação = 1%"
   ]
  },
  {
   "cell_type": "code",
   "execution_count": null,
   "metadata": {},
   "outputs": [],
   "source": [
    "av03.treina_genetico(dim=2, funcao='esfera', iteracoes=50, taxa_recomb=0.4, taxa_mut=0.01)"
   ]
  },
  {
   "attachments": {},
   "cell_type": "markdown",
   "metadata": {},
   "source": [
    "Caso 2.1.5: Recombinação = 50%, Mutação = 1%"
   ]
  },
  {
   "cell_type": "code",
   "execution_count": null,
   "metadata": {},
   "outputs": [],
   "source": [
    "av03.treina_genetico(dim=2, funcao='esfera', iteracoes=50, taxa_recomb=0.5, taxa_mut=0.01)"
   ]
  },
  {
   "attachments": {},
   "cell_type": "markdown",
   "metadata": {},
   "source": [
    "Caso 2.1.6: Recombinação = 10%, Mutação = 0.5%"
   ]
  },
  {
   "cell_type": "code",
   "execution_count": null,
   "metadata": {},
   "outputs": [],
   "source": [
    "av03.treina_genetico(dim=2, funcao='esfera', iteracoes=50, taxa_recomb=0.1, taxa_mut=0.005)"
   ]
  },
  {
   "attachments": {},
   "cell_type": "markdown",
   "metadata": {},
   "source": [
    "Caso 2.1.7: Recombinação = 10%, Mutação = 2%"
   ]
  },
  {
   "cell_type": "code",
   "execution_count": null,
   "metadata": {},
   "outputs": [],
   "source": [
    "av03.treina_genetico(dim=2, funcao='esfera', iteracoes=50, taxa_recomb=0.1, taxa_mut=0.02)"
   ]
  },
  {
   "attachments": {},
   "cell_type": "markdown",
   "metadata": {},
   "source": [
    "Caso 2.1.8: Recombinação = 10%, Mutação = 3%"
   ]
  },
  {
   "cell_type": "code",
   "execution_count": null,
   "metadata": {},
   "outputs": [],
   "source": [
    "av03.treina_genetico(dim=2, funcao='esfera', iteracoes=50, taxa_recomb=0.1, taxa_mut=0.03)"
   ]
  },
  {
   "attachments": {},
   "cell_type": "markdown",
   "metadata": {},
   "source": [
    "Caso 2.1.9: Recombinação = 10%, Mutação = 5%"
   ]
  },
  {
   "cell_type": "code",
   "execution_count": null,
   "metadata": {},
   "outputs": [],
   "source": [
    "av03.treina_genetico(dim=2, funcao='esfera', iteracoes=50, taxa_recomb=0.1, taxa_mut=0.05)"
   ]
  },
  {
   "attachments": {},
   "cell_type": "markdown",
   "metadata": {},
   "source": [
    "Caso 2.1.10: Recombinação = 10%, Mutação = 10%"
   ]
  },
  {
   "cell_type": "code",
   "execution_count": null,
   "metadata": {},
   "outputs": [],
   "source": [
    "av03.treina_genetico(dim=2, funcao='esfera', iteracoes=50, taxa_recomb=0.1, taxa_mut=0.1)"
   ]
  },
  {
   "attachments": {},
   "cell_type": "markdown",
   "metadata": {},
   "source": [
    "## **2.2. Otimização da esfera em $\\mathbb{R}^{3}$ com 20 indivíduos e 50 iterações**"
   ]
  },
  {
   "attachments": {},
   "cell_type": "markdown",
   "metadata": {},
   "source": [
    "Caso 2.2.1: Recombinação = 10%, Mutação = 0.5%"
   ]
  },
  {
   "cell_type": "code",
   "execution_count": null,
   "metadata": {},
   "outputs": [],
   "source": [
    "av03.treina_genetico(dim=3, funcao='esfera', iteracoes=50, taxa_recomb=0.1, taxa_mut=0.005)"
   ]
  },
  {
   "attachments": {},
   "cell_type": "markdown",
   "metadata": {},
   "source": [
    "Caso 2.2.2: Recombinação = 20%, Mutação = 1%"
   ]
  },
  {
   "cell_type": "code",
   "execution_count": null,
   "metadata": {},
   "outputs": [],
   "source": [
    "av03.treina_genetico(dim=3, funcao='esfera', iteracoes=50, taxa_recomb=0.2, taxa_mut=0.01)"
   ]
  },
  {
   "attachments": {},
   "cell_type": "markdown",
   "metadata": {},
   "source": [
    "Caso 2.2.3: Recombinação = 30%, Mutação = 1%"
   ]
  },
  {
   "cell_type": "code",
   "execution_count": null,
   "metadata": {},
   "outputs": [],
   "source": [
    "av03.treina_genetico(dim=3, funcao='esfera', iteracoes=50, taxa_recomb=0.3, taxa_mut=0.01)"
   ]
  },
  {
   "attachments": {},
   "cell_type": "markdown",
   "metadata": {},
   "source": [
    "Caso 2.2.4: Recombinação = 40%, Mutação = 1%"
   ]
  },
  {
   "cell_type": "code",
   "execution_count": null,
   "metadata": {},
   "outputs": [],
   "source": [
    "av03.treina_genetico(dim=3, funcao='esfera', iteracoes=50, taxa_recomb=0.4, taxa_mut=0.01)"
   ]
  },
  {
   "attachments": {},
   "cell_type": "markdown",
   "metadata": {},
   "source": [
    "Caso 2.2.5: Recombinação = 50%, Mutação = 1%"
   ]
  },
  {
   "cell_type": "code",
   "execution_count": null,
   "metadata": {},
   "outputs": [],
   "source": [
    "av03.treina_genetico(dim=3, funcao='esfera', iteracoes=50, taxa_recomb=0.5, taxa_mut=0.01)"
   ]
  },
  {
   "attachments": {},
   "cell_type": "markdown",
   "metadata": {},
   "source": [
    "Caso 2.2.6: Recombinação = 10%, Mutação = 0.5%"
   ]
  },
  {
   "cell_type": "code",
   "execution_count": null,
   "metadata": {},
   "outputs": [],
   "source": [
    "av03.treina_genetico(dim=3, funcao='esfera', iteracoes=50, taxa_recomb=0.1, taxa_mut=0.005)"
   ]
  },
  {
   "attachments": {},
   "cell_type": "markdown",
   "metadata": {},
   "source": [
    "Caso 2.2.7: Recombinação = 10%, Mutação = 2%"
   ]
  },
  {
   "cell_type": "code",
   "execution_count": null,
   "metadata": {},
   "outputs": [],
   "source": [
    "av03.treina_genetico(dim=3, funcao='esfera', iteracoes=50, taxa_recomb=0.1, taxa_mut=0.02)"
   ]
  },
  {
   "attachments": {},
   "cell_type": "markdown",
   "metadata": {},
   "source": [
    "Caso 2.2.8: Recombinação = 10%, Mutação = 3%"
   ]
  },
  {
   "cell_type": "code",
   "execution_count": null,
   "metadata": {},
   "outputs": [],
   "source": [
    "av03.treina_genetico(dim=3, funcao='esfera', iteracoes=50, taxa_recomb=0.1, taxa_mut=0.03)"
   ]
  },
  {
   "attachments": {},
   "cell_type": "markdown",
   "metadata": {},
   "source": [
    "Caso 2.2.9: Recombinação = 10%, Mutação = 5%"
   ]
  },
  {
   "cell_type": "code",
   "execution_count": null,
   "metadata": {},
   "outputs": [],
   "source": [
    "av03.treina_genetico(dim=3, funcao='esfera', iteracoes=50, taxa_recomb=0.1, taxa_mut=0.05)"
   ]
  },
  {
   "attachments": {},
   "cell_type": "markdown",
   "metadata": {},
   "source": [
    "Caso 2.2.10: Recombinação = 10%, Mutação = 10%"
   ]
  },
  {
   "cell_type": "code",
   "execution_count": null,
   "metadata": {},
   "outputs": [],
   "source": [
    "av03.treina_genetico(dim=3, funcao='esfera', iteracoes=50, taxa_recomb=0.1, taxa_mut=0.1)"
   ]
  },
  {
   "attachments": {},
   "cell_type": "markdown",
   "metadata": {},
   "source": [
    "## **2.3. Otimização da função ackley em $\\mathbb{R}^{2}$ com 20 indivíduos e 50 iterações**"
   ]
  },
  {
   "attachments": {},
   "cell_type": "markdown",
   "metadata": {},
   "source": [
    "Caso 2.3.1: Recombinação = 10%, Mutação = 1%"
   ]
  },
  {
   "cell_type": "code",
   "execution_count": null,
   "metadata": {},
   "outputs": [],
   "source": [
    "av03.treina_genetico(dim=2, funcao='ackley', iteracoes=50, taxa_recomb=0.1, taxa_mut=0.01)"
   ]
  },
  {
   "attachments": {},
   "cell_type": "markdown",
   "metadata": {},
   "source": [
    "Caso 2.3.2: Recombinação = 20%, Mutação = 1%"
   ]
  },
  {
   "cell_type": "code",
   "execution_count": null,
   "metadata": {},
   "outputs": [],
   "source": [
    "av03.treina_genetico(dim=2, funcao='ackley', iteracoes=50, taxa_recomb=0.2, taxa_mut=0.01)"
   ]
  },
  {
   "attachments": {},
   "cell_type": "markdown",
   "metadata": {},
   "source": [
    "Caso 2.3.3: Recombinação = 30%, Mutação = 1%"
   ]
  },
  {
   "cell_type": "code",
   "execution_count": null,
   "metadata": {},
   "outputs": [],
   "source": [
    "av03.treina_genetico(dim=2, funcao='ackley', iteracoes=50, taxa_recomb=0.3, taxa_mut=0.01)"
   ]
  },
  {
   "attachments": {},
   "cell_type": "markdown",
   "metadata": {},
   "source": [
    "Caso 2.3.4: Recombinação = 40%, Mutação = 1%"
   ]
  },
  {
   "cell_type": "code",
   "execution_count": null,
   "metadata": {},
   "outputs": [],
   "source": [
    "av03.treina_genetico(dim=2, funcao='ackley', iteracoes=50, taxa_recomb=0.4, taxa_mut=0.01)"
   ]
  },
  {
   "attachments": {},
   "cell_type": "markdown",
   "metadata": {},
   "source": [
    "Caso 2.3.5: Recombinação = 50%, Mutação = 1%"
   ]
  },
  {
   "cell_type": "code",
   "execution_count": null,
   "metadata": {},
   "outputs": [],
   "source": [
    "av03.treina_genetico(dim=2, funcao='ackley', iteracoes=50, taxa_recomb=0.5, taxa_mut=0.01)"
   ]
  },
  {
   "attachments": {},
   "cell_type": "markdown",
   "metadata": {},
   "source": [
    "Caso 2.3.6: Recombinação = 10%, Mutação = 0.5%"
   ]
  },
  {
   "cell_type": "code",
   "execution_count": null,
   "metadata": {},
   "outputs": [],
   "source": [
    "av03.treina_genetico(dim=2, funcao='ackley', iteracoes=50, taxa_recomb=0.1, taxa_mut=0.005)"
   ]
  },
  {
   "attachments": {},
   "cell_type": "markdown",
   "metadata": {},
   "source": [
    "Caso 2.3.7: Recombinação = 10%, Mutação = 2%"
   ]
  },
  {
   "cell_type": "code",
   "execution_count": null,
   "metadata": {},
   "outputs": [],
   "source": [
    "av03.treina_genetico(dim=2, funcao='ackley', iteracoes=50, taxa_recomb=0.1, taxa_mut=0.02)"
   ]
  },
  {
   "attachments": {},
   "cell_type": "markdown",
   "metadata": {},
   "source": [
    "Caso 2.3.8: Recombinação = 10%, Mutação = 3%"
   ]
  },
  {
   "cell_type": "code",
   "execution_count": null,
   "metadata": {},
   "outputs": [],
   "source": [
    "av03.treina_genetico(dim=2, funcao='ackley', iteracoes=50, taxa_recomb=0.1, taxa_mut=0.03)"
   ]
  },
  {
   "attachments": {},
   "cell_type": "markdown",
   "metadata": {},
   "source": [
    "Caso 2.3.9: Recombinação = 10%, Mutação = 5%"
   ]
  },
  {
   "cell_type": "code",
   "execution_count": null,
   "metadata": {},
   "outputs": [],
   "source": [
    "av03.treina_genetico(dim=2, funcao='ackley', iteracoes=50, taxa_recomb=0.1, taxa_mut=0.05)"
   ]
  },
  {
   "attachments": {},
   "cell_type": "markdown",
   "metadata": {},
   "source": [
    "Caso 2.3.10: Recombinação = 10%, Mutação = 10%"
   ]
  },
  {
   "cell_type": "code",
   "execution_count": null,
   "metadata": {},
   "outputs": [],
   "source": [
    "av03.treina_genetico(dim=2, funcao='ackley', iteracoes=50, taxa_recomb=0.1, taxa_mut=0.1)"
   ]
  },
  {
   "attachments": {},
   "cell_type": "markdown",
   "metadata": {},
   "source": [
    "## **2.4. Otimização da função ackley em $\\mathbb{R}^{3}$ com 20 indivíduos e 50 iterações**"
   ]
  },
  {
   "attachments": {},
   "cell_type": "markdown",
   "metadata": {},
   "source": [
    "Caso 2.4.1: Recombinação = 10%, Mutação = 1%"
   ]
  },
  {
   "cell_type": "code",
   "execution_count": null,
   "metadata": {},
   "outputs": [],
   "source": [
    "av03.treina_genetico(dim=3, funcao='ackley', iteracoes=50, taxa_recomb=0.1, taxa_mut=0.01)"
   ]
  },
  {
   "attachments": {},
   "cell_type": "markdown",
   "metadata": {},
   "source": [
    "Caso 2.4.2: Recombinação = 20%, Mutação = 1%"
   ]
  },
  {
   "cell_type": "code",
   "execution_count": null,
   "metadata": {},
   "outputs": [],
   "source": [
    "av03.treina_genetico(dim=3, funcao='ackley', iteracoes=50, taxa_recomb=0.2, taxa_mut=0.01)"
   ]
  },
  {
   "attachments": {},
   "cell_type": "markdown",
   "metadata": {},
   "source": [
    "Caso 2.4.3: Recombinação = 30%, Mutação = 1%"
   ]
  },
  {
   "cell_type": "code",
   "execution_count": null,
   "metadata": {},
   "outputs": [],
   "source": [
    "av03.treina_genetico(dim=3, funcao='ackley', iteracoes=50, taxa_recomb=0.3, taxa_mut=0.01)"
   ]
  },
  {
   "attachments": {},
   "cell_type": "markdown",
   "metadata": {},
   "source": [
    "Caso 2.4.4: Recombinação = 40%, Mutação = 1%"
   ]
  },
  {
   "cell_type": "code",
   "execution_count": null,
   "metadata": {},
   "outputs": [],
   "source": [
    "av03.treina_genetico(dim=3, funcao='ackley', iteracoes=50, taxa_recomb=0.4, taxa_mut=0.01)"
   ]
  },
  {
   "attachments": {},
   "cell_type": "markdown",
   "metadata": {},
   "source": [
    "Caso 2.4.5: Recombinação = 50%, Mutação = 1%"
   ]
  },
  {
   "cell_type": "code",
   "execution_count": null,
   "metadata": {},
   "outputs": [],
   "source": [
    "av03.treina_genetico(dim=3, funcao='ackley', iteracoes=50, taxa_recomb=0.5, taxa_mut=0.01)"
   ]
  },
  {
   "attachments": {},
   "cell_type": "markdown",
   "metadata": {},
   "source": [
    "Caso 2.4.6: Recombinação = 10%, Mutação = 0.5%"
   ]
  },
  {
   "cell_type": "code",
   "execution_count": null,
   "metadata": {},
   "outputs": [],
   "source": [
    "av03.treina_genetico(dim=3, funcao='ackley', iteracoes=50, taxa_recomb=0.1, taxa_mut=0.005)"
   ]
  },
  {
   "attachments": {},
   "cell_type": "markdown",
   "metadata": {},
   "source": [
    "Caso 2.4.7: Recombinação = 10%, Mutação = 2%"
   ]
  },
  {
   "cell_type": "code",
   "execution_count": null,
   "metadata": {},
   "outputs": [],
   "source": [
    "av03.treina_genetico(dim=3, funcao='ackley', iteracoes=50, taxa_recomb=0.1, taxa_mut=0.02)"
   ]
  },
  {
   "attachments": {},
   "cell_type": "markdown",
   "metadata": {},
   "source": [
    "Caso 2.4.8: Recombinação = 10%, Mutação = 3%"
   ]
  },
  {
   "cell_type": "code",
   "execution_count": null,
   "metadata": {},
   "outputs": [],
   "source": [
    "av03.treina_genetico(dim=3, funcao='ackley', iteracoes=50, taxa_recomb=0.1, taxa_mut=0.03)"
   ]
  },
  {
   "attachments": {},
   "cell_type": "markdown",
   "metadata": {},
   "source": [
    "Caso 2.4.9: Recombinação = 10%, Mutação = 5%"
   ]
  },
  {
   "cell_type": "code",
   "execution_count": null,
   "metadata": {},
   "outputs": [],
   "source": [
    "av03.treina_genetico(dim=3, funcao='ackley', iteracoes=50, taxa_recomb=0.1, taxa_mut=0.05)"
   ]
  },
  {
   "attachments": {},
   "cell_type": "markdown",
   "metadata": {},
   "source": [
    "Caso 2.4.10: Recombinação = 10%, Mutação = 10%"
   ]
  },
  {
   "cell_type": "code",
   "execution_count": null,
   "metadata": {},
   "outputs": [],
   "source": [
    "av03.treina_genetico(dim=3, funcao='ackley', iteracoes=50, taxa_recomb=0.1, taxa_mut=0.1)"
   ]
  }
 ],
 "metadata": {
  "kernelspec": {
   "display_name": "Python 3",
   "language": "python",
   "name": "python3"
  },
  "language_info": {
   "codemirror_mode": {
    "name": "ipython",
    "version": 3
   },
   "file_extension": ".py",
   "mimetype": "text/x-python",
   "name": "python",
   "nbconvert_exporter": "python",
   "pygments_lexer": "ipython3",
   "version": "3.10.11"
  },
  "orig_nbformat": 4
 },
 "nbformat": 4,
 "nbformat_minor": 2
}
