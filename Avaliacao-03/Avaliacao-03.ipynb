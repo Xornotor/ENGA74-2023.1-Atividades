{
 "cells": [
  {
   "attachments": {},
   "cell_type": "markdown",
   "metadata": {},
   "source": [
    "# **Avaliação 03 - ENGA74 2023.1**\n",
    "**Aluno:** André Paiva Conrado Rodrigues"
   ]
  },
  {
   "attachments": {},
   "cell_type": "markdown",
   "metadata": {},
   "source": [
    "## **Importação de dependências para os códigos**"
   ]
  },
  {
   "cell_type": "code",
   "execution_count": null,
   "metadata": {},
   "outputs": [],
   "source": [
    "import numpy as np\n",
    "from numpy.random import rand\n",
    "import pandas as pd\n",
    "import plotly.express as px\n",
    "import plotly.graph_objects as go\n",
    "from plotly.subplots import make_subplots"
   ]
  },
  {
   "attachments": {},
   "cell_type": "markdown",
   "metadata": {},
   "source": [
    "## **Funções de ***benchmark*****"
   ]
  },
  {
   "attachments": {},
   "cell_type": "markdown",
   "metadata": {},
   "source": [
    "Esfera:"
   ]
  },
  {
   "cell_type": "code",
   "execution_count": null,
   "metadata": {},
   "outputs": [],
   "source": [
    "#Função Esfera\n",
    "def esfera(x_array):\n",
    "    return np.sum(np.power(x_array, 2))\n",
    "\n",
    "#Derivadas da Esfera\n",
    "def deriv_esfera(x_array):\n",
    "    return 2 * x_array"
   ]
  },
  {
   "attachments": {},
   "cell_type": "markdown",
   "metadata": {},
   "source": [
    "Ackley:"
   ]
  },
  {
   "cell_type": "code",
   "execution_count": null,
   "metadata": {},
   "outputs": [],
   "source": [
    "#Função Ackley\n",
    "def ackley(x_array):\n",
    "    exp1 = np.exp(-0.2 * np.sqrt(np.sum(np.power(x_array, 2))/x_array.shape[0]))\n",
    "    exp2 = np.exp(np.sum(np.cos(2 * np.pi * x_array))/x_array.shape[0])\n",
    "    return (-20 * exp1) - exp2 + 20 + np.e\n",
    "\n",
    "#Derivadas de Ackley\n",
    "def deriv_ackley(x_array):\n",
    "    aux = x_array/np.sqrt(np.sum(np.power(x_array, 2)))\n",
    "    exp1 = np.exp(-0.2 * np.sqrt(np.sum(np.power(x_array, 2))/x_array.shape[0]))\n",
    "    exp2 = np.exp(np.sum(np.cos(2 * np.pi * x_array))/x_array.shape[0])\n",
    "    coef1 = 2.828\n",
    "    coef2 = np.pi\n",
    "    if(x_array.shape[0] == 3):\n",
    "        coef1 = 5.6562/np.sqrt(3)\n",
    "        coef2 = 2 * np.pi / 3\n",
    "    return (coef1 * aux * exp1) + (coef2 * exp2 * np.sin(2 * np.pi * x_array))\n"
   ]
  }
 ],
 "metadata": {
  "kernelspec": {
   "display_name": "Python 3",
   "language": "python",
   "name": "python3"
  },
  "language_info": {
   "codemirror_mode": {
    "name": "ipython",
    "version": 3
   },
   "file_extension": ".py",
   "mimetype": "text/x-python",
   "name": "python",
   "nbconvert_exporter": "python",
   "pygments_lexer": "ipython3",
   "version": "3.10.11"
  },
  "orig_nbformat": 4
 },
 "nbformat": 4,
 "nbformat_minor": 2
}
