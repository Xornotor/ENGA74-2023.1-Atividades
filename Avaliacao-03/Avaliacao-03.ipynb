{
 "cells": [
  {
   "attachments": {},
   "cell_type": "markdown",
   "metadata": {},
   "source": [
    "# **Avaliação 03 - ENGA74 2023.1**\n",
    "**Aluno:** André Paiva Conrado Rodrigues"
   ]
  },
  {
   "attachments": {},
   "cell_type": "markdown",
   "metadata": {},
   "source": [
    "## **Importação de dependências para os códigos**"
   ]
  },
  {
   "cell_type": "code",
   "execution_count": null,
   "metadata": {},
   "outputs": [],
   "source": [
    "from time import time\n",
    "import numpy as np\n",
    "from numpy.random import rand\n",
    "import pandas as pd\n",
    "import plotly.express as px\n",
    "import plotly.graph_objects as go\n",
    "from plotly.subplots import make_subplots"
   ]
  },
  {
   "attachments": {},
   "cell_type": "markdown",
   "metadata": {},
   "source": [
    "## **Funções de ***benchmark*****"
   ]
  },
  {
   "attachments": {},
   "cell_type": "markdown",
   "metadata": {},
   "source": [
    "Esfera:"
   ]
  },
  {
   "cell_type": "code",
   "execution_count": null,
   "metadata": {},
   "outputs": [],
   "source": [
    "#Função Esfera\n",
    "def esfera(x_array, derivada=False):\n",
    "    if(not derivada):\n",
    "        return np.sum(np.power(x_array, 2))\n",
    "    else:\n",
    "        return 2 * x_array"
   ]
  },
  {
   "attachments": {},
   "cell_type": "markdown",
   "metadata": {},
   "source": [
    "Ackley:"
   ]
  },
  {
   "cell_type": "code",
   "execution_count": null,
   "metadata": {},
   "outputs": [],
   "source": [
    "#Função Ackley\n",
    "def ackley(x_array, derivada=False):\n",
    "    eps_stability = 1e-8\n",
    "    exp1 = np.exp(-0.2 * np.sqrt(np.sum(np.power(x_array, 2))/x_array.shape[0]))\n",
    "    exp2 = np.exp(np.sum(np.cos(2 * np.pi * x_array))/x_array.shape[0])\n",
    "    \n",
    "    if(not derivada):\n",
    "        return (-20 * exp1) - exp2 + 20 + np.e\n",
    "    else:\n",
    "        aux1 = np.tile(np.sqrt(np.sum(np.power(x_array, 2)) + eps_stability), (x_array.shape[0], 1)).transpose()\n",
    "        aux2 = np.divide(x_array, aux1)\n",
    "        exp1 = np.tile(exp1, (x_array.shape[0], 1)).transpose()\n",
    "        exp2 = np.tile(exp2, (x_array.shape[0], 1)).transpose()\n",
    "        coef1 = 2.828\n",
    "        coef2 = np.pi\n",
    "        if(x_array.shape[0] == 3):         \n",
    "            coef1 = 5.6562/np.sqrt(3)\n",
    "            coef2 = 2 * np.pi / 3\n",
    "        return (coef1 * aux2 * exp1) + (coef2 * exp2 * np.sin(2 * np.pi * x_array))"
   ]
  },
  {
   "attachments": {},
   "cell_type": "markdown",
   "metadata": {},
   "source": [
    "## **Funções de treinamento**"
   ]
  },
  {
   "attachments": {},
   "cell_type": "markdown",
   "metadata": {},
   "source": [
    "Gradiente Descendente:"
   ]
  },
  {
   "cell_type": "code",
   "execution_count": null,
   "metadata": {},
   "outputs": [],
   "source": [
    "def gradiente(x_array, funcao, alpha, iteracoes=50):\n",
    "    x_trained_array = np.copy(x_array)\n",
    "    func_evolution = [funcao(x_array)]\n",
    "    time_init = time()\n",
    "    for _ in range(iteracoes):\n",
    "        deriv = funcao(x_trained_array, derivada=True)\n",
    "        x_trained_array = x_trained_array - (alpha * deriv)\n",
    "        func_evolution.append(funcao(x_trained_array))\n",
    "    func_evolution = np.array([func_evolution])\n",
    "    elapsed_time = time() - time_init\n",
    "    return func_evolution, elapsed_time"
   ]
  },
  {
   "cell_type": "code",
   "execution_count": null,
   "metadata": {},
   "outputs": [],
   "source": [
    "def treina_gradiente(alpha, dim, funcao='esfera', iteracoes=50):\n",
    "    init = (np.random.rand(20, dim) * 60) - 30\n",
    "\n",
    "    evol_train = np.empty((0, iteracoes + 1))\n",
    "    times = np.array([])\n",
    "\n",
    "    if(funcao == 'ackley'):\n",
    "        f = ackley\n",
    "    else:\n",
    "        f = esfera\n",
    "\n",
    "    for i in range(20):\n",
    "        func_evolution, elapsed_time = gradiente(init[i], f, alpha, iteracoes)\n",
    "        evol_train = np.append(evol_train, func_evolution, axis=0)\n",
    "        times = np.append(times, elapsed_time)\n",
    "\n",
    "    evol_train=pd.DataFrame(np.transpose(evol_train))\n",
    "    mean_training_time = np.mean(times) * 1000\n",
    "\n",
    "    fig = px.line(evol_train, title=f\"Treino da função {funcao} em R{dim} com Alpha = {alpha}<br><sup>Tempo médio para {iteracoes} iterações: {mean_training_time:.3f} ms</sup>\")\n",
    "    fig.update_xaxes(title_text='Iterações')\n",
    "    fig.update_yaxes(title_text=f'Valor da função {funcao}')\n",
    "    fig.update_layout(legend_title_text='Inicialização')\n",
    "    fig.show()"
   ]
  },
  {
   "attachments": {},
   "cell_type": "markdown",
   "metadata": {},
   "source": [
    "Algoritmo Genético:"
   ]
  },
  {
   "cell_type": "code",
   "execution_count": null,
   "metadata": {},
   "outputs": [],
   "source": [
    "def genetico(x_matrix, funcao, iteracoes=50, p_recomb=0.1, p_mutacao = 0.01):\n",
    "    avg_fitness = np.array([])\n",
    "    min_fitness = np.array([])\n",
    "    if(x_matrix.shape[1] == 2):\n",
    "        col = ['x', 'y', 'fitness', 'iter']\n",
    "    else:\n",
    "        col = ['x', 'y', 'z', 'fitness', 'iter']\n",
    "    df_evolution = pd.DataFrame(columns=col)\n",
    "    x_pop = np.copy(x_matrix)\n",
    "    time_init = time()\n",
    "    for i in range(iteracoes):\n",
    "        # Cálculo de Fitness e inserção no dataframe\n",
    "        x_fitness = np.array([-funcao(candidato) for candidato in x_pop]).reshape(-1, 1)\n",
    "        iter_atual = np.tile([i], x_matrix.shape[0]).reshape(-1, 1)\n",
    "        df_data = np.concatenate((x_pop, x_fitness, iter_atual), axis=1)\n",
    "        df_evolution = pd.concat([df_evolution, pd.DataFrame(df_data, columns=col)]).reset_index(drop=True)\n",
    "        # Captura de fitness médio e fitness mínimo por iteração\n",
    "        avg_fitness = np.append(avg_fitness, np.mean(x_fitness))\n",
    "        min_fitness = np.append(min_fitness, np.min(x_fitness))\n",
    "        # Sorting Crescente\n",
    "        x_sort = np.argsort(x_fitness, axis=0).reshape(-1)\n",
    "        x_fitness = x_fitness[x_sort]\n",
    "        x_pop = x_pop[x_sort]\n",
    "        # Cálculo de probabilidades de seleção\n",
    "        prob_num = np.array([np.sum(np.arange(1, i+1)) for i in range(1, x_matrix.shape[0]+1)])\n",
    "        prob_den = np.sum(np.arange(1, x_fitness.shape[0]+1))\n",
    "        prob = prob_num/prob_den\n",
    "        # Seleção de elementos\n",
    "        selecao_prob = np.random.rand(np.ceil(x_fitness.shape[0]/2).astype(np.int32), 2)\n",
    "        index_selecao_prob = np.searchsorted(prob, selecao_prob, side='right')\n",
    "        # Recombinação\n",
    "        new_pop = np.empty((0, x_pop.shape[1]))\n",
    "        for j in index_selecao_prob:\n",
    "            candidato1 = x_pop[j[0]]\n",
    "            candidato2 = x_pop[j[1]]\n",
    "            recomb_mask = np.random.rand(candidato1.shape[0])\n",
    "            recomb_mask = np.array([p <= p_recomb for p in recomb_mask])\n",
    "            novo_candidato1 = np.copy(candidato1)\n",
    "            np.putmask(novo_candidato1, recomb_mask, candidato2)\n",
    "            novo_candidato1 = novo_candidato1.reshape((1, -1))\n",
    "            novo_candidato2 = np.copy(candidato2)\n",
    "            np.putmask(novo_candidato2, recomb_mask, candidato1)\n",
    "            novo_candidato2 = novo_candidato2.reshape((1, -1))\n",
    "            new_pop = np.concatenate((new_pop, novo_candidato1, novo_candidato2), axis=0)\n",
    "        new_pop = new_pop[:x_pop.shape[0]]\n",
    "        # Mutação\n",
    "        mut_gen = (np.random.rand(new_pop.shape[0], new_pop.shape[1]) * 60) - 30\n",
    "        mut_mask = np.random.rand(new_pop.shape[0], new_pop.shape[1])\n",
    "        mut_mask = np.array([p <= p_mutacao for p in mut_mask])\n",
    "        np.putmask(new_pop, mut_mask, mut_gen)\n",
    "        # Nova População\n",
    "        x_pop = np.copy(new_pop)\n",
    "\n",
    "    elapsed_time = (time() - time_init) * 1000\n",
    "    fitness_metrics = np.concatenate(([avg_fitness], [min_fitness]), axis = 0).transpose()\n",
    "    df_fitness = pd.DataFrame(fitness_metrics)\n",
    "    #df_fitness['Aptidao'] = ['Media', 'Minima']\n",
    "        \n",
    "    return df_evolution, df_fitness, elapsed_time\n",
    "\n",
    "    "
   ]
  },
  {
   "cell_type": "code",
   "execution_count": null,
   "metadata": {},
   "outputs": [],
   "source": [
    "def treina_genetico(dim=2, funcao='esfera', iteracoes=50, taxa_recomb=0.1, taxa_mut=0.01):\n",
    "    init = (np.random.rand(20, dim) * 60) - 30\n",
    "        \n",
    "    if(funcao == 'ackley'):\n",
    "        f = ackley\n",
    "        range_color = [-100, 0]\n",
    "    else:\n",
    "        f = esfera\n",
    "        range_color = [-1500, 0]\n",
    "\n",
    "    range_xyz = [-30, 30]\n",
    "    \n",
    "    df_evol, df_fit, train_time = genetico(init, f, iteracoes=iteracoes,\n",
    "                                           p_recomb=taxa_recomb, p_mutacao=taxa_mut)    \n",
    "\n",
    "    if(dim == 3):\n",
    "        fig1 = px.scatter_3d(df_evol, x='x', y='y', z='z', color='fitness', animation_frame='iter',\n",
    "                        color_continuous_scale=px.colors.sequential.YlGnBu,\n",
    "                        range_y=range_xyz, range_x=range_xyz, range_z=range_xyz, range_color=range_color,\n",
    "                        title=f\"\")\n",
    "    else:\n",
    "        fig1 = px.scatter(df_evol, x='x', y='y', color='fitness', animation_frame='iter',\n",
    "                        color_continuous_scale=px.colors.sequential.YlGnBu,\n",
    "                        range_y=range_xyz, range_x=range_xyz, range_color=range_color,\n",
    "                        title=f\"Evolução da população para função {funcao} em R{dim} | Recomb. = {taxa_recomb * 100}% | Mut. = {taxa_mut * 100}%<br><sup>Tempo gasto para {iteracoes} iterações: {train_time:.3f} ms</sup>\")\n",
    "\n",
    "    fig2 = px.line(df_fit, category_orders={\"variable\": [\"Média\", \"Mínima\"]},\n",
    "                   title=f\"Evolução da aptidão para função {funcao} em R{dim} | Recomb. = {taxa_recomb * 100}% | Mut. = {taxa_mut * 100}%<br><sup>Tempo gasto para {iteracoes} iterações: {train_time:.3f} ms</sup>\")\n",
    "    \n",
    "    for idx in enumerate(fig2[\"data\"]):\n",
    "        if(idx[0] == 0):\n",
    "            idx[1][\"name\"] = \"Média\"\n",
    "        elif(idx[0] == 1):\n",
    "            idx[1][\"name\"] = \"Mínima\"\n",
    "        \n",
    "    fig2.update_xaxes(title_text='Iterações')\n",
    "    fig2.update_yaxes(title_text='Aptidão')\n",
    "    fig2.update_layout(legend_title_text='Aptidão')\n",
    "    \n",
    "    fig1.show()\n",
    "    fig2.show()"
   ]
  },
  {
   "attachments": {},
   "cell_type": "markdown",
   "metadata": {},
   "source": [
    "Enxame de Partículas:"
   ]
  },
  {
   "cell_type": "code",
   "execution_count": null,
   "metadata": {},
   "outputs": [],
   "source": []
  },
  {
   "attachments": {},
   "cell_type": "markdown",
   "metadata": {},
   "source": [
    "## **Exercício 01 - Gradiente**"
   ]
  },
  {
   "attachments": {},
   "cell_type": "markdown",
   "metadata": {},
   "source": [
    "### 1.1. Otimização da esfera em $\\mathbb{R}^{2}$ com 20 inicializações e 50 iterações:"
   ]
  },
  {
   "attachments": {},
   "cell_type": "markdown",
   "metadata": {},
   "source": [
    "Caso 1.1.1: $\\alpha$ = 0.1"
   ]
  },
  {
   "cell_type": "code",
   "execution_count": null,
   "metadata": {},
   "outputs": [],
   "source": [
    "treina_gradiente(1e-1, 2, 'esfera', 50)"
   ]
  },
  {
   "attachments": {},
   "cell_type": "markdown",
   "metadata": {},
   "source": [
    "Caso 1.1.2: $\\alpha$ = 0.01"
   ]
  },
  {
   "cell_type": "code",
   "execution_count": null,
   "metadata": {},
   "outputs": [],
   "source": [
    "treina_gradiente(1e-2, 2, 'esfera', 50)"
   ]
  },
  {
   "attachments": {},
   "cell_type": "markdown",
   "metadata": {},
   "source": [
    "Caso 1.1.3: $\\alpha$ = 10"
   ]
  },
  {
   "cell_type": "code",
   "execution_count": null,
   "metadata": {},
   "outputs": [],
   "source": [
    "treina_gradiente(1e1, 2, 'esfera', 50)"
   ]
  },
  {
   "attachments": {},
   "cell_type": "markdown",
   "metadata": {},
   "source": [
    "### 1.2. Otimização da esfera em $\\mathbb{R}^{3}$ com 20 inicializações e 50 iterações:"
   ]
  },
  {
   "attachments": {},
   "cell_type": "markdown",
   "metadata": {},
   "source": [
    "Caso 1.2.1: $\\alpha$ = 0.1"
   ]
  },
  {
   "cell_type": "code",
   "execution_count": null,
   "metadata": {},
   "outputs": [],
   "source": [
    "treina_gradiente(1e-1, 3, 'esfera', 50)"
   ]
  },
  {
   "attachments": {},
   "cell_type": "markdown",
   "metadata": {},
   "source": [
    "Caso 1.2.2: $\\alpha$ = 0.01"
   ]
  },
  {
   "cell_type": "code",
   "execution_count": null,
   "metadata": {},
   "outputs": [],
   "source": [
    "treina_gradiente(1e-2, 3, 'esfera', 50)"
   ]
  },
  {
   "attachments": {},
   "cell_type": "markdown",
   "metadata": {},
   "source": [
    "Caso 1.2.3: $\\alpha$ = 10"
   ]
  },
  {
   "cell_type": "code",
   "execution_count": null,
   "metadata": {},
   "outputs": [],
   "source": [
    "treina_gradiente(1e1, 3, 'esfera', 50)"
   ]
  },
  {
   "attachments": {},
   "cell_type": "markdown",
   "metadata": {},
   "source": [
    "### 1.3. Otimização da função Ackley em $\\mathbb{R}^{2}$ com 20 inicializações e 50 iterações:"
   ]
  },
  {
   "attachments": {},
   "cell_type": "markdown",
   "metadata": {},
   "source": [
    "Caso 1.3.1: $\\alpha$ = 0.01"
   ]
  },
  {
   "cell_type": "code",
   "execution_count": null,
   "metadata": {},
   "outputs": [],
   "source": [
    "treina_gradiente(1e-2, 2, 'ackley', 50)"
   ]
  },
  {
   "attachments": {},
   "cell_type": "markdown",
   "metadata": {},
   "source": [
    "Caso 1.3.2: $\\alpha$ = 0.1"
   ]
  },
  {
   "cell_type": "code",
   "execution_count": null,
   "metadata": {},
   "outputs": [],
   "source": [
    "treina_gradiente(1e-1, 2, 'ackley', 50)"
   ]
  },
  {
   "attachments": {},
   "cell_type": "markdown",
   "metadata": {},
   "source": [
    "### 1.4. Otimização da função Ackley em $\\mathbb{R}^{3}$ com 20 inicializações e 50 iterações:"
   ]
  },
  {
   "attachments": {},
   "cell_type": "markdown",
   "metadata": {},
   "source": [
    "Caso 1.4.1: $\\alpha$ = 0.005"
   ]
  },
  {
   "cell_type": "code",
   "execution_count": null,
   "metadata": {},
   "outputs": [],
   "source": [
    "treina_gradiente(5e-3, 3, 'ackley', 50)"
   ]
  },
  {
   "attachments": {},
   "cell_type": "markdown",
   "metadata": {},
   "source": [
    "Caso 1.4.2: $\\alpha$ = 0.01"
   ]
  },
  {
   "cell_type": "code",
   "execution_count": null,
   "metadata": {},
   "outputs": [],
   "source": [
    "treina_gradiente(1e-2, 3, 'ackley', 50)"
   ]
  },
  {
   "attachments": {},
   "cell_type": "markdown",
   "metadata": {},
   "source": [
    "## **Exercício 02 - Algoritmo Genético**"
   ]
  },
  {
   "attachments": {},
   "cell_type": "markdown",
   "metadata": {},
   "source": [
    "### 2.1. Otimização da esfera em $\\mathbb{R}^{2}$ com 20 indivíduos e 50 iterações:"
   ]
  },
  {
   "attachments": {},
   "cell_type": "markdown",
   "metadata": {},
   "source": [
    "Caso 2.1.1: Recombinação = 10%, Mutação = 1%"
   ]
  },
  {
   "cell_type": "code",
   "execution_count": null,
   "metadata": {},
   "outputs": [],
   "source": [
    "treina_genetico(dim=2, funcao='esfera', iteracoes=50, taxa_recomb=0.1, taxa_mut=0.01)"
   ]
  },
  {
   "attachments": {},
   "cell_type": "markdown",
   "metadata": {},
   "source": [
    "Caso 2.1.2: Recombinação = 20%, Mutação = 1%"
   ]
  },
  {
   "cell_type": "code",
   "execution_count": null,
   "metadata": {},
   "outputs": [],
   "source": [
    "treina_genetico(dim=2, funcao='esfera', iteracoes=50, taxa_recomb=0.2, taxa_mut=0.01)"
   ]
  },
  {
   "attachments": {},
   "cell_type": "markdown",
   "metadata": {},
   "source": [
    "Caso 2.1.3: Recombinação = 30%, Mutação = 1%"
   ]
  },
  {
   "cell_type": "code",
   "execution_count": null,
   "metadata": {},
   "outputs": [],
   "source": [
    "treina_genetico(dim=2, funcao='esfera', iteracoes=50, taxa_recomb=0.3, taxa_mut=0.01)"
   ]
  },
  {
   "attachments": {},
   "cell_type": "markdown",
   "metadata": {},
   "source": [
    "Caso 2.1.4: Recombinação = 40%, Mutação = 1%"
   ]
  },
  {
   "cell_type": "code",
   "execution_count": null,
   "metadata": {},
   "outputs": [],
   "source": [
    "treina_genetico(dim=2, funcao='esfera', iteracoes=50, taxa_recomb=0.4, taxa_mut=0.01)"
   ]
  },
  {
   "attachments": {},
   "cell_type": "markdown",
   "metadata": {},
   "source": [
    "Caso 2.1.5: Recombinação = 50%, Mutação = 1%"
   ]
  },
  {
   "cell_type": "code",
   "execution_count": null,
   "metadata": {},
   "outputs": [],
   "source": [
    "treina_genetico(dim=2, funcao='esfera', iteracoes=50, taxa_recomb=0.5, taxa_mut=0.01)"
   ]
  },
  {
   "attachments": {},
   "cell_type": "markdown",
   "metadata": {},
   "source": [
    "Caso 2.1.6: Recombinação = 10%, Mutação = 0.5%"
   ]
  },
  {
   "cell_type": "code",
   "execution_count": null,
   "metadata": {},
   "outputs": [],
   "source": [
    "treina_genetico(dim=2, funcao='esfera', iteracoes=50, taxa_recomb=0.1, taxa_mut=0.005)"
   ]
  },
  {
   "attachments": {},
   "cell_type": "markdown",
   "metadata": {},
   "source": [
    "Caso 2.1.7: Recombinação = 10%, Mutação = 2%"
   ]
  },
  {
   "cell_type": "code",
   "execution_count": null,
   "metadata": {},
   "outputs": [],
   "source": [
    "treina_genetico(dim=2, funcao='esfera', iteracoes=50, taxa_recomb=0.1, taxa_mut=0.02)"
   ]
  },
  {
   "attachments": {},
   "cell_type": "markdown",
   "metadata": {},
   "source": [
    "Caso 2.1.8: Recombinação = 10%, Mutação = 3%"
   ]
  },
  {
   "cell_type": "code",
   "execution_count": null,
   "metadata": {},
   "outputs": [],
   "source": [
    "treina_genetico(dim=2, funcao='esfera', iteracoes=50, taxa_recomb=0.1, taxa_mut=0.03)"
   ]
  },
  {
   "attachments": {},
   "cell_type": "markdown",
   "metadata": {},
   "source": [
    "Caso 2.1.9: Recombinação = 10%, Mutação = 5%"
   ]
  },
  {
   "cell_type": "code",
   "execution_count": null,
   "metadata": {},
   "outputs": [],
   "source": [
    "treina_genetico(dim=2, funcao='esfera', iteracoes=50, taxa_recomb=0.1, taxa_mut=0.05)"
   ]
  },
  {
   "attachments": {},
   "cell_type": "markdown",
   "metadata": {},
   "source": [
    "Caso 2.1.10: Recombinação = 10%, Mutação = 10%"
   ]
  },
  {
   "cell_type": "code",
   "execution_count": null,
   "metadata": {},
   "outputs": [],
   "source": [
    "treina_genetico(dim=2, funcao='esfera', iteracoes=50, taxa_recomb=0.1, taxa_mut=0.1)"
   ]
  },
  {
   "attachments": {},
   "cell_type": "markdown",
   "metadata": {},
   "source": [
    "### 2.2. Otimização da esfera em $\\mathbb{R}^{3}$ com 20 indivíduos e 50 iterações:"
   ]
  },
  {
   "attachments": {},
   "cell_type": "markdown",
   "metadata": {},
   "source": [
    "Caso 2.2.1: Recombinação = 10%, Mutação = 0.5%"
   ]
  },
  {
   "cell_type": "code",
   "execution_count": null,
   "metadata": {},
   "outputs": [],
   "source": [
    "treina_genetico(dim=3, funcao='esfera', iteracoes=50, taxa_recomb=0.1, taxa_mut=0.005)"
   ]
  },
  {
   "attachments": {},
   "cell_type": "markdown",
   "metadata": {},
   "source": [
    "Caso 2.2.2: Recombinação = 20%, Mutação = 1%"
   ]
  },
  {
   "cell_type": "code",
   "execution_count": null,
   "metadata": {},
   "outputs": [],
   "source": [
    "treina_genetico(dim=3, funcao='esfera', iteracoes=50, taxa_recomb=0.2, taxa_mut=0.01)"
   ]
  },
  {
   "attachments": {},
   "cell_type": "markdown",
   "metadata": {},
   "source": [
    "Caso 2.2.3: Recombinação = 30%, Mutação = 1%"
   ]
  },
  {
   "cell_type": "code",
   "execution_count": null,
   "metadata": {},
   "outputs": [],
   "source": [
    "treina_genetico(dim=3, funcao='esfera', iteracoes=50, taxa_recomb=0.3, taxa_mut=0.01)"
   ]
  },
  {
   "attachments": {},
   "cell_type": "markdown",
   "metadata": {},
   "source": [
    "Caso 2.2.4: Recombinação = 40%, Mutação = 1%"
   ]
  },
  {
   "cell_type": "code",
   "execution_count": null,
   "metadata": {},
   "outputs": [],
   "source": [
    "treina_genetico(dim=3, funcao='esfera', iteracoes=50, taxa_recomb=0.4, taxa_mut=0.01)"
   ]
  },
  {
   "attachments": {},
   "cell_type": "markdown",
   "metadata": {},
   "source": [
    "Caso 2.2.5: Recombinação = 50%, Mutação = 1%"
   ]
  },
  {
   "cell_type": "code",
   "execution_count": null,
   "metadata": {},
   "outputs": [],
   "source": [
    "treina_genetico(dim=3, funcao='esfera', iteracoes=50, taxa_recomb=0.5, taxa_mut=0.01)"
   ]
  },
  {
   "attachments": {},
   "cell_type": "markdown",
   "metadata": {},
   "source": [
    "Caso 2.2.6: Recombinação = 10%, Mutação = 0.5%"
   ]
  },
  {
   "cell_type": "code",
   "execution_count": null,
   "metadata": {},
   "outputs": [],
   "source": [
    "treina_genetico(dim=3, funcao='esfera', iteracoes=50, taxa_recomb=0.1, taxa_mut=0.005)"
   ]
  },
  {
   "attachments": {},
   "cell_type": "markdown",
   "metadata": {},
   "source": [
    "Caso 2.2.7: Recombinação = 10%, Mutação = 2%"
   ]
  },
  {
   "cell_type": "code",
   "execution_count": null,
   "metadata": {},
   "outputs": [],
   "source": [
    "treina_genetico(dim=3, funcao='esfera', iteracoes=50, taxa_recomb=0.1, taxa_mut=0.02)"
   ]
  },
  {
   "attachments": {},
   "cell_type": "markdown",
   "metadata": {},
   "source": [
    "Caso 2.2.8: Recombinação = 10%, Mutação = 3%"
   ]
  },
  {
   "cell_type": "code",
   "execution_count": null,
   "metadata": {},
   "outputs": [],
   "source": [
    "treina_genetico(dim=3, funcao='esfera', iteracoes=50, taxa_recomb=0.1, taxa_mut=0.03)"
   ]
  },
  {
   "attachments": {},
   "cell_type": "markdown",
   "metadata": {},
   "source": [
    "Caso 2.2.9: Recombinação = 10%, Mutação = 5%"
   ]
  },
  {
   "cell_type": "code",
   "execution_count": null,
   "metadata": {},
   "outputs": [],
   "source": [
    "treina_genetico(dim=3, funcao='esfera', iteracoes=50, taxa_recomb=0.1, taxa_mut=0.05)"
   ]
  },
  {
   "attachments": {},
   "cell_type": "markdown",
   "metadata": {},
   "source": [
    "Caso 2.2.10: Recombinação = 10%, Mutação = 10%"
   ]
  },
  {
   "cell_type": "code",
   "execution_count": null,
   "metadata": {},
   "outputs": [],
   "source": [
    "treina_genetico(dim=3, funcao='esfera', iteracoes=50, taxa_recomb=0.1, taxa_mut=0.1)"
   ]
  },
  {
   "attachments": {},
   "cell_type": "markdown",
   "metadata": {},
   "source": [
    "### 2.3. Otimização da função ackley em $\\mathbb{R}^{2}$ com 20 indivíduos e 50 iterações:"
   ]
  },
  {
   "attachments": {},
   "cell_type": "markdown",
   "metadata": {},
   "source": [
    "Caso 2.3.1: Recombinação = 10%, Mutação = 1%"
   ]
  },
  {
   "cell_type": "code",
   "execution_count": null,
   "metadata": {},
   "outputs": [],
   "source": [
    "treina_genetico(dim=2, funcao='ackley', iteracoes=50, taxa_recomb=0.1, taxa_mut=0.01)"
   ]
  },
  {
   "attachments": {},
   "cell_type": "markdown",
   "metadata": {},
   "source": [
    "Caso 2.3.2: Recombinação = 20%, Mutação = 1%"
   ]
  },
  {
   "cell_type": "code",
   "execution_count": null,
   "metadata": {},
   "outputs": [],
   "source": [
    "treina_genetico(dim=2, funcao='ackley', iteracoes=50, taxa_recomb=0.2, taxa_mut=0.01)"
   ]
  },
  {
   "attachments": {},
   "cell_type": "markdown",
   "metadata": {},
   "source": [
    "Caso 2.3.3: Recombinação = 30%, Mutação = 1%"
   ]
  },
  {
   "cell_type": "code",
   "execution_count": null,
   "metadata": {},
   "outputs": [],
   "source": [
    "treina_genetico(dim=2, funcao='ackley', iteracoes=50, taxa_recomb=0.3, taxa_mut=0.01)"
   ]
  },
  {
   "attachments": {},
   "cell_type": "markdown",
   "metadata": {},
   "source": [
    "Caso 2.3.4: Recombinação = 40%, Mutação = 1%"
   ]
  },
  {
   "cell_type": "code",
   "execution_count": null,
   "metadata": {},
   "outputs": [],
   "source": [
    "treina_genetico(dim=2, funcao='ackley', iteracoes=50, taxa_recomb=0.4, taxa_mut=0.01)"
   ]
  },
  {
   "attachments": {},
   "cell_type": "markdown",
   "metadata": {},
   "source": [
    "Caso 2.3.5: Recombinação = 50%, Mutação = 1%"
   ]
  },
  {
   "cell_type": "code",
   "execution_count": null,
   "metadata": {},
   "outputs": [],
   "source": [
    "treina_genetico(dim=2, funcao='ackley', iteracoes=50, taxa_recomb=0.5, taxa_mut=0.01)"
   ]
  },
  {
   "attachments": {},
   "cell_type": "markdown",
   "metadata": {},
   "source": [
    "Caso 2.3.6: Recombinação = 10%, Mutação = 0.5%"
   ]
  },
  {
   "cell_type": "code",
   "execution_count": null,
   "metadata": {},
   "outputs": [],
   "source": [
    "treina_genetico(dim=2, funcao='ackley', iteracoes=50, taxa_recomb=0.1, taxa_mut=0.005)"
   ]
  },
  {
   "attachments": {},
   "cell_type": "markdown",
   "metadata": {},
   "source": [
    "Caso 2.3.7: Recombinação = 10%, Mutação = 2%"
   ]
  },
  {
   "cell_type": "code",
   "execution_count": null,
   "metadata": {},
   "outputs": [],
   "source": [
    "treina_genetico(dim=2, funcao='ackley', iteracoes=50, taxa_recomb=0.1, taxa_mut=0.02)"
   ]
  },
  {
   "attachments": {},
   "cell_type": "markdown",
   "metadata": {},
   "source": [
    "Caso 2.3.8: Recombinação = 10%, Mutação = 3%"
   ]
  },
  {
   "cell_type": "code",
   "execution_count": null,
   "metadata": {},
   "outputs": [],
   "source": [
    "treina_genetico(dim=2, funcao='ackley', iteracoes=50, taxa_recomb=0.1, taxa_mut=0.03)"
   ]
  },
  {
   "attachments": {},
   "cell_type": "markdown",
   "metadata": {},
   "source": [
    "Caso 2.3.9: Recombinação = 10%, Mutação = 5%"
   ]
  },
  {
   "cell_type": "code",
   "execution_count": null,
   "metadata": {},
   "outputs": [],
   "source": [
    "treina_genetico(dim=2, funcao='ackley', iteracoes=50, taxa_recomb=0.1, taxa_mut=0.05)"
   ]
  },
  {
   "attachments": {},
   "cell_type": "markdown",
   "metadata": {},
   "source": [
    "Caso 2.3.10: Recombinação = 10%, Mutação = 10%"
   ]
  },
  {
   "cell_type": "code",
   "execution_count": null,
   "metadata": {},
   "outputs": [],
   "source": [
    "treina_genetico(dim=2, funcao='ackley', iteracoes=50, taxa_recomb=0.1, taxa_mut=0.1)"
   ]
  },
  {
   "attachments": {},
   "cell_type": "markdown",
   "metadata": {},
   "source": [
    "### 2.4. Otimização da função ackley em $\\mathbb{R}^{3}$ com 20 indivíduos e 50 iterações:"
   ]
  },
  {
   "attachments": {},
   "cell_type": "markdown",
   "metadata": {},
   "source": [
    "Caso 2.4.1: Recombinação = 10%, Mutação = 1%"
   ]
  },
  {
   "cell_type": "code",
   "execution_count": null,
   "metadata": {},
   "outputs": [],
   "source": [
    "treina_genetico(dim=2, funcao='ackley', iteracoes=50, taxa_recomb=0.1, taxa_mut=0.01)"
   ]
  },
  {
   "attachments": {},
   "cell_type": "markdown",
   "metadata": {},
   "source": [
    "Caso 2.4.2: Recombinação = 20%, Mutação = 1%"
   ]
  },
  {
   "cell_type": "code",
   "execution_count": null,
   "metadata": {},
   "outputs": [],
   "source": [
    "treina_genetico(dim=2, funcao='ackley', iteracoes=50, taxa_recomb=0.2, taxa_mut=0.01)"
   ]
  },
  {
   "attachments": {},
   "cell_type": "markdown",
   "metadata": {},
   "source": [
    "Caso 2.4.3: Recombinação = 30%, Mutação = 1%"
   ]
  },
  {
   "cell_type": "code",
   "execution_count": null,
   "metadata": {},
   "outputs": [],
   "source": [
    "treina_genetico(dim=2, funcao='ackley', iteracoes=50, taxa_recomb=0.3, taxa_mut=0.01)"
   ]
  },
  {
   "attachments": {},
   "cell_type": "markdown",
   "metadata": {},
   "source": [
    "Caso 2.4.4: Recombinação = 40%, Mutação = 1%"
   ]
  },
  {
   "cell_type": "code",
   "execution_count": null,
   "metadata": {},
   "outputs": [],
   "source": [
    "treina_genetico(dim=2, funcao='ackley', iteracoes=50, taxa_recomb=0.4, taxa_mut=0.01)"
   ]
  },
  {
   "attachments": {},
   "cell_type": "markdown",
   "metadata": {},
   "source": [
    "Caso 2.4.5: Recombinação = 50%, Mutação = 1%"
   ]
  },
  {
   "cell_type": "code",
   "execution_count": null,
   "metadata": {},
   "outputs": [],
   "source": [
    "treina_genetico(dim=2, funcao='ackley', iteracoes=50, taxa_recomb=0.5, taxa_mut=0.01)"
   ]
  },
  {
   "attachments": {},
   "cell_type": "markdown",
   "metadata": {},
   "source": [
    "Caso 2.4.6: Recombinação = 10%, Mutação = 0.5%"
   ]
  },
  {
   "cell_type": "code",
   "execution_count": null,
   "metadata": {},
   "outputs": [],
   "source": [
    "treina_genetico(dim=2, funcao='ackley', iteracoes=50, taxa_recomb=0.1, taxa_mut=0.005)"
   ]
  },
  {
   "attachments": {},
   "cell_type": "markdown",
   "metadata": {},
   "source": [
    "Caso 2.4.7: Recombinação = 10%, Mutação = 2%"
   ]
  },
  {
   "cell_type": "code",
   "execution_count": null,
   "metadata": {},
   "outputs": [],
   "source": [
    "treina_genetico(dim=2, funcao='ackley', iteracoes=50, taxa_recomb=0.1, taxa_mut=0.02)"
   ]
  },
  {
   "attachments": {},
   "cell_type": "markdown",
   "metadata": {},
   "source": [
    "Caso 2.4.8: Recombinação = 10%, Mutação = 3%"
   ]
  },
  {
   "cell_type": "code",
   "execution_count": null,
   "metadata": {},
   "outputs": [],
   "source": [
    "treina_genetico(dim=2, funcao='ackley', iteracoes=50, taxa_recomb=0.1, taxa_mut=0.03)"
   ]
  },
  {
   "attachments": {},
   "cell_type": "markdown",
   "metadata": {},
   "source": [
    "Caso 2.4.9: Recombinação = 10%, Mutação = 5%"
   ]
  },
  {
   "cell_type": "code",
   "execution_count": null,
   "metadata": {},
   "outputs": [],
   "source": [
    "treina_genetico(dim=2, funcao='ackley', iteracoes=50, taxa_recomb=0.1, taxa_mut=0.05)"
   ]
  },
  {
   "attachments": {},
   "cell_type": "markdown",
   "metadata": {},
   "source": [
    "Caso 2.4.10: Recombinação = 10%, Mutação = 10%"
   ]
  },
  {
   "cell_type": "code",
   "execution_count": null,
   "metadata": {},
   "outputs": [],
   "source": [
    "treina_genetico(dim=2, funcao='ackley', iteracoes=50, taxa_recomb=0.1, taxa_mut=0.1)"
   ]
  },
  {
   "attachments": {},
   "cell_type": "markdown",
   "metadata": {},
   "source": [
    "### 2.5. Comentários"
   ]
  },
  {
   "attachments": {},
   "cell_type": "markdown",
   "metadata": {},
   "source": [
    "## **Exercício 03 - Enxame de Partículas**"
   ]
  },
  {
   "attachments": {},
   "cell_type": "markdown",
   "metadata": {},
   "source": [
    "## **Exercício 04 - Considerações**"
   ]
  }
 ],
 "metadata": {
  "kernelspec": {
   "display_name": "Python 3",
   "language": "python",
   "name": "python3"
  },
  "language_info": {
   "codemirror_mode": {
    "name": "ipython",
    "version": 3
   },
   "file_extension": ".py",
   "mimetype": "text/x-python",
   "name": "python",
   "nbconvert_exporter": "python",
   "pygments_lexer": "ipython3",
   "version": "3.10.11"
  },
  "orig_nbformat": 4
 },
 "nbformat": 4,
 "nbformat_minor": 2
}
