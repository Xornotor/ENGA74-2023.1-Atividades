{
 "cells": [
  {
   "attachments": {},
   "cell_type": "markdown",
   "metadata": {},
   "source": [
    "# **Avaliação 03 - ENGA74 2023.1**\n",
    "**Aluno:** André Paiva Conrado Rodrigues"
   ]
  },
  {
   "attachments": {},
   "cell_type": "markdown",
   "metadata": {},
   "source": [
    "## **Importação de dependências para os códigos**"
   ]
  },
  {
   "cell_type": "code",
   "execution_count": 23,
   "metadata": {},
   "outputs": [],
   "source": [
    "from time import time\n",
    "import numpy as np\n",
    "from numpy.random import rand\n",
    "import pandas as pd\n",
    "import plotly.express as px\n",
    "import plotly.graph_objects as go\n",
    "from plotly.subplots import make_subplots"
   ]
  },
  {
   "attachments": {},
   "cell_type": "markdown",
   "metadata": {},
   "source": [
    "## **Funções de ***benchmark*****"
   ]
  },
  {
   "attachments": {},
   "cell_type": "markdown",
   "metadata": {},
   "source": [
    "Esfera:"
   ]
  },
  {
   "cell_type": "code",
   "execution_count": 24,
   "metadata": {},
   "outputs": [],
   "source": [
    "#Função Esfera\n",
    "def esfera(x_array, derivada=False):\n",
    "    if(not derivada):\n",
    "        return np.sum(np.power(x_array, 2))\n",
    "    else:\n",
    "        return 2 * x_array"
   ]
  },
  {
   "attachments": {},
   "cell_type": "markdown",
   "metadata": {},
   "source": [
    "Ackley:"
   ]
  },
  {
   "cell_type": "code",
   "execution_count": 25,
   "metadata": {},
   "outputs": [],
   "source": [
    "#Função Ackley\n",
    "def ackley(x_array, derivada=False):\n",
    "    eps_stability = 1e-8\n",
    "    exp1 = np.exp(-0.2 * np.sqrt(np.sum(np.power(x_array, 2))/x_array.shape[0]))\n",
    "    exp2 = np.exp(np.sum(np.cos(2 * np.pi * x_array))/x_array.shape[0])\n",
    "    \n",
    "    if(not derivada):\n",
    "        return (-20 * exp1) - exp2 + 20 + np.e\n",
    "    else:\n",
    "        aux1 = np.tile(np.sqrt(np.sum(np.power(x_array, 2)) + eps_stability), (x_array.shape[0], 1)).transpose()\n",
    "        aux2 = np.divide(x_array, aux1)\n",
    "        exp1 = np.tile(exp1, (x_array.shape[0], 1)).transpose()\n",
    "        exp2 = np.tile(exp2, (x_array.shape[0], 1)).transpose()\n",
    "        coef1 = 2.828\n",
    "        coef2 = np.pi\n",
    "        if(x_array.shape[0] == 3):         \n",
    "            coef1 = 5.6562/np.sqrt(3)\n",
    "            coef2 = 2 * np.pi / 3\n",
    "        return (coef1 * aux2 * exp1) + (coef2 * exp2 * np.sin(2 * np.pi * x_array))"
   ]
  },
  {
   "attachments": {},
   "cell_type": "markdown",
   "metadata": {},
   "source": [
    "## **Funções de treinamento**"
   ]
  },
  {
   "attachments": {},
   "cell_type": "markdown",
   "metadata": {},
   "source": [
    "Gradiente Descendente:"
   ]
  },
  {
   "cell_type": "code",
   "execution_count": 26,
   "metadata": {},
   "outputs": [],
   "source": [
    "def gradiente(x_array, funcao, alpha, iteracoes=30):\n",
    "    x_trained_array = np.copy(x_array)\n",
    "    func_evolution = [funcao(x_array)]\n",
    "    time_init = time()\n",
    "    for _ in range(iteracoes):\n",
    "        deriv = funcao(x_trained_array, derivada=True)\n",
    "        x_trained_array = x_trained_array - (alpha * deriv)\n",
    "        func_evolution.append(funcao(x_trained_array))\n",
    "    func_evolution = np.array([func_evolution])\n",
    "    elapsed_time = time() - time_init\n",
    "    return func_evolution, elapsed_time"
   ]
  },
  {
   "cell_type": "code",
   "execution_count": 27,
   "metadata": {},
   "outputs": [],
   "source": [
    "def treina_gradiente(alpha, dim, funcao='esfera', iteracoes=30):\n",
    "    init = (np.random.rand(20, dim) * 60) - 30\n",
    "\n",
    "    evol_train = np.empty((0, iteracoes + 1))\n",
    "    times = np.array([])\n",
    "\n",
    "    if(funcao == 'ackley'):\n",
    "        f = ackley\n",
    "    else:\n",
    "        f = esfera\n",
    "\n",
    "    for i in range(20):\n",
    "        func_evolution, elapsed_time = gradiente(init[i], f, alpha, iteracoes)\n",
    "        evol_train = np.append(evol_train, func_evolution, axis=0)\n",
    "        times = np.append(times, elapsed_time)\n",
    "\n",
    "    evol_train=pd.DataFrame(np.transpose(evol_train))\n",
    "    mean_training_time = np.mean(times) * 1000\n",
    "\n",
    "    fig = px.line(evol_train, title=f\"Treino da func. {funcao} em R{dim} com alpha {alpha} - Tempo médio para {iteracoes} iterações: {mean_training_time:.3f} ms\")\n",
    "    fig.update_xaxes(title_text='Iterações')\n",
    "    fig.update_yaxes(title_text=f'Valor da função {funcao}')\n",
    "    fig.update_layout(legend_title_text='Inicialização')\n",
    "    fig.show()"
   ]
  },
  {
   "attachments": {},
   "cell_type": "markdown",
   "metadata": {},
   "source": [
    "Algoritmo Genético:"
   ]
  },
  {
   "cell_type": "code",
   "execution_count": 28,
   "metadata": {},
   "outputs": [],
   "source": [
    "def genetico(x_matrix, funcao, iteracoes=30, p_recomb=0.1, p_mutacao = 0.05):\n",
    "    x_pop = np.copy(x_matrix)\n",
    "    x_fitness = np.array([-funcao(candidato) for candidato in x_pop])\n",
    "    return x_fitness\n",
    "\n",
    "    "
   ]
  },
  {
   "cell_type": "code",
   "execution_count": 64,
   "metadata": {},
   "outputs": [
    {
     "data": {
      "application/vnd.plotly.v1+json": {
       "config": {
        "plotlyServerURL": "https://plot.ly"
       },
       "data": [
        {
         "hovertemplate": "iter=0.0<br>x=%{x}<br>y=%{y}<br>fitness=%{marker.color}<extra></extra>",
         "legendgroup": "",
         "marker": {
          "color": [
           -1695.122477544555,
           -243.64016278442767,
           -804.0860987329941,
           -203.11986737040195,
           -301.10229247513746,
           -616.8092973610895,
           -1235.5537319930072,
           -618.6120199815733,
           -948.879767500058,
           -1551.5254161752723,
           -1041.40497690948,
           -449.8425182300673,
           -126.52702713662667,
           -771.0135986454751,
           -1000.2075495254857,
           -876.4795926265103,
           -396.5048901758677,
           -261.28469568757953,
           -735.365887946301,
           -374.8553766294717
          ],
          "coloraxis": "coloraxis",
          "symbol": "circle"
         },
         "mode": "markers",
         "name": "",
         "orientation": "v",
         "showlegend": false,
         "type": "scatter",
         "x": [
          -28.5771045998581,
          -1.380292450537862,
          -26.492484755785693,
          11.769654450610155,
          1.2345554700442136,
          -9.581525466801267,
          19.049252035220704,
          -23.89305527690751,
          14.12046121205077,
          -27.10785687699148,
          20.394401152148596,
          21.132057279104117,
          -8.176237466287304,
          25.50895628188394,
          -28.100021457683006,
          28.58256392828183,
          19.477222269121967,
          -0.4481340227448385,
          -23.121785571623377,
          3.7116652417610183
         ],
         "xaxis": "x",
         "y": [
          -29.639021074140153,
          -15.547828000573451,
          10.111100345533949,
          8.037107781013923,
          -17.308326472149794,
          22.912958497106573,
          29.541153140858384,
          -6.908974563291977,
          -27.37685779374667,
          -28.5777800347021,
          25.00946577907493,
          -1.8107107396627455,
          7.725035147590361,
          10.968443283092135,
          14.511937968556794,
          -7.71470232168376,
          -4.14037472399383,
          -16.158089973299383,
          -14.168589200275727,
          19.002076669737306
         ],
         "yaxis": "y"
        }
       ],
       "frames": [
        {
         "data": [
          {
           "hovertemplate": "iter=0.0<br>x=%{x}<br>y=%{y}<br>fitness=%{marker.color}<extra></extra>",
           "legendgroup": "",
           "marker": {
            "color": [
             -1695.122477544555,
             -243.64016278442767,
             -804.0860987329941,
             -203.11986737040195,
             -301.10229247513746,
             -616.8092973610895,
             -1235.5537319930072,
             -618.6120199815733,
             -948.879767500058,
             -1551.5254161752723,
             -1041.40497690948,
             -449.8425182300673,
             -126.52702713662667,
             -771.0135986454751,
             -1000.2075495254857,
             -876.4795926265103,
             -396.5048901758677,
             -261.28469568757953,
             -735.365887946301,
             -374.8553766294717
            ],
            "coloraxis": "coloraxis",
            "symbol": "circle"
           },
           "mode": "markers",
           "name": "",
           "orientation": "v",
           "showlegend": false,
           "type": "scatter",
           "x": [
            -28.5771045998581,
            -1.380292450537862,
            -26.492484755785693,
            11.769654450610155,
            1.2345554700442136,
            -9.581525466801267,
            19.049252035220704,
            -23.89305527690751,
            14.12046121205077,
            -27.10785687699148,
            20.394401152148596,
            21.132057279104117,
            -8.176237466287304,
            25.50895628188394,
            -28.100021457683006,
            28.58256392828183,
            19.477222269121967,
            -0.4481340227448385,
            -23.121785571623377,
            3.7116652417610183
           ],
           "xaxis": "x",
           "y": [
            -29.639021074140153,
            -15.547828000573451,
            10.111100345533949,
            8.037107781013923,
            -17.308326472149794,
            22.912958497106573,
            29.541153140858384,
            -6.908974563291977,
            -27.37685779374667,
            -28.5777800347021,
            25.00946577907493,
            -1.8107107396627455,
            7.725035147590361,
            10.968443283092135,
            14.511937968556794,
            -7.71470232168376,
            -4.14037472399383,
            -16.158089973299383,
            -14.168589200275727,
            19.002076669737306
           ],
           "yaxis": "y"
          }
         ],
         "name": "0.0"
        },
        {
         "data": [
          {
           "hovertemplate": "iter=1.0<br>x=%{x}<br>y=%{y}<br>fitness=%{marker.color}<extra></extra>",
           "legendgroup": "",
           "marker": {
            "color": [
             -525.1172258603067,
             -1783.695166362857,
             -732.115184394705,
             -771.3855181446031,
             -692.7370720781278,
             -986.4925573374971,
             -252.5656785764795,
             -103.8085779807727,
             -568.6029525396326,
             -961.0666603060226,
             -379.89212221675007,
             -1044.3829165523623,
             -828.8229433129723,
             -211.561069760996,
             -511.1708696828621,
             -560.6671252428075,
             -310.75283154832755,
             -627.1581166750061,
             -760.4745302227042,
             -854.1793297064014
            ],
            "coloraxis": "coloraxis",
            "symbol": "circle"
           },
           "mode": "markers",
           "name": "",
           "orientation": "v",
           "showlegend": false,
           "type": "scatter",
           "x": [
            -9.554977452893038,
            29.872457336764313,
            -5.19418689876176,
            2.703503202040224,
            23.325150984485823,
            22.831560080563804,
            14.72912188925909,
            -9.801815874367925,
            22.268978519673766,
            10.808326785560915,
            -5.101003498352831,
            29.50835620764977,
            7.729169177536555,
            -0.3747091558404634,
            -16.678885180237884,
            -9.392895187384013,
            17.610026390160897,
            9.016071552351221,
            26.434772315152372,
            21.282760740642885
           ],
           "xaxis": "x",
           "y": [
            20.82833722924162,
            -29.855174744523822,
            -26.554389596739682,
            -27.641935326260377,
            12.193211374739136,
            21.568783498962162,
            -5.968135969281217,
            2.780824256540072,
            -8.526168437811972,
            29.05592422213668,
            18.811482810415086,
            13.17724669552861,
            27.732343700776376,
            -14.54031164760664,
            15.263867754514358,
            -21.73569978725382,
            -0.7998762942882571,
            23.36383038882728,
            7.85349239948431,
            20.030562272760875
           ],
           "yaxis": "y"
          }
         ],
         "name": "1.0"
        },
        {
         "data": [
          {
           "hovertemplate": "iter=2.0<br>x=%{x}<br>y=%{y}<br>fitness=%{marker.color}<extra></extra>",
           "legendgroup": "",
           "marker": {
            "color": [
             -2.7588256820244457,
             -276.2723577111538,
             -1469.8928182486104,
             -95.14636384410242,
             -935.8088856282538,
             -633.0523497175371,
             -231.15834395199425,
             -103.01208657136343,
             -1063.3542067451913,
             -1.2856980646495768,
             -892.9942773709403,
             -1021.5517571911569,
             -142.12034660057645,
             -454.0217921019628,
             -1263.3918513282354,
             -1133.2691308917938,
             -1106.4000099692269,
             -286.887883312875,
             -83.10310124990768,
             -298.6959457326233
            ],
            "coloraxis": "coloraxis",
            "symbol": "circle"
           },
           "mode": "markers",
           "name": "",
           "orientation": "v",
           "showlegend": false,
           "type": "scatter",
           "x": [
            -1.427945120936922,
            13.674690289043056,
            25.08423309618091,
            9.516471565632116,
            27.044565486043467,
            -22.2120038058196,
            3.6085387166497753,
            0.669630299949354,
            27.074368015370794,
            1.1301601469797262,
            27.146253353949817,
            26.237790979590592,
            -5.984742698384107,
            21.230200854918905,
            22.53537888600293,
            -18.239140687882728,
            -29.346245937654746,
            6.232897245143192,
            8.144499637943404,
            12.78129329604895
           ],
           "xaxis": "x",
           "y": [
            -0.8484093431928272,
            9.448555615008324,
            -28.994379942069337,
            -2.1408252578428346,
            -14.296865506094697,
            11.818597067663859,
            -14.769454704979255,
            10.12737289886934,
            18.175059925993594,
            0.0918482815753272,
            -12.493006292086328,
            18.25185145957723,
            -10.310344389724069,
            -1.8166903318296725,
            -27.48724340112207,
            -28.294926715922315,
            -15.658794951588996,
            15.74924998989988,
            -4.095146749195617,
            -11.633335180119133
           ],
           "yaxis": "y"
          }
         ],
         "name": "2.0"
        }
       ],
       "layout": {
        "coloraxis": {
         "colorbar": {
          "title": {
           "text": "fitness"
          }
         },
         "colorscale": [
          [
           0,
           "#0d0887"
          ],
          [
           0.1111111111111111,
           "#46039f"
          ],
          [
           0.2222222222222222,
           "#7201a8"
          ],
          [
           0.3333333333333333,
           "#9c179e"
          ],
          [
           0.4444444444444444,
           "#bd3786"
          ],
          [
           0.5555555555555556,
           "#d8576b"
          ],
          [
           0.6666666666666666,
           "#ed7953"
          ],
          [
           0.7777777777777778,
           "#fb9f3a"
          ],
          [
           0.8888888888888888,
           "#fdca26"
          ],
          [
           1,
           "#f0f921"
          ]
         ]
        },
        "legend": {
         "tracegroupgap": 0
        },
        "margin": {
         "t": 60
        },
        "sliders": [
         {
          "active": 0,
          "currentvalue": {
           "prefix": "iter="
          },
          "len": 0.9,
          "pad": {
           "b": 10,
           "t": 60
          },
          "steps": [
           {
            "args": [
             [
              "0.0"
             ],
             {
              "frame": {
               "duration": 0,
               "redraw": false
              },
              "fromcurrent": true,
              "mode": "immediate",
              "transition": {
               "duration": 0,
               "easing": "linear"
              }
             }
            ],
            "label": "0.0",
            "method": "animate"
           },
           {
            "args": [
             [
              "1.0"
             ],
             {
              "frame": {
               "duration": 0,
               "redraw": false
              },
              "fromcurrent": true,
              "mode": "immediate",
              "transition": {
               "duration": 0,
               "easing": "linear"
              }
             }
            ],
            "label": "1.0",
            "method": "animate"
           },
           {
            "args": [
             [
              "2.0"
             ],
             {
              "frame": {
               "duration": 0,
               "redraw": false
              },
              "fromcurrent": true,
              "mode": "immediate",
              "transition": {
               "duration": 0,
               "easing": "linear"
              }
             }
            ],
            "label": "2.0",
            "method": "animate"
           }
          ],
          "x": 0.1,
          "xanchor": "left",
          "y": 0,
          "yanchor": "top"
         }
        ],
        "template": {
         "data": {
          "bar": [
           {
            "error_x": {
             "color": "#2a3f5f"
            },
            "error_y": {
             "color": "#2a3f5f"
            },
            "marker": {
             "line": {
              "color": "#E5ECF6",
              "width": 0.5
             },
             "pattern": {
              "fillmode": "overlay",
              "size": 10,
              "solidity": 0.2
             }
            },
            "type": "bar"
           }
          ],
          "barpolar": [
           {
            "marker": {
             "line": {
              "color": "#E5ECF6",
              "width": 0.5
             },
             "pattern": {
              "fillmode": "overlay",
              "size": 10,
              "solidity": 0.2
             }
            },
            "type": "barpolar"
           }
          ],
          "carpet": [
           {
            "aaxis": {
             "endlinecolor": "#2a3f5f",
             "gridcolor": "white",
             "linecolor": "white",
             "minorgridcolor": "white",
             "startlinecolor": "#2a3f5f"
            },
            "baxis": {
             "endlinecolor": "#2a3f5f",
             "gridcolor": "white",
             "linecolor": "white",
             "minorgridcolor": "white",
             "startlinecolor": "#2a3f5f"
            },
            "type": "carpet"
           }
          ],
          "choropleth": [
           {
            "colorbar": {
             "outlinewidth": 0,
             "ticks": ""
            },
            "type": "choropleth"
           }
          ],
          "contour": [
           {
            "colorbar": {
             "outlinewidth": 0,
             "ticks": ""
            },
            "colorscale": [
             [
              0,
              "#0d0887"
             ],
             [
              0.1111111111111111,
              "#46039f"
             ],
             [
              0.2222222222222222,
              "#7201a8"
             ],
             [
              0.3333333333333333,
              "#9c179e"
             ],
             [
              0.4444444444444444,
              "#bd3786"
             ],
             [
              0.5555555555555556,
              "#d8576b"
             ],
             [
              0.6666666666666666,
              "#ed7953"
             ],
             [
              0.7777777777777778,
              "#fb9f3a"
             ],
             [
              0.8888888888888888,
              "#fdca26"
             ],
             [
              1,
              "#f0f921"
             ]
            ],
            "type": "contour"
           }
          ],
          "contourcarpet": [
           {
            "colorbar": {
             "outlinewidth": 0,
             "ticks": ""
            },
            "type": "contourcarpet"
           }
          ],
          "heatmap": [
           {
            "colorbar": {
             "outlinewidth": 0,
             "ticks": ""
            },
            "colorscale": [
             [
              0,
              "#0d0887"
             ],
             [
              0.1111111111111111,
              "#46039f"
             ],
             [
              0.2222222222222222,
              "#7201a8"
             ],
             [
              0.3333333333333333,
              "#9c179e"
             ],
             [
              0.4444444444444444,
              "#bd3786"
             ],
             [
              0.5555555555555556,
              "#d8576b"
             ],
             [
              0.6666666666666666,
              "#ed7953"
             ],
             [
              0.7777777777777778,
              "#fb9f3a"
             ],
             [
              0.8888888888888888,
              "#fdca26"
             ],
             [
              1,
              "#f0f921"
             ]
            ],
            "type": "heatmap"
           }
          ],
          "heatmapgl": [
           {
            "colorbar": {
             "outlinewidth": 0,
             "ticks": ""
            },
            "colorscale": [
             [
              0,
              "#0d0887"
             ],
             [
              0.1111111111111111,
              "#46039f"
             ],
             [
              0.2222222222222222,
              "#7201a8"
             ],
             [
              0.3333333333333333,
              "#9c179e"
             ],
             [
              0.4444444444444444,
              "#bd3786"
             ],
             [
              0.5555555555555556,
              "#d8576b"
             ],
             [
              0.6666666666666666,
              "#ed7953"
             ],
             [
              0.7777777777777778,
              "#fb9f3a"
             ],
             [
              0.8888888888888888,
              "#fdca26"
             ],
             [
              1,
              "#f0f921"
             ]
            ],
            "type": "heatmapgl"
           }
          ],
          "histogram": [
           {
            "marker": {
             "pattern": {
              "fillmode": "overlay",
              "size": 10,
              "solidity": 0.2
             }
            },
            "type": "histogram"
           }
          ],
          "histogram2d": [
           {
            "colorbar": {
             "outlinewidth": 0,
             "ticks": ""
            },
            "colorscale": [
             [
              0,
              "#0d0887"
             ],
             [
              0.1111111111111111,
              "#46039f"
             ],
             [
              0.2222222222222222,
              "#7201a8"
             ],
             [
              0.3333333333333333,
              "#9c179e"
             ],
             [
              0.4444444444444444,
              "#bd3786"
             ],
             [
              0.5555555555555556,
              "#d8576b"
             ],
             [
              0.6666666666666666,
              "#ed7953"
             ],
             [
              0.7777777777777778,
              "#fb9f3a"
             ],
             [
              0.8888888888888888,
              "#fdca26"
             ],
             [
              1,
              "#f0f921"
             ]
            ],
            "type": "histogram2d"
           }
          ],
          "histogram2dcontour": [
           {
            "colorbar": {
             "outlinewidth": 0,
             "ticks": ""
            },
            "colorscale": [
             [
              0,
              "#0d0887"
             ],
             [
              0.1111111111111111,
              "#46039f"
             ],
             [
              0.2222222222222222,
              "#7201a8"
             ],
             [
              0.3333333333333333,
              "#9c179e"
             ],
             [
              0.4444444444444444,
              "#bd3786"
             ],
             [
              0.5555555555555556,
              "#d8576b"
             ],
             [
              0.6666666666666666,
              "#ed7953"
             ],
             [
              0.7777777777777778,
              "#fb9f3a"
             ],
             [
              0.8888888888888888,
              "#fdca26"
             ],
             [
              1,
              "#f0f921"
             ]
            ],
            "type": "histogram2dcontour"
           }
          ],
          "mesh3d": [
           {
            "colorbar": {
             "outlinewidth": 0,
             "ticks": ""
            },
            "type": "mesh3d"
           }
          ],
          "parcoords": [
           {
            "line": {
             "colorbar": {
              "outlinewidth": 0,
              "ticks": ""
             }
            },
            "type": "parcoords"
           }
          ],
          "pie": [
           {
            "automargin": true,
            "type": "pie"
           }
          ],
          "scatter": [
           {
            "fillpattern": {
             "fillmode": "overlay",
             "size": 10,
             "solidity": 0.2
            },
            "type": "scatter"
           }
          ],
          "scatter3d": [
           {
            "line": {
             "colorbar": {
              "outlinewidth": 0,
              "ticks": ""
             }
            },
            "marker": {
             "colorbar": {
              "outlinewidth": 0,
              "ticks": ""
             }
            },
            "type": "scatter3d"
           }
          ],
          "scattercarpet": [
           {
            "marker": {
             "colorbar": {
              "outlinewidth": 0,
              "ticks": ""
             }
            },
            "type": "scattercarpet"
           }
          ],
          "scattergeo": [
           {
            "marker": {
             "colorbar": {
              "outlinewidth": 0,
              "ticks": ""
             }
            },
            "type": "scattergeo"
           }
          ],
          "scattergl": [
           {
            "marker": {
             "colorbar": {
              "outlinewidth": 0,
              "ticks": ""
             }
            },
            "type": "scattergl"
           }
          ],
          "scattermapbox": [
           {
            "marker": {
             "colorbar": {
              "outlinewidth": 0,
              "ticks": ""
             }
            },
            "type": "scattermapbox"
           }
          ],
          "scatterpolar": [
           {
            "marker": {
             "colorbar": {
              "outlinewidth": 0,
              "ticks": ""
             }
            },
            "type": "scatterpolar"
           }
          ],
          "scatterpolargl": [
           {
            "marker": {
             "colorbar": {
              "outlinewidth": 0,
              "ticks": ""
             }
            },
            "type": "scatterpolargl"
           }
          ],
          "scatterternary": [
           {
            "marker": {
             "colorbar": {
              "outlinewidth": 0,
              "ticks": ""
             }
            },
            "type": "scatterternary"
           }
          ],
          "surface": [
           {
            "colorbar": {
             "outlinewidth": 0,
             "ticks": ""
            },
            "colorscale": [
             [
              0,
              "#0d0887"
             ],
             [
              0.1111111111111111,
              "#46039f"
             ],
             [
              0.2222222222222222,
              "#7201a8"
             ],
             [
              0.3333333333333333,
              "#9c179e"
             ],
             [
              0.4444444444444444,
              "#bd3786"
             ],
             [
              0.5555555555555556,
              "#d8576b"
             ],
             [
              0.6666666666666666,
              "#ed7953"
             ],
             [
              0.7777777777777778,
              "#fb9f3a"
             ],
             [
              0.8888888888888888,
              "#fdca26"
             ],
             [
              1,
              "#f0f921"
             ]
            ],
            "type": "surface"
           }
          ],
          "table": [
           {
            "cells": {
             "fill": {
              "color": "#EBF0F8"
             },
             "line": {
              "color": "white"
             }
            },
            "header": {
             "fill": {
              "color": "#C8D4E3"
             },
             "line": {
              "color": "white"
             }
            },
            "type": "table"
           }
          ]
         },
         "layout": {
          "annotationdefaults": {
           "arrowcolor": "#2a3f5f",
           "arrowhead": 0,
           "arrowwidth": 1
          },
          "autotypenumbers": "strict",
          "coloraxis": {
           "colorbar": {
            "outlinewidth": 0,
            "ticks": ""
           }
          },
          "colorscale": {
           "diverging": [
            [
             0,
             "#8e0152"
            ],
            [
             0.1,
             "#c51b7d"
            ],
            [
             0.2,
             "#de77ae"
            ],
            [
             0.3,
             "#f1b6da"
            ],
            [
             0.4,
             "#fde0ef"
            ],
            [
             0.5,
             "#f7f7f7"
            ],
            [
             0.6,
             "#e6f5d0"
            ],
            [
             0.7,
             "#b8e186"
            ],
            [
             0.8,
             "#7fbc41"
            ],
            [
             0.9,
             "#4d9221"
            ],
            [
             1,
             "#276419"
            ]
           ],
           "sequential": [
            [
             0,
             "#0d0887"
            ],
            [
             0.1111111111111111,
             "#46039f"
            ],
            [
             0.2222222222222222,
             "#7201a8"
            ],
            [
             0.3333333333333333,
             "#9c179e"
            ],
            [
             0.4444444444444444,
             "#bd3786"
            ],
            [
             0.5555555555555556,
             "#d8576b"
            ],
            [
             0.6666666666666666,
             "#ed7953"
            ],
            [
             0.7777777777777778,
             "#fb9f3a"
            ],
            [
             0.8888888888888888,
             "#fdca26"
            ],
            [
             1,
             "#f0f921"
            ]
           ],
           "sequentialminus": [
            [
             0,
             "#0d0887"
            ],
            [
             0.1111111111111111,
             "#46039f"
            ],
            [
             0.2222222222222222,
             "#7201a8"
            ],
            [
             0.3333333333333333,
             "#9c179e"
            ],
            [
             0.4444444444444444,
             "#bd3786"
            ],
            [
             0.5555555555555556,
             "#d8576b"
            ],
            [
             0.6666666666666666,
             "#ed7953"
            ],
            [
             0.7777777777777778,
             "#fb9f3a"
            ],
            [
             0.8888888888888888,
             "#fdca26"
            ],
            [
             1,
             "#f0f921"
            ]
           ]
          },
          "colorway": [
           "#636efa",
           "#EF553B",
           "#00cc96",
           "#ab63fa",
           "#FFA15A",
           "#19d3f3",
           "#FF6692",
           "#B6E880",
           "#FF97FF",
           "#FECB52"
          ],
          "font": {
           "color": "#2a3f5f"
          },
          "geo": {
           "bgcolor": "white",
           "lakecolor": "white",
           "landcolor": "#E5ECF6",
           "showlakes": true,
           "showland": true,
           "subunitcolor": "white"
          },
          "hoverlabel": {
           "align": "left"
          },
          "hovermode": "closest",
          "mapbox": {
           "style": "light"
          },
          "paper_bgcolor": "white",
          "plot_bgcolor": "#E5ECF6",
          "polar": {
           "angularaxis": {
            "gridcolor": "white",
            "linecolor": "white",
            "ticks": ""
           },
           "bgcolor": "#E5ECF6",
           "radialaxis": {
            "gridcolor": "white",
            "linecolor": "white",
            "ticks": ""
           }
          },
          "scene": {
           "xaxis": {
            "backgroundcolor": "#E5ECF6",
            "gridcolor": "white",
            "gridwidth": 2,
            "linecolor": "white",
            "showbackground": true,
            "ticks": "",
            "zerolinecolor": "white"
           },
           "yaxis": {
            "backgroundcolor": "#E5ECF6",
            "gridcolor": "white",
            "gridwidth": 2,
            "linecolor": "white",
            "showbackground": true,
            "ticks": "",
            "zerolinecolor": "white"
           },
           "zaxis": {
            "backgroundcolor": "#E5ECF6",
            "gridcolor": "white",
            "gridwidth": 2,
            "linecolor": "white",
            "showbackground": true,
            "ticks": "",
            "zerolinecolor": "white"
           }
          },
          "shapedefaults": {
           "line": {
            "color": "#2a3f5f"
           }
          },
          "ternary": {
           "aaxis": {
            "gridcolor": "white",
            "linecolor": "white",
            "ticks": ""
           },
           "baxis": {
            "gridcolor": "white",
            "linecolor": "white",
            "ticks": ""
           },
           "bgcolor": "#E5ECF6",
           "caxis": {
            "gridcolor": "white",
            "linecolor": "white",
            "ticks": ""
           }
          },
          "title": {
           "x": 0.05
          },
          "xaxis": {
           "automargin": true,
           "gridcolor": "white",
           "linecolor": "white",
           "ticks": "",
           "title": {
            "standoff": 15
           },
           "zerolinecolor": "white",
           "zerolinewidth": 2
          },
          "yaxis": {
           "automargin": true,
           "gridcolor": "white",
           "linecolor": "white",
           "ticks": "",
           "title": {
            "standoff": 15
           },
           "zerolinecolor": "white",
           "zerolinewidth": 2
          }
         }
        },
        "updatemenus": [
         {
          "buttons": [
           {
            "args": [
             null,
             {
              "frame": {
               "duration": 500,
               "redraw": false
              },
              "fromcurrent": true,
              "mode": "immediate",
              "transition": {
               "duration": 500,
               "easing": "linear"
              }
             }
            ],
            "label": "&#9654;",
            "method": "animate"
           },
           {
            "args": [
             [
              null
             ],
             {
              "frame": {
               "duration": 0,
               "redraw": false
              },
              "fromcurrent": true,
              "mode": "immediate",
              "transition": {
               "duration": 0,
               "easing": "linear"
              }
             }
            ],
            "label": "&#9724;",
            "method": "animate"
           }
          ],
          "direction": "left",
          "pad": {
           "r": 10,
           "t": 70
          },
          "showactive": false,
          "type": "buttons",
          "x": 0.1,
          "xanchor": "right",
          "y": 0,
          "yanchor": "top"
         }
        ],
        "xaxis": {
         "anchor": "y",
         "domain": [
          0,
          1
         ],
         "range": [
          -30,
          30
         ],
         "title": {
          "text": "x"
         }
        },
        "yaxis": {
         "anchor": "x",
         "domain": [
          0,
          1
         ],
         "range": [
          -30,
          30
         ],
         "title": {
          "text": "y"
         }
        }
       }
      }
     },
     "metadata": {},
     "output_type": "display_data"
    }
   ],
   "source": [
    "df = pd.DataFrame(columns=['x', 'y', 'fitness', 'iter'])\n",
    "\n",
    "for i in range(3):\n",
    "    init = (np.random.rand(20, 2) * 60) - 30\n",
    "    fit = genetico(init, esfera).reshape(-1,1)\n",
    "    iter = np.tile([i], 20).reshape(-1, 1)\n",
    "    init = np.concatenate((init, fit, iter), axis=1)\n",
    "    df = pd.concat([df, pd.DataFrame(init, columns=df.columns)]).reset_index(drop=True)\n",
    "\n",
    "fig = px.scatter(df, x='x', y='y', color='fitness', animation_frame='iter',\n",
    "                 range_y=[-30, 30], range_x=[-30, 30])\n",
    "fig.show()"
   ]
  },
  {
   "attachments": {},
   "cell_type": "markdown",
   "metadata": {},
   "source": [
    "Enxame de Partículas:"
   ]
  },
  {
   "cell_type": "code",
   "execution_count": null,
   "metadata": {},
   "outputs": [],
   "source": []
  },
  {
   "attachments": {},
   "cell_type": "markdown",
   "metadata": {},
   "source": [
    "## **Exercício 01 - Gradiente**"
   ]
  },
  {
   "attachments": {},
   "cell_type": "markdown",
   "metadata": {},
   "source": [
    "### 1. Otimização da esfera em $\\mathbb{R}^{2}$ com 20 inicializações:"
   ]
  },
  {
   "attachments": {},
   "cell_type": "markdown",
   "metadata": {},
   "source": [
    "Caso 1.1: $\\alpha$ = 0.1, treinamento por 30 iterações"
   ]
  },
  {
   "cell_type": "code",
   "execution_count": 30,
   "metadata": {},
   "outputs": [
    {
     "data": {
      "application/vnd.plotly.v1+json": {
       "config": {
        "plotlyServerURL": "https://plot.ly"
       },
       "data": [
        {
         "hovertemplate": "variable=0<br>index=%{x}<br>value=%{y}<extra></extra>",
         "legendgroup": "0",
         "line": {
          "color": "#636efa",
          "dash": "solid"
         },
         "marker": {
          "symbol": "circle"
         },
         "mode": "lines",
         "name": "0",
         "orientation": "v",
         "showlegend": true,
         "type": "scatter",
         "x": [
          0,
          1,
          2,
          3,
          4,
          5,
          6,
          7,
          8,
          9,
          10,
          11,
          12,
          13,
          14,
          15,
          16,
          17,
          18,
          19,
          20,
          21,
          22,
          23,
          24,
          25,
          26,
          27,
          28,
          29,
          30
         ],
         "xaxis": "x",
         "y": [
          154.42335099216066,
          98.83094463498283,
          63.25180456638901,
          40.48115492248897,
          25.907939150392938,
          16.581081056251477,
          10.611891876000948,
          6.7916108006406075,
          4.346630912409989,
          2.781843783942393,
          1.7803800217231314,
          1.1394432139028041,
          0.7292436568977947,
          0.46671594041458864,
          0.2986982018653367,
          0.19116684919381546,
          0.12234678348404189,
          0.0783019414297868,
          0.05011324251506355,
          0.032072475209640676,
          0.02052638413417003,
          0.013136885845868822,
          0.008407606941356043,
          0.005380868442467868,
          0.003443755803179436,
          0.002204003714034839,
          0.0014105623769822967,
          0.00090275992126867,
          0.0005777663496119488,
          0.0003697704637516473,
          0.00023665309680105423
         ],
         "yaxis": "y"
        },
        {
         "hovertemplate": "variable=1<br>index=%{x}<br>value=%{y}<extra></extra>",
         "legendgroup": "1",
         "line": {
          "color": "#EF553B",
          "dash": "solid"
         },
         "marker": {
          "symbol": "circle"
         },
         "mode": "lines",
         "name": "1",
         "orientation": "v",
         "showlegend": true,
         "type": "scatter",
         "x": [
          0,
          1,
          2,
          3,
          4,
          5,
          6,
          7,
          8,
          9,
          10,
          11,
          12,
          13,
          14,
          15,
          16,
          17,
          18,
          19,
          20,
          21,
          22,
          23,
          24,
          25,
          26,
          27,
          28,
          29,
          30
         ],
         "xaxis": "x",
         "y": [
          20.377010116758214,
          13.041286474725256,
          8.346423343824164,
          5.341710940047465,
          3.418695001630377,
          2.1879648010434414,
          1.4002974726678026,
          0.8961903825073938,
          0.573561844804732,
          0.36707958067502855,
          0.23493093163201828,
          0.15035579624449166,
          0.09622770959647466,
          0.06158573414174378,
          0.03941486985071602,
          0.025225516704458252,
          0.016144330690853276,
          0.010332371642146097,
          0.006612717850973502,
          0.004232139424623042,
          0.002708569231758747,
          0.001733484308325598,
          0.0011094299573283827,
          0.0007100351726901648,
          0.00045442251052170554,
          0.0002908304067338915,
          0.0001861314603096906,
          0.00011912413459820196,
          0.00007623944614284927,
          0.000048793245531423527,
          0.000031227677140111064
         ],
         "yaxis": "y"
        },
        {
         "hovertemplate": "variable=2<br>index=%{x}<br>value=%{y}<extra></extra>",
         "legendgroup": "2",
         "line": {
          "color": "#00cc96",
          "dash": "solid"
         },
         "marker": {
          "symbol": "circle"
         },
         "mode": "lines",
         "name": "2",
         "orientation": "v",
         "showlegend": true,
         "type": "scatter",
         "x": [
          0,
          1,
          2,
          3,
          4,
          5,
          6,
          7,
          8,
          9,
          10,
          11,
          12,
          13,
          14,
          15,
          16,
          17,
          18,
          19,
          20,
          21,
          22,
          23,
          24,
          25,
          26,
          27,
          28,
          29,
          30
         ],
         "xaxis": "x",
         "y": [
          463.73312098132646,
          296.7891974280489,
          189.94508635395133,
          121.56485526652887,
          77.80150737057846,
          49.79296471717022,
          31.86749741898894,
          20.39519834815292,
          13.052926942817868,
          8.353873243403436,
          5.3464788757782,
          3.4217464804980473,
          2.1899177475187503,
          1.4015473584120002,
          0.8969903093836802,
          0.5740737980055554,
          0.36740723072355547,
          0.23514062766307547,
          0.1504900017043683,
          0.0963136010907957,
          0.061640704698109255,
          0.03945005100678993,
          0.02524803264434555,
          0.01615874089238115,
          0.010341594171123937,
          0.006618620269519319,
          0.004235916972492365,
          0.002710986862395113,
          0.0017350315919328725,
          0.0011104202188370383,
          0.0007106689400557045
         ],
         "yaxis": "y"
        },
        {
         "hovertemplate": "variable=3<br>index=%{x}<br>value=%{y}<extra></extra>",
         "legendgroup": "3",
         "line": {
          "color": "#ab63fa",
          "dash": "solid"
         },
         "marker": {
          "symbol": "circle"
         },
         "mode": "lines",
         "name": "3",
         "orientation": "v",
         "showlegend": true,
         "type": "scatter",
         "x": [
          0,
          1,
          2,
          3,
          4,
          5,
          6,
          7,
          8,
          9,
          10,
          11,
          12,
          13,
          14,
          15,
          16,
          17,
          18,
          19,
          20,
          21,
          22,
          23,
          24,
          25,
          26,
          27,
          28,
          29,
          30
         ],
         "xaxis": "x",
         "y": [
          485.6359155038264,
          310.8069859224489,
          198.91647099036734,
          127.3065414338351,
          81.47618651765444,
          52.144759371298846,
          33.37264599763126,
          21.358493438484004,
          13.669435800629762,
          8.748438912403047,
          5.5990009039379505,
          3.5833605785202884,
          2.2933507702529847,
          1.4677444929619101,
          0.9393564754956225,
          0.6011881443171982,
          0.38476041236300695,
          0.24624666391232441,
          0.1575978649038876,
          0.10086263353848807,
          0.06455208546463237,
          0.041313334697364715,
          0.02644053420631342,
          0.01692194189204059,
          0.010830042810905976,
          0.006931227398979825,
          0.004435985535347088,
          0.002839030742622136,
          0.001816979675278167,
          0.0011628669921780268,
          0.0007442348749939372
         ],
         "yaxis": "y"
        },
        {
         "hovertemplate": "variable=4<br>index=%{x}<br>value=%{y}<extra></extra>",
         "legendgroup": "4",
         "line": {
          "color": "#FFA15A",
          "dash": "solid"
         },
         "marker": {
          "symbol": "circle"
         },
         "mode": "lines",
         "name": "4",
         "orientation": "v",
         "showlegend": true,
         "type": "scatter",
         "x": [
          0,
          1,
          2,
          3,
          4,
          5,
          6,
          7,
          8,
          9,
          10,
          11,
          12,
          13,
          14,
          15,
          16,
          17,
          18,
          19,
          20,
          21,
          22,
          23,
          24,
          25,
          26,
          27,
          28,
          29,
          30
         ],
         "xaxis": "x",
         "y": [
          172.25365362578805,
          110.24233832050437,
          70.55509652512279,
          45.15526177607859,
          28.899367536690303,
          18.495595223481793,
          11.837180943028347,
          7.575795803538142,
          4.848509314264412,
          3.1030459611292227,
          1.9859494151227026,
          1.2710076256785294,
          0.813444880434259,
          0.5206047234779257,
          0.33318702302587244,
          0.21323969473655838,
          0.13647340463139737,
          0.08734297896409432,
          0.05589950653702037,
          0.03577568418369304,
          0.02289643787756354,
          0.014653720241640668,
          0.00937838095465003,
          0.0060021638109760194,
          0.0038413848390246516,
          0.0024584862969757775,
          0.001573431230064498,
          0.0010069959872412786,
          0.0006444774318344184,
          0.0004124655563740278,
          0.00026397795607937776
         ],
         "yaxis": "y"
        },
        {
         "hovertemplate": "variable=5<br>index=%{x}<br>value=%{y}<extra></extra>",
         "legendgroup": "5",
         "line": {
          "color": "#19d3f3",
          "dash": "solid"
         },
         "marker": {
          "symbol": "circle"
         },
         "mode": "lines",
         "name": "5",
         "orientation": "v",
         "showlegend": true,
         "type": "scatter",
         "x": [
          0,
          1,
          2,
          3,
          4,
          5,
          6,
          7,
          8,
          9,
          10,
          11,
          12,
          13,
          14,
          15,
          16,
          17,
          18,
          19,
          20,
          21,
          22,
          23,
          24,
          25,
          26,
          27,
          28,
          29,
          30
         ],
         "xaxis": "x",
         "y": [
          150.70986789799952,
          96.45431545471968,
          61.730761891020606,
          39.50768761025318,
          25.284920070562034,
          16.1823488451597,
          10.356703260902211,
          6.6282900869774135,
          4.2421056556655445,
          2.7149476196259488,
          1.7375664765606071,
          1.1120425449987885,
          0.7117072287992248,
          0.45549262643150384,
          0.29151528091616247,
          0.18656977978634395,
          0.11940465906326014,
          0.0764189818004865,
          0.04890814835231136,
          0.031301214945479265,
          0.020032777565106734,
          0.01282097764166831,
          0.00820542569066772,
          0.005251472442027339,
          0.0033609423628974972,
          0.002151003112254398,
          0.001376641991842815,
          0.0008810508747794015,
          0.0005638725598588168,
          0.00036087843830964284,
          0.00023096220051817138
         ],
         "yaxis": "y"
        },
        {
         "hovertemplate": "variable=6<br>index=%{x}<br>value=%{y}<extra></extra>",
         "legendgroup": "6",
         "line": {
          "color": "#FF6692",
          "dash": "solid"
         },
         "marker": {
          "symbol": "circle"
         },
         "mode": "lines",
         "name": "6",
         "orientation": "v",
         "showlegend": true,
         "type": "scatter",
         "x": [
          0,
          1,
          2,
          3,
          4,
          5,
          6,
          7,
          8,
          9,
          10,
          11,
          12,
          13,
          14,
          15,
          16,
          17,
          18,
          19,
          20,
          21,
          22,
          23,
          24,
          25,
          26,
          27,
          28,
          29,
          30
         ],
         "xaxis": "x",
         "y": [
          492.93645194579346,
          315.4793292453078,
          201.906770716997,
          129.2203332588781,
          82.70101328568197,
          52.92864850283647,
          33.87433504181534,
          21.679574426761818,
          13.874927633127562,
          8.879953685201638,
          5.683170358529049,
          3.6372290294585916,
          2.3278265788534984,
          1.4898090104662391,
          0.9534777666983929,
          0.6102257706869715,
          0.39054449323966167,
          0.24994847567338352,
          0.15996702443096542,
          0.10237889563581787,
          0.06552249320692344,
          0.04193439565243099,
          0.026838013217555832,
          0.017176328459235734,
          0.01099285021391087,
          0.007035424136902956,
          0.004502671447617892,
          0.0028817097264754515,
          0.0018442942249442891,
          0.001180348303964345,
          0.0007554229145371807
         ],
         "yaxis": "y"
        },
        {
         "hovertemplate": "variable=7<br>index=%{x}<br>value=%{y}<extra></extra>",
         "legendgroup": "7",
         "line": {
          "color": "#B6E880",
          "dash": "solid"
         },
         "marker": {
          "symbol": "circle"
         },
         "mode": "lines",
         "name": "7",
         "orientation": "v",
         "showlegend": true,
         "type": "scatter",
         "x": [
          0,
          1,
          2,
          3,
          4,
          5,
          6,
          7,
          8,
          9,
          10,
          11,
          12,
          13,
          14,
          15,
          16,
          17,
          18,
          19,
          20,
          21,
          22,
          23,
          24,
          25,
          26,
          27,
          28,
          29,
          30
         ],
         "xaxis": "x",
         "y": [
          804.8292085009313,
          515.0906934405959,
          329.6580438019814,
          210.9811480332681,
          135.02793474129157,
          86.41787823442662,
          55.307442070033034,
          35.39676292482114,
          22.653928271885533,
          14.49851409400674,
          9.279049020164313,
          5.938591372905162,
          3.8006984786593034,
          2.432447026341954,
          1.5567660968588508,
          0.9963303019896644,
          0.6376513932733852,
          0.40809689169496655,
          0.2611820106847786,
          0.16715648683825832,
          0.10698015157648531,
          0.0684672970089506,
          0.043819070085728384,
          0.028044204854866164,
          0.017948291107114347,
          0.011486906308553183,
          0.007351620037474037,
          0.004705036823983384,
          0.0030112235673493658,
          0.0019271830831035942,
          0.0012333971731863002
         ],
         "yaxis": "y"
        },
        {
         "hovertemplate": "variable=8<br>index=%{x}<br>value=%{y}<extra></extra>",
         "legendgroup": "8",
         "line": {
          "color": "#FF97FF",
          "dash": "solid"
         },
         "marker": {
          "symbol": "circle"
         },
         "mode": "lines",
         "name": "8",
         "orientation": "v",
         "showlegend": true,
         "type": "scatter",
         "x": [
          0,
          1,
          2,
          3,
          4,
          5,
          6,
          7,
          8,
          9,
          10,
          11,
          12,
          13,
          14,
          15,
          16,
          17,
          18,
          19,
          20,
          21,
          22,
          23,
          24,
          25,
          26,
          27,
          28,
          29,
          30
         ],
         "xaxis": "x",
         "y": [
          970.4177727671816,
          621.0673745709963,
          397.48311972543763,
          254.38919662428006,
          162.80908583953925,
          104.19781493730514,
          66.68660155987529,
          42.67942499832019,
          27.314831998924916,
          17.481492479311946,
          11.188155186759646,
          7.160419319526174,
          4.582668364496751,
          2.932907753277921,
          1.8770609620978695,
          1.2013190157426363,
          0.7688441700752874,
          0.4920602688481839,
          0.3149185720628377,
          0.20154788612021615,
          0.12899064711693833,
          0.08255401415484054,
          0.05283456905909793,
          0.03381412419782268,
          0.021641039486606516,
          0.01385026527142817,
          0.008864169773714028,
          0.005673068655176978,
          0.0036307639393132665,
          0.0023236889211604907,
          0.001487160909542714
         ],
         "yaxis": "y"
        },
        {
         "hovertemplate": "variable=9<br>index=%{x}<br>value=%{y}<extra></extra>",
         "legendgroup": "9",
         "line": {
          "color": "#FECB52",
          "dash": "solid"
         },
         "marker": {
          "symbol": "circle"
         },
         "mode": "lines",
         "name": "9",
         "orientation": "v",
         "showlegend": true,
         "type": "scatter",
         "x": [
          0,
          1,
          2,
          3,
          4,
          5,
          6,
          7,
          8,
          9,
          10,
          11,
          12,
          13,
          14,
          15,
          16,
          17,
          18,
          19,
          20,
          21,
          22,
          23,
          24,
          25,
          26,
          27,
          28,
          29,
          30
         ],
         "xaxis": "x",
         "y": [
          227.66875741501417,
          145.7080047456091,
          93.2531230371898,
          59.68199874380147,
          38.19647919603293,
          24.445746685461074,
          15.645277878695088,
          10.012977842364856,
          6.408305819113509,
          4.101315724232646,
          2.6248420635088934,
          1.679898920645692,
          1.0751353092132427,
          0.6880865978964753,
          0.4403754226537442,
          0.2818402704983962,
          0.18037777311897357,
          0.11544177479614307,
          0.07388273586953156,
          0.0472849509565002,
          0.030262368612160126,
          0.01936791591178248,
          0.012395466183540786,
          0.007933098357466101,
          0.005077182948778305,
          0.0032493970872181153,
          0.0020796141358195934,
          0.0013309530469245402,
          0.0008518099500317056,
          0.0005451583680202917,
          0.00034890135553298666
         ],
         "yaxis": "y"
        },
        {
         "hovertemplate": "variable=10<br>index=%{x}<br>value=%{y}<extra></extra>",
         "legendgroup": "10",
         "line": {
          "color": "#636efa",
          "dash": "solid"
         },
         "marker": {
          "symbol": "circle"
         },
         "mode": "lines",
         "name": "10",
         "orientation": "v",
         "showlegend": true,
         "type": "scatter",
         "x": [
          0,
          1,
          2,
          3,
          4,
          5,
          6,
          7,
          8,
          9,
          10,
          11,
          12,
          13,
          14,
          15,
          16,
          17,
          18,
          19,
          20,
          21,
          22,
          23,
          24,
          25,
          26,
          27,
          28,
          29,
          30
         ],
         "xaxis": "x",
         "y": [
          175.49770763694346,
          112.31853288764381,
          71.88386104809203,
          46.0056710707789,
          29.443629485298498,
          18.843922870591037,
          12.060110637178262,
          7.718470807794088,
          4.939821316988216,
          3.161485642872459,
          2.023350811438374,
          1.294944519320559,
          0.8287644923651579,
          0.5304092751137011,
          0.33946193607276864,
          0.21725563908657197,
          0.13904360901540602,
          0.08898790976985987,
          0.056952262252710315,
          0.0364494478417346,
          0.023327646618710146,
          0.014929693835974494,
          0.009555004055023675,
          0.0061152025952151525,
          0.003913729660937696,
          0.0025047869830001263,
          0.0016030636691200808,
          0.0010259607482368518,
          0.0006566148788715851,
          0.0004202335224778145,
          0.00026894945438580127
         ],
         "yaxis": "y"
        },
        {
         "hovertemplate": "variable=11<br>index=%{x}<br>value=%{y}<extra></extra>",
         "legendgroup": "11",
         "line": {
          "color": "#EF553B",
          "dash": "solid"
         },
         "marker": {
          "symbol": "circle"
         },
         "mode": "lines",
         "name": "11",
         "orientation": "v",
         "showlegend": true,
         "type": "scatter",
         "x": [
          0,
          1,
          2,
          3,
          4,
          5,
          6,
          7,
          8,
          9,
          10,
          11,
          12,
          13,
          14,
          15,
          16,
          17,
          18,
          19,
          20,
          21,
          22,
          23,
          24,
          25,
          26,
          27,
          28,
          29,
          30
         ],
         "xaxis": "x",
         "y": [
          611.3827761133577,
          391.28497671254894,
          250.42238509603135,
          160.27032646146006,
          102.57300893533444,
          65.64672571861405,
          42.01390445991299,
          26.888898854344312,
          17.20889526678036,
          11.01369297073943,
          7.0487635012732355,
          4.511208640814871,
          2.8871735301215176,
          1.8477910592777713,
          1.1825862779377734,
          0.756855217880175,
          0.4843873394433119,
          0.3100078972437197,
          0.1984050542359806,
          0.1269792347110276,
          0.08126671021505767,
          0.05201069453763691,
          0.03328684450408763,
          0.02130358048261608,
          0.013634291508874293,
          0.008725946565679547,
          0.00558460580203491,
          0.0035741477133023423,
          0.0022874545365134994,
          0.0014639709033686392,
          0.0009369413781559292
         ],
         "yaxis": "y"
        },
        {
         "hovertemplate": "variable=12<br>index=%{x}<br>value=%{y}<extra></extra>",
         "legendgroup": "12",
         "line": {
          "color": "#00cc96",
          "dash": "solid"
         },
         "marker": {
          "symbol": "circle"
         },
         "mode": "lines",
         "name": "12",
         "orientation": "v",
         "showlegend": true,
         "type": "scatter",
         "x": [
          0,
          1,
          2,
          3,
          4,
          5,
          6,
          7,
          8,
          9,
          10,
          11,
          12,
          13,
          14,
          15,
          16,
          17,
          18,
          19,
          20,
          21,
          22,
          23,
          24,
          25,
          26,
          27,
          28,
          29,
          30
         ],
         "xaxis": "x",
         "y": [
          439.50074808689044,
          281.28047877560994,
          180.01950641639036,
          115.21248410648985,
          73.73598982815349,
          47.19103349001824,
          30.202261433611675,
          19.329447317511473,
          12.370846283207342,
          7.9173416212527,
          5.0670986376017275,
          3.242943128065106,
          2.0754836019616674,
          1.3283095052554674,
          0.8501180833634991,
          0.5440755733526395,
          0.3482083669456893,
          0.22285335484524116,
          0.14262614710095434,
          0.09128073414461077,
          0.058419669852550885,
          0.03738858870563257,
          0.02392869677160484,
          0.015314365933827095,
          0.009801194197649342,
          0.006272764286495578,
          0.00401456914335717,
          0.0025693242517485886,
          0.0016443675211190965,
          0.0010523952135162217,
          0.0006735329366503819
         ],
         "yaxis": "y"
        },
        {
         "hovertemplate": "variable=13<br>index=%{x}<br>value=%{y}<extra></extra>",
         "legendgroup": "13",
         "line": {
          "color": "#ab63fa",
          "dash": "solid"
         },
         "marker": {
          "symbol": "circle"
         },
         "mode": "lines",
         "name": "13",
         "orientation": "v",
         "showlegend": true,
         "type": "scatter",
         "x": [
          0,
          1,
          2,
          3,
          4,
          5,
          6,
          7,
          8,
          9,
          10,
          11,
          12,
          13,
          14,
          15,
          16,
          17,
          18,
          19,
          20,
          21,
          22,
          23,
          24,
          25,
          26,
          27,
          28,
          29,
          30
         ],
         "xaxis": "x",
         "y": [
          49.408297988491235,
          31.621310712634386,
          20.237638856086008,
          12.952088867895041,
          8.289336875452827,
          5.305175600289808,
          3.3953123841854773,
          2.1729999258787056,
          1.3907199525623715,
          0.8900607696399178,
          0.5696388925695474,
          0.36456889124451036,
          0.23332409039648666,
          0.14932741785375145,
          0.0955695474264009,
          0.06116451035289658,
          0.03914528662585381,
          0.025052983440546434,
          0.016033909401949716,
          0.01026170201724782,
          0.006567489291038606,
          0.004203193146264707,
          0.002690043613609412,
          0.001721627912710024,
          0.0011018418641344152,
          0.0007051787930460256,
          0.00045131442754945637,
          0.0002888412336316521,
          0.00018485838952425734,
          0.00011830936929552471,
          0.0000757179963491358
         ],
         "yaxis": "y"
        },
        {
         "hovertemplate": "variable=14<br>index=%{x}<br>value=%{y}<extra></extra>",
         "legendgroup": "14",
         "line": {
          "color": "#FFA15A",
          "dash": "solid"
         },
         "marker": {
          "symbol": "circle"
         },
         "mode": "lines",
         "name": "14",
         "orientation": "v",
         "showlegend": true,
         "type": "scatter",
         "x": [
          0,
          1,
          2,
          3,
          4,
          5,
          6,
          7,
          8,
          9,
          10,
          11,
          12,
          13,
          14,
          15,
          16,
          17,
          18,
          19,
          20,
          21,
          22,
          23,
          24,
          25,
          26,
          27,
          28,
          29,
          30
         ],
         "xaxis": "x",
         "y": [
          743.2280453812912,
          475.6659490440264,
          304.42620738817686,
          194.83277272843318,
          124.69297454619723,
          79.80350370956624,
          51.07424237412239,
          32.68751511943832,
          20.92000967644053,
          13.38880619292194,
          8.568835963470042,
          5.484055016620827,
          3.5097952106373294,
          2.246268934807891,
          1.43761211827705,
          0.9200717556973119,
          0.5888459236462796,
          0.37686139113361894,
          0.24119129032551612,
          0.15436242580833032,
          0.0987919525173314,
          0.06322684961109211,
          0.04046518375109894,
          0.025897717600703328,
          0.01657453926445013,
          0.010607705129248083,
          0.0067889312827187735,
          0.004344916020940015,
          0.00278074625340161,
          0.0017796776021770306,
          0.0011389936653932995
         ],
         "yaxis": "y"
        },
        {
         "hovertemplate": "variable=15<br>index=%{x}<br>value=%{y}<extra></extra>",
         "legendgroup": "15",
         "line": {
          "color": "#19d3f3",
          "dash": "solid"
         },
         "marker": {
          "symbol": "circle"
         },
         "mode": "lines",
         "name": "15",
         "orientation": "v",
         "showlegend": true,
         "type": "scatter",
         "x": [
          0,
          1,
          2,
          3,
          4,
          5,
          6,
          7,
          8,
          9,
          10,
          11,
          12,
          13,
          14,
          15,
          16,
          17,
          18,
          19,
          20,
          21,
          22,
          23,
          24,
          25,
          26,
          27,
          28,
          29,
          30
         ],
         "xaxis": "x",
         "y": [
          730.3100319802752,
          467.3984204673761,
          299.1349890991208,
          191.4463930234373,
          122.52569153499986,
          78.41644258239992,
          50.186523252735945,
          32.119374881751,
          20.55639992432064,
          13.156095951565208,
          8.419901409001735,
          5.38873690176111,
          3.4487916171271102,
          2.2072266349613505,
          1.4126250463752645,
          0.9040800296801693,
          0.5786112189953083,
          0.3703111801569973,
          0.23699915530047827,
          0.15167945939230612,
          0.0970748540110759,
          0.062127906567088595,
          0.039761860202936705,
          0.02544759052987949,
          0.016286457939122874,
          0.010423333081038641,
          0.006670933171864731,
          0.004269397229993427,
          0.0027324142271957937,
          0.0017487451054053083,
          0.001119196867459397
         ],
         "yaxis": "y"
        },
        {
         "hovertemplate": "variable=16<br>index=%{x}<br>value=%{y}<extra></extra>",
         "legendgroup": "16",
         "line": {
          "color": "#FF6692",
          "dash": "solid"
         },
         "marker": {
          "symbol": "circle"
         },
         "mode": "lines",
         "name": "16",
         "orientation": "v",
         "showlegend": true,
         "type": "scatter",
         "x": [
          0,
          1,
          2,
          3,
          4,
          5,
          6,
          7,
          8,
          9,
          10,
          11,
          12,
          13,
          14,
          15,
          16,
          17,
          18,
          19,
          20,
          21,
          22,
          23,
          24,
          25,
          26,
          27,
          28,
          29,
          30
         ],
         "xaxis": "x",
         "y": [
          1382.5928796938942,
          884.8594430040922,
          566.310043522619,
          362.4384278544761,
          231.96059382686468,
          148.4547800491934,
          95.0110592314838,
          60.80707790814964,
          38.916529861215764,
          24.90657911117809,
          15.94021063115398,
          10.201734803938548,
          6.52911027452067,
          4.178630575693229,
          2.6743235684436666,
          1.7115670838039465,
          1.0954029336345257,
          0.7010578775260964,
          0.4486770416167017,
          0.2871533066346891,
          0.18377811624620102,
          0.11761799439756865,
          0.07527551641444394,
          0.048176330505244114,
          0.030832851523356235,
          0.019733024974947992,
          0.012629135983966713,
          0.008082647029738696,
          0.005172894099032765,
          0.00331065222338097,
          0.0021188174229638205
         ],
         "yaxis": "y"
        },
        {
         "hovertemplate": "variable=17<br>index=%{x}<br>value=%{y}<extra></extra>",
         "legendgroup": "17",
         "line": {
          "color": "#B6E880",
          "dash": "solid"
         },
         "marker": {
          "symbol": "circle"
         },
         "mode": "lines",
         "name": "17",
         "orientation": "v",
         "showlegend": true,
         "type": "scatter",
         "x": [
          0,
          1,
          2,
          3,
          4,
          5,
          6,
          7,
          8,
          9,
          10,
          11,
          12,
          13,
          14,
          15,
          16,
          17,
          18,
          19,
          20,
          21,
          22,
          23,
          24,
          25,
          26,
          27,
          28,
          29,
          30
         ],
         "xaxis": "x",
         "y": [
          597.4690286311356,
          382.3801783239269,
          244.7233141273132,
          156.62292104148045,
          100.23866946654748,
          64.1527484585904,
          41.05775901349785,
          26.276965768638625,
          16.817258091928718,
          10.76304517883438,
          6.888348914454003,
          4.4085433052505625,
          2.82146771536036,
          1.8057393378306303,
          1.1556731762116033,
          0.7396308327754261,
          0.47336373297627277,
          0.30295278910481455,
          0.19388978502708132,
          0.12408946241733203,
          0.07941725594709248,
          0.05082704380613919,
          0.032529308035929086,
          0.020818757142994613,
          0.013324004571516553,
          0.008527362925770594,
          0.005457512272493181,
          0.003492807854395636,
          0.002235397026813207,
          0.0014306540971604524,
          0.0009156186221826896
         ],
         "yaxis": "y"
        },
        {
         "hovertemplate": "variable=18<br>index=%{x}<br>value=%{y}<extra></extra>",
         "legendgroup": "18",
         "line": {
          "color": "#FF97FF",
          "dash": "solid"
         },
         "marker": {
          "symbol": "circle"
         },
         "mode": "lines",
         "name": "18",
         "orientation": "v",
         "showlegend": true,
         "type": "scatter",
         "x": [
          0,
          1,
          2,
          3,
          4,
          5,
          6,
          7,
          8,
          9,
          10,
          11,
          12,
          13,
          14,
          15,
          16,
          17,
          18,
          19,
          20,
          21,
          22,
          23,
          24,
          25,
          26,
          27,
          28,
          29,
          30
         ],
         "xaxis": "x",
         "y": [
          289.3235752833897,
          185.16708818136942,
          118.50693643607642,
          75.8444393190889,
          48.5404411642169,
          31.065882345098814,
          19.88216470086324,
          12.724585408552475,
          8.143734661473582,
          5.211990183343094,
          3.3356737173395796,
          2.134831179097331,
          1.366291954622292,
          0.8744268509582668,
          0.5596331846132907,
          0.358165238152506,
          0.2292257524176039,
          0.14670448154726648,
          0.09389086819025054,
          0.06009015564176034,
          0.03845769961072662,
          0.024612927750865033,
          0.015752273760553624,
          0.010081455206754318,
          0.006452131332322763,
          0.004129364052686569,
          0.0026427929937194033,
          0.0016913875159804183,
          0.001082488010227468,
          0.0006927923265455794,
          0.00044338708898917074
         ],
         "yaxis": "y"
        },
        {
         "hovertemplate": "variable=19<br>index=%{x}<br>value=%{y}<extra></extra>",
         "legendgroup": "19",
         "line": {
          "color": "#FECB52",
          "dash": "solid"
         },
         "marker": {
          "symbol": "circle"
         },
         "mode": "lines",
         "name": "19",
         "orientation": "v",
         "showlegend": true,
         "type": "scatter",
         "x": [
          0,
          1,
          2,
          3,
          4,
          5,
          6,
          7,
          8,
          9,
          10,
          11,
          12,
          13,
          14,
          15,
          16,
          17,
          18,
          19,
          20,
          21,
          22,
          23,
          24,
          25,
          26,
          27,
          28,
          29,
          30
         ],
         "xaxis": "x",
         "y": [
          160.87474955937668,
          102.95983971800108,
          65.89429741952068,
          42.17235034849324,
          26.990304223035672,
          17.27379470274283,
          11.055228609755412,
          7.075346310243463,
          4.5282216385558165,
          2.8980618486757224,
          1.8547595831524624,
          1.187046133217576,
          0.7597095252592485,
          0.48621409616591915,
          0.31117702154618826,
          0.19915329378956048,
          0.1274581080253187,
          0.08157318913620397,
          0.052206841047170535,
          0.03341237827018915,
          0.021383922092921056,
          0.013685710139469476,
          0.008758854489260464,
          0.005605666873126698,
          0.0035876267988010865,
          0.0022960811512326954,
          0.001469491936788925,
          0.0009404748395449121,
          0.0006019038973087438,
          0.00038521849427759606,
          0.0002465398363376615
         ],
         "yaxis": "y"
        }
       ],
       "layout": {
        "legend": {
         "title": {
          "text": "Inicialização"
         },
         "tracegroupgap": 0
        },
        "template": {
         "data": {
          "bar": [
           {
            "error_x": {
             "color": "#2a3f5f"
            },
            "error_y": {
             "color": "#2a3f5f"
            },
            "marker": {
             "line": {
              "color": "#E5ECF6",
              "width": 0.5
             },
             "pattern": {
              "fillmode": "overlay",
              "size": 10,
              "solidity": 0.2
             }
            },
            "type": "bar"
           }
          ],
          "barpolar": [
           {
            "marker": {
             "line": {
              "color": "#E5ECF6",
              "width": 0.5
             },
             "pattern": {
              "fillmode": "overlay",
              "size": 10,
              "solidity": 0.2
             }
            },
            "type": "barpolar"
           }
          ],
          "carpet": [
           {
            "aaxis": {
             "endlinecolor": "#2a3f5f",
             "gridcolor": "white",
             "linecolor": "white",
             "minorgridcolor": "white",
             "startlinecolor": "#2a3f5f"
            },
            "baxis": {
             "endlinecolor": "#2a3f5f",
             "gridcolor": "white",
             "linecolor": "white",
             "minorgridcolor": "white",
             "startlinecolor": "#2a3f5f"
            },
            "type": "carpet"
           }
          ],
          "choropleth": [
           {
            "colorbar": {
             "outlinewidth": 0,
             "ticks": ""
            },
            "type": "choropleth"
           }
          ],
          "contour": [
           {
            "colorbar": {
             "outlinewidth": 0,
             "ticks": ""
            },
            "colorscale": [
             [
              0,
              "#0d0887"
             ],
             [
              0.1111111111111111,
              "#46039f"
             ],
             [
              0.2222222222222222,
              "#7201a8"
             ],
             [
              0.3333333333333333,
              "#9c179e"
             ],
             [
              0.4444444444444444,
              "#bd3786"
             ],
             [
              0.5555555555555556,
              "#d8576b"
             ],
             [
              0.6666666666666666,
              "#ed7953"
             ],
             [
              0.7777777777777778,
              "#fb9f3a"
             ],
             [
              0.8888888888888888,
              "#fdca26"
             ],
             [
              1,
              "#f0f921"
             ]
            ],
            "type": "contour"
           }
          ],
          "contourcarpet": [
           {
            "colorbar": {
             "outlinewidth": 0,
             "ticks": ""
            },
            "type": "contourcarpet"
           }
          ],
          "heatmap": [
           {
            "colorbar": {
             "outlinewidth": 0,
             "ticks": ""
            },
            "colorscale": [
             [
              0,
              "#0d0887"
             ],
             [
              0.1111111111111111,
              "#46039f"
             ],
             [
              0.2222222222222222,
              "#7201a8"
             ],
             [
              0.3333333333333333,
              "#9c179e"
             ],
             [
              0.4444444444444444,
              "#bd3786"
             ],
             [
              0.5555555555555556,
              "#d8576b"
             ],
             [
              0.6666666666666666,
              "#ed7953"
             ],
             [
              0.7777777777777778,
              "#fb9f3a"
             ],
             [
              0.8888888888888888,
              "#fdca26"
             ],
             [
              1,
              "#f0f921"
             ]
            ],
            "type": "heatmap"
           }
          ],
          "heatmapgl": [
           {
            "colorbar": {
             "outlinewidth": 0,
             "ticks": ""
            },
            "colorscale": [
             [
              0,
              "#0d0887"
             ],
             [
              0.1111111111111111,
              "#46039f"
             ],
             [
              0.2222222222222222,
              "#7201a8"
             ],
             [
              0.3333333333333333,
              "#9c179e"
             ],
             [
              0.4444444444444444,
              "#bd3786"
             ],
             [
              0.5555555555555556,
              "#d8576b"
             ],
             [
              0.6666666666666666,
              "#ed7953"
             ],
             [
              0.7777777777777778,
              "#fb9f3a"
             ],
             [
              0.8888888888888888,
              "#fdca26"
             ],
             [
              1,
              "#f0f921"
             ]
            ],
            "type": "heatmapgl"
           }
          ],
          "histogram": [
           {
            "marker": {
             "pattern": {
              "fillmode": "overlay",
              "size": 10,
              "solidity": 0.2
             }
            },
            "type": "histogram"
           }
          ],
          "histogram2d": [
           {
            "colorbar": {
             "outlinewidth": 0,
             "ticks": ""
            },
            "colorscale": [
             [
              0,
              "#0d0887"
             ],
             [
              0.1111111111111111,
              "#46039f"
             ],
             [
              0.2222222222222222,
              "#7201a8"
             ],
             [
              0.3333333333333333,
              "#9c179e"
             ],
             [
              0.4444444444444444,
              "#bd3786"
             ],
             [
              0.5555555555555556,
              "#d8576b"
             ],
             [
              0.6666666666666666,
              "#ed7953"
             ],
             [
              0.7777777777777778,
              "#fb9f3a"
             ],
             [
              0.8888888888888888,
              "#fdca26"
             ],
             [
              1,
              "#f0f921"
             ]
            ],
            "type": "histogram2d"
           }
          ],
          "histogram2dcontour": [
           {
            "colorbar": {
             "outlinewidth": 0,
             "ticks": ""
            },
            "colorscale": [
             [
              0,
              "#0d0887"
             ],
             [
              0.1111111111111111,
              "#46039f"
             ],
             [
              0.2222222222222222,
              "#7201a8"
             ],
             [
              0.3333333333333333,
              "#9c179e"
             ],
             [
              0.4444444444444444,
              "#bd3786"
             ],
             [
              0.5555555555555556,
              "#d8576b"
             ],
             [
              0.6666666666666666,
              "#ed7953"
             ],
             [
              0.7777777777777778,
              "#fb9f3a"
             ],
             [
              0.8888888888888888,
              "#fdca26"
             ],
             [
              1,
              "#f0f921"
             ]
            ],
            "type": "histogram2dcontour"
           }
          ],
          "mesh3d": [
           {
            "colorbar": {
             "outlinewidth": 0,
             "ticks": ""
            },
            "type": "mesh3d"
           }
          ],
          "parcoords": [
           {
            "line": {
             "colorbar": {
              "outlinewidth": 0,
              "ticks": ""
             }
            },
            "type": "parcoords"
           }
          ],
          "pie": [
           {
            "automargin": true,
            "type": "pie"
           }
          ],
          "scatter": [
           {
            "fillpattern": {
             "fillmode": "overlay",
             "size": 10,
             "solidity": 0.2
            },
            "type": "scatter"
           }
          ],
          "scatter3d": [
           {
            "line": {
             "colorbar": {
              "outlinewidth": 0,
              "ticks": ""
             }
            },
            "marker": {
             "colorbar": {
              "outlinewidth": 0,
              "ticks": ""
             }
            },
            "type": "scatter3d"
           }
          ],
          "scattercarpet": [
           {
            "marker": {
             "colorbar": {
              "outlinewidth": 0,
              "ticks": ""
             }
            },
            "type": "scattercarpet"
           }
          ],
          "scattergeo": [
           {
            "marker": {
             "colorbar": {
              "outlinewidth": 0,
              "ticks": ""
             }
            },
            "type": "scattergeo"
           }
          ],
          "scattergl": [
           {
            "marker": {
             "colorbar": {
              "outlinewidth": 0,
              "ticks": ""
             }
            },
            "type": "scattergl"
           }
          ],
          "scattermapbox": [
           {
            "marker": {
             "colorbar": {
              "outlinewidth": 0,
              "ticks": ""
             }
            },
            "type": "scattermapbox"
           }
          ],
          "scatterpolar": [
           {
            "marker": {
             "colorbar": {
              "outlinewidth": 0,
              "ticks": ""
             }
            },
            "type": "scatterpolar"
           }
          ],
          "scatterpolargl": [
           {
            "marker": {
             "colorbar": {
              "outlinewidth": 0,
              "ticks": ""
             }
            },
            "type": "scatterpolargl"
           }
          ],
          "scatterternary": [
           {
            "marker": {
             "colorbar": {
              "outlinewidth": 0,
              "ticks": ""
             }
            },
            "type": "scatterternary"
           }
          ],
          "surface": [
           {
            "colorbar": {
             "outlinewidth": 0,
             "ticks": ""
            },
            "colorscale": [
             [
              0,
              "#0d0887"
             ],
             [
              0.1111111111111111,
              "#46039f"
             ],
             [
              0.2222222222222222,
              "#7201a8"
             ],
             [
              0.3333333333333333,
              "#9c179e"
             ],
             [
              0.4444444444444444,
              "#bd3786"
             ],
             [
              0.5555555555555556,
              "#d8576b"
             ],
             [
              0.6666666666666666,
              "#ed7953"
             ],
             [
              0.7777777777777778,
              "#fb9f3a"
             ],
             [
              0.8888888888888888,
              "#fdca26"
             ],
             [
              1,
              "#f0f921"
             ]
            ],
            "type": "surface"
           }
          ],
          "table": [
           {
            "cells": {
             "fill": {
              "color": "#EBF0F8"
             },
             "line": {
              "color": "white"
             }
            },
            "header": {
             "fill": {
              "color": "#C8D4E3"
             },
             "line": {
              "color": "white"
             }
            },
            "type": "table"
           }
          ]
         },
         "layout": {
          "annotationdefaults": {
           "arrowcolor": "#2a3f5f",
           "arrowhead": 0,
           "arrowwidth": 1
          },
          "autotypenumbers": "strict",
          "coloraxis": {
           "colorbar": {
            "outlinewidth": 0,
            "ticks": ""
           }
          },
          "colorscale": {
           "diverging": [
            [
             0,
             "#8e0152"
            ],
            [
             0.1,
             "#c51b7d"
            ],
            [
             0.2,
             "#de77ae"
            ],
            [
             0.3,
             "#f1b6da"
            ],
            [
             0.4,
             "#fde0ef"
            ],
            [
             0.5,
             "#f7f7f7"
            ],
            [
             0.6,
             "#e6f5d0"
            ],
            [
             0.7,
             "#b8e186"
            ],
            [
             0.8,
             "#7fbc41"
            ],
            [
             0.9,
             "#4d9221"
            ],
            [
             1,
             "#276419"
            ]
           ],
           "sequential": [
            [
             0,
             "#0d0887"
            ],
            [
             0.1111111111111111,
             "#46039f"
            ],
            [
             0.2222222222222222,
             "#7201a8"
            ],
            [
             0.3333333333333333,
             "#9c179e"
            ],
            [
             0.4444444444444444,
             "#bd3786"
            ],
            [
             0.5555555555555556,
             "#d8576b"
            ],
            [
             0.6666666666666666,
             "#ed7953"
            ],
            [
             0.7777777777777778,
             "#fb9f3a"
            ],
            [
             0.8888888888888888,
             "#fdca26"
            ],
            [
             1,
             "#f0f921"
            ]
           ],
           "sequentialminus": [
            [
             0,
             "#0d0887"
            ],
            [
             0.1111111111111111,
             "#46039f"
            ],
            [
             0.2222222222222222,
             "#7201a8"
            ],
            [
             0.3333333333333333,
             "#9c179e"
            ],
            [
             0.4444444444444444,
             "#bd3786"
            ],
            [
             0.5555555555555556,
             "#d8576b"
            ],
            [
             0.6666666666666666,
             "#ed7953"
            ],
            [
             0.7777777777777778,
             "#fb9f3a"
            ],
            [
             0.8888888888888888,
             "#fdca26"
            ],
            [
             1,
             "#f0f921"
            ]
           ]
          },
          "colorway": [
           "#636efa",
           "#EF553B",
           "#00cc96",
           "#ab63fa",
           "#FFA15A",
           "#19d3f3",
           "#FF6692",
           "#B6E880",
           "#FF97FF",
           "#FECB52"
          ],
          "font": {
           "color": "#2a3f5f"
          },
          "geo": {
           "bgcolor": "white",
           "lakecolor": "white",
           "landcolor": "#E5ECF6",
           "showlakes": true,
           "showland": true,
           "subunitcolor": "white"
          },
          "hoverlabel": {
           "align": "left"
          },
          "hovermode": "closest",
          "mapbox": {
           "style": "light"
          },
          "paper_bgcolor": "white",
          "plot_bgcolor": "#E5ECF6",
          "polar": {
           "angularaxis": {
            "gridcolor": "white",
            "linecolor": "white",
            "ticks": ""
           },
           "bgcolor": "#E5ECF6",
           "radialaxis": {
            "gridcolor": "white",
            "linecolor": "white",
            "ticks": ""
           }
          },
          "scene": {
           "xaxis": {
            "backgroundcolor": "#E5ECF6",
            "gridcolor": "white",
            "gridwidth": 2,
            "linecolor": "white",
            "showbackground": true,
            "ticks": "",
            "zerolinecolor": "white"
           },
           "yaxis": {
            "backgroundcolor": "#E5ECF6",
            "gridcolor": "white",
            "gridwidth": 2,
            "linecolor": "white",
            "showbackground": true,
            "ticks": "",
            "zerolinecolor": "white"
           },
           "zaxis": {
            "backgroundcolor": "#E5ECF6",
            "gridcolor": "white",
            "gridwidth": 2,
            "linecolor": "white",
            "showbackground": true,
            "ticks": "",
            "zerolinecolor": "white"
           }
          },
          "shapedefaults": {
           "line": {
            "color": "#2a3f5f"
           }
          },
          "ternary": {
           "aaxis": {
            "gridcolor": "white",
            "linecolor": "white",
            "ticks": ""
           },
           "baxis": {
            "gridcolor": "white",
            "linecolor": "white",
            "ticks": ""
           },
           "bgcolor": "#E5ECF6",
           "caxis": {
            "gridcolor": "white",
            "linecolor": "white",
            "ticks": ""
           }
          },
          "title": {
           "x": 0.05
          },
          "xaxis": {
           "automargin": true,
           "gridcolor": "white",
           "linecolor": "white",
           "ticks": "",
           "title": {
            "standoff": 15
           },
           "zerolinecolor": "white",
           "zerolinewidth": 2
          },
          "yaxis": {
           "automargin": true,
           "gridcolor": "white",
           "linecolor": "white",
           "ticks": "",
           "title": {
            "standoff": 15
           },
           "zerolinecolor": "white",
           "zerolinewidth": 2
          }
         }
        },
        "title": {
         "text": "Treino da func. esfera em R2 com alpha 0.1 - Tempo médio para 30 iterações: 0.827 ms"
        },
        "xaxis": {
         "anchor": "y",
         "domain": [
          0,
          1
         ],
         "title": {
          "text": "Iterações"
         }
        },
        "yaxis": {
         "anchor": "x",
         "domain": [
          0,
          1
         ],
         "title": {
          "text": "Valor da função esfera"
         }
        }
       }
      }
     },
     "metadata": {},
     "output_type": "display_data"
    }
   ],
   "source": [
    "treina_gradiente(1e-1, 2, 'esfera', 30)"
   ]
  },
  {
   "attachments": {},
   "cell_type": "markdown",
   "metadata": {},
   "source": [
    "Caso 1.2: $\\alpha$ = 0.01, treinamento por 30 iterações"
   ]
  },
  {
   "cell_type": "code",
   "execution_count": 31,
   "metadata": {},
   "outputs": [
    {
     "data": {
      "application/vnd.plotly.v1+json": {
       "config": {
        "plotlyServerURL": "https://plot.ly"
       },
       "data": [
        {
         "hovertemplate": "variable=0<br>index=%{x}<br>value=%{y}<extra></extra>",
         "legendgroup": "0",
         "line": {
          "color": "#636efa",
          "dash": "solid"
         },
         "marker": {
          "symbol": "circle"
         },
         "mode": "lines",
         "name": "0",
         "orientation": "v",
         "showlegend": true,
         "type": "scatter",
         "x": [
          0,
          1,
          2,
          3,
          4,
          5,
          6,
          7,
          8,
          9,
          10,
          11,
          12,
          13,
          14,
          15,
          16,
          17,
          18,
          19,
          20,
          21,
          22,
          23,
          24,
          25,
          26,
          27,
          28,
          29,
          30
         ],
         "xaxis": "x",
         "y": [
          979.4898208947242,
          940.7020239872932,
          903.4502238373964,
          867.6735949734353,
          833.3137206124875,
          800.3144972762329,
          768.6220431840941,
          738.1846102740037,
          708.9524997071532,
          680.8779807187499,
          653.9152126822876,
          628.0201702600689,
          603.1505715177702,
          579.2658088856664,
          556.3268828537939,
          534.2963382927836,
          513.1382032963893,
          492.8179304458523,
          473.3023404001966,
          454.55956772034887,
          436.5590088386231,
          419.27127208861367,
          402.6681297139046,
          386.722471777234,
          371.40826189485546,
          356.7004947238192,
          342.575155132756,
          329.0091789894989,
          315.9804155015147,
          303.46759104765476,
          291.45027444216765
         ],
         "yaxis": "y"
        },
        {
         "hovertemplate": "variable=1<br>index=%{x}<br>value=%{y}<extra></extra>",
         "legendgroup": "1",
         "line": {
          "color": "#EF553B",
          "dash": "solid"
         },
         "marker": {
          "symbol": "circle"
         },
         "mode": "lines",
         "name": "1",
         "orientation": "v",
         "showlegend": true,
         "type": "scatter",
         "x": [
          0,
          1,
          2,
          3,
          4,
          5,
          6,
          7,
          8,
          9,
          10,
          11,
          12,
          13,
          14,
          15,
          16,
          17,
          18,
          19,
          20,
          21,
          22,
          23,
          24,
          25,
          26,
          27,
          28,
          29,
          30
         ],
         "xaxis": "x",
         "y": [
          300.7241141259791,
          288.8154392065903,
          277.3783478140093,
          266.3941652405746,
          255.84495629704782,
          245.71349602768473,
          235.98324158498838,
          226.63830521822285,
          217.66342833158126,
          209.04395656965062,
          200.76581588949247,
          192.81548958026855,
          185.17999619288986,
          177.84686834365147,
          170.80413235724285,
          164.04028871589605,
          157.5442932827466,
          151.30553926874984,
          145.31383991370734,
          139.55941185312452,
          134.03285914374078,
          128.72515792164864,
          123.62764166795135,
          118.73198705790048,
          114.03020037040764,
          109.5146044357395,
          105.17782610008422,
          101.01278418652089,
          97.01267793273465,
          93.17097588659837,
          89.48140524148909
         ],
         "yaxis": "y"
        },
        {
         "hovertemplate": "variable=2<br>index=%{x}<br>value=%{y}<extra></extra>",
         "legendgroup": "2",
         "line": {
          "color": "#00cc96",
          "dash": "solid"
         },
         "marker": {
          "symbol": "circle"
         },
         "mode": "lines",
         "name": "2",
         "orientation": "v",
         "showlegend": true,
         "type": "scatter",
         "x": [
          0,
          1,
          2,
          3,
          4,
          5,
          6,
          7,
          8,
          9,
          10,
          11,
          12,
          13,
          14,
          15,
          16,
          17,
          18,
          19,
          20,
          21,
          22,
          23,
          24,
          25,
          26,
          27,
          28,
          29,
          30
         ],
         "xaxis": "x",
         "y": [
          95.68900306403887,
          91.89971854270294,
          88.26048968841191,
          84.76537429675079,
          81.40866547459947,
          78.18488232180532,
          75.08876098186182,
          72.1152460469801,
          69.25948230351969,
          66.5168068043003,
          63.88274125485,
          61.35298470115795,
          58.923406506992094,
          56.5900396093152,
          54.34907404078632,
          52.19685070877119,
          50.12985542070384,
          48.144713146043976,
          46.238182505460635,
          44.4071504782444,
          42.648627319305916,
          40.95974167746141,
          39.33773590703393,
          37.7799615651154,
          36.28387508713683,
          34.84703363368621,
          33.467091101792235,
          32.141794294161265,
          30.868979240112473,
          29.646567662204024,
          28.472563582780744
         ],
         "yaxis": "y"
        },
        {
         "hovertemplate": "variable=3<br>index=%{x}<br>value=%{y}<extra></extra>",
         "legendgroup": "3",
         "line": {
          "color": "#ab63fa",
          "dash": "solid"
         },
         "marker": {
          "symbol": "circle"
         },
         "mode": "lines",
         "name": "3",
         "orientation": "v",
         "showlegend": true,
         "type": "scatter",
         "x": [
          0,
          1,
          2,
          3,
          4,
          5,
          6,
          7,
          8,
          9,
          10,
          11,
          12,
          13,
          14,
          15,
          16,
          17,
          18,
          19,
          20,
          21,
          22,
          23,
          24,
          25,
          26,
          27,
          28,
          29,
          30
         ],
         "xaxis": "x",
         "y": [
          1019.3827662289787,
          979.0152086863109,
          940.246206422333,
          903.0124566480087,
          867.2531633647475,
          832.9099380955034,
          799.9267045469214,
          768.2496070468633,
          737.8269226078075,
          708.6089764725384,
          680.5480610042258,
          653.5983577884583,
          627.7158628200353,
          602.858314652362,
          578.9851253921286,
          556.0573144266002,
          534.0374447753069,
          512.8895619622047,
          492.5791353085014,
          473.07300155028474,
          454.3393106888934,
          436.3474739856133,
          419.06811401578307,
          402.473016700758,
          386.535085239408,
          371.2282958639274,
          356.52765534771595,
          342.40916019594636,
          328.84975745218685,
          315.82730705708025,
          303.3205456976199
         ],
         "yaxis": "y"
        },
        {
         "hovertemplate": "variable=4<br>index=%{x}<br>value=%{y}<extra></extra>",
         "legendgroup": "4",
         "line": {
          "color": "#FFA15A",
          "dash": "solid"
         },
         "marker": {
          "symbol": "circle"
         },
         "mode": "lines",
         "name": "4",
         "orientation": "v",
         "showlegend": true,
         "type": "scatter",
         "x": [
          0,
          1,
          2,
          3,
          4,
          5,
          6,
          7,
          8,
          9,
          10,
          11,
          12,
          13,
          14,
          15,
          16,
          17,
          18,
          19,
          20,
          21,
          22,
          23,
          24,
          25,
          26,
          27,
          28,
          29,
          30
         ],
         "xaxis": "x",
         "y": [
          1160.5792339995928,
          1114.6202963332091,
          1070.481332598414,
          1028.0902718275167,
          987.377897063147,
          948.2777323394463,
          910.7259341388044,
          874.6611871469077,
          840.0246041358901,
          806.7596298121089,
          774.8119484715493,
          744.129395312076,
          714.6618712577177,
          686.361261155912,
          659.181355214138,
          633.0777735476581,
          608.0078937151709,
          583.9307811240501,
          560.8071221915378,
          538.599160152753,
          517.2706334107038,
          496.78671632763997,
          477.1139623610654,
          458.2202494515672,
          440.0747275732852,
          422.6477683613831,
          405.9109167342723,
          389.8368444315952,
          374.399305392104,
          359.57309289857665,
          345.33399841979303
         ],
         "yaxis": "y"
        },
        {
         "hovertemplate": "variable=5<br>index=%{x}<br>value=%{y}<extra></extra>",
         "legendgroup": "5",
         "line": {
          "color": "#19d3f3",
          "dash": "solid"
         },
         "marker": {
          "symbol": "circle"
         },
         "mode": "lines",
         "name": "5",
         "orientation": "v",
         "showlegend": true,
         "type": "scatter",
         "x": [
          0,
          1,
          2,
          3,
          4,
          5,
          6,
          7,
          8,
          9,
          10,
          11,
          12,
          13,
          14,
          15,
          16,
          17,
          18,
          19,
          20,
          21,
          22,
          23,
          24,
          25,
          26,
          27,
          28,
          29,
          30
         ],
         "xaxis": "x",
         "y": [
          788.7894186050545,
          757.5533576282944,
          727.5542446662139,
          698.7430965774317,
          671.0728699529654,
          644.498384302828,
          618.976248284436,
          594.4647888523723,
          570.9239832138185,
          548.3153934785512,
          526.6021038968005,
          505.7486605824872,
          485.72101362342073,
          466.48646148393317,
          448.01359760916944,
          430.2722591438464,
          413.23347768175006,
          396.86943196555285,
          381.15340245971703,
          366.05972772231223,
          351.5637625045087,
          337.6418375093302,
          324.27122074396067,
          311.4300804024998,
          299.0974492185608,
          287.25319022950583,
          275.87796389641744,
          264.9531965261193,
          254.461049943685,
          244.3843923659151,
          234.70677042822484
         ],
         "yaxis": "y"
        },
        {
         "hovertemplate": "variable=6<br>index=%{x}<br>value=%{y}<extra></extra>",
         "legendgroup": "6",
         "line": {
          "color": "#FF6692",
          "dash": "solid"
         },
         "marker": {
          "symbol": "circle"
         },
         "mode": "lines",
         "name": "6",
         "orientation": "v",
         "showlegend": true,
         "type": "scatter",
         "x": [
          0,
          1,
          2,
          3,
          4,
          5,
          6,
          7,
          8,
          9,
          10,
          11,
          12,
          13,
          14,
          15,
          16,
          17,
          18,
          19,
          20,
          21,
          22,
          23,
          24,
          25,
          26,
          27,
          28,
          29,
          30
         ],
         "xaxis": "x",
         "y": [
          291.5898007033565,
          280.0428445955036,
          268.9531479495217,
          258.30260329072064,
          248.07382020040814,
          238.25009692047198,
          228.81539308242125,
          219.75430351635737,
          211.0520330971096,
          202.69437258646406,
          194.66767543204008,
          186.95883548493129,
          179.55526559972802,
          172.4448770819788,
          165.61605994953243,
          159.05766397553097,
          152.75898048209996,
          146.70972485500877,
          140.90001975075043,
          135.3203789686207,
          129.96169196146334,
          124.8152089597894,
          119.87252668498172,
          115.12557462825644,
          110.56660187297749,
          106.18816443880759,
          101.9831131270308,
          97.94458184720037,
          94.06597640605122,
          90.34096374037159,
          86.76346157625288
         ],
         "yaxis": "y"
        },
        {
         "hovertemplate": "variable=7<br>index=%{x}<br>value=%{y}<extra></extra>",
         "legendgroup": "7",
         "line": {
          "color": "#B6E880",
          "dash": "solid"
         },
         "marker": {
          "symbol": "circle"
         },
         "mode": "lines",
         "name": "7",
         "orientation": "v",
         "showlegend": true,
         "type": "scatter",
         "x": [
          0,
          1,
          2,
          3,
          4,
          5,
          6,
          7,
          8,
          9,
          10,
          11,
          12,
          13,
          14,
          15,
          16,
          17,
          18,
          19,
          20,
          21,
          22,
          23,
          24,
          25,
          26,
          27,
          28,
          29,
          30
         ],
         "xaxis": "x",
         "y": [
          626.8505024806573,
          602.0272225824231,
          578.1869445681591,
          555.2907415632601,
          533.3012281973549,
          512.1824995607398,
          491.9000725781344,
          472.4208297040402,
          453.7129648477603,
          435.74593143978905,
          418.4903925547734,
          401.9181730096043,
          386.002213358424,
          370.7165257094304,
          356.036151291337,
          341.93711970020007,
          328.3964097600722,
          315.39191193357334,
          302.9023922210038,
          290.90745748905204,
          279.3875221724856,
          268.3237762944552,
          257.6981547531948,
          247.4933078249682,
          237.6925728350995,
          228.27994695082953,
          219.24006105157667,
          210.55815463393424,
          202.22005171043045,
          194.21213766269744,
          186.52133701125462
         ],
         "yaxis": "y"
        },
        {
         "hovertemplate": "variable=8<br>index=%{x}<br>value=%{y}<extra></extra>",
         "legendgroup": "8",
         "line": {
          "color": "#FF97FF",
          "dash": "solid"
         },
         "marker": {
          "symbol": "circle"
         },
         "mode": "lines",
         "name": "8",
         "orientation": "v",
         "showlegend": true,
         "type": "scatter",
         "x": [
          0,
          1,
          2,
          3,
          4,
          5,
          6,
          7,
          8,
          9,
          10,
          11,
          12,
          13,
          14,
          15,
          16,
          17,
          18,
          19,
          20,
          21,
          22,
          23,
          24,
          25,
          26,
          27,
          28,
          29,
          30
         ],
         "xaxis": "x",
         "y": [
          887.3692670475019,
          852.2294440724208,
          818.4811580871528,
          786.0693042269015,
          754.9409597795162,
          725.0452977722475,
          696.3335039804663,
          668.7586972228399,
          642.2758528128155,
          616.8417290414279,
          592.4147965713875,
          568.9551706271606,
          546.4245458703249,
          524.7861338538602,
          504.0046029532473,
          484.04602067629867,
          464.8777982575172,
          446.46863744651966,
          428.7884794036375,
          411.8084556192535,
          395.5008407767311,
          379.83900748197254,
          364.79738278568647,
          350.35140642737326,
          336.4774907328493,
          323.1529820998284,
          310.35612400867535,
          298.06602149793173,
          286.2626070466136,
          274.92660780756773,
          264.03951413838803
         ],
         "yaxis": "y"
        },
        {
         "hovertemplate": "variable=9<br>index=%{x}<br>value=%{y}<extra></extra>",
         "legendgroup": "9",
         "line": {
          "color": "#FECB52",
          "dash": "solid"
         },
         "marker": {
          "symbol": "circle"
         },
         "mode": "lines",
         "name": "9",
         "orientation": "v",
         "showlegend": true,
         "type": "scatter",
         "x": [
          0,
          1,
          2,
          3,
          4,
          5,
          6,
          7,
          8,
          9,
          10,
          11,
          12,
          13,
          14,
          15,
          16,
          17,
          18,
          19,
          20,
          21,
          22,
          23,
          24,
          25,
          26,
          27,
          28,
          29,
          30
         ],
         "xaxis": "x",
         "y": [
          486.7181324499347,
          467.44409440491734,
          448.93330826648264,
          431.1555492591299,
          414.0817895084683,
          397.684150643933,
          381.9358582784332,
          366.81119829060725,
          352.28547483829914,
          338.3349700347025,
          324.9369052213283,
          312.06940377456374,
          299.71145538509097,
          287.84288175184133,
          276.44430363446844,
          265.49710921054344,
          254.98342368580592,
          244.886080107848,
          235.1885913355772,
          225.87512311868835,
          216.93046824318827,
          208.34002170075806,
          200.08975684140805,
          192.16620247048826,
          184.55642085265694,
          177.24798658689167,
          170.22896631805074,
          163.48789925185594,
          157.01377844148243,
          150.79603281519974,
          144.82450991571784
         ],
         "yaxis": "y"
        },
        {
         "hovertemplate": "variable=10<br>index=%{x}<br>value=%{y}<extra></extra>",
         "legendgroup": "10",
         "line": {
          "color": "#636efa",
          "dash": "solid"
         },
         "marker": {
          "symbol": "circle"
         },
         "mode": "lines",
         "name": "10",
         "orientation": "v",
         "showlegend": true,
         "type": "scatter",
         "x": [
          0,
          1,
          2,
          3,
          4,
          5,
          6,
          7,
          8,
          9,
          10,
          11,
          12,
          13,
          14,
          15,
          16,
          17,
          18,
          19,
          20,
          21,
          22,
          23,
          24,
          25,
          26,
          27,
          28,
          29,
          30
         ],
         "xaxis": "x",
         "y": [
          569.3691463609082,
          546.8221281650164,
          525.1679718896816,
          504.3713202028503,
          484.3982159228174,
          465.2160465722738,
          446.79349112801174,
          429.1004688793425,
          412.10809031172056,
          395.78860993537637,
          380.11538098193546,
          365.06281189505086,
          350.6063245440069,
          336.72231409206415,
          323.3881104540185,
          310.5819412800393,
          298.28289640534973,
          286.47089370769794,
          275.12664631687306,
          264.23163112272493,
          253.768058530265,
          243.71884341246647,
          234.06757721333278,
          224.7985011556848,
          215.89648050991966,
          207.34697988172687,
          199.13603947841048,
          191.2502523150654,
          183.67674232338882,
          176.40314332738262,
          169.41757885161826
         ],
         "yaxis": "y"
        },
        {
         "hovertemplate": "variable=11<br>index=%{x}<br>value=%{y}<extra></extra>",
         "legendgroup": "11",
         "line": {
          "color": "#EF553B",
          "dash": "solid"
         },
         "marker": {
          "symbol": "circle"
         },
         "mode": "lines",
         "name": "11",
         "orientation": "v",
         "showlegend": true,
         "type": "scatter",
         "x": [
          0,
          1,
          2,
          3,
          4,
          5,
          6,
          7,
          8,
          9,
          10,
          11,
          12,
          13,
          14,
          15,
          16,
          17,
          18,
          19,
          20,
          21,
          22,
          23,
          24,
          25,
          26,
          27,
          28,
          29,
          30
         ],
         "xaxis": "x",
         "y": [
          983.8906224140568,
          944.92855376646,
          907.5093830373082,
          871.5720114690309,
          837.0577598148573,
          803.9102725261889,
          772.0754257341518,
          741.5012388750794,
          712.1377898156262,
          683.9371333389274,
          656.853222858706,
          630.8418352335012,
          605.8604985582547,
          581.8684228153477,
          558.82643327186,
          536.6969065142944,
          515.4437090163283,
          495.0321381392817,
          475.4288654689662,
          456.6018823963952,
          438.5204478534979,
          421.1550381184994,
          404.4772986090069,
          388.4599975840902,
          373.0769816797603,
          358.3031332052418,
          344.1143291303142,
          330.48740169675375,
          317.4001005895624,
          304.83105660621567,
          292.7597467646096
         ],
         "yaxis": "y"
        },
        {
         "hovertemplate": "variable=12<br>index=%{x}<br>value=%{y}<extra></extra>",
         "legendgroup": "12",
         "line": {
          "color": "#00cc96",
          "dash": "solid"
         },
         "marker": {
          "symbol": "circle"
         },
         "mode": "lines",
         "name": "12",
         "orientation": "v",
         "showlegend": true,
         "type": "scatter",
         "x": [
          0,
          1,
          2,
          3,
          4,
          5,
          6,
          7,
          8,
          9,
          10,
          11,
          12,
          13,
          14,
          15,
          16,
          17,
          18,
          19,
          20,
          21,
          22,
          23,
          24,
          25,
          26,
          27,
          28,
          29,
          30
         ],
         "xaxis": "x",
         "y": [
          451.78220516369333,
          433.8916298392111,
          416.70952129757825,
          400.2078242541942,
          384.359594413728,
          369.1389544749444,
          354.52105187773657,
          340.48201822337825,
          326.99893030173246,
          314.0497726617839,
          301.61340166437725,
          289.66951095846787,
          278.19859832451255,
          267.18193383086185,
          256.6015292511597,
          246.44010869281377,
          236.68108038857838,
          227.3085096051907,
          218.30709262482512,
          209.66213175688205,
          201.3595113393095,
          193.38567469027288,
          185.72760197253805,
          178.3727889344255,
          171.30922649262226,
          164.52538112351436,
          158.0101760310232,
          151.75297306019468,
          145.74355532701097,
          139.97211053606134,
          134.4292149588333
         ],
         "yaxis": "y"
        },
        {
         "hovertemplate": "variable=13<br>index=%{x}<br>value=%{y}<extra></extra>",
         "legendgroup": "13",
         "line": {
          "color": "#ab63fa",
          "dash": "solid"
         },
         "marker": {
          "symbol": "circle"
         },
         "mode": "lines",
         "name": "13",
         "orientation": "v",
         "showlegend": true,
         "type": "scatter",
         "x": [
          0,
          1,
          2,
          3,
          4,
          5,
          6,
          7,
          8,
          9,
          10,
          11,
          12,
          13,
          14,
          15,
          16,
          17,
          18,
          19,
          20,
          21,
          22,
          23,
          24,
          25,
          26,
          27,
          28,
          29,
          30
         ],
         "xaxis": "x",
         "y": [
          1140.5423463737654,
          1095.3768694573646,
          1051.9999454268527,
          1010.3407475879495,
          970.3312539834667,
          931.9061363257213,
          895.0026533272228,
          859.5605482554647,
          825.5219505445484,
          792.8312813029843,
          761.435162563386,
          731.2823301258759,
          702.3235498528913,
          674.5115372787168,
          647.8008804024796,
          622.1479655385414,
          597.5109061032152,
          573.8494742215278,
          551.1250350423553,
          529.3004836546781,
          508.3401845019529,
          488.2099131956754,
          468.87680063312666,
          450.30927932805486,
          432.4770318666639,
          415.35094140474393,
          398.90304412511614,
          383.10648357776154,
          367.9354668280822,
          353.3652223416901,
          339.3719595369592
         ],
         "yaxis": "y"
        },
        {
         "hovertemplate": "variable=14<br>index=%{x}<br>value=%{y}<extra></extra>",
         "legendgroup": "14",
         "line": {
          "color": "#FFA15A",
          "dash": "solid"
         },
         "marker": {
          "symbol": "circle"
         },
         "mode": "lines",
         "name": "14",
         "orientation": "v",
         "showlegend": true,
         "type": "scatter",
         "x": [
          0,
          1,
          2,
          3,
          4,
          5,
          6,
          7,
          8,
          9,
          10,
          11,
          12,
          13,
          14,
          15,
          16,
          17,
          18,
          19,
          20,
          21,
          22,
          23,
          24,
          25,
          26,
          27,
          28,
          29,
          30
         ],
         "xaxis": "x",
         "y": [
          1022.338265308793,
          981.8536700025647,
          942.9722646704632,
          905.630562989513,
          869.7675926951283,
          835.3247960244013,
          802.245934101835,
          770.4769951114024,
          739.9661061049908,
          710.6634483032333,
          682.5211757504253,
          655.4933371907085,
          629.5358010379564,
          604.6061833168533,
          580.6637784575059,
          557.6694928305886,
          535.5857809144973,
          514.3765839902833,
          494.00727126426807,
          474.44458332220313,
          455.65657782264384,
          437.6125773408672,
          420.2831192781689,
          403.6399077547533,
          387.655767407665,
          372.30459901832154,
          357.56133689719593,
          343.4019079560669,
          329.8031924010066,
          316.7429859819267,
          304.1999637370424
         ],
         "yaxis": "y"
        },
        {
         "hovertemplate": "variable=15<br>index=%{x}<br>value=%{y}<extra></extra>",
         "legendgroup": "15",
         "line": {
          "color": "#19d3f3",
          "dash": "solid"
         },
         "marker": {
          "symbol": "circle"
         },
         "mode": "lines",
         "name": "15",
         "orientation": "v",
         "showlegend": true,
         "type": "scatter",
         "x": [
          0,
          1,
          2,
          3,
          4,
          5,
          6,
          7,
          8,
          9,
          10,
          11,
          12,
          13,
          14,
          15,
          16,
          17,
          18,
          19,
          20,
          21,
          22,
          23,
          24,
          25,
          26,
          27,
          28,
          29,
          30
         ],
         "xaxis": "x",
         "y": [
          256.9274726476407,
          246.75314473079408,
          236.98172019945466,
          227.59724407955628,
          218.58439321400584,
          209.92845124273123,
          201.6152845735191,
          193.63131930440773,
          185.96351905995317,
          178.59936370517903,
          171.52682890245393,
          164.73436647791675,
          158.21088556539127,
          151.94573449700178,
          145.9286834109205,
          140.14990754784804,
          134.59997120895326,
          129.2698123490787,
          124.1507277800552,
          119.23435895996502,
          114.5126783451504,
          109.97797628268245,
          105.62284842188821,
          101.44018362438143,
          97.42315235285591,
          93.56519551968282,
          89.86001377710338,
          86.30155723153008,
          82.88401556516149,
          79.6018085487811,
          76.44957693024938
         ],
         "yaxis": "y"
        },
        {
         "hovertemplate": "variable=16<br>index=%{x}<br>value=%{y}<extra></extra>",
         "legendgroup": "16",
         "line": {
          "color": "#FF6692",
          "dash": "solid"
         },
         "marker": {
          "symbol": "circle"
         },
         "mode": "lines",
         "name": "16",
         "orientation": "v",
         "showlegend": true,
         "type": "scatter",
         "x": [
          0,
          1,
          2,
          3,
          4,
          5,
          6,
          7,
          8,
          9,
          10,
          11,
          12,
          13,
          14,
          15,
          16,
          17,
          18,
          19,
          20,
          21,
          22,
          23,
          24,
          25,
          26,
          27,
          28,
          29,
          30
         ],
         "xaxis": "x",
         "y": [
          1361.135463384969,
          1307.2344990349243,
          1255.468012873141,
          1205.7514795633647,
          1158.0037209726554,
          1112.1467736221384,
          1068.1057613867017,
          1025.8087732357883,
          985.1867458156511,
          946.1733506813512,
          908.7048859943698,
          872.7201725089927,
          838.1604536776367,
          804.9692997120021,
          773.0925154434068,
          742.4780518318479,
          713.0759209793066,
          684.838114508526,
          657.7185251739884,
          631.6728715770984,
          606.6586258626452,
          582.6349442784845,
          559.5626004850565,
          537.4039215058482,
          516.1227262142166,
          495.6842662561336,
          476.0551693123907,
          457.2033846076201,
          439.0981305771583,
          421.7098446063029,
          405.0101347598933
         ],
         "yaxis": "y"
        },
        {
         "hovertemplate": "variable=17<br>index=%{x}<br>value=%{y}<extra></extra>",
         "legendgroup": "17",
         "line": {
          "color": "#B6E880",
          "dash": "solid"
         },
         "marker": {
          "symbol": "circle"
         },
         "mode": "lines",
         "name": "17",
         "orientation": "v",
         "showlegend": true,
         "type": "scatter",
         "x": [
          0,
          1,
          2,
          3,
          4,
          5,
          6,
          7,
          8,
          9,
          10,
          11,
          12,
          13,
          14,
          15,
          16,
          17,
          18,
          19,
          20,
          21,
          22,
          23,
          24,
          25,
          26,
          27,
          28,
          29,
          30
         ],
         "xaxis": "x",
         "y": [
          586.1754331081636,
          562.9628859570803,
          540.66955567318,
          519.259041268522,
          498.69638323428853,
          478.94800645821067,
          459.9816654024656,
          441.7663914525279,
          424.27244235100784,
          407.47125363390796,
          391.33539199000523,
          375.838510467201,
          360.95530545269986,
          346.66147535677294,
          332.9336809326448,
          319.74950716771207,
          307.0874266838707,
          294.92676458718944,
          283.24766470953676,
          272.0310571870391,
          261.25862732243235,
          250.91278568046405,
          240.97663936751766,
          231.43396444856398,
          222.26917945640085,
          213.46731994992743,
          205.0140140799103,
          196.89545912234584,
          189.09839894110095,
          181.61010234303336,
          174.41834229024923
         ],
         "yaxis": "y"
        },
        {
         "hovertemplate": "variable=18<br>index=%{x}<br>value=%{y}<extra></extra>",
         "legendgroup": "18",
         "line": {
          "color": "#FF97FF",
          "dash": "solid"
         },
         "marker": {
          "symbol": "circle"
         },
         "mode": "lines",
         "name": "18",
         "orientation": "v",
         "showlegend": true,
         "type": "scatter",
         "x": [
          0,
          1,
          2,
          3,
          4,
          5,
          6,
          7,
          8,
          9,
          10,
          11,
          12,
          13,
          14,
          15,
          16,
          17,
          18,
          19,
          20,
          21,
          22,
          23,
          24,
          25,
          26,
          27,
          28,
          29,
          30
         ],
         "xaxis": "x",
         "y": [
          157.16183609849895,
          150.9382273889984,
          144.9610735843941,
          139.22061507045208,
          133.7074787136622,
          128.41266255660116,
          123.32752111935976,
          118.44375128303311,
          113.753378732225,
          109.2487449344289,
          104.92249463502552,
          100.76756384747851,
          96.77716831911835,
          92.94479245368126,
          89.26417867251548,
          85.72931719708387,
          82.33443623607936,
          79.07399256113062,
          75.94266245570985,
          72.93533302246372,
          70.04709383477416,
          67.2732289189171,
          64.609209053728,
          62.05068437520036,
          59.593477273942426,
          57.2335755738943,
          54.967125981168095,
          52.79042779231384,
          50.699926851738205,
          48.69220974840938,
          46.76399824237237
         ],
         "yaxis": "y"
        },
        {
         "hovertemplate": "variable=19<br>index=%{x}<br>value=%{y}<extra></extra>",
         "legendgroup": "19",
         "line": {
          "color": "#FECB52",
          "dash": "solid"
         },
         "marker": {
          "symbol": "circle"
         },
         "mode": "lines",
         "name": "19",
         "orientation": "v",
         "showlegend": true,
         "type": "scatter",
         "x": [
          0,
          1,
          2,
          3,
          4,
          5,
          6,
          7,
          8,
          9,
          10,
          11,
          12,
          13,
          14,
          15,
          16,
          17,
          18,
          19,
          20,
          21,
          22,
          23,
          24,
          25,
          26,
          27,
          28,
          29,
          30
         ],
         "xaxis": "x",
         "y": [
          737.481269612573,
          708.277011335915,
          680.2292416870129,
          653.2921637162071,
          627.4217940330453,
          602.5758909893367,
          578.7138857061589,
          555.7968158321951,
          533.7872619252402,
          512.6492863530007,
          492.34837461342175,
          472.8513789787303,
          454.1264643711726,
          436.1430563820742,
          418.871791349344,
          402.28446841191,
          386.35400346279835,
          371.05438492567157,
          356.360631282615,
          342.2487502838234,
          328.695699772584,
          315.67935006158973,
          303.1784477991508,
          291.1725812663044,
          279.64214704815873,
          268.56831802505167,
          257.9330126312596,
          247.7188653310617,
          237.90919826395168,
          228.48799401269918,
          219.43986944979628
         ],
         "yaxis": "y"
        }
       ],
       "layout": {
        "legend": {
         "title": {
          "text": "Inicialização"
         },
         "tracegroupgap": 0
        },
        "template": {
         "data": {
          "bar": [
           {
            "error_x": {
             "color": "#2a3f5f"
            },
            "error_y": {
             "color": "#2a3f5f"
            },
            "marker": {
             "line": {
              "color": "#E5ECF6",
              "width": 0.5
             },
             "pattern": {
              "fillmode": "overlay",
              "size": 10,
              "solidity": 0.2
             }
            },
            "type": "bar"
           }
          ],
          "barpolar": [
           {
            "marker": {
             "line": {
              "color": "#E5ECF6",
              "width": 0.5
             },
             "pattern": {
              "fillmode": "overlay",
              "size": 10,
              "solidity": 0.2
             }
            },
            "type": "barpolar"
           }
          ],
          "carpet": [
           {
            "aaxis": {
             "endlinecolor": "#2a3f5f",
             "gridcolor": "white",
             "linecolor": "white",
             "minorgridcolor": "white",
             "startlinecolor": "#2a3f5f"
            },
            "baxis": {
             "endlinecolor": "#2a3f5f",
             "gridcolor": "white",
             "linecolor": "white",
             "minorgridcolor": "white",
             "startlinecolor": "#2a3f5f"
            },
            "type": "carpet"
           }
          ],
          "choropleth": [
           {
            "colorbar": {
             "outlinewidth": 0,
             "ticks": ""
            },
            "type": "choropleth"
           }
          ],
          "contour": [
           {
            "colorbar": {
             "outlinewidth": 0,
             "ticks": ""
            },
            "colorscale": [
             [
              0,
              "#0d0887"
             ],
             [
              0.1111111111111111,
              "#46039f"
             ],
             [
              0.2222222222222222,
              "#7201a8"
             ],
             [
              0.3333333333333333,
              "#9c179e"
             ],
             [
              0.4444444444444444,
              "#bd3786"
             ],
             [
              0.5555555555555556,
              "#d8576b"
             ],
             [
              0.6666666666666666,
              "#ed7953"
             ],
             [
              0.7777777777777778,
              "#fb9f3a"
             ],
             [
              0.8888888888888888,
              "#fdca26"
             ],
             [
              1,
              "#f0f921"
             ]
            ],
            "type": "contour"
           }
          ],
          "contourcarpet": [
           {
            "colorbar": {
             "outlinewidth": 0,
             "ticks": ""
            },
            "type": "contourcarpet"
           }
          ],
          "heatmap": [
           {
            "colorbar": {
             "outlinewidth": 0,
             "ticks": ""
            },
            "colorscale": [
             [
              0,
              "#0d0887"
             ],
             [
              0.1111111111111111,
              "#46039f"
             ],
             [
              0.2222222222222222,
              "#7201a8"
             ],
             [
              0.3333333333333333,
              "#9c179e"
             ],
             [
              0.4444444444444444,
              "#bd3786"
             ],
             [
              0.5555555555555556,
              "#d8576b"
             ],
             [
              0.6666666666666666,
              "#ed7953"
             ],
             [
              0.7777777777777778,
              "#fb9f3a"
             ],
             [
              0.8888888888888888,
              "#fdca26"
             ],
             [
              1,
              "#f0f921"
             ]
            ],
            "type": "heatmap"
           }
          ],
          "heatmapgl": [
           {
            "colorbar": {
             "outlinewidth": 0,
             "ticks": ""
            },
            "colorscale": [
             [
              0,
              "#0d0887"
             ],
             [
              0.1111111111111111,
              "#46039f"
             ],
             [
              0.2222222222222222,
              "#7201a8"
             ],
             [
              0.3333333333333333,
              "#9c179e"
             ],
             [
              0.4444444444444444,
              "#bd3786"
             ],
             [
              0.5555555555555556,
              "#d8576b"
             ],
             [
              0.6666666666666666,
              "#ed7953"
             ],
             [
              0.7777777777777778,
              "#fb9f3a"
             ],
             [
              0.8888888888888888,
              "#fdca26"
             ],
             [
              1,
              "#f0f921"
             ]
            ],
            "type": "heatmapgl"
           }
          ],
          "histogram": [
           {
            "marker": {
             "pattern": {
              "fillmode": "overlay",
              "size": 10,
              "solidity": 0.2
             }
            },
            "type": "histogram"
           }
          ],
          "histogram2d": [
           {
            "colorbar": {
             "outlinewidth": 0,
             "ticks": ""
            },
            "colorscale": [
             [
              0,
              "#0d0887"
             ],
             [
              0.1111111111111111,
              "#46039f"
             ],
             [
              0.2222222222222222,
              "#7201a8"
             ],
             [
              0.3333333333333333,
              "#9c179e"
             ],
             [
              0.4444444444444444,
              "#bd3786"
             ],
             [
              0.5555555555555556,
              "#d8576b"
             ],
             [
              0.6666666666666666,
              "#ed7953"
             ],
             [
              0.7777777777777778,
              "#fb9f3a"
             ],
             [
              0.8888888888888888,
              "#fdca26"
             ],
             [
              1,
              "#f0f921"
             ]
            ],
            "type": "histogram2d"
           }
          ],
          "histogram2dcontour": [
           {
            "colorbar": {
             "outlinewidth": 0,
             "ticks": ""
            },
            "colorscale": [
             [
              0,
              "#0d0887"
             ],
             [
              0.1111111111111111,
              "#46039f"
             ],
             [
              0.2222222222222222,
              "#7201a8"
             ],
             [
              0.3333333333333333,
              "#9c179e"
             ],
             [
              0.4444444444444444,
              "#bd3786"
             ],
             [
              0.5555555555555556,
              "#d8576b"
             ],
             [
              0.6666666666666666,
              "#ed7953"
             ],
             [
              0.7777777777777778,
              "#fb9f3a"
             ],
             [
              0.8888888888888888,
              "#fdca26"
             ],
             [
              1,
              "#f0f921"
             ]
            ],
            "type": "histogram2dcontour"
           }
          ],
          "mesh3d": [
           {
            "colorbar": {
             "outlinewidth": 0,
             "ticks": ""
            },
            "type": "mesh3d"
           }
          ],
          "parcoords": [
           {
            "line": {
             "colorbar": {
              "outlinewidth": 0,
              "ticks": ""
             }
            },
            "type": "parcoords"
           }
          ],
          "pie": [
           {
            "automargin": true,
            "type": "pie"
           }
          ],
          "scatter": [
           {
            "fillpattern": {
             "fillmode": "overlay",
             "size": 10,
             "solidity": 0.2
            },
            "type": "scatter"
           }
          ],
          "scatter3d": [
           {
            "line": {
             "colorbar": {
              "outlinewidth": 0,
              "ticks": ""
             }
            },
            "marker": {
             "colorbar": {
              "outlinewidth": 0,
              "ticks": ""
             }
            },
            "type": "scatter3d"
           }
          ],
          "scattercarpet": [
           {
            "marker": {
             "colorbar": {
              "outlinewidth": 0,
              "ticks": ""
             }
            },
            "type": "scattercarpet"
           }
          ],
          "scattergeo": [
           {
            "marker": {
             "colorbar": {
              "outlinewidth": 0,
              "ticks": ""
             }
            },
            "type": "scattergeo"
           }
          ],
          "scattergl": [
           {
            "marker": {
             "colorbar": {
              "outlinewidth": 0,
              "ticks": ""
             }
            },
            "type": "scattergl"
           }
          ],
          "scattermapbox": [
           {
            "marker": {
             "colorbar": {
              "outlinewidth": 0,
              "ticks": ""
             }
            },
            "type": "scattermapbox"
           }
          ],
          "scatterpolar": [
           {
            "marker": {
             "colorbar": {
              "outlinewidth": 0,
              "ticks": ""
             }
            },
            "type": "scatterpolar"
           }
          ],
          "scatterpolargl": [
           {
            "marker": {
             "colorbar": {
              "outlinewidth": 0,
              "ticks": ""
             }
            },
            "type": "scatterpolargl"
           }
          ],
          "scatterternary": [
           {
            "marker": {
             "colorbar": {
              "outlinewidth": 0,
              "ticks": ""
             }
            },
            "type": "scatterternary"
           }
          ],
          "surface": [
           {
            "colorbar": {
             "outlinewidth": 0,
             "ticks": ""
            },
            "colorscale": [
             [
              0,
              "#0d0887"
             ],
             [
              0.1111111111111111,
              "#46039f"
             ],
             [
              0.2222222222222222,
              "#7201a8"
             ],
             [
              0.3333333333333333,
              "#9c179e"
             ],
             [
              0.4444444444444444,
              "#bd3786"
             ],
             [
              0.5555555555555556,
              "#d8576b"
             ],
             [
              0.6666666666666666,
              "#ed7953"
             ],
             [
              0.7777777777777778,
              "#fb9f3a"
             ],
             [
              0.8888888888888888,
              "#fdca26"
             ],
             [
              1,
              "#f0f921"
             ]
            ],
            "type": "surface"
           }
          ],
          "table": [
           {
            "cells": {
             "fill": {
              "color": "#EBF0F8"
             },
             "line": {
              "color": "white"
             }
            },
            "header": {
             "fill": {
              "color": "#C8D4E3"
             },
             "line": {
              "color": "white"
             }
            },
            "type": "table"
           }
          ]
         },
         "layout": {
          "annotationdefaults": {
           "arrowcolor": "#2a3f5f",
           "arrowhead": 0,
           "arrowwidth": 1
          },
          "autotypenumbers": "strict",
          "coloraxis": {
           "colorbar": {
            "outlinewidth": 0,
            "ticks": ""
           }
          },
          "colorscale": {
           "diverging": [
            [
             0,
             "#8e0152"
            ],
            [
             0.1,
             "#c51b7d"
            ],
            [
             0.2,
             "#de77ae"
            ],
            [
             0.3,
             "#f1b6da"
            ],
            [
             0.4,
             "#fde0ef"
            ],
            [
             0.5,
             "#f7f7f7"
            ],
            [
             0.6,
             "#e6f5d0"
            ],
            [
             0.7,
             "#b8e186"
            ],
            [
             0.8,
             "#7fbc41"
            ],
            [
             0.9,
             "#4d9221"
            ],
            [
             1,
             "#276419"
            ]
           ],
           "sequential": [
            [
             0,
             "#0d0887"
            ],
            [
             0.1111111111111111,
             "#46039f"
            ],
            [
             0.2222222222222222,
             "#7201a8"
            ],
            [
             0.3333333333333333,
             "#9c179e"
            ],
            [
             0.4444444444444444,
             "#bd3786"
            ],
            [
             0.5555555555555556,
             "#d8576b"
            ],
            [
             0.6666666666666666,
             "#ed7953"
            ],
            [
             0.7777777777777778,
             "#fb9f3a"
            ],
            [
             0.8888888888888888,
             "#fdca26"
            ],
            [
             1,
             "#f0f921"
            ]
           ],
           "sequentialminus": [
            [
             0,
             "#0d0887"
            ],
            [
             0.1111111111111111,
             "#46039f"
            ],
            [
             0.2222222222222222,
             "#7201a8"
            ],
            [
             0.3333333333333333,
             "#9c179e"
            ],
            [
             0.4444444444444444,
             "#bd3786"
            ],
            [
             0.5555555555555556,
             "#d8576b"
            ],
            [
             0.6666666666666666,
             "#ed7953"
            ],
            [
             0.7777777777777778,
             "#fb9f3a"
            ],
            [
             0.8888888888888888,
             "#fdca26"
            ],
            [
             1,
             "#f0f921"
            ]
           ]
          },
          "colorway": [
           "#636efa",
           "#EF553B",
           "#00cc96",
           "#ab63fa",
           "#FFA15A",
           "#19d3f3",
           "#FF6692",
           "#B6E880",
           "#FF97FF",
           "#FECB52"
          ],
          "font": {
           "color": "#2a3f5f"
          },
          "geo": {
           "bgcolor": "white",
           "lakecolor": "white",
           "landcolor": "#E5ECF6",
           "showlakes": true,
           "showland": true,
           "subunitcolor": "white"
          },
          "hoverlabel": {
           "align": "left"
          },
          "hovermode": "closest",
          "mapbox": {
           "style": "light"
          },
          "paper_bgcolor": "white",
          "plot_bgcolor": "#E5ECF6",
          "polar": {
           "angularaxis": {
            "gridcolor": "white",
            "linecolor": "white",
            "ticks": ""
           },
           "bgcolor": "#E5ECF6",
           "radialaxis": {
            "gridcolor": "white",
            "linecolor": "white",
            "ticks": ""
           }
          },
          "scene": {
           "xaxis": {
            "backgroundcolor": "#E5ECF6",
            "gridcolor": "white",
            "gridwidth": 2,
            "linecolor": "white",
            "showbackground": true,
            "ticks": "",
            "zerolinecolor": "white"
           },
           "yaxis": {
            "backgroundcolor": "#E5ECF6",
            "gridcolor": "white",
            "gridwidth": 2,
            "linecolor": "white",
            "showbackground": true,
            "ticks": "",
            "zerolinecolor": "white"
           },
           "zaxis": {
            "backgroundcolor": "#E5ECF6",
            "gridcolor": "white",
            "gridwidth": 2,
            "linecolor": "white",
            "showbackground": true,
            "ticks": "",
            "zerolinecolor": "white"
           }
          },
          "shapedefaults": {
           "line": {
            "color": "#2a3f5f"
           }
          },
          "ternary": {
           "aaxis": {
            "gridcolor": "white",
            "linecolor": "white",
            "ticks": ""
           },
           "baxis": {
            "gridcolor": "white",
            "linecolor": "white",
            "ticks": ""
           },
           "bgcolor": "#E5ECF6",
           "caxis": {
            "gridcolor": "white",
            "linecolor": "white",
            "ticks": ""
           }
          },
          "title": {
           "x": 0.05
          },
          "xaxis": {
           "automargin": true,
           "gridcolor": "white",
           "linecolor": "white",
           "ticks": "",
           "title": {
            "standoff": 15
           },
           "zerolinecolor": "white",
           "zerolinewidth": 2
          },
          "yaxis": {
           "automargin": true,
           "gridcolor": "white",
           "linecolor": "white",
           "ticks": "",
           "title": {
            "standoff": 15
           },
           "zerolinecolor": "white",
           "zerolinewidth": 2
          }
         }
        },
        "title": {
         "text": "Treino da func. esfera em R2 com alpha 0.01 - Tempo médio para 30 iterações: 0.551 ms"
        },
        "xaxis": {
         "anchor": "y",
         "domain": [
          0,
          1
         ],
         "title": {
          "text": "Iterações"
         }
        },
        "yaxis": {
         "anchor": "x",
         "domain": [
          0,
          1
         ],
         "title": {
          "text": "Valor da função esfera"
         }
        }
       }
      }
     },
     "metadata": {},
     "output_type": "display_data"
    }
   ],
   "source": [
    "treina_gradiente(1e-2, 2, 'esfera', 30)"
   ]
  },
  {
   "attachments": {},
   "cell_type": "markdown",
   "metadata": {},
   "source": [
    "Caso 1.3: $\\alpha$ = 10, treinamento por 30 iterações"
   ]
  },
  {
   "cell_type": "code",
   "execution_count": 32,
   "metadata": {},
   "outputs": [
    {
     "data": {
      "application/vnd.plotly.v1+json": {
       "config": {
        "plotlyServerURL": "https://plot.ly"
       },
       "data": [
        {
         "hovertemplate": "variable=0<br>index=%{x}<br>value=%{y}<extra></extra>",
         "legendgroup": "0",
         "line": {
          "color": "#636efa",
          "dash": "solid"
         },
         "marker": {
          "symbol": "circle"
         },
         "mode": "lines",
         "name": "0",
         "orientation": "v",
         "showlegend": true,
         "type": "scatter",
         "x": [
          0,
          1,
          2,
          3,
          4,
          5,
          6,
          7,
          8,
          9,
          10,
          11,
          12,
          13,
          14,
          15,
          16,
          17,
          18,
          19,
          20,
          21,
          22,
          23,
          24,
          25,
          26,
          27,
          28,
          29,
          30
         ],
         "xaxis": "x",
         "y": [
          161.00342333813512,
          58122.235825066775,
          20982127.13284911,
          7574547894.9585285,
          2734411790080.029,
          987122656218890.2,
          356351278895019300,
          128642811681101970000,
          4.644005501687781e+22,
          1.676485986109289e+25,
          6.052114409854534e+27,
          2.1848133019574866e+30,
          7.887176020066528e+32,
          2.8472705432440166e+35,
          1.0278646661110898e+38,
          3.710591444661033e+40,
          1.3395235115226332e+43,
          4.835679876596706e+45,
          1.7456804354514105e+48,
          6.3019063719795926e+50,
          2.2749882002846327e+53,
          8.212707403027524e+55,
          2.964787372492936e+58,
          1.07028824146995e+61,
          3.8637405517065196e+63,
          1.3948103391660535e+66,
          5.035265324389453e+68,
          1.8177307821045928e+71,
          6.562008123397582e+73,
          2.3688849325465267e+76,
          8.551674606492959e+78
         ],
         "yaxis": "y"
        },
        {
         "hovertemplate": "variable=1<br>index=%{x}<br>value=%{y}<extra></extra>",
         "legendgroup": "1",
         "line": {
          "color": "#EF553B",
          "dash": "solid"
         },
         "marker": {
          "symbol": "circle"
         },
         "mode": "lines",
         "name": "1",
         "orientation": "v",
         "showlegend": true,
         "type": "scatter",
         "x": [
          0,
          1,
          2,
          3,
          4,
          5,
          6,
          7,
          8,
          9,
          10,
          11,
          12,
          13,
          14,
          15,
          16,
          17,
          18,
          19,
          20,
          21,
          22,
          23,
          24,
          25,
          26,
          27,
          28,
          29,
          30
         ],
         "xaxis": "x",
         "y": [
          840.8353591489343,
          303541.56465276534,
          109578504.83964829,
          39557840247.11304,
          14280380329207.807,
          5155217298844018,
          1861033444882690000,
          671833073602651400000,
          2.4253173957055707e+23,
          8.75539579849711e+25,
          3.160697883257457e+28,
          1.141011935855942e+31,
          4.119053088439951e+33,
          1.4869781649268227e+36,
          5.3679911753858295e+38,
          1.937844814314284e+41,
          6.995619779674566e+43,
          2.5254187404625187e+46,
          9.116761653069689e+48,
          3.291150956758158e+51,
          1.1881054953896951e+54,
          4.289060838356799e+56,
          1.5483509626468043e+59,
          5.589546975154961e+61,
          2.0178264580309412e+64,
          7.284353513491699e+66,
          2.6296516183705028e+69,
          9.493042342317512e+71,
          3.4269882855766217e+74,
          1.2371427710931607e+77,
          4.466085403646309e+79
         ],
         "yaxis": "y"
        },
        {
         "hovertemplate": "variable=2<br>index=%{x}<br>value=%{y}<extra></extra>",
         "legendgroup": "2",
         "line": {
          "color": "#00cc96",
          "dash": "solid"
         },
         "marker": {
          "symbol": "circle"
         },
         "mode": "lines",
         "name": "2",
         "orientation": "v",
         "showlegend": true,
         "type": "scatter",
         "x": [
          0,
          1,
          2,
          3,
          4,
          5,
          6,
          7,
          8,
          9,
          10,
          11,
          12,
          13,
          14,
          15,
          16,
          17,
          18,
          19,
          20,
          21,
          22,
          23,
          24,
          25,
          26,
          27,
          28,
          29,
          30
         ],
         "xaxis": "x",
         "y": [
          553.9096428829448,
          199961.38108074307,
          72186058.57014826,
          26059167143.823517,
          9407359338920.291,
          3396056721350225,
          1225976476407431200,
          442577507983082650000,
          1.5977048038189285e+23,
          5.767714341786331e+25,
          2.0821448773848654e+28,
          7.516543007359365e+30,
          2.713472025656731e+33,
          9.795634012620798e+35,
          3.536223878556108e+38,
          1.276576820158755e+41,
          4.608442320773105e+43,
          1.6636476777990906e+46,
          6.005768116854717e+48,
          2.1680822901845533e+51,
          7.82677706756624e+53,
          2.825466521391413e+56,
          1.0199934142223002e+59,
          3.6821762253425034e+61,
          1.3292656173486437e+64,
          4.798648878628604e+66,
          1.732312245184926e+69,
          6.253647205117583e+71,
          2.2575666410474479e+74,
          8.149815574181289e+76,
          2.9420834222794446e+79
         ],
         "yaxis": "y"
        },
        {
         "hovertemplate": "variable=3<br>index=%{x}<br>value=%{y}<extra></extra>",
         "legendgroup": "3",
         "line": {
          "color": "#ab63fa",
          "dash": "solid"
         },
         "marker": {
          "symbol": "circle"
         },
         "mode": "lines",
         "name": "3",
         "orientation": "v",
         "showlegend": true,
         "type": "scatter",
         "x": [
          0,
          1,
          2,
          3,
          4,
          5,
          6,
          7,
          8,
          9,
          10,
          11,
          12,
          13,
          14,
          15,
          16,
          17,
          18,
          19,
          20,
          21,
          22,
          23,
          24,
          25,
          26,
          27,
          28,
          29,
          30
         ],
         "xaxis": "x",
         "y": [
          1126.998075554263,
          406846.3052750891,
          146871516.2043071,
          53020617349.75487,
          19140442863261.508,
          6909699873637404,
          2494401654383103000,
          900478997232300300000,
          3.250729180008605e+23,
          1.1735132339831062e+26,
          4.236382774679013e+28,
          1.5293341816591235e+31,
          5.520896395789436e+33,
          1.9930435988799865e+36,
          7.19488739195675e+38,
          2.5973543484963864e+41,
          9.376449198071956e+43,
          3.384898160503976e+46,
          1.2219482359419356e+49,
          4.411233131750387e+51,
          1.59245516056189e+54,
          5.748763129628422e+56,
          2.07530348979586e+59,
          7.491845598163054e+61,
          2.704556260936863e+64,
          9.763448101982076e+66,
          3.52460476481553e+69,
          1.2723823200984063e+72,
          4.593300175555246e+74,
          1.6581813633754442e+77,
          5.986034721785353e+79
         ],
         "yaxis": "y"
        },
        {
         "hovertemplate": "variable=4<br>index=%{x}<br>value=%{y}<extra></extra>",
         "legendgroup": "4",
         "line": {
          "color": "#FFA15A",
          "dash": "solid"
         },
         "marker": {
          "symbol": "circle"
         },
         "mode": "lines",
         "name": "4",
         "orientation": "v",
         "showlegend": true,
         "type": "scatter",
         "x": [
          0,
          1,
          2,
          3,
          4,
          5,
          6,
          7,
          8,
          9,
          10,
          11,
          12,
          13,
          14,
          15,
          16,
          17,
          18,
          19,
          20,
          21,
          22,
          23,
          24,
          25,
          26,
          27,
          28,
          29,
          30
         ],
         "xaxis": "x",
         "y": [
          777.3729776601963,
          280631.64493533096,
          101308023.8216545,
          36572196599.61727,
          13202562972461.83,
          4766125233058722,
          1720571209134198500,
          621126206497445800000,
          2.2422656054557788e+23,
          8.094578835695361e+25,
          2.9221429596860255e+28,
          1.0548936084466553e+31,
          3.808165926492424e+33,
          1.3747478994637654e+36,
          4.962839917064192e+38,
          1.7915852100601735e+41,
          6.467622608317227e+43,
          2.334811761602519e+46,
          8.428670459385093e+48,
          3.042750035838019e+51,
          1.098432762937525e+54,
          3.965342274204465e+56,
          1.4314885609878117e+59,
          5.167673705166002e+61,
          1.8655302075649266e+64,
          6.734564049309385e+66,
          2.4311776218006878e+69,
          8.776551214700484e+71,
          3.1683349885068744e+74,
          1.1437689308509818e+77,
          4.129005840372044e+79
         ],
         "yaxis": "y"
        },
        {
         "hovertemplate": "variable=5<br>index=%{x}<br>value=%{y}<extra></extra>",
         "legendgroup": "5",
         "line": {
          "color": "#19d3f3",
          "dash": "solid"
         },
         "marker": {
          "symbol": "circle"
         },
         "mode": "lines",
         "name": "5",
         "orientation": "v",
         "showlegend": true,
         "type": "scatter",
         "x": [
          0,
          1,
          2,
          3,
          4,
          5,
          6,
          7,
          8,
          9,
          10,
          11,
          12,
          13,
          14,
          15,
          16,
          17,
          18,
          19,
          20,
          21,
          22,
          23,
          24,
          25,
          26,
          27,
          28,
          29,
          30
         ],
         "xaxis": "x",
         "y": [
          1539.425023860169,
          555732.4336135209,
          200619408.53448108,
          72423606480.94768,
          26144921939622.113,
          9438316820203584,
          3407232372093493000,
          1.2300108863257507e+21,
          4.440339299635961e+23,
          1.6029624871685818e+26,
          5.786694578678579e+28,
          2.0889967429029674e+31,
          7.54127824187971e+33,
          2.7224014453185755e+36,
          9.82786921760006e+38,
          3.547860787553622e+41,
          1.2807777443068574e+44,
          4.623607656947755e+46,
          1.6691223641581394e+49,
          6.025531734610882e+51,
          2.175216956194529e+54,
          7.852533211862249e+56,
          2.8347644894822725e+59,
          1.0233499807031004e+62,
          3.694293430338192e+64,
          1.333639928352087e+67,
          4.814440141351035e+69,
          1.7380128910277234e+72,
          6.274226536610082e+74,
          2.2649957797162396e+77,
          8.176634764775623e+79
         ],
         "yaxis": "y"
        },
        {
         "hovertemplate": "variable=6<br>index=%{x}<br>value=%{y}<extra></extra>",
         "legendgroup": "6",
         "line": {
          "color": "#FF6692",
          "dash": "solid"
         },
         "marker": {
          "symbol": "circle"
         },
         "mode": "lines",
         "name": "6",
         "orientation": "v",
         "showlegend": true,
         "type": "scatter",
         "x": [
          0,
          1,
          2,
          3,
          4,
          5,
          6,
          7,
          8,
          9,
          10,
          11,
          12,
          13,
          14,
          15,
          16,
          17,
          18,
          19,
          20,
          21,
          22,
          23,
          24,
          25,
          26,
          27,
          28,
          29,
          30
         ],
         "xaxis": "x",
         "y": [
          670.7152154098357,
          242128.19276295067,
          87408277.5874252,
          31554388209.0605,
          11391134143470.84,
          4112199425792973,
          1484503992711263500,
          535905941368766140000,
          1.9346204483412457e+23,
          6.983979818511898e+25,
          2.521216714482794e+28,
          9.101592339282889e+30,
          3.2856748344811224e+33,
          1.1861286152476851e+36,
          4.281924301044143e+38,
          1.5457746726769359e+41,
          5.580246568363739e+43,
          2.01446901117931e+46,
          7.272233130357308e+48,
          2.6252761600589888e+51,
          9.477246937812952e+53,
          3.421286144550476e+56,
          1.235084298182722e+59,
          4.458654316439627e+61,
          1.6095742082347054e+64,
          5.810562891727287e+66,
          2.0976132039135507e+69,
          7.572383666127918e+71,
          2.733630503472178e+74,
          9.868406117534564e+76,
          3.562494608429978e+79
         ],
         "yaxis": "y"
        },
        {
         "hovertemplate": "variable=7<br>index=%{x}<br>value=%{y}<extra></extra>",
         "legendgroup": "7",
         "line": {
          "color": "#B6E880",
          "dash": "solid"
         },
         "marker": {
          "symbol": "circle"
         },
         "mode": "lines",
         "name": "7",
         "orientation": "v",
         "showlegend": true,
         "type": "scatter",
         "x": [
          0,
          1,
          2,
          3,
          4,
          5,
          6,
          7,
          8,
          9,
          10,
          11,
          12,
          13,
          14,
          15,
          16,
          17,
          18,
          19,
          20,
          21,
          22,
          23,
          24,
          25,
          26,
          27,
          28,
          29,
          30
         ],
         "xaxis": "x",
         "y": [
          863.2836825017057,
          311645.4093831158,
          112503992.78730479,
          40613941396.217026,
          14661632844034.346,
          5292849456696399,
          1910718653867399700,
          689769434046131300000,
          2.4900676569065337e+23,
          8.989144241432588e+25,
          3.2450810711571642e+28,
          1.1714742666877364e+31,
          4.229022102742729e+33,
          1.5266769790901257e+36,
          5.5113038945153524e+38,
          1.9895807059200424e+41,
          7.182386348371352e+43,
          2.592841471762058e+46,
          9.360157713061028e+48,
          3.379016934415031e+51,
          1.2198251133238266e+54,
          4.403568659099013e+56,
          1.5896882859347436e+59,
          5.738774712224425e+61,
          2.071697671113017e+64,
          7.47882859271799e+66,
          2.699857121971194e+69,
          9.746484210316012e+71,
          3.51848079992408e+74,
          1.2701715687725929e+77,
          4.5853193632690593e+79
         ],
         "yaxis": "y"
        },
        {
         "hovertemplate": "variable=8<br>index=%{x}<br>value=%{y}<extra></extra>",
         "legendgroup": "8",
         "line": {
          "color": "#FF97FF",
          "dash": "solid"
         },
         "marker": {
          "symbol": "circle"
         },
         "mode": "lines",
         "name": "8",
         "orientation": "v",
         "showlegend": true,
         "type": "scatter",
         "x": [
          0,
          1,
          2,
          3,
          4,
          5,
          6,
          7,
          8,
          9,
          10,
          11,
          12,
          13,
          14,
          15,
          16,
          17,
          18,
          19,
          20,
          21,
          22,
          23,
          24,
          25,
          26,
          27,
          28,
          29,
          30
         ],
         "xaxis": "x",
         "y": [
          266.2993166177101,
          96134.05329899333,
          34704393.2409366,
          12528285959.978111,
          4522711231552.097,
          1632698754590306.5,
          589404250407100800,
          212774934396963360000,
          7.681175131730377e+22,
          2.7729042225546654e+25,
          1.0010184243422344e+28,
          3.613676511875466e+30,
          1.3045372207870432e+33,
          4.7093793670412254e+35,
          1.7000859515018825e+38,
          6.137310284921795e+40,
          2.2155690128567682e+43,
          7.998204136412936e+45,
          2.8873516932450702e+48,
          1.0423339612614705e+51,
          3.762825600153908e+53,
          1.3583800416555608e+56,
          4.9037519503765755e+58,
          1.770254454085944e+61,
          6.3906185792502566e+63,
          2.3070133071093428e+66,
          8.328318038664726e+68,
          3.0065228119579655e+71,
          1.0853547351168257e+74,
          3.918130593771742e+76,
          1.4144451443515987e+79
         ],
         "yaxis": "y"
        },
        {
         "hovertemplate": "variable=9<br>index=%{x}<br>value=%{y}<extra></extra>",
         "legendgroup": "9",
         "line": {
          "color": "#FECB52",
          "dash": "solid"
         },
         "marker": {
          "symbol": "circle"
         },
         "mode": "lines",
         "name": "9",
         "orientation": "v",
         "showlegend": true,
         "type": "scatter",
         "x": [
          0,
          1,
          2,
          3,
          4,
          5,
          6,
          7,
          8,
          9,
          10,
          11,
          12,
          13,
          14,
          15,
          16,
          17,
          18,
          19,
          20,
          21,
          22,
          23,
          24,
          25,
          26,
          27,
          28,
          29,
          30
         ],
         "xaxis": "x",
         "y": [
          57.13979548593043,
          20627.466170420885,
          7446515.28752194,
          2688192018.79542,
          970437318785.1465,
          350327872081437.9,
          126468361821399060,
          45655078617525060000,
          1.6481483380926548e+22,
          5.949815500514484e+24,
          2.1478833956857287e+27,
          7.75385905842548e+29,
          2.799143120091598e+32,
          1.0104906663530666e+35,
          3.6478713055345705e+37,
          1.3168815412979796e+40,
          4.753942364085708e+42,
          1.71617319343494e+45,
          6.195385228300134e+47,
          2.2365340674163485e+50,
          8.07388798337302e+52,
          2.91467356199766e+55,
          1.052197155881155e+58,
          3.79843173273097e+60,
          1.3712338555158803e+63,
          4.950154218412327e+65,
          1.78700567284685e+68,
          6.451090478977126e+70,
          2.328843662910743e+73,
          8.407125623107784e+75,
          3.0349723499419097e+78
         ],
         "yaxis": "y"
        },
        {
         "hovertemplate": "variable=10<br>index=%{x}<br>value=%{y}<extra></extra>",
         "legendgroup": "10",
         "line": {
          "color": "#636efa",
          "dash": "solid"
         },
         "marker": {
          "symbol": "circle"
         },
         "mode": "lines",
         "name": "10",
         "orientation": "v",
         "showlegend": true,
         "type": "scatter",
         "x": [
          0,
          1,
          2,
          3,
          4,
          5,
          6,
          7,
          8,
          9,
          10,
          11,
          12,
          13,
          14,
          15,
          16,
          17,
          18,
          19,
          20,
          21,
          22,
          23,
          24,
          25,
          26,
          27,
          28,
          29,
          30
         ],
         "xaxis": "x",
         "y": [
          232.17733108370408,
          83816.01652121716,
          30257581.96415939,
          10922987089.061543,
          3943198339151.2163,
          1423494600433589,
          513881550756525630,
          185511239823105750000,
          6.696955757614118e+22,
          2.4176010284986964e+25,
          8.727539712880295e+27,
          3.150641836349786e+30,
          1.137381702922273e+33,
          4.105947947549406e+35,
          1.4822472090653352e+38,
          5.350912424725861e+40,
          1.9316793853260355e+43,
          6.973362581026988e+45,
          2.5173838917507427e+48,
          9.087755849220182e+50,
          3.2806798615684847e+53,
          1.1843254300262229e+56,
          4.2754148023946643e+58,
          1.5434247436644738e+61,
          5.57176332462875e+63,
          2.011406560190979e+66,
          7.261177682289432e+68,
          2.6212851433064854e+71,
          9.462839367336412e+73,
          3.416085011608445e+76,
          1.2332066891906489e+79
         ],
         "yaxis": "y"
        },
        {
         "hovertemplate": "variable=11<br>index=%{x}<br>value=%{y}<extra></extra>",
         "legendgroup": "11",
         "line": {
          "color": "#EF553B",
          "dash": "solid"
         },
         "marker": {
          "symbol": "circle"
         },
         "mode": "lines",
         "name": "11",
         "orientation": "v",
         "showlegend": true,
         "type": "scatter",
         "x": [
          0,
          1,
          2,
          3,
          4,
          5,
          6,
          7,
          8,
          9,
          10,
          11,
          12,
          13,
          14,
          15,
          16,
          17,
          18,
          19,
          20,
          21,
          22,
          23,
          24,
          25,
          26,
          27,
          28,
          29,
          30
         ],
         "xaxis": "x",
         "y": [
          100.94938575341203,
          36442.72825698175,
          13155824.900770415,
          4749252789.178119,
          1714480256893.3008,
          618927372738481.8,
          223432781558591870,
          80659234142651680000,
          2.911798352549725e+22,
          1.0511592052704511e+25,
          3.7946847310263274e+27,
          1.369881187900504e+30,
          4.9452710883208196e+32,
          1.7852428628838156e+35,
          6.444726735010575e+37,
          2.3265463513388173e+40,
          8.398832328333131e+42,
          3.03197847052826e+45,
          1.0945442278607017e+48,
          3.951304662577134e+50,
          1.426420983190345e+53,
          5.149379749317144e+55,
          1.8589260895034893e+58,
          6.710723183107597e+60,
          2.4225710691018425e+63,
          8.74548155945765e+65,
          3.1571188429642122e+68,
          1.139719902310081e+71,
          4.114388847339391e+73,
          1.4852943738895204e+76,
          5.361912689741167e+78
         ],
         "yaxis": "y"
        },
        {
         "hovertemplate": "variable=12<br>index=%{x}<br>value=%{y}<extra></extra>",
         "legendgroup": "12",
         "line": {
          "color": "#00cc96",
          "dash": "solid"
         },
         "marker": {
          "symbol": "circle"
         },
         "mode": "lines",
         "name": "12",
         "orientation": "v",
         "showlegend": true,
         "type": "scatter",
         "x": [
          0,
          1,
          2,
          3,
          4,
          5,
          6,
          7,
          8,
          9,
          10,
          11,
          12,
          13,
          14,
          15,
          16,
          17,
          18,
          19,
          20,
          21,
          22,
          23,
          24,
          25,
          26,
          27,
          28,
          29,
          30
         ],
         "xaxis": "x",
         "y": [
          548.3300562717166,
          197947.15031408967,
          71458921.26338637,
          25796670576.082485,
          9312598077965.777,
          3361847906145645,
          1213627094118578000,
          438119380976806600000,
          1.5816109653262716e+23,
          5.709615584827841e+25,
          2.0611712261228506e+28,
          7.44082812630349e+30,
          2.68613895359556e+33,
          9.696961622479972e+35,
          3.50060314571527e+38,
          1.2637177356032121e+41,
          4.562021025527595e+43,
          1.6468895902154618e+46,
          5.945271420677818e+48,
          2.146242982864693e+51,
          7.74793716814154e+53,
          2.797005317699096e+56,
          1.0097189196893738e+59,
          3.64508530007864e+61,
          1.3158757933283891e+64,
          4.7503116139154845e+66,
          1.7148624926234902e+69,
          6.190653598370799e+71,
          2.234825949011859e+74,
          8.06772167593281e+76,
          2.912447525011744e+79
         ],
         "yaxis": "y"
        },
        {
         "hovertemplate": "variable=13<br>index=%{x}<br>value=%{y}<extra></extra>",
         "legendgroup": "13",
         "line": {
          "color": "#ab63fa",
          "dash": "solid"
         },
         "marker": {
          "symbol": "circle"
         },
         "mode": "lines",
         "name": "13",
         "orientation": "v",
         "showlegend": true,
         "type": "scatter",
         "x": [
          0,
          1,
          2,
          3,
          4,
          5,
          6,
          7,
          8,
          9,
          10,
          11,
          12,
          13,
          14,
          15,
          16,
          17,
          18,
          19,
          20,
          21,
          22,
          23,
          24,
          25,
          26,
          27,
          28,
          29,
          30
         ],
         "xaxis": "x",
         "y": [
          550.258447976661,
          198643.29971957463,
          71710231.19876644,
          25887393462.754692,
          9345349040054.443,
          3373671003459654,
          1217895232248935000,
          439660178841865550000,
          1.5871732456191347e+23,
          5.729695416685076e+25,
          2.068420045423312e+28,
          7.46699636397816e+30,
          2.695585687396116e+33,
          9.731064331499982e+35,
          3.512914223671493e+38,
          1.2681620347454093e+41,
          4.578064945430928e+43,
          1.6526814453005655e+46,
          5.96618001753504e+48,
          2.1537909863301503e+51,
          7.775185460651844e+53,
          2.8068419512953157e+56,
          1.013269944417609e+59,
          3.6579044993475684e+61,
          1.320503524264472e+64,
          4.767017722594744e+66,
          1.7208933978567028e+69,
          6.212425166262697e+71,
          2.2426854850208338e+74,
          8.09609460092521e+76,
          2.922690150934001e+79
         ],
         "yaxis": "y"
        },
        {
         "hovertemplate": "variable=14<br>index=%{x}<br>value=%{y}<extra></extra>",
         "legendgroup": "14",
         "line": {
          "color": "#FFA15A",
          "dash": "solid"
         },
         "marker": {
          "symbol": "circle"
         },
         "mode": "lines",
         "name": "14",
         "orientation": "v",
         "showlegend": true,
         "type": "scatter",
         "x": [
          0,
          1,
          2,
          3,
          4,
          5,
          6,
          7,
          8,
          9,
          10,
          11,
          12,
          13,
          14,
          15,
          16,
          17,
          18,
          19,
          20,
          21,
          22,
          23,
          24,
          25,
          26,
          27,
          28,
          29,
          30
         ],
         "xaxis": "x",
         "y": [
          435.05861882920163,
          157056.16139734178,
          56697274.26444039,
          20467716009.462975,
          7388845479416.136,
          2667373218069225.5,
          962921731722990300,
          347614745151999600000,
          1.2548892299987181e+23,
          4.530150120295373e+25,
          1.6353841934266295e+28,
          5.903736938270134e+30,
          2.1312490347155182e+33,
          7.69380901532302e+35,
          2.7774650545316104e+38,
          1.0026648846859112e+41,
          3.6196202337161397e+43,
          1.3066829043715268e+46,
          4.7171252847812114e+48,
          1.7028822278060172e+51,
          6.147404842379722e+53,
          2.219213148099079e+56,
          8.011359464637674e+58,
          2.8921007667342e+61,
          1.0440483767910463e+64,
          3.7690146402156766e+66,
          1.3606142851178588e+69,
          4.911817569275471e+71,
          1.773166142508445e+74,
          6.401129774455485e+76,
          2.31080784857843e+79
         ],
         "yaxis": "y"
        },
        {
         "hovertemplate": "variable=15<br>index=%{x}<br>value=%{y}<extra></extra>",
         "legendgroup": "15",
         "line": {
          "color": "#19d3f3",
          "dash": "solid"
         },
         "marker": {
          "symbol": "circle"
         },
         "mode": "lines",
         "name": "15",
         "orientation": "v",
         "showlegend": true,
         "type": "scatter",
         "x": [
          0,
          1,
          2,
          3,
          4,
          5,
          6,
          7,
          8,
          9,
          10,
          11,
          12,
          13,
          14,
          15,
          16,
          17,
          18,
          19,
          20,
          21,
          22,
          23,
          24,
          25,
          26,
          27,
          28,
          29,
          30
         ],
         "xaxis": "x",
         "y": [
          497.75993688225185,
          179691.33721449293,
          64868572.73443194,
          23417554757.129932,
          8453737267323.908,
          3051799153503930.5,
          1101699494414919000,
          397713517483785850000,
          1.4357457981164665e+23,
          5.183042331200444e+25,
          1.8710782815633605e+28,
          6.754592596443731e+30,
          2.4384079273161873e+33,
          8.802652617611436e+35,
          3.1777575949577283e+38,
          1.14717049177974e+41,
          4.1412854753248606e+43,
          1.4950040565922745e+46,
          5.39696464429811e+48,
          1.9483042365916174e+51,
          7.033378294095739e+53,
          2.5390495641685616e+56,
          9.165968926648507e+58,
          3.3089147825201104e+61,
          1.1945182364897601e+64,
          4.312210833728035e+66,
          1.5567081109758204e+69,
          5.619716280622713e+71,
          2.0287175773047995e+74,
          7.323670454070327e+76,
          2.6438450339193877e+79
         ],
         "yaxis": "y"
        },
        {
         "hovertemplate": "variable=16<br>index=%{x}<br>value=%{y}<extra></extra>",
         "legendgroup": "16",
         "line": {
          "color": "#FF6692",
          "dash": "solid"
         },
         "marker": {
          "symbol": "circle"
         },
         "mode": "lines",
         "name": "16",
         "orientation": "v",
         "showlegend": true,
         "type": "scatter",
         "x": [
          0,
          1,
          2,
          3,
          4,
          5,
          6,
          7,
          8,
          9,
          10,
          11,
          12,
          13,
          14,
          15,
          16,
          17,
          18,
          19,
          20,
          21,
          22,
          23,
          24,
          25,
          26,
          27,
          28,
          29,
          30
         ],
         "xaxis": "x",
         "y": [
          355.1750522929577,
          128218.19387775772,
          46286767.98987053,
          16709523244.34326,
          6032137891207.916,
          2177601778726057.2,
          786114242120106900,
          283787241405358570000,
          1.0244719414733446e+23,
          3.698343708718773e+25,
          1.3351020788474772e+28,
          4.819718504639392e+30,
          1.739918380174821e+33,
          6.2811053524311046e+35,
          2.267479032227629e+38,
          8.18559930634174e+40,
          2.955001349589368e+43,
          1.066755487201762e+46,
          3.8509873087983605e+48,
          1.3902064184762079e+51,
          5.01864517069911e+53,
          1.8117309066223792e+56,
          6.540348572906789e+58,
          2.361065834819351e+61,
          8.523447663697856e+63,
          3.0769646065949263e+66,
          1.1107842229807686e+69,
          4.009931044960575e+71,
          1.4475851072307675e+74,
          5.2257822371030694e+76,
          1.8865073875942083e+79
         ],
         "yaxis": "y"
        },
        {
         "hovertemplate": "variable=17<br>index=%{x}<br>value=%{y}<extra></extra>",
         "legendgroup": "17",
         "line": {
          "color": "#B6E880",
          "dash": "solid"
         },
         "marker": {
          "symbol": "circle"
         },
         "mode": "lines",
         "name": "17",
         "orientation": "v",
         "showlegend": true,
         "type": "scatter",
         "x": [
          0,
          1,
          2,
          3,
          4,
          5,
          6,
          7,
          8,
          9,
          10,
          11,
          12,
          13,
          14,
          15,
          16,
          17,
          18,
          19,
          20,
          21,
          22,
          23,
          24,
          25,
          26,
          27,
          28,
          29,
          30
         ],
         "xaxis": "x",
         "y": [
          1642.8711762552643,
          593076.4946281505,
          214100614.56076232,
          77290321856.4352,
          27901806190173.105,
          10072552034652492,
          3636191284509548500,
          1.3126650537079472e+21,
          4.7387208438856886e+23,
          1.710678224642734e+26,
          6.17554839096027e+28,
          2.229372969136657e+31,
          8.048036418583334e+33,
          2.905341147108583e+36,
          1.0488281541061984e+39,
          3.7862696363233764e+41,
          1.3668433387127389e+44,
          4.934304452752988e+46,
          1.7812839074438289e+49,
          6.430434905872221e+51,
          2.321387001019872e+54,
          8.380207073681739e+56,
          3.0252547535991077e+59,
          1.092116966049278e+62,
          3.9425422474378935e+64,
          1.4232577513250795e+67,
          5.137960482283537e+69,
          1.8548037341043573e+72,
          6.695841480116729e+74,
          2.4171987743221396e+77,
          8.726087575302924e+79
         ],
         "yaxis": "y"
        },
        {
         "hovertemplate": "variable=18<br>index=%{x}<br>value=%{y}<extra></extra>",
         "legendgroup": "18",
         "line": {
          "color": "#FF97FF",
          "dash": "solid"
         },
         "marker": {
          "symbol": "circle"
         },
         "mode": "lines",
         "name": "18",
         "orientation": "v",
         "showlegend": true,
         "type": "scatter",
         "x": [
          0,
          1,
          2,
          3,
          4,
          5,
          6,
          7,
          8,
          9,
          10,
          11,
          12,
          13,
          14,
          15,
          16,
          17,
          18,
          19,
          20,
          21,
          22,
          23,
          24,
          25,
          26,
          27,
          28,
          29,
          30
         ],
         "xaxis": "x",
         "y": [
          121.21217779513194,
          43757.59618404263,
          15796492.222439386,
          5702533692.300619,
          2058614662920.524,
          743159893314309.2,
          268280721486465660,
          96849340456614100000,
          3.4962611904837688e+22,
          1.262150289764641e+25,
          4.556362546050354e+27,
          1.6448468791241776e+30,
          5.937897233638282e+32,
          2.1435809013434195e+35,
          7.738327053849744e+37,
          2.793536066439757e+40,
          1.0084665199847524e+43,
          3.6405641371449557e+45,
          1.3142436535093292e+48,
          4.744419589168678e+50,
          1.7127354716898924e+53,
          6.182975052800513e+55,
          2.232053994060985e+58,
          8.057714918560155e+60,
          2.9088350856002164e+63,
          1.0500894659016784e+66,
          3.790822971905058e+68,
          1.3684870928577256e+71,
          4.94023840521639e+73,
          1.783426064283117e+76,
          6.438168092062053e+78
         ],
         "yaxis": "y"
        },
        {
         "hovertemplate": "variable=19<br>index=%{x}<br>value=%{y}<extra></extra>",
         "legendgroup": "19",
         "line": {
          "color": "#FECB52",
          "dash": "solid"
         },
         "marker": {
          "symbol": "circle"
         },
         "mode": "lines",
         "name": "19",
         "orientation": "v",
         "showlegend": true,
         "type": "scatter",
         "x": [
          0,
          1,
          2,
          3,
          4,
          5,
          6,
          7,
          8,
          9,
          10,
          11,
          12,
          13,
          14,
          15,
          16,
          17,
          18,
          19,
          20,
          21,
          22,
          23,
          24,
          25,
          26,
          27,
          28,
          29,
          30
         ],
         "xaxis": "x",
         "y": [
          216.56330747121388,
          78179.3539971082,
          28222746.79295606,
          10188411592.25714,
          3678016584804.827,
          1327763987114542.5,
          479322799348349800,
          173035530564754280000,
          6.24658265338763e+22,
          2.2550163378729346e+25,
          8.140608979721292e+27,
          2.938759841679387e+30,
          1.0608923028462585e+33,
          3.829821213274993e+35,
          1.3825654579922722e+38,
          4.991061303352103e+40,
          1.801773130510109e+43,
          6.504401001141495e+45,
          2.3480887614120796e+48,
          8.47660042869761e+50,
          3.060052754759837e+53,
          1.1046790444683012e+56,
          3.987891350530567e+58,
          1.4396287775415348e+61,
          5.1970598869249394e+63,
          1.876138619179903e+66,
          6.77286041523945e+68,
          2.445002609901441e+71,
          8.8264594217442e+73,
          3.186351851249657e+76,
          1.1502730183011261e+79
         ],
         "yaxis": "y"
        }
       ],
       "layout": {
        "legend": {
         "title": {
          "text": "Inicialização"
         },
         "tracegroupgap": 0
        },
        "template": {
         "data": {
          "bar": [
           {
            "error_x": {
             "color": "#2a3f5f"
            },
            "error_y": {
             "color": "#2a3f5f"
            },
            "marker": {
             "line": {
              "color": "#E5ECF6",
              "width": 0.5
             },
             "pattern": {
              "fillmode": "overlay",
              "size": 10,
              "solidity": 0.2
             }
            },
            "type": "bar"
           }
          ],
          "barpolar": [
           {
            "marker": {
             "line": {
              "color": "#E5ECF6",
              "width": 0.5
             },
             "pattern": {
              "fillmode": "overlay",
              "size": 10,
              "solidity": 0.2
             }
            },
            "type": "barpolar"
           }
          ],
          "carpet": [
           {
            "aaxis": {
             "endlinecolor": "#2a3f5f",
             "gridcolor": "white",
             "linecolor": "white",
             "minorgridcolor": "white",
             "startlinecolor": "#2a3f5f"
            },
            "baxis": {
             "endlinecolor": "#2a3f5f",
             "gridcolor": "white",
             "linecolor": "white",
             "minorgridcolor": "white",
             "startlinecolor": "#2a3f5f"
            },
            "type": "carpet"
           }
          ],
          "choropleth": [
           {
            "colorbar": {
             "outlinewidth": 0,
             "ticks": ""
            },
            "type": "choropleth"
           }
          ],
          "contour": [
           {
            "colorbar": {
             "outlinewidth": 0,
             "ticks": ""
            },
            "colorscale": [
             [
              0,
              "#0d0887"
             ],
             [
              0.1111111111111111,
              "#46039f"
             ],
             [
              0.2222222222222222,
              "#7201a8"
             ],
             [
              0.3333333333333333,
              "#9c179e"
             ],
             [
              0.4444444444444444,
              "#bd3786"
             ],
             [
              0.5555555555555556,
              "#d8576b"
             ],
             [
              0.6666666666666666,
              "#ed7953"
             ],
             [
              0.7777777777777778,
              "#fb9f3a"
             ],
             [
              0.8888888888888888,
              "#fdca26"
             ],
             [
              1,
              "#f0f921"
             ]
            ],
            "type": "contour"
           }
          ],
          "contourcarpet": [
           {
            "colorbar": {
             "outlinewidth": 0,
             "ticks": ""
            },
            "type": "contourcarpet"
           }
          ],
          "heatmap": [
           {
            "colorbar": {
             "outlinewidth": 0,
             "ticks": ""
            },
            "colorscale": [
             [
              0,
              "#0d0887"
             ],
             [
              0.1111111111111111,
              "#46039f"
             ],
             [
              0.2222222222222222,
              "#7201a8"
             ],
             [
              0.3333333333333333,
              "#9c179e"
             ],
             [
              0.4444444444444444,
              "#bd3786"
             ],
             [
              0.5555555555555556,
              "#d8576b"
             ],
             [
              0.6666666666666666,
              "#ed7953"
             ],
             [
              0.7777777777777778,
              "#fb9f3a"
             ],
             [
              0.8888888888888888,
              "#fdca26"
             ],
             [
              1,
              "#f0f921"
             ]
            ],
            "type": "heatmap"
           }
          ],
          "heatmapgl": [
           {
            "colorbar": {
             "outlinewidth": 0,
             "ticks": ""
            },
            "colorscale": [
             [
              0,
              "#0d0887"
             ],
             [
              0.1111111111111111,
              "#46039f"
             ],
             [
              0.2222222222222222,
              "#7201a8"
             ],
             [
              0.3333333333333333,
              "#9c179e"
             ],
             [
              0.4444444444444444,
              "#bd3786"
             ],
             [
              0.5555555555555556,
              "#d8576b"
             ],
             [
              0.6666666666666666,
              "#ed7953"
             ],
             [
              0.7777777777777778,
              "#fb9f3a"
             ],
             [
              0.8888888888888888,
              "#fdca26"
             ],
             [
              1,
              "#f0f921"
             ]
            ],
            "type": "heatmapgl"
           }
          ],
          "histogram": [
           {
            "marker": {
             "pattern": {
              "fillmode": "overlay",
              "size": 10,
              "solidity": 0.2
             }
            },
            "type": "histogram"
           }
          ],
          "histogram2d": [
           {
            "colorbar": {
             "outlinewidth": 0,
             "ticks": ""
            },
            "colorscale": [
             [
              0,
              "#0d0887"
             ],
             [
              0.1111111111111111,
              "#46039f"
             ],
             [
              0.2222222222222222,
              "#7201a8"
             ],
             [
              0.3333333333333333,
              "#9c179e"
             ],
             [
              0.4444444444444444,
              "#bd3786"
             ],
             [
              0.5555555555555556,
              "#d8576b"
             ],
             [
              0.6666666666666666,
              "#ed7953"
             ],
             [
              0.7777777777777778,
              "#fb9f3a"
             ],
             [
              0.8888888888888888,
              "#fdca26"
             ],
             [
              1,
              "#f0f921"
             ]
            ],
            "type": "histogram2d"
           }
          ],
          "histogram2dcontour": [
           {
            "colorbar": {
             "outlinewidth": 0,
             "ticks": ""
            },
            "colorscale": [
             [
              0,
              "#0d0887"
             ],
             [
              0.1111111111111111,
              "#46039f"
             ],
             [
              0.2222222222222222,
              "#7201a8"
             ],
             [
              0.3333333333333333,
              "#9c179e"
             ],
             [
              0.4444444444444444,
              "#bd3786"
             ],
             [
              0.5555555555555556,
              "#d8576b"
             ],
             [
              0.6666666666666666,
              "#ed7953"
             ],
             [
              0.7777777777777778,
              "#fb9f3a"
             ],
             [
              0.8888888888888888,
              "#fdca26"
             ],
             [
              1,
              "#f0f921"
             ]
            ],
            "type": "histogram2dcontour"
           }
          ],
          "mesh3d": [
           {
            "colorbar": {
             "outlinewidth": 0,
             "ticks": ""
            },
            "type": "mesh3d"
           }
          ],
          "parcoords": [
           {
            "line": {
             "colorbar": {
              "outlinewidth": 0,
              "ticks": ""
             }
            },
            "type": "parcoords"
           }
          ],
          "pie": [
           {
            "automargin": true,
            "type": "pie"
           }
          ],
          "scatter": [
           {
            "fillpattern": {
             "fillmode": "overlay",
             "size": 10,
             "solidity": 0.2
            },
            "type": "scatter"
           }
          ],
          "scatter3d": [
           {
            "line": {
             "colorbar": {
              "outlinewidth": 0,
              "ticks": ""
             }
            },
            "marker": {
             "colorbar": {
              "outlinewidth": 0,
              "ticks": ""
             }
            },
            "type": "scatter3d"
           }
          ],
          "scattercarpet": [
           {
            "marker": {
             "colorbar": {
              "outlinewidth": 0,
              "ticks": ""
             }
            },
            "type": "scattercarpet"
           }
          ],
          "scattergeo": [
           {
            "marker": {
             "colorbar": {
              "outlinewidth": 0,
              "ticks": ""
             }
            },
            "type": "scattergeo"
           }
          ],
          "scattergl": [
           {
            "marker": {
             "colorbar": {
              "outlinewidth": 0,
              "ticks": ""
             }
            },
            "type": "scattergl"
           }
          ],
          "scattermapbox": [
           {
            "marker": {
             "colorbar": {
              "outlinewidth": 0,
              "ticks": ""
             }
            },
            "type": "scattermapbox"
           }
          ],
          "scatterpolar": [
           {
            "marker": {
             "colorbar": {
              "outlinewidth": 0,
              "ticks": ""
             }
            },
            "type": "scatterpolar"
           }
          ],
          "scatterpolargl": [
           {
            "marker": {
             "colorbar": {
              "outlinewidth": 0,
              "ticks": ""
             }
            },
            "type": "scatterpolargl"
           }
          ],
          "scatterternary": [
           {
            "marker": {
             "colorbar": {
              "outlinewidth": 0,
              "ticks": ""
             }
            },
            "type": "scatterternary"
           }
          ],
          "surface": [
           {
            "colorbar": {
             "outlinewidth": 0,
             "ticks": ""
            },
            "colorscale": [
             [
              0,
              "#0d0887"
             ],
             [
              0.1111111111111111,
              "#46039f"
             ],
             [
              0.2222222222222222,
              "#7201a8"
             ],
             [
              0.3333333333333333,
              "#9c179e"
             ],
             [
              0.4444444444444444,
              "#bd3786"
             ],
             [
              0.5555555555555556,
              "#d8576b"
             ],
             [
              0.6666666666666666,
              "#ed7953"
             ],
             [
              0.7777777777777778,
              "#fb9f3a"
             ],
             [
              0.8888888888888888,
              "#fdca26"
             ],
             [
              1,
              "#f0f921"
             ]
            ],
            "type": "surface"
           }
          ],
          "table": [
           {
            "cells": {
             "fill": {
              "color": "#EBF0F8"
             },
             "line": {
              "color": "white"
             }
            },
            "header": {
             "fill": {
              "color": "#C8D4E3"
             },
             "line": {
              "color": "white"
             }
            },
            "type": "table"
           }
          ]
         },
         "layout": {
          "annotationdefaults": {
           "arrowcolor": "#2a3f5f",
           "arrowhead": 0,
           "arrowwidth": 1
          },
          "autotypenumbers": "strict",
          "coloraxis": {
           "colorbar": {
            "outlinewidth": 0,
            "ticks": ""
           }
          },
          "colorscale": {
           "diverging": [
            [
             0,
             "#8e0152"
            ],
            [
             0.1,
             "#c51b7d"
            ],
            [
             0.2,
             "#de77ae"
            ],
            [
             0.3,
             "#f1b6da"
            ],
            [
             0.4,
             "#fde0ef"
            ],
            [
             0.5,
             "#f7f7f7"
            ],
            [
             0.6,
             "#e6f5d0"
            ],
            [
             0.7,
             "#b8e186"
            ],
            [
             0.8,
             "#7fbc41"
            ],
            [
             0.9,
             "#4d9221"
            ],
            [
             1,
             "#276419"
            ]
           ],
           "sequential": [
            [
             0,
             "#0d0887"
            ],
            [
             0.1111111111111111,
             "#46039f"
            ],
            [
             0.2222222222222222,
             "#7201a8"
            ],
            [
             0.3333333333333333,
             "#9c179e"
            ],
            [
             0.4444444444444444,
             "#bd3786"
            ],
            [
             0.5555555555555556,
             "#d8576b"
            ],
            [
             0.6666666666666666,
             "#ed7953"
            ],
            [
             0.7777777777777778,
             "#fb9f3a"
            ],
            [
             0.8888888888888888,
             "#fdca26"
            ],
            [
             1,
             "#f0f921"
            ]
           ],
           "sequentialminus": [
            [
             0,
             "#0d0887"
            ],
            [
             0.1111111111111111,
             "#46039f"
            ],
            [
             0.2222222222222222,
             "#7201a8"
            ],
            [
             0.3333333333333333,
             "#9c179e"
            ],
            [
             0.4444444444444444,
             "#bd3786"
            ],
            [
             0.5555555555555556,
             "#d8576b"
            ],
            [
             0.6666666666666666,
             "#ed7953"
            ],
            [
             0.7777777777777778,
             "#fb9f3a"
            ],
            [
             0.8888888888888888,
             "#fdca26"
            ],
            [
             1,
             "#f0f921"
            ]
           ]
          },
          "colorway": [
           "#636efa",
           "#EF553B",
           "#00cc96",
           "#ab63fa",
           "#FFA15A",
           "#19d3f3",
           "#FF6692",
           "#B6E880",
           "#FF97FF",
           "#FECB52"
          ],
          "font": {
           "color": "#2a3f5f"
          },
          "geo": {
           "bgcolor": "white",
           "lakecolor": "white",
           "landcolor": "#E5ECF6",
           "showlakes": true,
           "showland": true,
           "subunitcolor": "white"
          },
          "hoverlabel": {
           "align": "left"
          },
          "hovermode": "closest",
          "mapbox": {
           "style": "light"
          },
          "paper_bgcolor": "white",
          "plot_bgcolor": "#E5ECF6",
          "polar": {
           "angularaxis": {
            "gridcolor": "white",
            "linecolor": "white",
            "ticks": ""
           },
           "bgcolor": "#E5ECF6",
           "radialaxis": {
            "gridcolor": "white",
            "linecolor": "white",
            "ticks": ""
           }
          },
          "scene": {
           "xaxis": {
            "backgroundcolor": "#E5ECF6",
            "gridcolor": "white",
            "gridwidth": 2,
            "linecolor": "white",
            "showbackground": true,
            "ticks": "",
            "zerolinecolor": "white"
           },
           "yaxis": {
            "backgroundcolor": "#E5ECF6",
            "gridcolor": "white",
            "gridwidth": 2,
            "linecolor": "white",
            "showbackground": true,
            "ticks": "",
            "zerolinecolor": "white"
           },
           "zaxis": {
            "backgroundcolor": "#E5ECF6",
            "gridcolor": "white",
            "gridwidth": 2,
            "linecolor": "white",
            "showbackground": true,
            "ticks": "",
            "zerolinecolor": "white"
           }
          },
          "shapedefaults": {
           "line": {
            "color": "#2a3f5f"
           }
          },
          "ternary": {
           "aaxis": {
            "gridcolor": "white",
            "linecolor": "white",
            "ticks": ""
           },
           "baxis": {
            "gridcolor": "white",
            "linecolor": "white",
            "ticks": ""
           },
           "bgcolor": "#E5ECF6",
           "caxis": {
            "gridcolor": "white",
            "linecolor": "white",
            "ticks": ""
           }
          },
          "title": {
           "x": 0.05
          },
          "xaxis": {
           "automargin": true,
           "gridcolor": "white",
           "linecolor": "white",
           "ticks": "",
           "title": {
            "standoff": 15
           },
           "zerolinecolor": "white",
           "zerolinewidth": 2
          },
          "yaxis": {
           "automargin": true,
           "gridcolor": "white",
           "linecolor": "white",
           "ticks": "",
           "title": {
            "standoff": 15
           },
           "zerolinecolor": "white",
           "zerolinewidth": 2
          }
         }
        },
        "title": {
         "text": "Treino da func. esfera em R2 com alpha 10.0 - Tempo médio para 30 iterações: 0.653 ms"
        },
        "xaxis": {
         "anchor": "y",
         "domain": [
          0,
          1
         ],
         "title": {
          "text": "Iterações"
         }
        },
        "yaxis": {
         "anchor": "x",
         "domain": [
          0,
          1
         ],
         "title": {
          "text": "Valor da função esfera"
         }
        }
       }
      }
     },
     "metadata": {},
     "output_type": "display_data"
    }
   ],
   "source": [
    "treina_gradiente(1e1, 2, 'esfera', 30)"
   ]
  },
  {
   "attachments": {},
   "cell_type": "markdown",
   "metadata": {},
   "source": [
    "### 2. Otimização da esfera em $\\mathbb{R}^{3}$ com 20 inicializações:"
   ]
  },
  {
   "attachments": {},
   "cell_type": "markdown",
   "metadata": {},
   "source": [
    "Caso 2.1: $\\alpha$ = 0.1, treinamento por 30 iterações"
   ]
  },
  {
   "cell_type": "code",
   "execution_count": 33,
   "metadata": {},
   "outputs": [
    {
     "data": {
      "application/vnd.plotly.v1+json": {
       "config": {
        "plotlyServerURL": "https://plot.ly"
       },
       "data": [
        {
         "hovertemplate": "variable=0<br>index=%{x}<br>value=%{y}<extra></extra>",
         "legendgroup": "0",
         "line": {
          "color": "#636efa",
          "dash": "solid"
         },
         "marker": {
          "symbol": "circle"
         },
         "mode": "lines",
         "name": "0",
         "orientation": "v",
         "showlegend": true,
         "type": "scatter",
         "x": [
          0,
          1,
          2,
          3,
          4,
          5,
          6,
          7,
          8,
          9,
          10,
          11,
          12,
          13,
          14,
          15,
          16,
          17,
          18,
          19,
          20,
          21,
          22,
          23,
          24,
          25,
          26,
          27,
          28,
          29,
          30
         ],
         "xaxis": "x",
         "y": [
          868.6687025238106,
          555.9479696152387,
          355.80670055375276,
          227.71628835440183,
          145.73842454681716,
          93.27259170996298,
          59.69445869437631,
          38.20445356440084,
          24.450850281216535,
          15.648544179978582,
          10.015068275186291,
          6.409643696119226,
          4.1021719655163045,
          2.6253900579304346,
          1.6802496370754783,
          1.075359767728306,
          0.6882302513461158,
          0.44046736086151406,
          0.281899110951369,
          0.18041543100887614,
          0.11546587584568074,
          0.07389816054123567,
          0.04729482274639083,
          0.030268686557690133,
          0.019371959396921684,
          0.012398054014029877,
          0.007934754568979121,
          0.005078242924146637,
          0.003250075471453848,
          0.002080048301730463,
          0.0013312309131074964
         ],
         "yaxis": "y"
        },
        {
         "hovertemplate": "variable=1<br>index=%{x}<br>value=%{y}<extra></extra>",
         "legendgroup": "1",
         "line": {
          "color": "#EF553B",
          "dash": "solid"
         },
         "marker": {
          "symbol": "circle"
         },
         "mode": "lines",
         "name": "1",
         "orientation": "v",
         "showlegend": true,
         "type": "scatter",
         "x": [
          0,
          1,
          2,
          3,
          4,
          5,
          6,
          7,
          8,
          9,
          10,
          11,
          12,
          13,
          14,
          15,
          16,
          17,
          18,
          19,
          20,
          21,
          22,
          23,
          24,
          25,
          26,
          27,
          28,
          29,
          30
         ],
         "xaxis": "x",
         "y": [
          742.2960705669109,
          475.06948516282296,
          304.0444705042067,
          194.58846112269225,
          124.53661511852306,
          79.70343367585474,
          51.010197552547034,
          32.6465264336301,
          20.89377691752327,
          13.372017227214892,
          8.55809102541753,
          5.477178256267218,
          3.5053940840110203,
          2.243452213767053,
          1.435809416810914,
          0.9189180267589849,
          0.5881075371257504,
          0.3763888237604803,
          0.24088884720670733,
          0.1541688622122927,
          0.09866807181586736,
          0.0631475659621551,
          0.04041444221577927,
          0.025865243018098737,
          0.01655375553158319,
          0.010594403540213243,
          0.006780418265736474,
          0.0043394676900713434,
          0.0027772593216456604,
          0.0017774459658532224,
          0.0011375654181460624
         ],
         "yaxis": "y"
        },
        {
         "hovertemplate": "variable=2<br>index=%{x}<br>value=%{y}<extra></extra>",
         "legendgroup": "2",
         "line": {
          "color": "#00cc96",
          "dash": "solid"
         },
         "marker": {
          "symbol": "circle"
         },
         "mode": "lines",
         "name": "2",
         "orientation": "v",
         "showlegend": true,
         "type": "scatter",
         "x": [
          0,
          1,
          2,
          3,
          4,
          5,
          6,
          7,
          8,
          9,
          10,
          11,
          12,
          13,
          14,
          15,
          16,
          17,
          18,
          19,
          20,
          21,
          22,
          23,
          24,
          25,
          26,
          27,
          28,
          29,
          30
         ],
         "xaxis": "x",
         "y": [
          629.1112941360319,
          402.6312282470604,
          257.6839860781186,
          164.91775108999593,
          105.54736069759738,
          67.55031084646231,
          43.23219894173588,
          27.66860732271097,
          17.707908686535017,
          11.33306155938241,
          7.253159398004743,
          4.642022014723036,
          2.9708940894227434,
          1.9013722172305556,
          1.2168782190275553,
          0.7788020601776354,
          0.49843331851368666,
          0.31899732384875945,
          0.20415828726320606,
          0.13066130384845187,
          0.0836232344630092,
          0.0535188700563259,
          0.03425207683604858,
          0.021921329175071082,
          0.014029650672045497,
          0.008978976430109116,
          0.005746544915269836,
          0.003677788745772695,
          0.002353784797294525,
          0.0015064222702684956,
          0.0009641102529718374
         ],
         "yaxis": "y"
        },
        {
         "hovertemplate": "variable=3<br>index=%{x}<br>value=%{y}<extra></extra>",
         "legendgroup": "3",
         "line": {
          "color": "#ab63fa",
          "dash": "solid"
         },
         "marker": {
          "symbol": "circle"
         },
         "mode": "lines",
         "name": "3",
         "orientation": "v",
         "showlegend": true,
         "type": "scatter",
         "x": [
          0,
          1,
          2,
          3,
          4,
          5,
          6,
          7,
          8,
          9,
          10,
          11,
          12,
          13,
          14,
          15,
          16,
          17,
          18,
          19,
          20,
          21,
          22,
          23,
          24,
          25,
          26,
          27,
          28,
          29,
          30
         ],
         "xaxis": "x",
         "y": [
          91.86245057132128,
          58.79196836564562,
          37.626859754013196,
          24.081190242568447,
          15.411961755243807,
          9.863655523356034,
          6.312739534947862,
          4.040153302366631,
          2.585698113514644,
          1.6548467926493726,
          1.0591019472955985,
          0.677825246269183,
          0.4338081576122771,
          0.2776372208718573,
          0.17768782135798866,
          0.11372020566911278,
          0.07278093162823217,
          0.046579796242068594,
          0.029811069594923897,
          0.019079084540751298,
          0.01221061410608083,
          0.007814793027891731,
          0.0050014675378507074,
          0.003200939224224453,
          0.00204860110350365,
          0.001311104706242336,
          0.0008391070119950951,
          0.0005370284876768609,
          0.0003436982321131909,
          0.00021996686855244217,
          0.000140778795873563
         ],
         "yaxis": "y"
        },
        {
         "hovertemplate": "variable=4<br>index=%{x}<br>value=%{y}<extra></extra>",
         "legendgroup": "4",
         "line": {
          "color": "#FFA15A",
          "dash": "solid"
         },
         "marker": {
          "symbol": "circle"
         },
         "mode": "lines",
         "name": "4",
         "orientation": "v",
         "showlegend": true,
         "type": "scatter",
         "x": [
          0,
          1,
          2,
          3,
          4,
          5,
          6,
          7,
          8,
          9,
          10,
          11,
          12,
          13,
          14,
          15,
          16,
          17,
          18,
          19,
          20,
          21,
          22,
          23,
          24,
          25,
          26,
          27,
          28,
          29,
          30
         ],
         "xaxis": "x",
         "y": [
          1702.1023775291787,
          1089.3455216186744,
          697.1811338359516,
          446.195925655009,
          285.56539241920575,
          182.76185114829167,
          116.96758473490667,
          74.85925423034027,
          47.90992270741777,
          30.662350532747368,
          19.62390434095832,
          12.559298778213323,
          8.037951218056527,
          5.144288779556177,
          3.292344818915953,
          2.1071006841062103,
          1.3485444378279745,
          0.8630684402099037,
          0.5523638017343384,
          0.3535128331099766,
          0.22624821319038502,
          0.14479885644184642,
          0.0926712681227817,
          0.059309611598580295,
          0.03795815142309139,
          0.024293216910778487,
          0.015547658822898235,
          0.009950501646654869,
          0.006368321053859116,
          0.004075725474469835,
          0.0026084643036606943
         ],
         "yaxis": "y"
        },
        {
         "hovertemplate": "variable=5<br>index=%{x}<br>value=%{y}<extra></extra>",
         "legendgroup": "5",
         "line": {
          "color": "#19d3f3",
          "dash": "solid"
         },
         "marker": {
          "symbol": "circle"
         },
         "mode": "lines",
         "name": "5",
         "orientation": "v",
         "showlegend": true,
         "type": "scatter",
         "x": [
          0,
          1,
          2,
          3,
          4,
          5,
          6,
          7,
          8,
          9,
          10,
          11,
          12,
          13,
          14,
          15,
          16,
          17,
          18,
          19,
          20,
          21,
          22,
          23,
          24,
          25,
          26,
          27,
          28,
          29,
          30
         ],
         "xaxis": "x",
         "y": [
          619.2663032944693,
          396.3304341084604,
          253.6514778294146,
          162.3369458108254,
          103.89564531892823,
          66.49321300411407,
          42.555656322633006,
          27.23562004648513,
          17.43079682975048,
          11.155709971040308,
          7.139654381465797,
          4.56937880413811,
          2.92440243464839,
          1.87161755817497,
          1.1978352372319807,
          0.7666145518284678,
          0.4906333131702194,
          0.31400532042894047,
          0.20096340507452187,
          0.128616579247694,
          0.08231461071852417,
          0.052681350859855466,
          0.0337160645503075,
          0.021578281312196797,
          0.013810100039805952,
          0.00883846402547581,
          0.005656616976304519,
          0.0036202348648348925,
          0.002316950313494331,
          0.0014828482006363718,
          0.000949022848407278
         ],
         "yaxis": "y"
        },
        {
         "hovertemplate": "variable=6<br>index=%{x}<br>value=%{y}<extra></extra>",
         "legendgroup": "6",
         "line": {
          "color": "#FF6692",
          "dash": "solid"
         },
         "marker": {
          "symbol": "circle"
         },
         "mode": "lines",
         "name": "6",
         "orientation": "v",
         "showlegend": true,
         "type": "scatter",
         "x": [
          0,
          1,
          2,
          3,
          4,
          5,
          6,
          7,
          8,
          9,
          10,
          11,
          12,
          13,
          14,
          15,
          16,
          17,
          18,
          19,
          20,
          21,
          22,
          23,
          24,
          25,
          26,
          27,
          28,
          29,
          30
         ],
         "xaxis": "x",
         "y": [
          1273.8891940562057,
          815.2890841959717,
          521.7850138854219,
          333.94240888667,
          213.7231416874688,
          136.78281067998003,
          87.54099883518722,
          56.02623925451982,
          35.85679312289268,
          22.948347598651317,
          14.686942463136843,
          9.39964317640758,
          6.015771632900852,
          3.850093845056545,
          2.464060060836189,
          1.5769984389351608,
          1.0092790009185029,
          0.6459385605878418,
          0.41340067877621883,
          0.2645764344167801,
          0.16932891802673924,
          0.10837050753711312,
          0.0693571248237524,
          0.04438855988720154,
          0.028408678327808988,
          0.018181554129797748,
          0.011636194643070561,
          0.007447164571565159,
          0.004766185325801702,
          0.0030503586085130893,
          0.0019522295094483771
         ],
         "yaxis": "y"
        },
        {
         "hovertemplate": "variable=7<br>index=%{x}<br>value=%{y}<extra></extra>",
         "legendgroup": "7",
         "line": {
          "color": "#B6E880",
          "dash": "solid"
         },
         "marker": {
          "symbol": "circle"
         },
         "mode": "lines",
         "name": "7",
         "orientation": "v",
         "showlegend": true,
         "type": "scatter",
         "x": [
          0,
          1,
          2,
          3,
          4,
          5,
          6,
          7,
          8,
          9,
          10,
          11,
          12,
          13,
          14,
          15,
          16,
          17,
          18,
          19,
          20,
          21,
          22,
          23,
          24,
          25,
          26,
          27,
          28,
          29,
          30
         ],
         "xaxis": "x",
         "y": [
          661.8842494750335,
          423.6059196640214,
          271.1077885849737,
          173.50898469438317,
          111.04575020440522,
          71.06928013081935,
          45.48433928372438,
          29.10997714158361,
          18.630385370613507,
          11.923446637192644,
          7.6310058478032925,
          4.883843742594108,
          3.125659995260229,
          2.0004223969665467,
          1.2802703340585897,
          0.8193730137974974,
          0.5243987288303984,
          0.335615186451455,
          0.21479371932893118,
          0.13746798037051597,
          0.08797950743713022,
          0.05630688475976334,
          0.03603640624624854,
          0.02306329999759906,
          0.014760511998463401,
          0.009446727679016576,
          0.006045905714570609,
          0.0038693796573251904,
          0.002476402980688122,
          0.001584897907640398,
          0.0010143346608898548
         ],
         "yaxis": "y"
        },
        {
         "hovertemplate": "variable=8<br>index=%{x}<br>value=%{y}<extra></extra>",
         "legendgroup": "8",
         "line": {
          "color": "#FF97FF",
          "dash": "solid"
         },
         "marker": {
          "symbol": "circle"
         },
         "mode": "lines",
         "name": "8",
         "orientation": "v",
         "showlegend": true,
         "type": "scatter",
         "x": [
          0,
          1,
          2,
          3,
          4,
          5,
          6,
          7,
          8,
          9,
          10,
          11,
          12,
          13,
          14,
          15,
          16,
          17,
          18,
          19,
          20,
          21,
          22,
          23,
          24,
          25,
          26,
          27,
          28,
          29,
          30
         ],
         "xaxis": "x",
         "y": [
          400.5954562504039,
          256.3810920002585,
          164.08389888016544,
          105.01369528330588,
          67.20876498131575,
          43.01360958804209,
          27.528710136346938,
          17.61837448726204,
          11.275759671847707,
          7.2164861899825326,
          4.61855116158882,
          2.9558727434168444,
          1.8917585557867804,
          1.2107254757035393,
          0.7748643044502653,
          0.4959131548481698,
          0.3173844191028287,
          0.2031260282258104,
          0.13000065806451866,
          0.08320042116129192,
          0.053248269543226825,
          0.034078892507665166,
          0.0218104912049057,
          0.01395871437113965,
          0.008933577197529376,
          0.0057174894064188015,
          0.003659193220108033,
          0.0023418836608691414,
          0.0014988055429562502,
          0.0009592355474920003,
          0.0006139107503948802
         ],
         "yaxis": "y"
        },
        {
         "hovertemplate": "variable=9<br>index=%{x}<br>value=%{y}<extra></extra>",
         "legendgroup": "9",
         "line": {
          "color": "#FECB52",
          "dash": "solid"
         },
         "marker": {
          "symbol": "circle"
         },
         "mode": "lines",
         "name": "9",
         "orientation": "v",
         "showlegend": true,
         "type": "scatter",
         "x": [
          0,
          1,
          2,
          3,
          4,
          5,
          6,
          7,
          8,
          9,
          10,
          11,
          12,
          13,
          14,
          15,
          16,
          17,
          18,
          19,
          20,
          21,
          22,
          23,
          24,
          25,
          26,
          27,
          28,
          29,
          30
         ],
         "xaxis": "x",
         "y": [
          733.0373136133345,
          469.143880712534,
          300.25208365602174,
          192.16133353985396,
          122.98325346550651,
          78.70928221792417,
          50.37394061947146,
          32.23932199646174,
          20.633166077735513,
          13.20522628975073,
          8.451344825440467,
          5.408860688281899,
          3.461670840500415,
          2.2154693379202652,
          1.4179003762689697,
          0.9074562408121408,
          0.5807719941197702,
          0.37169407623665296,
          0.23788420879145783,
          0.15224589362653304,
          0.09743737192098113,
          0.06235991802942793,
          0.03991034753883388,
          0.025542622424853677,
          0.016347278351906355,
          0.010462258145220067,
          0.0066958452129408435,
          0.00428534093628214,
          0.0027426181992205693,
          0.0017552756475011648,
          0.0011233764144007456
         ],
         "yaxis": "y"
        },
        {
         "hovertemplate": "variable=10<br>index=%{x}<br>value=%{y}<extra></extra>",
         "legendgroup": "10",
         "line": {
          "color": "#636efa",
          "dash": "solid"
         },
         "marker": {
          "symbol": "circle"
         },
         "mode": "lines",
         "name": "10",
         "orientation": "v",
         "showlegend": true,
         "type": "scatter",
         "x": [
          0,
          1,
          2,
          3,
          4,
          5,
          6,
          7,
          8,
          9,
          10,
          11,
          12,
          13,
          14,
          15,
          16,
          17,
          18,
          19,
          20,
          21,
          22,
          23,
          24,
          25,
          26,
          27,
          28,
          29,
          30
         ],
         "xaxis": "x",
         "y": [
          1990.2174966433956,
          1273.739197851773,
          815.1930866251348,
          521.7235754400863,
          333.9030882816552,
          213.69797650025933,
          136.76670496016598,
          87.53069117450623,
          56.019642351683984,
          35.85257110507775,
          22.945645507249758,
          14.685213124639846,
          9.398536399769501,
          6.015063295852479,
          3.8496405093455874,
          2.4637699259811754,
          1.5768127526279527,
          1.0091601616818897,
          0.6458625034764095,
          0.4133520022249021,
          0.2645452814239373,
          0.16930898011131987,
          0.10835774727124471,
          0.06934895825359662,
          0.04438333328230184,
          0.028405333300673172,
          0.018179413312430833,
          0.011634824519955731,
          0.007446287692771668,
          0.004765624123373868,
          0.0030499994389592755
         ],
         "yaxis": "y"
        },
        {
         "hovertemplate": "variable=11<br>index=%{x}<br>value=%{y}<extra></extra>",
         "legendgroup": "11",
         "line": {
          "color": "#EF553B",
          "dash": "solid"
         },
         "marker": {
          "symbol": "circle"
         },
         "mode": "lines",
         "name": "11",
         "orientation": "v",
         "showlegend": true,
         "type": "scatter",
         "x": [
          0,
          1,
          2,
          3,
          4,
          5,
          6,
          7,
          8,
          9,
          10,
          11,
          12,
          13,
          14,
          15,
          16,
          17,
          18,
          19,
          20,
          21,
          22,
          23,
          24,
          25,
          26,
          27,
          28,
          29,
          30
         ],
         "xaxis": "x",
         "y": [
          1328.2942284444503,
          850.1083062044481,
          544.0693159708468,
          348.20436222134197,
          222.85079182165885,
          142.62450676586164,
          91.27968433015145,
          58.418997971296925,
          37.38815870163003,
          23.928421569043216,
          15.31418980418766,
          9.801081474680103,
          6.272692143795266,
          4.014522972028971,
          2.5692947020985404,
          1.6443486093430661,
          1.0523831099795622,
          0.6735251903869199,
          0.43105612184762865,
          0.27587591798248234,
          0.17656058750878872,
          0.1129987760056248,
          0.07231921664359986,
          0.04628429865190392,
          0.029621951137218504,
          0.018958048727819844,
          0.012133151185804698,
          0.007765216758915007,
          0.004969738725705605,
          0.003180632784451587,
          0.0020356049820490153
         ],
         "yaxis": "y"
        },
        {
         "hovertemplate": "variable=12<br>index=%{x}<br>value=%{y}<extra></extra>",
         "legendgroup": "12",
         "line": {
          "color": "#00cc96",
          "dash": "solid"
         },
         "marker": {
          "symbol": "circle"
         },
         "mode": "lines",
         "name": "12",
         "orientation": "v",
         "showlegend": true,
         "type": "scatter",
         "x": [
          0,
          1,
          2,
          3,
          4,
          5,
          6,
          7,
          8,
          9,
          10,
          11,
          12,
          13,
          14,
          15,
          16,
          17,
          18,
          19,
          20,
          21,
          22,
          23,
          24,
          25,
          26,
          27,
          28,
          29,
          30
         ],
         "xaxis": "x",
         "y": [
          689.1800153576369,
          441.07520982888764,
          282.2881342904881,
          180.66440594591236,
          115.62521980538392,
          74.00014067544572,
          47.36009003228525,
          30.310457620662564,
          19.398692877224043,
          12.415163441423388,
          7.945704602510968,
          5.08525094560702,
          3.254560605188493,
          2.082918787320635,
          1.3330680238852066,
          0.8531635352865323,
          0.5460246625833806,
          0.3494557840533636,
          0.22365170179415272,
          0.14313708914825773,
          0.09160773705488497,
          0.05862895171512637,
          0.037522529097680876,
          0.024014418622515764,
          0.015369227918410088,
          0.009836305867782457,
          0.006295235755380774,
          0.004028950883443695,
          0.002578528565403965,
          0.0016502582818585375,
          0.0010561653003894641
         ],
         "yaxis": "y"
        },
        {
         "hovertemplate": "variable=13<br>index=%{x}<br>value=%{y}<extra></extra>",
         "legendgroup": "13",
         "line": {
          "color": "#ab63fa",
          "dash": "solid"
         },
         "marker": {
          "symbol": "circle"
         },
         "mode": "lines",
         "name": "13",
         "orientation": "v",
         "showlegend": true,
         "type": "scatter",
         "x": [
          0,
          1,
          2,
          3,
          4,
          5,
          6,
          7,
          8,
          9,
          10,
          11,
          12,
          13,
          14,
          15,
          16,
          17,
          18,
          19,
          20,
          21,
          22,
          23,
          24,
          25,
          26,
          27,
          28,
          29,
          30
         ],
         "xaxis": "x",
         "y": [
          963.6506359990003,
          616.7364070393603,
          394.71130050519054,
          252.61523232332195,
          161.67374868692605,
          103.47119915963268,
          66.22156746216491,
          42.381803175785535,
          27.124354032502744,
          17.359586580801757,
          11.110135411713124,
          7.110486663496399,
          4.550711464637695,
          2.9124553373681246,
          1.8639714159155996,
          1.1929417061859837,
          0.7634826919590296,
          0.48862892285377896,
          0.31272251062641854,
          0.2001424068009079,
          0.12809114035258104,
          0.08197832982565186,
          0.05246613108841719,
          0.033578323896587,
          0.021490127293815678,
          0.013753681468042036,
          0.008802356139546903,
          0.005633507929310017,
          0.003605445074758411,
          0.002307484847845383,
          0.0014767903026210452
         ],
         "yaxis": "y"
        },
        {
         "hovertemplate": "variable=14<br>index=%{x}<br>value=%{y}<extra></extra>",
         "legendgroup": "14",
         "line": {
          "color": "#FFA15A",
          "dash": "solid"
         },
         "marker": {
          "symbol": "circle"
         },
         "mode": "lines",
         "name": "14",
         "orientation": "v",
         "showlegend": true,
         "type": "scatter",
         "x": [
          0,
          1,
          2,
          3,
          4,
          5,
          6,
          7,
          8,
          9,
          10,
          11,
          12,
          13,
          14,
          15,
          16,
          17,
          18,
          19,
          20,
          21,
          22,
          23,
          24,
          25,
          26,
          27,
          28,
          29,
          30
         ],
         "xaxis": "x",
         "y": [
          1169.6143259649853,
          748.5531686175906,
          479.074027915258,
          306.6073778657651,
          196.22872183408964,
          125.5863819738174,
          80.37528446324313,
          51.4401820564756,
          32.921716516144386,
          21.069898570332406,
          13.484735085012739,
          8.630230454408153,
          5.523347490821219,
          3.5349423941255798,
          2.262363132240371,
          1.4479124046338372,
          0.9266639389656558,
          0.5930649209380198,
          0.3795615494003326,
          0.2429193916162129,
          0.15546841063437625,
          0.09949978280600082,
          0.06367986099584053,
          0.040755111037337935,
          0.02608327106389628,
          0.016693293480893618,
          0.010683707827771916,
          0.006837573009774025,
          0.004376046726255376,
          0.002800669904803441,
          0.001792428739074202
         ],
         "yaxis": "y"
        },
        {
         "hovertemplate": "variable=15<br>index=%{x}<br>value=%{y}<extra></extra>",
         "legendgroup": "15",
         "line": {
          "color": "#19d3f3",
          "dash": "solid"
         },
         "marker": {
          "symbol": "circle"
         },
         "mode": "lines",
         "name": "15",
         "orientation": "v",
         "showlegend": true,
         "type": "scatter",
         "x": [
          0,
          1,
          2,
          3,
          4,
          5,
          6,
          7,
          8,
          9,
          10,
          11,
          12,
          13,
          14,
          15,
          16,
          17,
          18,
          19,
          20,
          21,
          22,
          23,
          24,
          25,
          26,
          27,
          28,
          29,
          30
         ],
         "xaxis": "x",
         "y": [
          450.4732438878183,
          288.3028760882037,
          184.51384069645036,
          118.08885804572824,
          75.57686914926607,
          48.36919625553028,
          30.956285603539378,
          19.8120227862652,
          12.679694583209725,
          8.115004533254226,
          5.193602901282706,
          3.323905856820932,
          2.127299748365396,
          1.3614718389538534,
          0.8713419769304662,
          0.5576588652354985,
          0.35690167375071896,
          0.22841707120046015,
          0.1461869255682945,
          0.09355963236370846,
          0.05987816471277341,
          0.03832202541617498,
          0.02452609626635199,
          0.015696701610465272,
          0.010045889030697775,
          0.006429368979646577,
          0.004114796146973809,
          0.002633469534063238,
          0.0016854205018004722,
          0.0010786691211523021,
          0.0006903482375374734
         ],
         "yaxis": "y"
        },
        {
         "hovertemplate": "variable=16<br>index=%{x}<br>value=%{y}<extra></extra>",
         "legendgroup": "16",
         "line": {
          "color": "#FF6692",
          "dash": "solid"
         },
         "marker": {
          "symbol": "circle"
         },
         "mode": "lines",
         "name": "16",
         "orientation": "v",
         "showlegend": true,
         "type": "scatter",
         "x": [
          0,
          1,
          2,
          3,
          4,
          5,
          6,
          7,
          8,
          9,
          10,
          11,
          12,
          13,
          14,
          15,
          16,
          17,
          18,
          19,
          20,
          21,
          22,
          23,
          24,
          25,
          26,
          27,
          28,
          29,
          30
         ],
         "xaxis": "x",
         "y": [
          705.7241987618042,
          451.6634872075548,
          289.064631812835,
          185.0013643602144,
          118.40087319053723,
          75.77655884194382,
          48.49699765884405,
          31.038078501660188,
          19.864370241062524,
          12.713196954280013,
          8.13644605073921,
          5.2073254724730935,
          3.3326883023827794,
          2.1329205135249794,
          1.3650691286559868,
          0.8736442423398316,
          0.5591323150974922,
          0.35784468166239497,
          0.22902059626393273,
          0.14657318160891697,
          0.09380683622970686,
          0.06003637518701238,
          0.03842328011968792,
          0.02459089927660027,
          0.015738175537024175,
          0.010072432343695472,
          0.006446356699965103,
          0.004125668287977666,
          0.0026404277043057065,
          0.0016898737307556521,
          0.0010815191876836173
         ],
         "yaxis": "y"
        },
        {
         "hovertemplate": "variable=17<br>index=%{x}<br>value=%{y}<extra></extra>",
         "legendgroup": "17",
         "line": {
          "color": "#B6E880",
          "dash": "solid"
         },
         "marker": {
          "symbol": "circle"
         },
         "mode": "lines",
         "name": "17",
         "orientation": "v",
         "showlegend": true,
         "type": "scatter",
         "x": [
          0,
          1,
          2,
          3,
          4,
          5,
          6,
          7,
          8,
          9,
          10,
          11,
          12,
          13,
          14,
          15,
          16,
          17,
          18,
          19,
          20,
          21,
          22,
          23,
          24,
          25,
          26,
          27,
          28,
          29,
          30
         ],
         "xaxis": "x",
         "y": [
          228.93314466266463,
          146.51721258410535,
          93.77101605382741,
          60.013450274449546,
          38.40860817564771,
          24.581509232414533,
          15.732165908745298,
          10.068586181596993,
          6.443895156222075,
          4.124092899982128,
          2.6394194559885618,
          1.6892284518326794,
          1.081106209172915,
          0.6919079738706654,
          0.44282110327722585,
          0.2834055060974245,
          0.18137952390235168,
          0.11608289529750507,
          0.07429305299040323,
          0.04754755391385807,
          0.030430434504869167,
          0.019475478083116265,
          0.01246430597319441,
          0.007977155822844424,
          0.0051053797266204315,
          0.003267443025037076,
          0.0020911635360237285,
          0.0013383446630551863,
          0.0008565405843553192,
          0.0005481859739874043,
          0.0003508390233519387
         ],
         "yaxis": "y"
        },
        {
         "hovertemplate": "variable=18<br>index=%{x}<br>value=%{y}<extra></extra>",
         "legendgroup": "18",
         "line": {
          "color": "#FF97FF",
          "dash": "solid"
         },
         "marker": {
          "symbol": "circle"
         },
         "mode": "lines",
         "name": "18",
         "orientation": "v",
         "showlegend": true,
         "type": "scatter",
         "x": [
          0,
          1,
          2,
          3,
          4,
          5,
          6,
          7,
          8,
          9,
          10,
          11,
          12,
          13,
          14,
          15,
          16,
          17,
          18,
          19,
          20,
          21,
          22,
          23,
          24,
          25,
          26,
          27,
          28,
          29,
          30
         ],
         "xaxis": "x",
         "y": [
          1129.530714174885,
          722.8996570719264,
          462.6557805260329,
          296.0996995366611,
          189.5038077034631,
          121.28243693021639,
          77.62075963533847,
          49.67728616661664,
          31.793463146634643,
          20.347816413846175,
          13.022602504861549,
          8.33446560311139,
          5.33405798599129,
          3.4137971110344263,
          2.1848301510620325,
          1.3982912966797008,
          0.8949064298750085,
          0.5727401151200054,
          0.3665536736768035,
          0.23459435115315425,
          0.15014038473801872,
          0.09608984623233197,
          0.061497501588692466,
          0.03935840101676318,
          0.02518937665072844,
          0.0161212010564662,
          0.01031756867613837,
          0.0066032439527285575,
          0.004226076129746277,
          0.0027046887230376174,
          0.0017310007827440754
         ],
         "yaxis": "y"
        },
        {
         "hovertemplate": "variable=19<br>index=%{x}<br>value=%{y}<extra></extra>",
         "legendgroup": "19",
         "line": {
          "color": "#FECB52",
          "dash": "solid"
         },
         "marker": {
          "symbol": "circle"
         },
         "mode": "lines",
         "name": "19",
         "orientation": "v",
         "showlegend": true,
         "type": "scatter",
         "x": [
          0,
          1,
          2,
          3,
          4,
          5,
          6,
          7,
          8,
          9,
          10,
          11,
          12,
          13,
          14,
          15,
          16,
          17,
          18,
          19,
          20,
          21,
          22,
          23,
          24,
          25,
          26,
          27,
          28,
          29,
          30
         ],
         "xaxis": "x",
         "y": [
          733.1039148080492,
          469.1865054771515,
          300.2793635053769,
          192.17879264344123,
          122.99442729180238,
          78.71643346675353,
          50.378517418722254,
          32.242251147982245,
          20.635040734708635,
          13.206426070213526,
          8.452112684936658,
          5.409352118359461,
          3.461985355750055,
          2.2156706276800353,
          1.4180292017152227,
          0.9075386890977426,
          0.5808247610225552,
          0.37172784705443523,
          0.23790582211483857,
          0.15225972615349667,
          0.09744622473823787,
          0.06236558383247223,
          0.03991397365278222,
          0.025544943137780624,
          0.0163487636081796,
          0.010463208709234943,
          0.0066964535739103635,
          0.004285730287302633,
          0.0027428673838736854,
          0.0017554351256791581,
          0.0011234784804346615
         ],
         "yaxis": "y"
        }
       ],
       "layout": {
        "legend": {
         "title": {
          "text": "Inicialização"
         },
         "tracegroupgap": 0
        },
        "template": {
         "data": {
          "bar": [
           {
            "error_x": {
             "color": "#2a3f5f"
            },
            "error_y": {
             "color": "#2a3f5f"
            },
            "marker": {
             "line": {
              "color": "#E5ECF6",
              "width": 0.5
             },
             "pattern": {
              "fillmode": "overlay",
              "size": 10,
              "solidity": 0.2
             }
            },
            "type": "bar"
           }
          ],
          "barpolar": [
           {
            "marker": {
             "line": {
              "color": "#E5ECF6",
              "width": 0.5
             },
             "pattern": {
              "fillmode": "overlay",
              "size": 10,
              "solidity": 0.2
             }
            },
            "type": "barpolar"
           }
          ],
          "carpet": [
           {
            "aaxis": {
             "endlinecolor": "#2a3f5f",
             "gridcolor": "white",
             "linecolor": "white",
             "minorgridcolor": "white",
             "startlinecolor": "#2a3f5f"
            },
            "baxis": {
             "endlinecolor": "#2a3f5f",
             "gridcolor": "white",
             "linecolor": "white",
             "minorgridcolor": "white",
             "startlinecolor": "#2a3f5f"
            },
            "type": "carpet"
           }
          ],
          "choropleth": [
           {
            "colorbar": {
             "outlinewidth": 0,
             "ticks": ""
            },
            "type": "choropleth"
           }
          ],
          "contour": [
           {
            "colorbar": {
             "outlinewidth": 0,
             "ticks": ""
            },
            "colorscale": [
             [
              0,
              "#0d0887"
             ],
             [
              0.1111111111111111,
              "#46039f"
             ],
             [
              0.2222222222222222,
              "#7201a8"
             ],
             [
              0.3333333333333333,
              "#9c179e"
             ],
             [
              0.4444444444444444,
              "#bd3786"
             ],
             [
              0.5555555555555556,
              "#d8576b"
             ],
             [
              0.6666666666666666,
              "#ed7953"
             ],
             [
              0.7777777777777778,
              "#fb9f3a"
             ],
             [
              0.8888888888888888,
              "#fdca26"
             ],
             [
              1,
              "#f0f921"
             ]
            ],
            "type": "contour"
           }
          ],
          "contourcarpet": [
           {
            "colorbar": {
             "outlinewidth": 0,
             "ticks": ""
            },
            "type": "contourcarpet"
           }
          ],
          "heatmap": [
           {
            "colorbar": {
             "outlinewidth": 0,
             "ticks": ""
            },
            "colorscale": [
             [
              0,
              "#0d0887"
             ],
             [
              0.1111111111111111,
              "#46039f"
             ],
             [
              0.2222222222222222,
              "#7201a8"
             ],
             [
              0.3333333333333333,
              "#9c179e"
             ],
             [
              0.4444444444444444,
              "#bd3786"
             ],
             [
              0.5555555555555556,
              "#d8576b"
             ],
             [
              0.6666666666666666,
              "#ed7953"
             ],
             [
              0.7777777777777778,
              "#fb9f3a"
             ],
             [
              0.8888888888888888,
              "#fdca26"
             ],
             [
              1,
              "#f0f921"
             ]
            ],
            "type": "heatmap"
           }
          ],
          "heatmapgl": [
           {
            "colorbar": {
             "outlinewidth": 0,
             "ticks": ""
            },
            "colorscale": [
             [
              0,
              "#0d0887"
             ],
             [
              0.1111111111111111,
              "#46039f"
             ],
             [
              0.2222222222222222,
              "#7201a8"
             ],
             [
              0.3333333333333333,
              "#9c179e"
             ],
             [
              0.4444444444444444,
              "#bd3786"
             ],
             [
              0.5555555555555556,
              "#d8576b"
             ],
             [
              0.6666666666666666,
              "#ed7953"
             ],
             [
              0.7777777777777778,
              "#fb9f3a"
             ],
             [
              0.8888888888888888,
              "#fdca26"
             ],
             [
              1,
              "#f0f921"
             ]
            ],
            "type": "heatmapgl"
           }
          ],
          "histogram": [
           {
            "marker": {
             "pattern": {
              "fillmode": "overlay",
              "size": 10,
              "solidity": 0.2
             }
            },
            "type": "histogram"
           }
          ],
          "histogram2d": [
           {
            "colorbar": {
             "outlinewidth": 0,
             "ticks": ""
            },
            "colorscale": [
             [
              0,
              "#0d0887"
             ],
             [
              0.1111111111111111,
              "#46039f"
             ],
             [
              0.2222222222222222,
              "#7201a8"
             ],
             [
              0.3333333333333333,
              "#9c179e"
             ],
             [
              0.4444444444444444,
              "#bd3786"
             ],
             [
              0.5555555555555556,
              "#d8576b"
             ],
             [
              0.6666666666666666,
              "#ed7953"
             ],
             [
              0.7777777777777778,
              "#fb9f3a"
             ],
             [
              0.8888888888888888,
              "#fdca26"
             ],
             [
              1,
              "#f0f921"
             ]
            ],
            "type": "histogram2d"
           }
          ],
          "histogram2dcontour": [
           {
            "colorbar": {
             "outlinewidth": 0,
             "ticks": ""
            },
            "colorscale": [
             [
              0,
              "#0d0887"
             ],
             [
              0.1111111111111111,
              "#46039f"
             ],
             [
              0.2222222222222222,
              "#7201a8"
             ],
             [
              0.3333333333333333,
              "#9c179e"
             ],
             [
              0.4444444444444444,
              "#bd3786"
             ],
             [
              0.5555555555555556,
              "#d8576b"
             ],
             [
              0.6666666666666666,
              "#ed7953"
             ],
             [
              0.7777777777777778,
              "#fb9f3a"
             ],
             [
              0.8888888888888888,
              "#fdca26"
             ],
             [
              1,
              "#f0f921"
             ]
            ],
            "type": "histogram2dcontour"
           }
          ],
          "mesh3d": [
           {
            "colorbar": {
             "outlinewidth": 0,
             "ticks": ""
            },
            "type": "mesh3d"
           }
          ],
          "parcoords": [
           {
            "line": {
             "colorbar": {
              "outlinewidth": 0,
              "ticks": ""
             }
            },
            "type": "parcoords"
           }
          ],
          "pie": [
           {
            "automargin": true,
            "type": "pie"
           }
          ],
          "scatter": [
           {
            "fillpattern": {
             "fillmode": "overlay",
             "size": 10,
             "solidity": 0.2
            },
            "type": "scatter"
           }
          ],
          "scatter3d": [
           {
            "line": {
             "colorbar": {
              "outlinewidth": 0,
              "ticks": ""
             }
            },
            "marker": {
             "colorbar": {
              "outlinewidth": 0,
              "ticks": ""
             }
            },
            "type": "scatter3d"
           }
          ],
          "scattercarpet": [
           {
            "marker": {
             "colorbar": {
              "outlinewidth": 0,
              "ticks": ""
             }
            },
            "type": "scattercarpet"
           }
          ],
          "scattergeo": [
           {
            "marker": {
             "colorbar": {
              "outlinewidth": 0,
              "ticks": ""
             }
            },
            "type": "scattergeo"
           }
          ],
          "scattergl": [
           {
            "marker": {
             "colorbar": {
              "outlinewidth": 0,
              "ticks": ""
             }
            },
            "type": "scattergl"
           }
          ],
          "scattermapbox": [
           {
            "marker": {
             "colorbar": {
              "outlinewidth": 0,
              "ticks": ""
             }
            },
            "type": "scattermapbox"
           }
          ],
          "scatterpolar": [
           {
            "marker": {
             "colorbar": {
              "outlinewidth": 0,
              "ticks": ""
             }
            },
            "type": "scatterpolar"
           }
          ],
          "scatterpolargl": [
           {
            "marker": {
             "colorbar": {
              "outlinewidth": 0,
              "ticks": ""
             }
            },
            "type": "scatterpolargl"
           }
          ],
          "scatterternary": [
           {
            "marker": {
             "colorbar": {
              "outlinewidth": 0,
              "ticks": ""
             }
            },
            "type": "scatterternary"
           }
          ],
          "surface": [
           {
            "colorbar": {
             "outlinewidth": 0,
             "ticks": ""
            },
            "colorscale": [
             [
              0,
              "#0d0887"
             ],
             [
              0.1111111111111111,
              "#46039f"
             ],
             [
              0.2222222222222222,
              "#7201a8"
             ],
             [
              0.3333333333333333,
              "#9c179e"
             ],
             [
              0.4444444444444444,
              "#bd3786"
             ],
             [
              0.5555555555555556,
              "#d8576b"
             ],
             [
              0.6666666666666666,
              "#ed7953"
             ],
             [
              0.7777777777777778,
              "#fb9f3a"
             ],
             [
              0.8888888888888888,
              "#fdca26"
             ],
             [
              1,
              "#f0f921"
             ]
            ],
            "type": "surface"
           }
          ],
          "table": [
           {
            "cells": {
             "fill": {
              "color": "#EBF0F8"
             },
             "line": {
              "color": "white"
             }
            },
            "header": {
             "fill": {
              "color": "#C8D4E3"
             },
             "line": {
              "color": "white"
             }
            },
            "type": "table"
           }
          ]
         },
         "layout": {
          "annotationdefaults": {
           "arrowcolor": "#2a3f5f",
           "arrowhead": 0,
           "arrowwidth": 1
          },
          "autotypenumbers": "strict",
          "coloraxis": {
           "colorbar": {
            "outlinewidth": 0,
            "ticks": ""
           }
          },
          "colorscale": {
           "diverging": [
            [
             0,
             "#8e0152"
            ],
            [
             0.1,
             "#c51b7d"
            ],
            [
             0.2,
             "#de77ae"
            ],
            [
             0.3,
             "#f1b6da"
            ],
            [
             0.4,
             "#fde0ef"
            ],
            [
             0.5,
             "#f7f7f7"
            ],
            [
             0.6,
             "#e6f5d0"
            ],
            [
             0.7,
             "#b8e186"
            ],
            [
             0.8,
             "#7fbc41"
            ],
            [
             0.9,
             "#4d9221"
            ],
            [
             1,
             "#276419"
            ]
           ],
           "sequential": [
            [
             0,
             "#0d0887"
            ],
            [
             0.1111111111111111,
             "#46039f"
            ],
            [
             0.2222222222222222,
             "#7201a8"
            ],
            [
             0.3333333333333333,
             "#9c179e"
            ],
            [
             0.4444444444444444,
             "#bd3786"
            ],
            [
             0.5555555555555556,
             "#d8576b"
            ],
            [
             0.6666666666666666,
             "#ed7953"
            ],
            [
             0.7777777777777778,
             "#fb9f3a"
            ],
            [
             0.8888888888888888,
             "#fdca26"
            ],
            [
             1,
             "#f0f921"
            ]
           ],
           "sequentialminus": [
            [
             0,
             "#0d0887"
            ],
            [
             0.1111111111111111,
             "#46039f"
            ],
            [
             0.2222222222222222,
             "#7201a8"
            ],
            [
             0.3333333333333333,
             "#9c179e"
            ],
            [
             0.4444444444444444,
             "#bd3786"
            ],
            [
             0.5555555555555556,
             "#d8576b"
            ],
            [
             0.6666666666666666,
             "#ed7953"
            ],
            [
             0.7777777777777778,
             "#fb9f3a"
            ],
            [
             0.8888888888888888,
             "#fdca26"
            ],
            [
             1,
             "#f0f921"
            ]
           ]
          },
          "colorway": [
           "#636efa",
           "#EF553B",
           "#00cc96",
           "#ab63fa",
           "#FFA15A",
           "#19d3f3",
           "#FF6692",
           "#B6E880",
           "#FF97FF",
           "#FECB52"
          ],
          "font": {
           "color": "#2a3f5f"
          },
          "geo": {
           "bgcolor": "white",
           "lakecolor": "white",
           "landcolor": "#E5ECF6",
           "showlakes": true,
           "showland": true,
           "subunitcolor": "white"
          },
          "hoverlabel": {
           "align": "left"
          },
          "hovermode": "closest",
          "mapbox": {
           "style": "light"
          },
          "paper_bgcolor": "white",
          "plot_bgcolor": "#E5ECF6",
          "polar": {
           "angularaxis": {
            "gridcolor": "white",
            "linecolor": "white",
            "ticks": ""
           },
           "bgcolor": "#E5ECF6",
           "radialaxis": {
            "gridcolor": "white",
            "linecolor": "white",
            "ticks": ""
           }
          },
          "scene": {
           "xaxis": {
            "backgroundcolor": "#E5ECF6",
            "gridcolor": "white",
            "gridwidth": 2,
            "linecolor": "white",
            "showbackground": true,
            "ticks": "",
            "zerolinecolor": "white"
           },
           "yaxis": {
            "backgroundcolor": "#E5ECF6",
            "gridcolor": "white",
            "gridwidth": 2,
            "linecolor": "white",
            "showbackground": true,
            "ticks": "",
            "zerolinecolor": "white"
           },
           "zaxis": {
            "backgroundcolor": "#E5ECF6",
            "gridcolor": "white",
            "gridwidth": 2,
            "linecolor": "white",
            "showbackground": true,
            "ticks": "",
            "zerolinecolor": "white"
           }
          },
          "shapedefaults": {
           "line": {
            "color": "#2a3f5f"
           }
          },
          "ternary": {
           "aaxis": {
            "gridcolor": "white",
            "linecolor": "white",
            "ticks": ""
           },
           "baxis": {
            "gridcolor": "white",
            "linecolor": "white",
            "ticks": ""
           },
           "bgcolor": "#E5ECF6",
           "caxis": {
            "gridcolor": "white",
            "linecolor": "white",
            "ticks": ""
           }
          },
          "title": {
           "x": 0.05
          },
          "xaxis": {
           "automargin": true,
           "gridcolor": "white",
           "linecolor": "white",
           "ticks": "",
           "title": {
            "standoff": 15
           },
           "zerolinecolor": "white",
           "zerolinewidth": 2
          },
          "yaxis": {
           "automargin": true,
           "gridcolor": "white",
           "linecolor": "white",
           "ticks": "",
           "title": {
            "standoff": 15
           },
           "zerolinecolor": "white",
           "zerolinewidth": 2
          }
         }
        },
        "title": {
         "text": "Treino da func. esfera em R3 com alpha 0.1 - Tempo médio para 30 iterações: 0.702 ms"
        },
        "xaxis": {
         "anchor": "y",
         "domain": [
          0,
          1
         ],
         "title": {
          "text": "Iterações"
         }
        },
        "yaxis": {
         "anchor": "x",
         "domain": [
          0,
          1
         ],
         "title": {
          "text": "Valor da função esfera"
         }
        }
       }
      }
     },
     "metadata": {},
     "output_type": "display_data"
    }
   ],
   "source": [
    "treina_gradiente(1e-1, 3, 'esfera', 30)"
   ]
  },
  {
   "attachments": {},
   "cell_type": "markdown",
   "metadata": {},
   "source": [
    "Caso 2.2: $\\alpha$ = 0.01, treinamento por 30 iterações"
   ]
  },
  {
   "cell_type": "code",
   "execution_count": 34,
   "metadata": {},
   "outputs": [
    {
     "data": {
      "application/vnd.plotly.v1+json": {
       "config": {
        "plotlyServerURL": "https://plot.ly"
       },
       "data": [
        {
         "hovertemplate": "variable=0<br>index=%{x}<br>value=%{y}<extra></extra>",
         "legendgroup": "0",
         "line": {
          "color": "#636efa",
          "dash": "solid"
         },
         "marker": {
          "symbol": "circle"
         },
         "mode": "lines",
         "name": "0",
         "orientation": "v",
         "showlegend": true,
         "type": "scatter",
         "x": [
          0,
          1,
          2,
          3,
          4,
          5,
          6,
          7,
          8,
          9,
          10,
          11,
          12,
          13,
          14,
          15,
          16,
          17,
          18,
          19,
          20,
          21,
          22,
          23,
          24,
          25,
          26,
          27,
          28,
          29,
          30
         ],
         "xaxis": "x",
         "y": [
          1002.0606537296994,
          962.3790518420033,
          924.26884138906,
          887.6677952700531,
          852.5161505773591,
          818.7565110144958,
          786.3337531783217,
          755.19493655246,
          725.2892170649827,
          696.5677640692094,
          668.9836806120687,
          642.4919268598308,
          617.0492465561815,
          592.6140963925568,
          569.1465781754115,
          546.6083736796653,
          524.9626820819506,
          504.1741598715053,
          484.20886314059373,
          465.0341921602262,
          446.61883815068126,
          428.9327321599142,
          411.9469959663817,
          395.63389492611304,
          379.966792687039,
          364.9201076966322,
          350.46927143184564,
          336.5906882831446,
          323.2616970271321,
          310.4605338248576,
          298.16629668539326
         ],
         "yaxis": "y"
        },
        {
         "hovertemplate": "variable=1<br>index=%{x}<br>value=%{y}<extra></extra>",
         "legendgroup": "1",
         "line": {
          "color": "#EF553B",
          "dash": "solid"
         },
         "marker": {
          "symbol": "circle"
         },
         "mode": "lines",
         "name": "1",
         "orientation": "v",
         "showlegend": true,
         "type": "scatter",
         "x": [
          0,
          1,
          2,
          3,
          4,
          5,
          6,
          7,
          8,
          9,
          10,
          11,
          12,
          13,
          14,
          15,
          16,
          17,
          18,
          19,
          20,
          21,
          22,
          23,
          24,
          25,
          26,
          27,
          28,
          29,
          30
         ],
         "xaxis": "x",
         "y": [
          741.1622930438426,
          711.8122662393064,
          683.6245004962298,
          656.5529702765791,
          630.5534726536266,
          605.5835551365429,
          581.6024463531357,
          558.5709894775516,
          536.4515782942406,
          515.2080957937886,
          494.80585520035476,
          475.2115433344207,
          456.39316621837764,
          438.3199968361299,
          420.96252496141915,
          404.29240897294704,
          388.2824295776183,
          372.90644536634466,
          358.13935012983734,
          343.95703186469586,
          330.3363334028539,
          317.2550146001008,
          304.6917160219368,
          292.62592406746813,
          281.0379374743964,
          269.90883515041025,
          259.22044527845406,
          248.95531564542733,
          239.0966851458684,
          229.62845641409203,
          220.53516954009396
         ],
         "yaxis": "y"
        },
        {
         "hovertemplate": "variable=2<br>index=%{x}<br>value=%{y}<extra></extra>",
         "legendgroup": "2",
         "line": {
          "color": "#00cc96",
          "dash": "solid"
         },
         "marker": {
          "symbol": "circle"
         },
         "mode": "lines",
         "name": "2",
         "orientation": "v",
         "showlegend": true,
         "type": "scatter",
         "x": [
          0,
          1,
          2,
          3,
          4,
          5,
          6,
          7,
          8,
          9,
          10,
          11,
          12,
          13,
          14,
          15,
          16,
          17,
          18,
          19,
          20,
          21,
          22,
          23,
          24,
          25,
          26,
          27,
          28,
          29,
          30
         ],
         "xaxis": "x",
         "y": [
          639.4200646991108,
          614.0990301370261,
          589.7807085435998,
          566.425392485273,
          543.9949469428564,
          522.4527470439192,
          501.76361826098,
          481.8937789778453,
          462.8107853303226,
          444.48347823124175,
          426.8819324932846,
          409.97740796655046,
          393.74230261107505,
          378.1501074276765,
          363.1753631735405,
          348.7936187918683,
          334.9813914877103,
          321.71612838479695,
          308.976169700759,
          296.7407133806089,
          284.9897811307368,
          273.70418579795967,
          262.8655000403604,
          252.45602623876215,
          242.45876759970713,
          232.85740040275874,
          223.6362473468095,
          214.7802519518758,
          206.2749539745816,
          198.10646579718815,
          190.26144975161952
         ],
         "yaxis": "y"
        },
        {
         "hovertemplate": "variable=3<br>index=%{x}<br>value=%{y}<extra></extra>",
         "legendgroup": "3",
         "line": {
          "color": "#ab63fa",
          "dash": "solid"
         },
         "marker": {
          "symbol": "circle"
         },
         "mode": "lines",
         "name": "3",
         "orientation": "v",
         "showlegend": true,
         "type": "scatter",
         "x": [
          0,
          1,
          2,
          3,
          4,
          5,
          6,
          7,
          8,
          9,
          10,
          11,
          12,
          13,
          14,
          15,
          16,
          17,
          18,
          19,
          20,
          21,
          22,
          23,
          24,
          25,
          26,
          27,
          28,
          29,
          30
         ],
         "xaxis": "x",
         "y": [
          1519.5519291401265,
          1459.3776727461775,
          1401.5863169054287,
          1346.0834987559738,
          1292.7785922052371,
          1241.5845599539098,
          1192.4178113797348,
          1145.1980660490972,
          1099.848222633553,
          1056.2942330172643,
          1014.4649813897806,
          974.2921681267453,
          935.7101982689261,
          898.6560744174767,
          863.0692938705445,
          828.891749833271,
          796.0676365398734,
          764.5433581328945,
          734.2674411508319,
          705.190450481259,
          677.264908642201,
          650.4452182599699,
          624.6875876168751,
          599.949959147247,
          576.1919407650159,
          553.3747399107214,
          531.4611002102569,
          510.4152406419307,
          490.20279711251027,
          470.79076634685487,
          452.1474519995194
         ],
         "yaxis": "y"
        },
        {
         "hovertemplate": "variable=4<br>index=%{x}<br>value=%{y}<extra></extra>",
         "legendgroup": "4",
         "line": {
          "color": "#FFA15A",
          "dash": "solid"
         },
         "marker": {
          "symbol": "circle"
         },
         "mode": "lines",
         "name": "4",
         "orientation": "v",
         "showlegend": true,
         "type": "scatter",
         "x": [
          0,
          1,
          2,
          3,
          4,
          5,
          6,
          7,
          8,
          9,
          10,
          11,
          12,
          13,
          14,
          15,
          16,
          17,
          18,
          19,
          20,
          21,
          22,
          23,
          24,
          25,
          26,
          27,
          28,
          29,
          30
         ],
         "xaxis": "x",
         "y": [
          761.4108919712778,
          731.2590206492152,
          702.3011634315063,
          674.4900373596188,
          647.7802318801778,
          622.1281346977228,
          597.4918605636929,
          573.8311828853707,
          551.10746804311,
          529.2836123086028,
          508.32398126118215,
          488.1943516032393,
          468.86185527975107,
          450.2949258106729,
          432.4632467485703,
          415.3377021773269,
          398.8903291711047,
          383.09427213592903,
          367.9237389593462,
          353.3539588965561,
          339.36114212425247,
          325.922440896132,
          313.01591223664525,
          300.62048211207406,
          288.7159110204359,
          277.2827609440267,
          266.30236361064317,
          255.75679001166165,
          245.62882112719987,
          235.90191981056273,
          226.56020378606445
         ],
         "yaxis": "y"
        },
        {
         "hovertemplate": "variable=5<br>index=%{x}<br>value=%{y}<extra></extra>",
         "legendgroup": "5",
         "line": {
          "color": "#19d3f3",
          "dash": "solid"
         },
         "marker": {
          "symbol": "circle"
         },
         "mode": "lines",
         "name": "5",
         "orientation": "v",
         "showlegend": true,
         "type": "scatter",
         "x": [
          0,
          1,
          2,
          3,
          4,
          5,
          6,
          7,
          8,
          9,
          10,
          11,
          12,
          13,
          14,
          15,
          16,
          17,
          18,
          19,
          20,
          21,
          22,
          23,
          24,
          25,
          26,
          27,
          28,
          29,
          30
         ],
         "xaxis": "x",
         "y": [
          757.0487516369161,
          727.0696210720944,
          698.2776640776392,
          670.6258685801648,
          644.0690841843902,
          618.5639484506884,
          594.0688160920411,
          570.5436909747963,
          547.9501608121943,
          526.2513344440315,
          505.4117816000478,
          485.3974750486859,
          466.17573503675794,
          447.71517592930235,
          429.985654962502,
          412.95822302598697,
          396.60507739415783,
          380.89951632934924,
          365.81589548270705,
          351.32958602159187,
          337.4169344151368,
          324.0552238122974,
          311.2226369493304,
          298.8982205261369,
          287.06185099330196,
          275.69420169396716,
          264.77671130688606,
          254.2915535391334,
          244.22160801898374,
          234.55043234143199,
          225.2622352207113
         ],
         "yaxis": "y"
        },
        {
         "hovertemplate": "variable=6<br>index=%{x}<br>value=%{y}<extra></extra>",
         "legendgroup": "6",
         "line": {
          "color": "#FF6692",
          "dash": "solid"
         },
         "marker": {
          "symbol": "circle"
         },
         "mode": "lines",
         "name": "6",
         "orientation": "v",
         "showlegend": true,
         "type": "scatter",
         "x": [
          0,
          1,
          2,
          3,
          4,
          5,
          6,
          7,
          8,
          9,
          10,
          11,
          12,
          13,
          14,
          15,
          16,
          17,
          18,
          19,
          20,
          21,
          22,
          23,
          24,
          25,
          26,
          27,
          28,
          29,
          30
         ],
         "xaxis": "x",
         "y": [
          163.41018418651473,
          156.93914089272872,
          150.72435091337667,
          144.75566661720694,
          139.02334221916558,
          133.51801786728663,
          128.23070435974205,
          123.15276846709628,
          118.27591883579925,
          113.59219244990159,
          109.09394162888549,
          104.77382154038165,
          100.62477820738252,
          96.64003699037016,
          92.8130915255515,
          89.13769310113967,
          85.60784045433454,
          82.2177699723429,
          78.96194628143812,
          75.83505320869317,
          72.8319851016289,
          69.9478384916044,
          67.17790408733687,
          64.51765908547833,
          61.96275978569339,
          59.509034498179936,
          57.15247673205201,
          54.889238653462755,
          52.71562480278563,
          50.62808606059532,
          48.62321385259574
         ],
         "yaxis": "y"
        },
        {
         "hovertemplate": "variable=7<br>index=%{x}<br>value=%{y}<extra></extra>",
         "legendgroup": "7",
         "line": {
          "color": "#B6E880",
          "dash": "solid"
         },
         "marker": {
          "symbol": "circle"
         },
         "mode": "lines",
         "name": "7",
         "orientation": "v",
         "showlegend": true,
         "type": "scatter",
         "x": [
          0,
          1,
          2,
          3,
          4,
          5,
          6,
          7,
          8,
          9,
          10,
          11,
          12,
          13,
          14,
          15,
          16,
          17,
          18,
          19,
          20,
          21,
          22,
          23,
          24,
          25,
          26,
          27,
          28,
          29,
          30
         ],
         "xaxis": "x",
         "y": [
          676.4803999630957,
          649.6917761245572,
          623.9639817900248,
          599.2550081111398,
          575.5245097899386,
          552.7337392022571,
          530.8454831298477,
          509.8240019979057,
          489.63497151878863,
          470.2454266466446,
          451.62370775143745,
          433.73940892448053,
          416.56332833107103,
          400.0674205291606,
          384.2247506762059,
          369.00945054942804,
          354.39667630767076,
          340.362567925887,
          326.88421023602183,
          313.9395955106754,
          301.50758752845263,
          289.5678870623259,
          278.10099873465776,
          267.0881991847653,
          256.51150649704863,
          246.35365083976552,
          236.59804626651078,
          227.22876363435694,
          218.2305045944364,
          209.58857661249672,
          201.28886897864183
         ],
         "yaxis": "y"
        },
        {
         "hovertemplate": "variable=8<br>index=%{x}<br>value=%{y}<extra></extra>",
         "legendgroup": "8",
         "line": {
          "color": "#FF97FF",
          "dash": "solid"
         },
         "marker": {
          "symbol": "circle"
         },
         "mode": "lines",
         "name": "8",
         "orientation": "v",
         "showlegend": true,
         "type": "scatter",
         "x": [
          0,
          1,
          2,
          3,
          4,
          5,
          6,
          7,
          8,
          9,
          10,
          11,
          12,
          13,
          14,
          15,
          16,
          17,
          18,
          19,
          20,
          21,
          22,
          23,
          24,
          25,
          26,
          27,
          28,
          29,
          30
         ],
         "xaxis": "x",
         "y": [
          1141.8496660288374,
          1096.6324192540956,
          1053.2057754516334,
          1011.4988267437489,
          971.4434732046964,
          932.9743116657903,
          896.028528923825,
          860.5457991784416,
          826.4681855309753,
          793.7400453839487,
          762.3079395867442,
          732.1205451791091,
          703.1285715900165,
          675.2846801550517,
          648.5434068209117,
          622.8610879108036,
          598.1957888295358,
          574.5072355918862,
          551.7567490624476,
          529.9071817995746,
          508.9228574003115,
          488.7695122472592,
          469.4142395622677,
          450.8254356756019,
          432.97274842284804,
          415.8270275853033,
          399.3602772929253,
          383.5456103121254,
          368.3572041437653,
          353.7702588596722,
          339.7609566088292
         ],
         "yaxis": "y"
        },
        {
         "hovertemplate": "variable=9<br>index=%{x}<br>value=%{y}<extra></extra>",
         "legendgroup": "9",
         "line": {
          "color": "#FECB52",
          "dash": "solid"
         },
         "marker": {
          "symbol": "circle"
         },
         "mode": "lines",
         "name": "9",
         "orientation": "v",
         "showlegend": true,
         "type": "scatter",
         "x": [
          0,
          1,
          2,
          3,
          4,
          5,
          6,
          7,
          8,
          9,
          10,
          11,
          12,
          13,
          14,
          15,
          16,
          17,
          18,
          19,
          20,
          21,
          22,
          23,
          24,
          25,
          26,
          27,
          28,
          29,
          30
         ],
         "xaxis": "x",
         "y": [
          617.0194385367477,
          592.5854687706926,
          569.1190842073731,
          546.5819684727612,
          524.9373225212399,
          504.14980454939877,
          484.1854722892425,
          465.01172758658856,
          446.5972631741596,
          428.9120115524629,
          411.9270958949853,
          395.61478289754393,
          379.9484374948012,
          364.9024793700071,
          350.45234118695475,
          336.5744284759514,
          323.24608110830377,
          310.44553629641496,
          298.15189305907694,
          286.3450780939375,
          275.0058130014176,
          264.1155828065614,
          253.6566057274216,
          243.61180414061573,
          233.96477669664733,
          224.69977153946013,
          215.8016605864975,
          207.2559148272722,
          199.04858060011222,
          191.16625680834778,
          183.59607303873722
         ],
         "yaxis": "y"
        },
        {
         "hovertemplate": "variable=10<br>index=%{x}<br>value=%{y}<extra></extra>",
         "legendgroup": "10",
         "line": {
          "color": "#636efa",
          "dash": "solid"
         },
         "marker": {
          "symbol": "circle"
         },
         "mode": "lines",
         "name": "10",
         "orientation": "v",
         "showlegend": true,
         "type": "scatter",
         "x": [
          0,
          1,
          2,
          3,
          4,
          5,
          6,
          7,
          8,
          9,
          10,
          11,
          12,
          13,
          14,
          15,
          16,
          17,
          18,
          19,
          20,
          21,
          22,
          23,
          24,
          25,
          26,
          27,
          28,
          29,
          30
         ],
         "xaxis": "x",
         "y": [
          565.9269845220067,
          543.5162759349354,
          521.9930314079121,
          501.3221073641588,
          481.469751912538,
          462.40354973680155,
          444.09236916722426,
          426.5063113482022,
          409.6166614188134,
          393.39584162662845,
          377.8173662982139,
          362.85579859280466,
          348.48670896852957,
          334.6866352933759,
          321.43304453575814,
          308.7042959721422,
          296.4796058516454,
          284.7390134599203,
          273.4633485269074,
          262.63419992524183,
          252.23388560820229,
          242.2454237381175,
          232.65250495808803,
          223.43946576174775,
          214.59126291758255,
          206.0934489060463,
          197.93214832936687,
          190.09403525552395,
          182.5663114594052,
          175.33668552561272,
          168.39335277879846
         ],
         "yaxis": "y"
        },
        {
         "hovertemplate": "variable=11<br>index=%{x}<br>value=%{y}<extra></extra>",
         "legendgroup": "11",
         "line": {
          "color": "#EF553B",
          "dash": "solid"
         },
         "marker": {
          "symbol": "circle"
         },
         "mode": "lines",
         "name": "11",
         "orientation": "v",
         "showlegend": true,
         "type": "scatter",
         "x": [
          0,
          1,
          2,
          3,
          4,
          5,
          6,
          7,
          8,
          9,
          10,
          11,
          12,
          13,
          14,
          15,
          16,
          17,
          18,
          19,
          20,
          21,
          22,
          23,
          24,
          25,
          26,
          27,
          28,
          29,
          30
         ],
         "xaxis": "x",
         "y": [
          112.96492422691605,
          108.49151322753018,
          104.19524930371999,
          100.06911743129265,
          96.10638038101348,
          92.30056771792535,
          88.64546523629551,
          85.13510481293821,
          81.76375466234585,
          78.52590997771696,
          75.41628394259938,
          72.42979909847244,
          69.56157905417294,
          66.80694052362769,
          64.16138567889203,
          61.6205948060079,
          59.18041925169,
          56.83687464932308,
          54.58613441320988,
          52.424523490446774,
          50.34851236022507,
          48.354711270760156,
          46.439864704438065,
          44.60084606214231,
          42.83465255808147,
          41.13840031678145,
          39.509319664236905,
          37.94475060553312,
          36.44213848155401,
          34.99902979768447,
          33.61306821769617
         ],
         "yaxis": "y"
        },
        {
         "hovertemplate": "variable=12<br>index=%{x}<br>value=%{y}<extra></extra>",
         "legendgroup": "12",
         "line": {
          "color": "#00cc96",
          "dash": "solid"
         },
         "marker": {
          "symbol": "circle"
         },
         "mode": "lines",
         "name": "12",
         "orientation": "v",
         "showlegend": true,
         "type": "scatter",
         "x": [
          0,
          1,
          2,
          3,
          4,
          5,
          6,
          7,
          8,
          9,
          10,
          11,
          12,
          13,
          14,
          15,
          16,
          17,
          18,
          19,
          20,
          21,
          22,
          23,
          24,
          25,
          26,
          27,
          28,
          29,
          30
         ],
         "xaxis": "x",
         "y": [
          957.6187113536831,
          919.6970103840772,
          883.2770087728679,
          848.2992392254622,
          814.706589352134,
          782.4442084137896,
          751.4594177606036,
          721.7016248172837,
          693.1222404745195,
          665.6745997517284,
          639.31388560156,
          613.9970557317382,
          589.6827723247615,
          566.3313345407008,
          543.904613692889,
          522.3659909906506,
          501.6802977474208,
          481.813757956623,
          462.7339331415407,
          444.40966938913573,
          426.8110464813259,
          409.90932904066545,
          393.67691961065503,
          378.0873135940731,
          363.11505597574785,
          348.73569975910823,
          334.9257660486476,
          321.6627057131211,
          308.9248625668816,
          296.691438009233,
          284.9424570640674
         ],
         "yaxis": "y"
        },
        {
         "hovertemplate": "variable=13<br>index=%{x}<br>value=%{y}<extra></extra>",
         "legendgroup": "13",
         "line": {
          "color": "#ab63fa",
          "dash": "solid"
         },
         "marker": {
          "symbol": "circle"
         },
         "mode": "lines",
         "name": "13",
         "orientation": "v",
         "showlegend": true,
         "type": "scatter",
         "x": [
          0,
          1,
          2,
          3,
          4,
          5,
          6,
          7,
          8,
          9,
          10,
          11,
          12,
          13,
          14,
          15,
          16,
          17,
          18,
          19,
          20,
          21,
          22,
          23,
          24,
          25,
          26,
          27,
          28,
          29,
          30
         ],
         "xaxis": "x",
         "y": [
          958.9301766262524,
          920.9565416318527,
          884.4866625832314,
          849.4609907449354,
          815.822335511436,
          783.5157710251831,
          752.4885464925858,
          722.6900000514795,
          694.0714760494409,
          666.586245597883,
          640.1894302722069,
          614.8379288334274,
          590.4903468516237,
          567.1069291162994,
          544.6494947232941,
          523.0813747322516,
          502.36735229285443,
          482.4736051420574,
          463.3676503784319,
          445.01829142344593,
          427.3955670830775,
          410.4707026265876,
          394.2160628025747,
          378.6051067155927,
          363.61234448965524,
          349.21329564786487,
          335.3844491402094,
          322.10322495425714,
          309.3479372460686,
          297.0977589311243,
          285.33268767745176
         ],
         "yaxis": "y"
        },
        {
         "hovertemplate": "variable=14<br>index=%{x}<br>value=%{y}<extra></extra>",
         "legendgroup": "14",
         "line": {
          "color": "#FFA15A",
          "dash": "solid"
         },
         "marker": {
          "symbol": "circle"
         },
         "mode": "lines",
         "name": "14",
         "orientation": "v",
         "showlegend": true,
         "type": "scatter",
         "x": [
          0,
          1,
          2,
          3,
          4,
          5,
          6,
          7,
          8,
          9,
          10,
          11,
          12,
          13,
          14,
          15,
          16,
          17,
          18,
          19,
          20,
          21,
          22,
          23,
          24,
          25,
          26,
          27,
          28,
          29,
          30
         ],
         "xaxis": "x",
         "y": [
          740.6826708221987,
          711.3516370576397,
          683.1821122301571,
          656.128100585843,
          630.1454278026436,
          605.1916688616587,
          581.2260787747371,
          558.2095260552575,
          536.1044288234693,
          514.87469344206,
          494.4856555817545,
          474.904023620717,
          456.0978242853366,
          438.0363504436373,
          420.69011096606914,
          404.03078257181284,
          388.031163581969,
          372.66512950412306,
          357.90759037575975,
          343.7344497968797,
          330.1225655849232,
          317.04971198776025,
          304.4945433930449,
          292.43655947468034,
          280.85607171948294,
          269.73417127939143,
          259.05269809672757,
          248.7942112520972,
          238.94196048651415,
          229.47985885124822,
          220.39245644073878
         ],
         "yaxis": "y"
        },
        {
         "hovertemplate": "variable=15<br>index=%{x}<br>value=%{y}<extra></extra>",
         "legendgroup": "15",
         "line": {
          "color": "#19d3f3",
          "dash": "solid"
         },
         "marker": {
          "symbol": "circle"
         },
         "mode": "lines",
         "name": "15",
         "orientation": "v",
         "showlegend": true,
         "type": "scatter",
         "x": [
          0,
          1,
          2,
          3,
          4,
          5,
          6,
          7,
          8,
          9,
          10,
          11,
          12,
          13,
          14,
          15,
          16,
          17,
          18,
          19,
          20,
          21,
          22,
          23,
          24,
          25,
          26,
          27,
          28,
          29,
          30
         ],
         "xaxis": "x",
         "y": [
          841.0853529096283,
          807.7783729344071,
          775.7903493662046,
          745.0690515313029,
          715.5643170906633,
          687.227970133873,
          660.0137425165716,
          633.8771983129154,
          608.7756612597238,
          584.6681450738388,
          561.5152865289147,
          539.2792811823697,
          517.9238216475478,
          497.41403831030505,
          477.716442393217,
          458.7988712744457,
          440.6304359719776,
          423.1814707074873,
          406.42348446747076,
          390.32911448255896,
          374.87208154904965,
          360.0271471197073,
          345.7700720937669,
          332.0775772388537,
          318.92730518019516,
          306.2977838950594,
          294.1683916528151,
          282.5193233433636,
          271.33155813896644,
          260.5868284366634,
          250.2675900305715
         ],
         "yaxis": "y"
        },
        {
         "hovertemplate": "variable=16<br>index=%{x}<br>value=%{y}<extra></extra>",
         "legendgroup": "16",
         "line": {
          "color": "#FF6692",
          "dash": "solid"
         },
         "marker": {
          "symbol": "circle"
         },
         "mode": "lines",
         "name": "16",
         "orientation": "v",
         "showlegend": true,
         "type": "scatter",
         "x": [
          0,
          1,
          2,
          3,
          4,
          5,
          6,
          7,
          8,
          9,
          10,
          11,
          12,
          13,
          14,
          15,
          16,
          17,
          18,
          19,
          20,
          21,
          22,
          23,
          24,
          25,
          26,
          27,
          28,
          29,
          30
         ],
         "xaxis": "x",
         "y": [
          707.2030312523937,
          679.1977912147988,
          652.3015586826928,
          626.4704169588581,
          601.6621884472873,
          577.8363657847748,
          554.9540456996976,
          532.9778654899897,
          511.871942016586,
          491.60181311272925,
          472.13438131346516,
          453.4378598134519,
          435.4817205648391,
          418.23664443047153,
          401.6744733110249,
          385.76816416790837,
          370.4917448668591,
          355.8202717701315,
          341.7297890080343,
          328.19728936331614,
          315.2006767045288,
          302.7187299070295,
          290.7310682027111,
          279.2181179018838,
          268.16108043296913,
          257.5419016478236,
          247.3432423425698,
          237.54844994580404,
          228.1415313279502,
          219.10712668736338,
          210.43048447054377
         ],
         "yaxis": "y"
        },
        {
         "hovertemplate": "variable=17<br>index=%{x}<br>value=%{y}<extra></extra>",
         "legendgroup": "17",
         "line": {
          "color": "#B6E880",
          "dash": "solid"
         },
         "marker": {
          "symbol": "circle"
         },
         "mode": "lines",
         "name": "17",
         "orientation": "v",
         "showlegend": true,
         "type": "scatter",
         "x": [
          0,
          1,
          2,
          3,
          4,
          5,
          6,
          7,
          8,
          9,
          10,
          11,
          12,
          13,
          14,
          15,
          16,
          17,
          18,
          19,
          20,
          21,
          22,
          23,
          24,
          25,
          26,
          27,
          28,
          29,
          30
         ],
         "xaxis": "x",
         "y": [
          591.7753606519592,
          568.3410563701416,
          545.834750537884,
          524.2196944165838,
          503.460594517687,
          483.5235549747866,
          464.37602219778506,
          445.9867317187528,
          428.3256571426903,
          411.36396111983976,
          395.07394825949405,
          379.42901990841807,
          364.4036307200447,
          349.973246943531,
          336.11430636456714,
          322.80417983253034,
          310.0211343111621,
          297.74429739244005,
          285.95362321569945,
          274.6298597363577,
          263.75451729079793,
          253.30983840608235,
          243.2787688052015,
          233.64492956051555,
          224.39259034991915,
          215.50664377206232,
          206.97258067868864,
          198.7764664838126,
          190.90491841105367,
          183.34508364197595,
          176.08461832975365
         ],
         "yaxis": "y"
        },
        {
         "hovertemplate": "variable=18<br>index=%{x}<br>value=%{y}<extra></extra>",
         "legendgroup": "18",
         "line": {
          "color": "#FF97FF",
          "dash": "solid"
         },
         "marker": {
          "symbol": "circle"
         },
         "mode": "lines",
         "name": "18",
         "orientation": "v",
         "showlegend": true,
         "type": "scatter",
         "x": [
          0,
          1,
          2,
          3,
          4,
          5,
          6,
          7,
          8,
          9,
          10,
          11,
          12,
          13,
          14,
          15,
          16,
          17,
          18,
          19,
          20,
          21,
          22,
          23,
          24,
          25,
          26,
          27,
          28,
          29,
          30
         ],
         "xaxis": "x",
         "y": [
          1007.961552554855,
          968.0462750736826,
          929.7116425807649,
          892.8950615345666,
          857.5364170977979,
          823.577974980725,
          790.9642871714883,
          759.6421013994974,
          729.5602741840772,
          700.6696873263878,
          672.9231677082628,
          646.2754102670157,
          620.6829040204418,
          596.1038610212324,
          572.4981481247916,
          549.8272214590497,
          528.0540634892714,
          507.1431225750962,
          487.06025492112235,
          467.772668826246,
          449.2488711407266,
          431.45861584355384,
          414.3728546561491,
          397.9636896117657,
          382.2043275031398,
          367.0690361340155,
          352.53310230310854,
          338.5727914519054,
          325.16530891041,
          312.28876267755777,
          299.9221276755265
         ],
         "yaxis": "y"
        },
        {
         "hovertemplate": "variable=19<br>index=%{x}<br>value=%{y}<extra></extra>",
         "legendgroup": "19",
         "line": {
          "color": "#FECB52",
          "dash": "solid"
         },
         "marker": {
          "symbol": "circle"
         },
         "mode": "lines",
         "name": "19",
         "orientation": "v",
         "showlegend": true,
         "type": "scatter",
         "x": [
          0,
          1,
          2,
          3,
          4,
          5,
          6,
          7,
          8,
          9,
          10,
          11,
          12,
          13,
          14,
          15,
          16,
          17,
          18,
          19,
          20,
          21,
          22,
          23,
          24,
          25,
          26,
          27,
          28,
          29,
          30
         ],
         "xaxis": "x",
         "y": [
          170.66044885304498,
          163.90229507846442,
          157.41176419335724,
          151.17825833130027,
          145.19159930138076,
          139.4420119690461,
          133.92010829507186,
          128.616872006587,
          123.52364387512615,
          118.63210757767116,
          113.93427611759537,
          109.42247878333859,
          105.08934862351838,
          100.92781041802704,
          96.93106912547316,
          93.09259878810443,
          89.40613187609549,
          85.8656490538021,
          82.46536935127153,
          79.19974072496119,
          76.06343099225273,
          73.05131912495952,
          70.15848688761112,
          67.38021080686171,
          64.71195445890999,
          62.149361062337164,
          59.6882463642686,
          57.32459180824357,
          55.05453797263713,
          52.874378268920694,
          50.78055288947143
         ],
         "yaxis": "y"
        }
       ],
       "layout": {
        "legend": {
         "title": {
          "text": "Inicialização"
         },
         "tracegroupgap": 0
        },
        "template": {
         "data": {
          "bar": [
           {
            "error_x": {
             "color": "#2a3f5f"
            },
            "error_y": {
             "color": "#2a3f5f"
            },
            "marker": {
             "line": {
              "color": "#E5ECF6",
              "width": 0.5
             },
             "pattern": {
              "fillmode": "overlay",
              "size": 10,
              "solidity": 0.2
             }
            },
            "type": "bar"
           }
          ],
          "barpolar": [
           {
            "marker": {
             "line": {
              "color": "#E5ECF6",
              "width": 0.5
             },
             "pattern": {
              "fillmode": "overlay",
              "size": 10,
              "solidity": 0.2
             }
            },
            "type": "barpolar"
           }
          ],
          "carpet": [
           {
            "aaxis": {
             "endlinecolor": "#2a3f5f",
             "gridcolor": "white",
             "linecolor": "white",
             "minorgridcolor": "white",
             "startlinecolor": "#2a3f5f"
            },
            "baxis": {
             "endlinecolor": "#2a3f5f",
             "gridcolor": "white",
             "linecolor": "white",
             "minorgridcolor": "white",
             "startlinecolor": "#2a3f5f"
            },
            "type": "carpet"
           }
          ],
          "choropleth": [
           {
            "colorbar": {
             "outlinewidth": 0,
             "ticks": ""
            },
            "type": "choropleth"
           }
          ],
          "contour": [
           {
            "colorbar": {
             "outlinewidth": 0,
             "ticks": ""
            },
            "colorscale": [
             [
              0,
              "#0d0887"
             ],
             [
              0.1111111111111111,
              "#46039f"
             ],
             [
              0.2222222222222222,
              "#7201a8"
             ],
             [
              0.3333333333333333,
              "#9c179e"
             ],
             [
              0.4444444444444444,
              "#bd3786"
             ],
             [
              0.5555555555555556,
              "#d8576b"
             ],
             [
              0.6666666666666666,
              "#ed7953"
             ],
             [
              0.7777777777777778,
              "#fb9f3a"
             ],
             [
              0.8888888888888888,
              "#fdca26"
             ],
             [
              1,
              "#f0f921"
             ]
            ],
            "type": "contour"
           }
          ],
          "contourcarpet": [
           {
            "colorbar": {
             "outlinewidth": 0,
             "ticks": ""
            },
            "type": "contourcarpet"
           }
          ],
          "heatmap": [
           {
            "colorbar": {
             "outlinewidth": 0,
             "ticks": ""
            },
            "colorscale": [
             [
              0,
              "#0d0887"
             ],
             [
              0.1111111111111111,
              "#46039f"
             ],
             [
              0.2222222222222222,
              "#7201a8"
             ],
             [
              0.3333333333333333,
              "#9c179e"
             ],
             [
              0.4444444444444444,
              "#bd3786"
             ],
             [
              0.5555555555555556,
              "#d8576b"
             ],
             [
              0.6666666666666666,
              "#ed7953"
             ],
             [
              0.7777777777777778,
              "#fb9f3a"
             ],
             [
              0.8888888888888888,
              "#fdca26"
             ],
             [
              1,
              "#f0f921"
             ]
            ],
            "type": "heatmap"
           }
          ],
          "heatmapgl": [
           {
            "colorbar": {
             "outlinewidth": 0,
             "ticks": ""
            },
            "colorscale": [
             [
              0,
              "#0d0887"
             ],
             [
              0.1111111111111111,
              "#46039f"
             ],
             [
              0.2222222222222222,
              "#7201a8"
             ],
             [
              0.3333333333333333,
              "#9c179e"
             ],
             [
              0.4444444444444444,
              "#bd3786"
             ],
             [
              0.5555555555555556,
              "#d8576b"
             ],
             [
              0.6666666666666666,
              "#ed7953"
             ],
             [
              0.7777777777777778,
              "#fb9f3a"
             ],
             [
              0.8888888888888888,
              "#fdca26"
             ],
             [
              1,
              "#f0f921"
             ]
            ],
            "type": "heatmapgl"
           }
          ],
          "histogram": [
           {
            "marker": {
             "pattern": {
              "fillmode": "overlay",
              "size": 10,
              "solidity": 0.2
             }
            },
            "type": "histogram"
           }
          ],
          "histogram2d": [
           {
            "colorbar": {
             "outlinewidth": 0,
             "ticks": ""
            },
            "colorscale": [
             [
              0,
              "#0d0887"
             ],
             [
              0.1111111111111111,
              "#46039f"
             ],
             [
              0.2222222222222222,
              "#7201a8"
             ],
             [
              0.3333333333333333,
              "#9c179e"
             ],
             [
              0.4444444444444444,
              "#bd3786"
             ],
             [
              0.5555555555555556,
              "#d8576b"
             ],
             [
              0.6666666666666666,
              "#ed7953"
             ],
             [
              0.7777777777777778,
              "#fb9f3a"
             ],
             [
              0.8888888888888888,
              "#fdca26"
             ],
             [
              1,
              "#f0f921"
             ]
            ],
            "type": "histogram2d"
           }
          ],
          "histogram2dcontour": [
           {
            "colorbar": {
             "outlinewidth": 0,
             "ticks": ""
            },
            "colorscale": [
             [
              0,
              "#0d0887"
             ],
             [
              0.1111111111111111,
              "#46039f"
             ],
             [
              0.2222222222222222,
              "#7201a8"
             ],
             [
              0.3333333333333333,
              "#9c179e"
             ],
             [
              0.4444444444444444,
              "#bd3786"
             ],
             [
              0.5555555555555556,
              "#d8576b"
             ],
             [
              0.6666666666666666,
              "#ed7953"
             ],
             [
              0.7777777777777778,
              "#fb9f3a"
             ],
             [
              0.8888888888888888,
              "#fdca26"
             ],
             [
              1,
              "#f0f921"
             ]
            ],
            "type": "histogram2dcontour"
           }
          ],
          "mesh3d": [
           {
            "colorbar": {
             "outlinewidth": 0,
             "ticks": ""
            },
            "type": "mesh3d"
           }
          ],
          "parcoords": [
           {
            "line": {
             "colorbar": {
              "outlinewidth": 0,
              "ticks": ""
             }
            },
            "type": "parcoords"
           }
          ],
          "pie": [
           {
            "automargin": true,
            "type": "pie"
           }
          ],
          "scatter": [
           {
            "fillpattern": {
             "fillmode": "overlay",
             "size": 10,
             "solidity": 0.2
            },
            "type": "scatter"
           }
          ],
          "scatter3d": [
           {
            "line": {
             "colorbar": {
              "outlinewidth": 0,
              "ticks": ""
             }
            },
            "marker": {
             "colorbar": {
              "outlinewidth": 0,
              "ticks": ""
             }
            },
            "type": "scatter3d"
           }
          ],
          "scattercarpet": [
           {
            "marker": {
             "colorbar": {
              "outlinewidth": 0,
              "ticks": ""
             }
            },
            "type": "scattercarpet"
           }
          ],
          "scattergeo": [
           {
            "marker": {
             "colorbar": {
              "outlinewidth": 0,
              "ticks": ""
             }
            },
            "type": "scattergeo"
           }
          ],
          "scattergl": [
           {
            "marker": {
             "colorbar": {
              "outlinewidth": 0,
              "ticks": ""
             }
            },
            "type": "scattergl"
           }
          ],
          "scattermapbox": [
           {
            "marker": {
             "colorbar": {
              "outlinewidth": 0,
              "ticks": ""
             }
            },
            "type": "scattermapbox"
           }
          ],
          "scatterpolar": [
           {
            "marker": {
             "colorbar": {
              "outlinewidth": 0,
              "ticks": ""
             }
            },
            "type": "scatterpolar"
           }
          ],
          "scatterpolargl": [
           {
            "marker": {
             "colorbar": {
              "outlinewidth": 0,
              "ticks": ""
             }
            },
            "type": "scatterpolargl"
           }
          ],
          "scatterternary": [
           {
            "marker": {
             "colorbar": {
              "outlinewidth": 0,
              "ticks": ""
             }
            },
            "type": "scatterternary"
           }
          ],
          "surface": [
           {
            "colorbar": {
             "outlinewidth": 0,
             "ticks": ""
            },
            "colorscale": [
             [
              0,
              "#0d0887"
             ],
             [
              0.1111111111111111,
              "#46039f"
             ],
             [
              0.2222222222222222,
              "#7201a8"
             ],
             [
              0.3333333333333333,
              "#9c179e"
             ],
             [
              0.4444444444444444,
              "#bd3786"
             ],
             [
              0.5555555555555556,
              "#d8576b"
             ],
             [
              0.6666666666666666,
              "#ed7953"
             ],
             [
              0.7777777777777778,
              "#fb9f3a"
             ],
             [
              0.8888888888888888,
              "#fdca26"
             ],
             [
              1,
              "#f0f921"
             ]
            ],
            "type": "surface"
           }
          ],
          "table": [
           {
            "cells": {
             "fill": {
              "color": "#EBF0F8"
             },
             "line": {
              "color": "white"
             }
            },
            "header": {
             "fill": {
              "color": "#C8D4E3"
             },
             "line": {
              "color": "white"
             }
            },
            "type": "table"
           }
          ]
         },
         "layout": {
          "annotationdefaults": {
           "arrowcolor": "#2a3f5f",
           "arrowhead": 0,
           "arrowwidth": 1
          },
          "autotypenumbers": "strict",
          "coloraxis": {
           "colorbar": {
            "outlinewidth": 0,
            "ticks": ""
           }
          },
          "colorscale": {
           "diverging": [
            [
             0,
             "#8e0152"
            ],
            [
             0.1,
             "#c51b7d"
            ],
            [
             0.2,
             "#de77ae"
            ],
            [
             0.3,
             "#f1b6da"
            ],
            [
             0.4,
             "#fde0ef"
            ],
            [
             0.5,
             "#f7f7f7"
            ],
            [
             0.6,
             "#e6f5d0"
            ],
            [
             0.7,
             "#b8e186"
            ],
            [
             0.8,
             "#7fbc41"
            ],
            [
             0.9,
             "#4d9221"
            ],
            [
             1,
             "#276419"
            ]
           ],
           "sequential": [
            [
             0,
             "#0d0887"
            ],
            [
             0.1111111111111111,
             "#46039f"
            ],
            [
             0.2222222222222222,
             "#7201a8"
            ],
            [
             0.3333333333333333,
             "#9c179e"
            ],
            [
             0.4444444444444444,
             "#bd3786"
            ],
            [
             0.5555555555555556,
             "#d8576b"
            ],
            [
             0.6666666666666666,
             "#ed7953"
            ],
            [
             0.7777777777777778,
             "#fb9f3a"
            ],
            [
             0.8888888888888888,
             "#fdca26"
            ],
            [
             1,
             "#f0f921"
            ]
           ],
           "sequentialminus": [
            [
             0,
             "#0d0887"
            ],
            [
             0.1111111111111111,
             "#46039f"
            ],
            [
             0.2222222222222222,
             "#7201a8"
            ],
            [
             0.3333333333333333,
             "#9c179e"
            ],
            [
             0.4444444444444444,
             "#bd3786"
            ],
            [
             0.5555555555555556,
             "#d8576b"
            ],
            [
             0.6666666666666666,
             "#ed7953"
            ],
            [
             0.7777777777777778,
             "#fb9f3a"
            ],
            [
             0.8888888888888888,
             "#fdca26"
            ],
            [
             1,
             "#f0f921"
            ]
           ]
          },
          "colorway": [
           "#636efa",
           "#EF553B",
           "#00cc96",
           "#ab63fa",
           "#FFA15A",
           "#19d3f3",
           "#FF6692",
           "#B6E880",
           "#FF97FF",
           "#FECB52"
          ],
          "font": {
           "color": "#2a3f5f"
          },
          "geo": {
           "bgcolor": "white",
           "lakecolor": "white",
           "landcolor": "#E5ECF6",
           "showlakes": true,
           "showland": true,
           "subunitcolor": "white"
          },
          "hoverlabel": {
           "align": "left"
          },
          "hovermode": "closest",
          "mapbox": {
           "style": "light"
          },
          "paper_bgcolor": "white",
          "plot_bgcolor": "#E5ECF6",
          "polar": {
           "angularaxis": {
            "gridcolor": "white",
            "linecolor": "white",
            "ticks": ""
           },
           "bgcolor": "#E5ECF6",
           "radialaxis": {
            "gridcolor": "white",
            "linecolor": "white",
            "ticks": ""
           }
          },
          "scene": {
           "xaxis": {
            "backgroundcolor": "#E5ECF6",
            "gridcolor": "white",
            "gridwidth": 2,
            "linecolor": "white",
            "showbackground": true,
            "ticks": "",
            "zerolinecolor": "white"
           },
           "yaxis": {
            "backgroundcolor": "#E5ECF6",
            "gridcolor": "white",
            "gridwidth": 2,
            "linecolor": "white",
            "showbackground": true,
            "ticks": "",
            "zerolinecolor": "white"
           },
           "zaxis": {
            "backgroundcolor": "#E5ECF6",
            "gridcolor": "white",
            "gridwidth": 2,
            "linecolor": "white",
            "showbackground": true,
            "ticks": "",
            "zerolinecolor": "white"
           }
          },
          "shapedefaults": {
           "line": {
            "color": "#2a3f5f"
           }
          },
          "ternary": {
           "aaxis": {
            "gridcolor": "white",
            "linecolor": "white",
            "ticks": ""
           },
           "baxis": {
            "gridcolor": "white",
            "linecolor": "white",
            "ticks": ""
           },
           "bgcolor": "#E5ECF6",
           "caxis": {
            "gridcolor": "white",
            "linecolor": "white",
            "ticks": ""
           }
          },
          "title": {
           "x": 0.05
          },
          "xaxis": {
           "automargin": true,
           "gridcolor": "white",
           "linecolor": "white",
           "ticks": "",
           "title": {
            "standoff": 15
           },
           "zerolinecolor": "white",
           "zerolinewidth": 2
          },
          "yaxis": {
           "automargin": true,
           "gridcolor": "white",
           "linecolor": "white",
           "ticks": "",
           "title": {
            "standoff": 15
           },
           "zerolinecolor": "white",
           "zerolinewidth": 2
          }
         }
        },
        "title": {
         "text": "Treino da func. esfera em R3 com alpha 0.01 - Tempo médio para 30 iterações: 0.779 ms"
        },
        "xaxis": {
         "anchor": "y",
         "domain": [
          0,
          1
         ],
         "title": {
          "text": "Iterações"
         }
        },
        "yaxis": {
         "anchor": "x",
         "domain": [
          0,
          1
         ],
         "title": {
          "text": "Valor da função esfera"
         }
        }
       }
      }
     },
     "metadata": {},
     "output_type": "display_data"
    }
   ],
   "source": [
    "treina_gradiente(1e-2, 3, 'esfera', 30)"
   ]
  },
  {
   "attachments": {},
   "cell_type": "markdown",
   "metadata": {},
   "source": [
    "Caso 2.3: $\\alpha$ = 10, treinamento por 30 iterações"
   ]
  },
  {
   "cell_type": "code",
   "execution_count": 35,
   "metadata": {},
   "outputs": [
    {
     "data": {
      "application/vnd.plotly.v1+json": {
       "config": {
        "plotlyServerURL": "https://plot.ly"
       },
       "data": [
        {
         "hovertemplate": "variable=0<br>index=%{x}<br>value=%{y}<extra></extra>",
         "legendgroup": "0",
         "line": {
          "color": "#636efa",
          "dash": "solid"
         },
         "marker": {
          "symbol": "circle"
         },
         "mode": "lines",
         "name": "0",
         "orientation": "v",
         "showlegend": true,
         "type": "scatter",
         "x": [
          0,
          1,
          2,
          3,
          4,
          5,
          6,
          7,
          8,
          9,
          10,
          11,
          12,
          13,
          14,
          15,
          16,
          17,
          18,
          19,
          20,
          21,
          22,
          23,
          24,
          25,
          26,
          27,
          28,
          29,
          30
         ],
         "xaxis": "x",
         "y": [
          1574.3789042876238,
          568350.7844478323,
          205174633.18566746,
          74068042580.02594,
          26738563371389.367,
          9652621377071560,
          3484596317122833400,
          1.257939270481343e+21,
          4.541160766437648e+23,
          1.639359036683991e+26,
          5.918086122429207e+28,
          2.1364290901969435e+31,
          7.712509015610967e+33,
          2.7842157546355596e+36,
          1.0051018874234368e+39,
          3.628417813598607e+41,
          1.309858830709097e+44,
          4.72859037885984e+46,
          1.7070211267684024e+49,
          6.162346267633933e+51,
          2.2246070026158495e+54,
          8.030831279443215e+56,
          2.899130091879001e+59,
          1.0465859631683194e+62,
          3.778175327037633e+64,
          1.3639212930605856e+67,
          4.9237558679487145e+69,
          1.7774758683294858e+72,
          6.416687884669443e+74,
          2.316424326365669e+77,
          8.362291818180064e+79
         ],
         "yaxis": "y"
        },
        {
         "hovertemplate": "variable=1<br>index=%{x}<br>value=%{y}<extra></extra>",
         "legendgroup": "1",
         "line": {
          "color": "#EF553B",
          "dash": "solid"
         },
         "marker": {
          "symbol": "circle"
         },
         "mode": "lines",
         "name": "1",
         "orientation": "v",
         "showlegend": true,
         "type": "scatter",
         "x": [
          0,
          1,
          2,
          3,
          4,
          5,
          6,
          7,
          8,
          9,
          10,
          11,
          12,
          13,
          14,
          15,
          16,
          17,
          18,
          19,
          20,
          21,
          22,
          23,
          24,
          25,
          26,
          27,
          28,
          29,
          30
         ],
         "xaxis": "x",
         "y": [
          983.9836268316911,
          355218.08928624046,
          128233730.23233283,
          46292376613.87215,
          16711547957607.84,
          6032868812696430,
          2177865641383411700,
          786209496539411600000,
          2.8382162825072758e+23,
          1.0245960779851268e+26,
          3.698791841526307e+28,
          1.3352638547909965e+31,
          4.8203025157954984e+33,
          1.7401292082021752e+36,
          6.2818664416098535e+38,
          2.267753785421157e+41,
          8.186591165370378e+43,
          2.9553594106987065e+46,
          1.0668847472622332e+49,
          3.85145393761666e+51,
          1.3903748714796146e+54,
          5.019253286041409e+56,
          1.8119504362609487e+59,
          6.541141074902025e+61,
          2.3613519280396315e+64,
          8.524480460223068e+66,
          3.0773374461405286e+69,
          1.1109188180567307e+72,
          4.0104169331847987e+74,
          1.4477605128797122e+77,
          5.2264154514957614e+79
         ],
         "yaxis": "y"
        },
        {
         "hovertemplate": "variable=2<br>index=%{x}<br>value=%{y}<extra></extra>",
         "legendgroup": "2",
         "line": {
          "color": "#00cc96",
          "dash": "solid"
         },
         "marker": {
          "symbol": "circle"
         },
         "mode": "lines",
         "name": "2",
         "orientation": "v",
         "showlegend": true,
         "type": "scatter",
         "x": [
          0,
          1,
          2,
          3,
          4,
          5,
          6,
          7,
          8,
          9,
          10,
          11,
          12,
          13,
          14,
          15,
          16,
          17,
          18,
          19,
          20,
          21,
          22,
          23,
          24,
          25,
          26,
          27,
          28,
          29,
          30
         ],
         "xaxis": "x",
         "y": [
          884.287718140963,
          319227.8662488877,
          115241259.71584845,
          41602094757.4213,
          15018356207429.088,
          5421626590881900,
          1957207199308365800,
          706551798950319900000,
          2.5506519942106547e+23,
          9.207853699100465e+25,
          3.324035185375268e+28,
          1.199976701920472e+31,
          4.3319158939329035e+33,
          1.5638216377097783e+36,
          5.6453961121323e+38,
          2.0379879964797607e+41,
          7.357136667291936e+43,
          2.655926336892389e+46,
          9.587894076181526e+48,
          3.46122976150153e+51,
          1.2495039439020525e+54,
          4.5107092374864105e+56,
          1.6283660347325944e+59,
          5.878401385384666e+61,
          2.1221029001238647e+64,
          7.660791469447151e+66,
          2.7655457204704223e+69,
          9.983620050898226e+71,
          3.6040868383742593e+74,
          1.3010753486531076e+77,
          4.696882008637719e+79
         ],
         "yaxis": "y"
        },
        {
         "hovertemplate": "variable=3<br>index=%{x}<br>value=%{y}<extra></extra>",
         "legendgroup": "3",
         "line": {
          "color": "#ab63fa",
          "dash": "solid"
         },
         "marker": {
          "symbol": "circle"
         },
         "mode": "lines",
         "name": "3",
         "orientation": "v",
         "showlegend": true,
         "type": "scatter",
         "x": [
          0,
          1,
          2,
          3,
          4,
          5,
          6,
          7,
          8,
          9,
          10,
          11,
          12,
          13,
          14,
          15,
          16,
          17,
          18,
          19,
          20,
          21,
          22,
          23,
          24,
          25,
          26,
          27,
          28,
          29,
          30
         ],
         "xaxis": "x",
         "y": [
          1011.1939175793487,
          365041.00424614485,
          131779802.53285828,
          47572508714.36185,
          17173675645884.625,
          6199696908164350,
          2238090583847330000,
          807950700768886400000,
          2.9167020297756797e+23,
          1.0529294327490205e+26,
          3.801075252223964e+28,
          1.3721881660528512e+31,
          4.953599279450794e+33,
          1.7882493398817364e+36,
          6.45558011697307e+38,
          2.3304644222272783e+41,
          8.412976564240474e+43,
          3.037084539690811e+46,
          1.0963875188283829e+49,
          3.957958942970461e+51,
          1.4288231784123367e+54,
          5.158051674068535e+56,
          1.8620566543387416e+59,
          6.722024522162857e+61,
          2.4266508525007914e+64,
          8.760209577527855e+66,
          3.162435657487555e+69,
          1.1416392723530076e+72,
          4.121317773194357e+74,
          1.4877957161231628e+77,
          5.370942535204618e+79
         ],
         "yaxis": "y"
        },
        {
         "hovertemplate": "variable=4<br>index=%{x}<br>value=%{y}<extra></extra>",
         "legendgroup": "4",
         "line": {
          "color": "#FFA15A",
          "dash": "solid"
         },
         "marker": {
          "symbol": "circle"
         },
         "mode": "lines",
         "name": "4",
         "orientation": "v",
         "showlegend": true,
         "type": "scatter",
         "x": [
          0,
          1,
          2,
          3,
          4,
          5,
          6,
          7,
          8,
          9,
          10,
          11,
          12,
          13,
          14,
          15,
          16,
          17,
          18,
          19,
          20,
          21,
          22,
          23,
          24,
          25,
          26,
          27,
          28,
          29,
          30
         ],
         "xaxis": "x",
         "y": [
          557.3771826281934,
          201213.16292877783,
          72637951.8172888,
          26222300606.04125,
          9466250518780.89,
          3417316437279902,
          1233651233858044700,
          445348095422754100000,
          1.6077066244761424e+23,
          5.803820914358874e+25,
          2.0951793500835536e+28,
          7.563597453801628e+30,
          2.730458680822388e+33,
          9.856955837768822e+35,
          3.558361057434546e+38,
          1.2845683417338708e+41,
          4.637291713659273e+43,
          1.6740623086309976e+46,
          6.043364934157901e+48,
          2.181654741231002e+51,
          7.875773615843916e+53,
          2.843154275319654e+56,
          1.026378693390395e+59,
          3.705227083139326e+61,
          1.337586977013297e+64,
          4.828688987018002e+66,
          1.7431567243134987e+69,
          6.292795774771729e+71,
          2.2716992746925946e+74,
          8.200834381640269e+76,
          2.960501211772136e+79
         ],
         "yaxis": "y"
        },
        {
         "hovertemplate": "variable=5<br>index=%{x}<br>value=%{y}<extra></extra>",
         "legendgroup": "5",
         "line": {
          "color": "#19d3f3",
          "dash": "solid"
         },
         "marker": {
          "symbol": "circle"
         },
         "mode": "lines",
         "name": "5",
         "orientation": "v",
         "showlegend": true,
         "type": "scatter",
         "x": [
          0,
          1,
          2,
          3,
          4,
          5,
          6,
          7,
          8,
          9,
          10,
          11,
          12,
          13,
          14,
          15,
          16,
          17,
          18,
          19,
          20,
          21,
          22,
          23,
          24,
          25,
          26,
          27,
          28,
          29,
          30
         ],
         "xaxis": "x",
         "y": [
          1588.8678242453195,
          573581.2845525604,
          207062843.72347426,
          74749686584.17422,
          26984636856886.895,
          9741453905336168,
          3516664859826356000,
          1.2695160143973148e+21,
          4.5829528119743065e+23,
          1.654445965122724e+26,
          5.972549934093034e+28,
          2.1560905262075856e+31,
          7.783486799609383e+33,
          2.809838734658987e+36,
          1.0143517832118944e+39,
          3.6618099373949385e+41,
          1.3219133873995728e+44,
          4.772107328512459e+46,
          1.7227307455929972e+49,
          6.219057991590721e+51,
          2.2450799349642502e+54,
          8.104738565220942e+56,
          2.92581062204476e+59,
          1.0562176345581584e+62,
          3.812945660754952e+64,
          1.3764733835325376e+67,
          4.969068914552461e+69,
          1.7938338781534386e+72,
          6.475740300133912e+74,
          2.3377422483483424e+77,
          8.439249516537516e+79
         ],
         "yaxis": "y"
        },
        {
         "hovertemplate": "variable=6<br>index=%{x}<br>value=%{y}<extra></extra>",
         "legendgroup": "6",
         "line": {
          "color": "#FF6692",
          "dash": "solid"
         },
         "marker": {
          "symbol": "circle"
         },
         "mode": "lines",
         "name": "6",
         "orientation": "v",
         "showlegend": true,
         "type": "scatter",
         "x": [
          0,
          1,
          2,
          3,
          4,
          5,
          6,
          7,
          8,
          9,
          10,
          11,
          12,
          13,
          14,
          15,
          16,
          17,
          18,
          19,
          20,
          21,
          22,
          23,
          24,
          25,
          26,
          27,
          28,
          29,
          30
         ],
         "xaxis": "x",
         "y": [
          262.9660762606962,
          94930.75353011132,
          34270002.02437019,
          12371470730.797642,
          4466100933817.949,
          1612262437108279.2,
          582026739796088800,
          210111653066388080000,
          7.58503067569661e+22,
          2.7381960739264765e+25,
          9.884887826874578e+27,
          3.568444505501723e+30,
          1.2882084664861218e+33,
          4.6504325640148996e+35,
          1.6788061556093785e+38,
          6.060490221749857e+40,
          2.1878369700516987e+43,
          7.898091461886631e+45,
          2.8512110177410742e+48,
          1.0292871774045274e+51,
          3.715726710430344e+53,
          1.3413773424653542e+56,
          4.842372206299929e+58,
          1.7480963664742743e+61,
          6.3106278829721304e+63,
          2.2781366657529393e+66,
          8.22407336336811e+68,
          2.968890484175887e+71,
          1.0717694647874953e+74,
          3.869087767882858e+76,
          1.3967406842057118e+79
         ],
         "yaxis": "y"
        },
        {
         "hovertemplate": "variable=7<br>index=%{x}<br>value=%{y}<extra></extra>",
         "legendgroup": "7",
         "line": {
          "color": "#B6E880",
          "dash": "solid"
         },
         "marker": {
          "symbol": "circle"
         },
         "mode": "lines",
         "name": "7",
         "orientation": "v",
         "showlegend": true,
         "type": "scatter",
         "x": [
          0,
          1,
          2,
          3,
          4,
          5,
          6,
          7,
          8,
          9,
          10,
          11,
          12,
          13,
          14,
          15,
          16,
          17,
          18,
          19,
          20,
          21,
          22,
          23,
          24,
          25,
          26,
          27,
          28,
          29,
          30
         ],
         "xaxis": "x",
         "y": [
          176.1851742335044,
          63602.84789829509,
          22960628.09128453,
          8288786740.953714,
          2992252013484.291,
          1080202976867829,
          389953274649286300,
          140773132148392330000,
          5.081910070556963e+22,
          1.8345695354710638e+25,
          6.622796023050541e+27,
          2.3908293643212452e+30,
          8.630894005199697e+32,
          3.115752735877091e+35,
          1.12478673765163e+38,
          4.0604801229223836e+40,
          1.4658333243749807e+43,
          5.2916583009936816e+45,
          1.9102886466587188e+48,
          6.896142014437976e+50,
          2.4895072672121098e+53,
          8.987121234635715e+55,
          3.2443507657034925e+58,
          1.1712106264189608e+61,
          4.228070361372449e+63,
          1.5263334004554541e+66,
          5.51006357564419e+68,
          1.9891329508075522e+71,
          7.180769952415266e+73,
          2.5922579528219105e+76,
          9.358051209687095e+78
         ],
         "yaxis": "y"
        },
        {
         "hovertemplate": "variable=8<br>index=%{x}<br>value=%{y}<extra></extra>",
         "legendgroup": "8",
         "line": {
          "color": "#FF97FF",
          "dash": "solid"
         },
         "marker": {
          "symbol": "circle"
         },
         "mode": "lines",
         "name": "8",
         "orientation": "v",
         "showlegend": true,
         "type": "scatter",
         "x": [
          0,
          1,
          2,
          3,
          4,
          5,
          6,
          7,
          8,
          9,
          10,
          11,
          12,
          13,
          14,
          15,
          16,
          17,
          18,
          19,
          20,
          21,
          22,
          23,
          24,
          25,
          26,
          27,
          28,
          29,
          30
         ],
         "xaxis": "x",
         "y": [
          153.46276276718356,
          55400.057358953265,
          19999420.70658213,
          7219790875.076149,
          2606344505902.4897,
          940890366630798.9,
          339661422353718400,
          122617773469692330000,
          4.426501622255892e+22,
          1.5979670856343772e+25,
          5.768661179140104e+27,
          2.082486685669577e+30,
          7.517776935267173e+32,
          2.7139174736314502e+35,
          9.797242079809533e+37,
          3.536804390811241e+40,
          1.2767863850828583e+43,
          4.6091988501491187e+45,
          1.663920784903832e+48,
          6.0067540335028335e+50,
          2.168438206094523e+53,
          7.828061924001227e+55,
          2.8259303545644436e+58,
          1.0201608579977641e+61,
          3.682780697371928e+63,
          1.3294838317512662e+66,
          4.799436632622071e+68,
          1.7325966243765676e+71,
          6.25467381399941e+73,
          2.2579372468537875e+76,
          8.151153461142173e+78
         ],
         "yaxis": "y"
        },
        {
         "hovertemplate": "variable=9<br>index=%{x}<br>value=%{y}<extra></extra>",
         "legendgroup": "9",
         "line": {
          "color": "#FECB52",
          "dash": "solid"
         },
         "marker": {
          "symbol": "circle"
         },
         "mode": "lines",
         "name": "9",
         "orientation": "v",
         "showlegend": true,
         "type": "scatter",
         "x": [
          0,
          1,
          2,
          3,
          4,
          5,
          6,
          7,
          8,
          9,
          10,
          11,
          12,
          13,
          14,
          15,
          16,
          17,
          18,
          19,
          20,
          21,
          22,
          23,
          24,
          25,
          26,
          27,
          28,
          29,
          30
         ],
         "xaxis": "x",
         "y": [
          686.9464765564345,
          247987.67803687282,
          89523551.77131107,
          32318002189.443295,
          11666798790389.03,
          4211714363330440.5,
          1520428885162289000,
          548874827543586500000,
          1.9814381274323466e+23,
          7.152991640030772e+25,
          2.582229982051108e+28,
          9.321850235204503e+30,
          3.365187934908825e+33,
          1.2148328445020856e+36,
          4.38554656865253e+38,
          1.5831823112835633e+41,
          5.715288143733663e+43,
          2.0632190198878524e+46,
          7.44822066179515e+48,
          2.688807658908049e+51,
          9.706595648658054e+53,
          3.504081029165558e+56,
          1.2649732515287664e+59,
          4.5665534380188476e+61,
          1.6485257911248038e+64,
          5.951178105960542e+66,
          2.148375296251756e+69,
          7.755634819468841e+71,
          2.799784169828251e+74,
          1.0107220853079991e+77,
          3.648706727961876e+79
         ],
         "yaxis": "y"
        },
        {
         "hovertemplate": "variable=10<br>index=%{x}<br>value=%{y}<extra></extra>",
         "legendgroup": "10",
         "line": {
          "color": "#636efa",
          "dash": "solid"
         },
         "marker": {
          "symbol": "circle"
         },
         "mode": "lines",
         "name": "10",
         "orientation": "v",
         "showlegend": true,
         "type": "scatter",
         "x": [
          0,
          1,
          2,
          3,
          4,
          5,
          6,
          7,
          8,
          9,
          10,
          11,
          12,
          13,
          14,
          15,
          16,
          17,
          18,
          19,
          20,
          21,
          22,
          23,
          24,
          25,
          26,
          27,
          28,
          29,
          30
         ],
         "xaxis": "x",
         "y": [
          932.6153032278804,
          336674.1244652648,
          121539358.93196057,
          43875708574.43777,
          15839130795372.033,
          5717926217129306,
          2064171364383679200,
          745165862542508000000,
          2.690048763778454e+23,
          9.71107603724022e+25,
          3.5056984494437193e+28,
          1.2655571402491827e+31,
          4.568661276299548e+33,
          1.649286720744137e+36,
          5.953925061886335e+38,
          2.1493669473409673e+41,
          7.759214679900891e+43,
          2.8010764994442216e+46,
          1.011188616299364e+49,
          3.650390904840703e+51,
          1.317791116647494e+54,
          4.757225931097453e+56,
          1.7173585611261806e+59,
          6.199664405665512e+61,
          2.23807885044525e+64,
          8.079464650107352e+66,
          2.9166867386887534e+69,
          1.0529239126666399e+72,
          3.80105532472657e+74,
          1.3721809722262914e+77,
          4.9535733097369136e+79
         ],
         "yaxis": "y"
        },
        {
         "hovertemplate": "variable=11<br>index=%{x}<br>value=%{y}<extra></extra>",
         "legendgroup": "11",
         "line": {
          "color": "#EF553B",
          "dash": "solid"
         },
         "marker": {
          "symbol": "circle"
         },
         "mode": "lines",
         "name": "11",
         "orientation": "v",
         "showlegend": true,
         "type": "scatter",
         "x": [
          0,
          1,
          2,
          3,
          4,
          5,
          6,
          7,
          8,
          9,
          10,
          11,
          12,
          13,
          14,
          15,
          16,
          17,
          18,
          19,
          20,
          21,
          22,
          23,
          24,
          25,
          26,
          27,
          28,
          29,
          30
         ],
         "xaxis": "x",
         "y": [
          299.2960032644442,
          108045.85717846436,
          39004554.44142564,
          14080644153.35465,
          5083112539361.03,
          1835003626709331.8,
          662436309242068900,
          239139507636386920000,
          8.632936225673568e+22,
          3.116489977468159e+25,
          1.1250528818660054e+28,
          4.0614409035362795e+30,
          1.4661801661765973e+33,
          5.292910399897517e+35,
          1.9107406543630035e+38,
          6.897773762250442e+40,
          2.490096328172409e+43,
          8.989247744702399e+45,
          3.245118435837566e+48,
          1.1714877553373617e+51,
          4.2290707967678755e+53,
          1.526694557633203e+56,
          5.511367353055863e+58,
          1.989603614453167e+61,
          7.18246904817593e+63,
          2.5928713263915104e+66,
          9.360265488273353e+68,
          3.3790558412666806e+71,
          1.2198391586972721e+74,
          4.4036193628971513e+76,
          1.589706590005872e+79
         ],
         "yaxis": "y"
        },
        {
         "hovertemplate": "variable=12<br>index=%{x}<br>value=%{y}<extra></extra>",
         "legendgroup": "12",
         "line": {
          "color": "#00cc96",
          "dash": "solid"
         },
         "marker": {
          "symbol": "circle"
         },
         "mode": "lines",
         "name": "12",
         "orientation": "v",
         "showlegend": true,
         "type": "scatter",
         "x": [
          0,
          1,
          2,
          3,
          4,
          5,
          6,
          7,
          8,
          9,
          10,
          11,
          12,
          13,
          14,
          15,
          16,
          17,
          18,
          19,
          20,
          21,
          22,
          23,
          24,
          25,
          26,
          27,
          28,
          29,
          30
         ],
         "xaxis": "x",
         "y": [
          580.4137583759973,
          209529.36677373503,
          75640101.40531833,
          27306076607.319923,
          9857493655242.494,
          3558555209542540,
          1284638430644856800,
          463754473462793500000,
          1.674153649200684e+23,
          6.043694673614471e+25,
          2.181773777174824e+28,
          7.876203335601116e+30,
          2.8433094041520025e+33,
          1.026434694898873e+36,
          3.705429248584931e+38,
          1.3376599587391599e+41,
          4.828952451048367e+43,
          1.74325183482846e+46,
          6.293139123730743e+48,
          2.271823223666798e+51,
          8.201281837437142e+53,
          2.9606627433148088e+56,
          1.0687992503366458e+59,
          3.8583652937152914e+61,
          1.3928698710312205e+64,
          5.028260234422705e+66,
          1.8152019446265964e+69,
          6.552879020102014e+71,
          2.365589326256827e+74,
          8.539777467787145e+76,
          3.0828596658711595e+79
         ],
         "yaxis": "y"
        },
        {
         "hovertemplate": "variable=13<br>index=%{x}<br>value=%{y}<extra></extra>",
         "legendgroup": "13",
         "line": {
          "color": "#ab63fa",
          "dash": "solid"
         },
         "marker": {
          "symbol": "circle"
         },
         "mode": "lines",
         "name": "13",
         "orientation": "v",
         "showlegend": true,
         "type": "scatter",
         "x": [
          0,
          1,
          2,
          3,
          4,
          5,
          6,
          7,
          8,
          9,
          10,
          11,
          12,
          13,
          14,
          15,
          16,
          17,
          18,
          19,
          20,
          21,
          22,
          23,
          24,
          25,
          26,
          27,
          28,
          29,
          30
         ],
         "xaxis": "x",
         "y": [
          922.6898047256775,
          333091.01950596954,
          120245858.04165502,
          43408754753.03746,
          15670560465846.52,
          5657072328170596,
          2042203110469584600,
          737235322879520300000,
          2.661419515595068e+23,
          9.607724451298194e+25,
          3.4683885269186484e+28,
          1.2520882582176323e+31,
          4.520038612165653e+33,
          1.6317339389918008e+36,
          5.8905595197604e+38,
          2.1264919866335046e+41,
          7.676636071746951e+43,
          2.77126562190065e+46,
          1.0004268895061345e+49,
          3.6115410711171464e+51,
          1.3037663266732896e+54,
          4.706596439290576e+56,
          1.6990813145838976e+59,
          6.13368354564787e+61,
          2.2142597599788814e+64,
          7.993477733523762e+66,
          2.885645461802078e+69,
          1.0417180117105502e+72,
          3.760602022275086e+74,
          1.3575773300413061e+77,
          4.900854161449115e+79
         ],
         "yaxis": "y"
        },
        {
         "hovertemplate": "variable=14<br>index=%{x}<br>value=%{y}<extra></extra>",
         "legendgroup": "14",
         "line": {
          "color": "#FFA15A",
          "dash": "solid"
         },
         "marker": {
          "symbol": "circle"
         },
         "mode": "lines",
         "name": "14",
         "orientation": "v",
         "showlegend": true,
         "type": "scatter",
         "x": [
          0,
          1,
          2,
          3,
          4,
          5,
          6,
          7,
          8,
          9,
          10,
          11,
          12,
          13,
          14,
          15,
          16,
          17,
          18,
          19,
          20,
          21,
          22,
          23,
          24,
          25,
          26,
          27,
          28,
          29,
          30
         ],
         "xaxis": "x",
         "y": [
          1039.704418731141,
          375333.2951619419,
          135495319.55346102,
          48913810358.79942,
          17657885539526.594,
          6374496679769100,
          2301193301396645400,
          830730781804188900000,
          2.9989381223131214e+23,
          1.0826166621550367e+26,
          3.9082461503796827e+28,
          1.410876860287066e+31,
          5.0932654656363073e+33,
          1.838668833094707e+36,
          6.637594487471894e+38,
          2.396171609977354e+41,
          8.650179512018248e+43,
          3.1227148038385874e+46,
          1.12730004418573e+49,
          4.0695531595104855e+51,
          1.4691086905832858e+54,
          5.303482373005662e+56,
          1.9145571366550438e+59,
          6.911551263324707e+61,
          2.4950700060602193e+64,
          9.007202721877395e+66,
          3.25160018259774e+69,
          1.1738276659177841e+72,
          4.2375178739632003e+74,
          1.5297439525007156e+77,
          5.522375668527583e+79
         ],
         "yaxis": "y"
        },
        {
         "hovertemplate": "variable=15<br>index=%{x}<br>value=%{y}<extra></extra>",
         "legendgroup": "15",
         "line": {
          "color": "#19d3f3",
          "dash": "solid"
         },
         "marker": {
          "symbol": "circle"
         },
         "mode": "lines",
         "name": "15",
         "orientation": "v",
         "showlegend": true,
         "type": "scatter",
         "x": [
          0,
          1,
          2,
          3,
          4,
          5,
          6,
          7,
          8,
          9,
          10,
          11,
          12,
          13,
          14,
          15,
          16,
          17,
          18,
          19,
          20,
          21,
          22,
          23,
          24,
          25,
          26,
          27,
          28,
          29,
          30
         ],
         "xaxis": "x",
         "y": [
          1159.1139814036733,
          418440.1472867261,
          151056893.1705081,
          54531538434.55342,
          19685885374873.79,
          7106604620329436,
          2565484267938926600,
          926139820725952600000,
          3.343364752820689e+23,
          1.2069546757682687e+26,
          4.35710637952345e+28,
          1.5729154030079655e+31,
          5.678224604858756e+33,
          2.0498390823540108e+36,
          7.399919087297977e+38,
          2.6713707905145705e+41,
          9.643648553757598e+43,
          3.4813571279064937e+46,
          1.2567699231742443e+49,
          4.536939422659021e+51,
          1.6378351315799065e+54,
          5.912584825003462e+56,
          2.1344431218262504e+59,
          7.70533966979276e+61,
          2.7816276207951865e+64,
          1.0041675711070621e+67,
          3.625044931696495e+69,
          1.3086412203424344e+72,
          4.724194805436188e+74,
          1.705434324762464e+77,
          6.156617912392495e+79
         ],
         "yaxis": "y"
        },
        {
         "hovertemplate": "variable=16<br>index=%{x}<br>value=%{y}<extra></extra>",
         "legendgroup": "16",
         "line": {
          "color": "#FF6692",
          "dash": "solid"
         },
         "marker": {
          "symbol": "circle"
         },
         "mode": "lines",
         "name": "16",
         "orientation": "v",
         "showlegend": true,
         "type": "scatter",
         "x": [
          0,
          1,
          2,
          3,
          4,
          5,
          6,
          7,
          8,
          9,
          10,
          11,
          12,
          13,
          14,
          15,
          16,
          17,
          18,
          19,
          20,
          21,
          22,
          23,
          24,
          25,
          26,
          27,
          28,
          29,
          30
         ],
         "xaxis": "x",
         "y": [
          1290.0614958268034,
          465712.199993476,
          168122104.19764483,
          60692079615.349785,
          21909840741141.27,
          7909452507551999,
          2855312355226272300,
          1.0307677602366842e+21,
          3.721071614454429e+23,
          1.3433068528180489e+26,
          4.849337738673157e+28,
          1.7506109236610095e+31,
          6.319705434416245e+33,
          2.2814136618242646e+36,
          8.235903319185596e+38,
          2.9731610982260002e+41,
          1.073311156459586e+44,
          3.8746532748191053e+46,
          1.398749832209697e+49,
          5.049486894277005e+51,
          1.822864768833999e+54,
          6.580541815490735e+56,
          2.375575595392155e+59,
          8.575827899365678e+61,
          3.09587387167101e+64,
          1.1176104676732346e+67,
          4.034573788300376e+69,
          1.456481137576436e+72,
          5.257896906650934e+74,
          1.898100783300987e+77,
          6.852143827716563e+79
         ],
         "yaxis": "y"
        },
        {
         "hovertemplate": "variable=17<br>index=%{x}<br>value=%{y}<extra></extra>",
         "legendgroup": "17",
         "line": {
          "color": "#B6E880",
          "dash": "solid"
         },
         "marker": {
          "symbol": "circle"
         },
         "mode": "lines",
         "name": "17",
         "orientation": "v",
         "showlegend": true,
         "type": "scatter",
         "x": [
          0,
          1,
          2,
          3,
          4,
          5,
          6,
          7,
          8,
          9,
          10,
          11,
          12,
          13,
          14,
          15,
          16,
          17,
          18,
          19,
          20,
          21,
          22,
          23,
          24,
          25,
          26,
          27,
          28,
          29,
          30
         ],
         "xaxis": "x",
         "y": [
          599.2914598198969,
          216344.2169949828,
          78100262.33518879,
          28194194703.003155,
          10178104287784.139,
          3674295647890074.5,
          1326420728888317200,
          478837883128682500000,
          1.7286047580945437e+23,
          6.240263176721301e+25,
          2.2527350067963907e+28,
          8.13237337453497e+30,
          2.9357867882071237e+33,
          1.0598190305427718e+36,
          3.825946700259407e+38,
          1.3811667587936459e+41,
          4.98601199924506e+43,
          1.7999503317274669e+46,
          6.497820697536155e+48,
          2.3457132718105526e+51,
          8.468024911236096e+53,
          3.056956992956231e+56,
          1.1035614744571992e+59,
          3.98385692279049e+61,
          1.4381723491273666e+64,
          5.191802180349793e+66,
          1.8742405871062755e+69,
          6.766008519453656e+71,
          2.4425290755227703e+74,
          8.8175299626372e+76,
          3.18312831651203e+79
         ],
         "yaxis": "y"
        },
        {
         "hovertemplate": "variable=18<br>index=%{x}<br>value=%{y}<extra></extra>",
         "legendgroup": "18",
         "line": {
          "color": "#FF97FF",
          "dash": "solid"
         },
         "marker": {
          "symbol": "circle"
         },
         "mode": "lines",
         "name": "18",
         "orientation": "v",
         "showlegend": true,
         "type": "scatter",
         "x": [
          0,
          1,
          2,
          3,
          4,
          5,
          6,
          7,
          8,
          9,
          10,
          11,
          12,
          13,
          14,
          15,
          16,
          17,
          18,
          19,
          20,
          21,
          22,
          23,
          24,
          25,
          26,
          27,
          28,
          29,
          30
         ],
         "xaxis": "x",
         "y": [
          1148.1564180921982,
          414484.4669312836,
          149628892.5621934,
          54016030214.95181,
          19499786907597.61,
          7039423073642738,
          2541231729585028000,
          917384654380195100000,
          3.311758602312505e+23,
          1.1955448554348146e+26,
          4.315916928119679e+28,
          1.5580460110512047e+31,
          5.624546099894849e+33,
          2.0304611420620402e+36,
          7.329964722843964e+38,
          2.6461172649466715e+41,
          9.552483326457483e+43,
          3.4484464808511516e+46,
          1.2448891795872655e+49,
          4.4940499383100286e+51,
          1.6223520277299203e+54,
          5.85669082010501e+56,
          2.114265386057909e+59,
          7.632498043669052e+61,
          2.755331793764528e+64,
          9.946747775489945e+66,
          3.59077594695187e+69,
          1.296270116849625e+72,
          4.679535121827146e+74,
          1.6893121789796e+77,
          6.098416966116354e+79
         ],
         "yaxis": "y"
        },
        {
         "hovertemplate": "variable=19<br>index=%{x}<br>value=%{y}<extra></extra>",
         "legendgroup": "19",
         "line": {
          "color": "#FECB52",
          "dash": "solid"
         },
         "marker": {
          "symbol": "circle"
         },
         "mode": "lines",
         "name": "19",
         "orientation": "v",
         "showlegend": true,
         "type": "scatter",
         "x": [
          0,
          1,
          2,
          3,
          4,
          5,
          6,
          7,
          8,
          9,
          10,
          11,
          12,
          13,
          14,
          15,
          16,
          17,
          18,
          19,
          20,
          21,
          22,
          23,
          24,
          25,
          26,
          27,
          28,
          29,
          30
         ],
         "xaxis": "x",
         "y": [
          1569.5964513978092,
          566624.3189546092,
          204551379.14261392,
          73843047870.48363,
          26657340281244.59,
          9623299841529296,
          3474011242792075300,
          1.2541180586479392e+21,
          4.52736619171906e+23,
          1.6343791952105804e+26,
          5.900108894710196e+28,
          2.129939310990381e+31,
          7.689080912675274e+33,
          2.775758209475774e+36,
          1.0020487136207547e+39,
          3.617395856170924e+41,
          1.3058799040777034e+44,
          4.714226453720509e+46,
          1.7018357497931037e+49,
          6.143627056753103e+51,
          2.2178493674878704e+54,
          8.006436216631211e+56,
          2.8903234742038665e+59,
          1.0434067741875962e+62,
          3.766698454817222e+64,
          1.359778142189017e+67,
          4.908799093302352e+69,
          1.7720764726821496e+72,
          6.39719606638256e+74,
          2.3093877799641044e+77,
          8.336889885670416e+79
         ],
         "yaxis": "y"
        }
       ],
       "layout": {
        "legend": {
         "title": {
          "text": "Inicialização"
         },
         "tracegroupgap": 0
        },
        "template": {
         "data": {
          "bar": [
           {
            "error_x": {
             "color": "#2a3f5f"
            },
            "error_y": {
             "color": "#2a3f5f"
            },
            "marker": {
             "line": {
              "color": "#E5ECF6",
              "width": 0.5
             },
             "pattern": {
              "fillmode": "overlay",
              "size": 10,
              "solidity": 0.2
             }
            },
            "type": "bar"
           }
          ],
          "barpolar": [
           {
            "marker": {
             "line": {
              "color": "#E5ECF6",
              "width": 0.5
             },
             "pattern": {
              "fillmode": "overlay",
              "size": 10,
              "solidity": 0.2
             }
            },
            "type": "barpolar"
           }
          ],
          "carpet": [
           {
            "aaxis": {
             "endlinecolor": "#2a3f5f",
             "gridcolor": "white",
             "linecolor": "white",
             "minorgridcolor": "white",
             "startlinecolor": "#2a3f5f"
            },
            "baxis": {
             "endlinecolor": "#2a3f5f",
             "gridcolor": "white",
             "linecolor": "white",
             "minorgridcolor": "white",
             "startlinecolor": "#2a3f5f"
            },
            "type": "carpet"
           }
          ],
          "choropleth": [
           {
            "colorbar": {
             "outlinewidth": 0,
             "ticks": ""
            },
            "type": "choropleth"
           }
          ],
          "contour": [
           {
            "colorbar": {
             "outlinewidth": 0,
             "ticks": ""
            },
            "colorscale": [
             [
              0,
              "#0d0887"
             ],
             [
              0.1111111111111111,
              "#46039f"
             ],
             [
              0.2222222222222222,
              "#7201a8"
             ],
             [
              0.3333333333333333,
              "#9c179e"
             ],
             [
              0.4444444444444444,
              "#bd3786"
             ],
             [
              0.5555555555555556,
              "#d8576b"
             ],
             [
              0.6666666666666666,
              "#ed7953"
             ],
             [
              0.7777777777777778,
              "#fb9f3a"
             ],
             [
              0.8888888888888888,
              "#fdca26"
             ],
             [
              1,
              "#f0f921"
             ]
            ],
            "type": "contour"
           }
          ],
          "contourcarpet": [
           {
            "colorbar": {
             "outlinewidth": 0,
             "ticks": ""
            },
            "type": "contourcarpet"
           }
          ],
          "heatmap": [
           {
            "colorbar": {
             "outlinewidth": 0,
             "ticks": ""
            },
            "colorscale": [
             [
              0,
              "#0d0887"
             ],
             [
              0.1111111111111111,
              "#46039f"
             ],
             [
              0.2222222222222222,
              "#7201a8"
             ],
             [
              0.3333333333333333,
              "#9c179e"
             ],
             [
              0.4444444444444444,
              "#bd3786"
             ],
             [
              0.5555555555555556,
              "#d8576b"
             ],
             [
              0.6666666666666666,
              "#ed7953"
             ],
             [
              0.7777777777777778,
              "#fb9f3a"
             ],
             [
              0.8888888888888888,
              "#fdca26"
             ],
             [
              1,
              "#f0f921"
             ]
            ],
            "type": "heatmap"
           }
          ],
          "heatmapgl": [
           {
            "colorbar": {
             "outlinewidth": 0,
             "ticks": ""
            },
            "colorscale": [
             [
              0,
              "#0d0887"
             ],
             [
              0.1111111111111111,
              "#46039f"
             ],
             [
              0.2222222222222222,
              "#7201a8"
             ],
             [
              0.3333333333333333,
              "#9c179e"
             ],
             [
              0.4444444444444444,
              "#bd3786"
             ],
             [
              0.5555555555555556,
              "#d8576b"
             ],
             [
              0.6666666666666666,
              "#ed7953"
             ],
             [
              0.7777777777777778,
              "#fb9f3a"
             ],
             [
              0.8888888888888888,
              "#fdca26"
             ],
             [
              1,
              "#f0f921"
             ]
            ],
            "type": "heatmapgl"
           }
          ],
          "histogram": [
           {
            "marker": {
             "pattern": {
              "fillmode": "overlay",
              "size": 10,
              "solidity": 0.2
             }
            },
            "type": "histogram"
           }
          ],
          "histogram2d": [
           {
            "colorbar": {
             "outlinewidth": 0,
             "ticks": ""
            },
            "colorscale": [
             [
              0,
              "#0d0887"
             ],
             [
              0.1111111111111111,
              "#46039f"
             ],
             [
              0.2222222222222222,
              "#7201a8"
             ],
             [
              0.3333333333333333,
              "#9c179e"
             ],
             [
              0.4444444444444444,
              "#bd3786"
             ],
             [
              0.5555555555555556,
              "#d8576b"
             ],
             [
              0.6666666666666666,
              "#ed7953"
             ],
             [
              0.7777777777777778,
              "#fb9f3a"
             ],
             [
              0.8888888888888888,
              "#fdca26"
             ],
             [
              1,
              "#f0f921"
             ]
            ],
            "type": "histogram2d"
           }
          ],
          "histogram2dcontour": [
           {
            "colorbar": {
             "outlinewidth": 0,
             "ticks": ""
            },
            "colorscale": [
             [
              0,
              "#0d0887"
             ],
             [
              0.1111111111111111,
              "#46039f"
             ],
             [
              0.2222222222222222,
              "#7201a8"
             ],
             [
              0.3333333333333333,
              "#9c179e"
             ],
             [
              0.4444444444444444,
              "#bd3786"
             ],
             [
              0.5555555555555556,
              "#d8576b"
             ],
             [
              0.6666666666666666,
              "#ed7953"
             ],
             [
              0.7777777777777778,
              "#fb9f3a"
             ],
             [
              0.8888888888888888,
              "#fdca26"
             ],
             [
              1,
              "#f0f921"
             ]
            ],
            "type": "histogram2dcontour"
           }
          ],
          "mesh3d": [
           {
            "colorbar": {
             "outlinewidth": 0,
             "ticks": ""
            },
            "type": "mesh3d"
           }
          ],
          "parcoords": [
           {
            "line": {
             "colorbar": {
              "outlinewidth": 0,
              "ticks": ""
             }
            },
            "type": "parcoords"
           }
          ],
          "pie": [
           {
            "automargin": true,
            "type": "pie"
           }
          ],
          "scatter": [
           {
            "fillpattern": {
             "fillmode": "overlay",
             "size": 10,
             "solidity": 0.2
            },
            "type": "scatter"
           }
          ],
          "scatter3d": [
           {
            "line": {
             "colorbar": {
              "outlinewidth": 0,
              "ticks": ""
             }
            },
            "marker": {
             "colorbar": {
              "outlinewidth": 0,
              "ticks": ""
             }
            },
            "type": "scatter3d"
           }
          ],
          "scattercarpet": [
           {
            "marker": {
             "colorbar": {
              "outlinewidth": 0,
              "ticks": ""
             }
            },
            "type": "scattercarpet"
           }
          ],
          "scattergeo": [
           {
            "marker": {
             "colorbar": {
              "outlinewidth": 0,
              "ticks": ""
             }
            },
            "type": "scattergeo"
           }
          ],
          "scattergl": [
           {
            "marker": {
             "colorbar": {
              "outlinewidth": 0,
              "ticks": ""
             }
            },
            "type": "scattergl"
           }
          ],
          "scattermapbox": [
           {
            "marker": {
             "colorbar": {
              "outlinewidth": 0,
              "ticks": ""
             }
            },
            "type": "scattermapbox"
           }
          ],
          "scatterpolar": [
           {
            "marker": {
             "colorbar": {
              "outlinewidth": 0,
              "ticks": ""
             }
            },
            "type": "scatterpolar"
           }
          ],
          "scatterpolargl": [
           {
            "marker": {
             "colorbar": {
              "outlinewidth": 0,
              "ticks": ""
             }
            },
            "type": "scatterpolargl"
           }
          ],
          "scatterternary": [
           {
            "marker": {
             "colorbar": {
              "outlinewidth": 0,
              "ticks": ""
             }
            },
            "type": "scatterternary"
           }
          ],
          "surface": [
           {
            "colorbar": {
             "outlinewidth": 0,
             "ticks": ""
            },
            "colorscale": [
             [
              0,
              "#0d0887"
             ],
             [
              0.1111111111111111,
              "#46039f"
             ],
             [
              0.2222222222222222,
              "#7201a8"
             ],
             [
              0.3333333333333333,
              "#9c179e"
             ],
             [
              0.4444444444444444,
              "#bd3786"
             ],
             [
              0.5555555555555556,
              "#d8576b"
             ],
             [
              0.6666666666666666,
              "#ed7953"
             ],
             [
              0.7777777777777778,
              "#fb9f3a"
             ],
             [
              0.8888888888888888,
              "#fdca26"
             ],
             [
              1,
              "#f0f921"
             ]
            ],
            "type": "surface"
           }
          ],
          "table": [
           {
            "cells": {
             "fill": {
              "color": "#EBF0F8"
             },
             "line": {
              "color": "white"
             }
            },
            "header": {
             "fill": {
              "color": "#C8D4E3"
             },
             "line": {
              "color": "white"
             }
            },
            "type": "table"
           }
          ]
         },
         "layout": {
          "annotationdefaults": {
           "arrowcolor": "#2a3f5f",
           "arrowhead": 0,
           "arrowwidth": 1
          },
          "autotypenumbers": "strict",
          "coloraxis": {
           "colorbar": {
            "outlinewidth": 0,
            "ticks": ""
           }
          },
          "colorscale": {
           "diverging": [
            [
             0,
             "#8e0152"
            ],
            [
             0.1,
             "#c51b7d"
            ],
            [
             0.2,
             "#de77ae"
            ],
            [
             0.3,
             "#f1b6da"
            ],
            [
             0.4,
             "#fde0ef"
            ],
            [
             0.5,
             "#f7f7f7"
            ],
            [
             0.6,
             "#e6f5d0"
            ],
            [
             0.7,
             "#b8e186"
            ],
            [
             0.8,
             "#7fbc41"
            ],
            [
             0.9,
             "#4d9221"
            ],
            [
             1,
             "#276419"
            ]
           ],
           "sequential": [
            [
             0,
             "#0d0887"
            ],
            [
             0.1111111111111111,
             "#46039f"
            ],
            [
             0.2222222222222222,
             "#7201a8"
            ],
            [
             0.3333333333333333,
             "#9c179e"
            ],
            [
             0.4444444444444444,
             "#bd3786"
            ],
            [
             0.5555555555555556,
             "#d8576b"
            ],
            [
             0.6666666666666666,
             "#ed7953"
            ],
            [
             0.7777777777777778,
             "#fb9f3a"
            ],
            [
             0.8888888888888888,
             "#fdca26"
            ],
            [
             1,
             "#f0f921"
            ]
           ],
           "sequentialminus": [
            [
             0,
             "#0d0887"
            ],
            [
             0.1111111111111111,
             "#46039f"
            ],
            [
             0.2222222222222222,
             "#7201a8"
            ],
            [
             0.3333333333333333,
             "#9c179e"
            ],
            [
             0.4444444444444444,
             "#bd3786"
            ],
            [
             0.5555555555555556,
             "#d8576b"
            ],
            [
             0.6666666666666666,
             "#ed7953"
            ],
            [
             0.7777777777777778,
             "#fb9f3a"
            ],
            [
             0.8888888888888888,
             "#fdca26"
            ],
            [
             1,
             "#f0f921"
            ]
           ]
          },
          "colorway": [
           "#636efa",
           "#EF553B",
           "#00cc96",
           "#ab63fa",
           "#FFA15A",
           "#19d3f3",
           "#FF6692",
           "#B6E880",
           "#FF97FF",
           "#FECB52"
          ],
          "font": {
           "color": "#2a3f5f"
          },
          "geo": {
           "bgcolor": "white",
           "lakecolor": "white",
           "landcolor": "#E5ECF6",
           "showlakes": true,
           "showland": true,
           "subunitcolor": "white"
          },
          "hoverlabel": {
           "align": "left"
          },
          "hovermode": "closest",
          "mapbox": {
           "style": "light"
          },
          "paper_bgcolor": "white",
          "plot_bgcolor": "#E5ECF6",
          "polar": {
           "angularaxis": {
            "gridcolor": "white",
            "linecolor": "white",
            "ticks": ""
           },
           "bgcolor": "#E5ECF6",
           "radialaxis": {
            "gridcolor": "white",
            "linecolor": "white",
            "ticks": ""
           }
          },
          "scene": {
           "xaxis": {
            "backgroundcolor": "#E5ECF6",
            "gridcolor": "white",
            "gridwidth": 2,
            "linecolor": "white",
            "showbackground": true,
            "ticks": "",
            "zerolinecolor": "white"
           },
           "yaxis": {
            "backgroundcolor": "#E5ECF6",
            "gridcolor": "white",
            "gridwidth": 2,
            "linecolor": "white",
            "showbackground": true,
            "ticks": "",
            "zerolinecolor": "white"
           },
           "zaxis": {
            "backgroundcolor": "#E5ECF6",
            "gridcolor": "white",
            "gridwidth": 2,
            "linecolor": "white",
            "showbackground": true,
            "ticks": "",
            "zerolinecolor": "white"
           }
          },
          "shapedefaults": {
           "line": {
            "color": "#2a3f5f"
           }
          },
          "ternary": {
           "aaxis": {
            "gridcolor": "white",
            "linecolor": "white",
            "ticks": ""
           },
           "baxis": {
            "gridcolor": "white",
            "linecolor": "white",
            "ticks": ""
           },
           "bgcolor": "#E5ECF6",
           "caxis": {
            "gridcolor": "white",
            "linecolor": "white",
            "ticks": ""
           }
          },
          "title": {
           "x": 0.05
          },
          "xaxis": {
           "automargin": true,
           "gridcolor": "white",
           "linecolor": "white",
           "ticks": "",
           "title": {
            "standoff": 15
           },
           "zerolinecolor": "white",
           "zerolinewidth": 2
          },
          "yaxis": {
           "automargin": true,
           "gridcolor": "white",
           "linecolor": "white",
           "ticks": "",
           "title": {
            "standoff": 15
           },
           "zerolinecolor": "white",
           "zerolinewidth": 2
          }
         }
        },
        "title": {
         "text": "Treino da func. esfera em R3 com alpha 10.0 - Tempo médio para 30 iterações: 0.656 ms"
        },
        "xaxis": {
         "anchor": "y",
         "domain": [
          0,
          1
         ],
         "title": {
          "text": "Iterações"
         }
        },
        "yaxis": {
         "anchor": "x",
         "domain": [
          0,
          1
         ],
         "title": {
          "text": "Valor da função esfera"
         }
        }
       }
      }
     },
     "metadata": {},
     "output_type": "display_data"
    }
   ],
   "source": [
    "treina_gradiente(1e1, 3, 'esfera', 30)"
   ]
  },
  {
   "attachments": {},
   "cell_type": "markdown",
   "metadata": {},
   "source": [
    "### 3. Otimização da função Ackley em $\\mathbb{R}^{2}$ com 20 inicializações:"
   ]
  },
  {
   "attachments": {},
   "cell_type": "markdown",
   "metadata": {},
   "source": [
    "Caso 3.1: $\\alpha$ = 0.01, treinamento por 30 iterações"
   ]
  },
  {
   "cell_type": "code",
   "execution_count": 36,
   "metadata": {},
   "outputs": [
    {
     "data": {
      "application/vnd.plotly.v1+json": {
       "config": {
        "plotlyServerURL": "https://plot.ly"
       },
       "data": [
        {
         "hovertemplate": "variable=0<br>index=%{x}<br>value=%{y}<extra></extra>",
         "legendgroup": "0",
         "line": {
          "color": "#636efa",
          "dash": "solid"
         },
         "marker": {
          "symbol": "circle"
         },
         "mode": "lines",
         "name": "0",
         "orientation": "v",
         "showlegend": true,
         "type": "scatter",
         "x": [
          0,
          1,
          2,
          3,
          4,
          5,
          6,
          7,
          8,
          9,
          10,
          11,
          12,
          13,
          14,
          15,
          16,
          17,
          18,
          19,
          20,
          21,
          22,
          23,
          24,
          25,
          26,
          27,
          28,
          29,
          30
         ],
         "xaxis": "x",
         "y": [
          18.319055102980517,
          20.35090576494509,
          20.28835357095296,
          20.213350745569187,
          20.12323922388318,
          20.014643323946274,
          19.88244544573883,
          19.716778343554015,
          19.49517166470448,
          19.162368612703833,
          18.57383633886502,
          17.334268493725407,
          14.773342490980074,
          13.260566842182774,
          13.249514720315473,
          13.248444811107357,
          13.247671069061573,
          13.247760154993179,
          13.24766393040717,
          13.247696322024712,
          13.247679062335976,
          13.247686447833486,
          13.247682961400184,
          13.247684534096642,
          13.247683809805803,
          13.247684140210062,
          13.247683988828912,
          13.24768405804862,
          13.247684026368594,
          13.247684040861616,
          13.247684034230051
         ],
         "yaxis": "y"
        },
        {
         "hovertemplate": "variable=1<br>index=%{x}<br>value=%{y}<extra></extra>",
         "legendgroup": "1",
         "line": {
          "color": "#EF553B",
          "dash": "solid"
         },
         "marker": {
          "symbol": "circle"
         },
         "mode": "lines",
         "name": "1",
         "orientation": "v",
         "showlegend": true,
         "type": "scatter",
         "x": [
          0,
          1,
          2,
          3,
          4,
          5,
          6,
          7,
          8,
          9,
          10,
          11,
          12,
          13,
          14,
          15,
          16,
          17,
          18,
          19,
          20,
          21,
          22,
          23,
          24,
          25,
          26,
          27,
          28,
          29,
          30
         ],
         "xaxis": "x",
         "y": [
          21.85867942280426,
          22.230074396569698,
          22.164265820385165,
          22.072155786374594,
          21.936070504974662,
          21.720111018942692,
          21.342971009958664,
          20.597875269725833,
          18.95166075680209,
          16.060165015975386,
          15.348119265290736,
          15.300834883241418,
          15.291579512632808,
          15.289666734983545,
          15.289263206637795,
          15.289179573643676,
          15.289161459322006,
          15.289157894526252,
          15.289157033187779,
          15.289156903347358,
          15.28915685254026,
          15.289156852636019,
          15.28915684771388,
          15.289156848945122,
          15.289156848164895,
          15.289156848477308,
          15.289156848324524,
          15.289156848392576,
          15.289156848360951,
          15.289156848375363,
          15.289156848368737
         ],
         "yaxis": "y"
        },
        {
         "hovertemplate": "variable=2<br>index=%{x}<br>value=%{y}<extra></extra>",
         "legendgroup": "2",
         "line": {
          "color": "#00cc96",
          "dash": "solid"
         },
         "marker": {
          "symbol": "circle"
         },
         "mode": "lines",
         "name": "2",
         "orientation": "v",
         "showlegend": true,
         "type": "scatter",
         "x": [
          0,
          1,
          2,
          3,
          4,
          5,
          6,
          7,
          8,
          9,
          10,
          11,
          12,
          13,
          14,
          15,
          16,
          17,
          18,
          19,
          20,
          21,
          22,
          23,
          24,
          25,
          26,
          27,
          28,
          29,
          30
         ],
         "xaxis": "x",
         "y": [
          21.052249710551536,
          20.256379871045585,
          18.049805834269595,
          15.357009054960455,
          15.267466560176974,
          15.251123308940254,
          15.247696721591254,
          15.247012864877211,
          15.246854166181624,
          15.246827715288884,
          15.246818987898926,
          15.246818604928082,
          15.246817858704375,
          15.246818007054532,
          15.246817898287208,
          15.246817939592322,
          15.246817918852157,
          15.246817927983223,
          15.246817923716861,
          15.246817925656323,
          15.246817924763528,
          15.246817925172149,
          15.246817924984633,
          15.24681792507058,
          15.246817925031166,
          15.246817925049235,
          15.24681792504095,
          15.24681792504475,
          15.24681792504301,
          15.246817925043807,
          15.246817925043441
         ],
         "yaxis": "y"
        },
        {
         "hovertemplate": "variable=3<br>index=%{x}<br>value=%{y}<extra></extra>",
         "legendgroup": "3",
         "line": {
          "color": "#ab63fa",
          "dash": "solid"
         },
         "marker": {
          "symbol": "circle"
         },
         "mode": "lines",
         "name": "3",
         "orientation": "v",
         "showlegend": true,
         "type": "scatter",
         "x": [
          0,
          1,
          2,
          3,
          4,
          5,
          6,
          7,
          8,
          9,
          10,
          11,
          12,
          13,
          14,
          15,
          16,
          17,
          18,
          19,
          20,
          21,
          22,
          23,
          24,
          25,
          26,
          27,
          28,
          29,
          30
         ],
         "xaxis": "x",
         "y": [
          21.21818411875167,
          20.939796819343158,
          19.62904674885776,
          16.848702638571115,
          15.259300739054432,
          15.247260293760654,
          15.244716241690451,
          15.244208906701097,
          15.24409060391111,
          15.24407110543826,
          15.244064543920615,
          15.244064293308826,
          15.244063722993584,
          15.24406384042588,
          15.244063756291727,
          15.24406378850033,
          15.244063772393247,
          15.244063779497107,
          15.244063776180685,
          15.244063777688876,
          15.24406377699473,
          15.244063777312457,
          15.244063777166659,
          15.244063777233485,
          15.244063777202838,
          15.24406377721689,
          15.244063777210446,
          15.2440637772134,
          15.244063777212046,
          15.244063777212668,
          15.244063777212382
         ],
         "yaxis": "y"
        },
        {
         "hovertemplate": "variable=4<br>index=%{x}<br>value=%{y}<extra></extra>",
         "legendgroup": "4",
         "line": {
          "color": "#FFA15A",
          "dash": "solid"
         },
         "marker": {
          "symbol": "circle"
         },
         "mode": "lines",
         "name": "4",
         "orientation": "v",
         "showlegend": true,
         "type": "scatter",
         "x": [
          0,
          1,
          2,
          3,
          4,
          5,
          6,
          7,
          8,
          9,
          10,
          11,
          12,
          13,
          14,
          15,
          16,
          17,
          18,
          19,
          20,
          21,
          22,
          23,
          24,
          25,
          26,
          27,
          28,
          29,
          30
         ],
         "xaxis": "x",
         "y": [
          21.42664277514824,
          21.19530019387995,
          20.446275702277575,
          18.851534840254327,
          16.065211890738563,
          15.347802334419548,
          15.30279417197086,
          15.293946800294176,
          15.292132145831925,
          15.291742943558077,
          15.291665181637441,
          15.291646991568662,
          15.291644011795594,
          15.291642997978354,
          15.291642962409304,
          15.291642873499724,
          15.291642892144573,
          15.291642878943883,
          15.291642884018806,
          15.29164288148617,
          15.291642882604226,
          15.29164288208247,
          15.291642882319803,
          15.291642882210574,
          15.291642882260575,
          15.291642882237632,
          15.291642882248148,
          15.291642882243323,
          15.291642882245537,
          15.291642882244522,
          15.291642882244986
         ],
         "yaxis": "y"
        },
        {
         "hovertemplate": "variable=5<br>index=%{x}<br>value=%{y}<extra></extra>",
         "legendgroup": "5",
         "line": {
          "color": "#19d3f3",
          "dash": "solid"
         },
         "marker": {
          "symbol": "circle"
         },
         "mode": "lines",
         "name": "5",
         "orientation": "v",
         "showlegend": true,
         "type": "scatter",
         "x": [
          0,
          1,
          2,
          3,
          4,
          5,
          6,
          7,
          8,
          9,
          10,
          11,
          12,
          13,
          14,
          15,
          16,
          17,
          18,
          19,
          20,
          21,
          22,
          23,
          24,
          25,
          26,
          27,
          28,
          29,
          30
         ],
         "xaxis": "x",
         "y": [
          19.79176786952858,
          15.518256221209157,
          15.294805321811005,
          15.260843681163134,
          15.254088104274677,
          15.252665634389597,
          15.252374549457612,
          15.25230999387215,
          15.252297970316526,
          15.252294732228247,
          15.252294376958002,
          15.252294152979381,
          15.252294174332832,
          15.252294147438235,
          15.252294156173694,
          15.252294151412176,
          15.252294153436434,
          15.252294152474846,
          15.252294152908723,
          15.252294152708304,
          15.252294152799891,
          15.25229415275783,
          15.2522941527771,
          15.252294152768261,
          15.252294152772315,
          15.252294152770457,
          15.252294152771306,
          15.252294152770919,
          15.252294152771096,
          15.252294152771015,
          15.252294152771052
         ],
         "yaxis": "y"
        },
        {
         "hovertemplate": "variable=6<br>index=%{x}<br>value=%{y}<extra></extra>",
         "legendgroup": "6",
         "line": {
          "color": "#FF6692",
          "dash": "solid"
         },
         "marker": {
          "symbol": "circle"
         },
         "mode": "lines",
         "name": "6",
         "orientation": "v",
         "showlegend": true,
         "type": "scatter",
         "x": [
          0,
          1,
          2,
          3,
          4,
          5,
          6,
          7,
          8,
          9,
          10,
          11,
          12,
          13,
          14,
          15,
          16,
          17,
          18,
          19,
          20,
          21,
          22,
          23,
          24,
          25,
          26,
          27,
          28,
          29,
          30
         ],
         "xaxis": "x",
         "y": [
          19.859984341139217,
          15.49468454223196,
          15.314702275899094,
          15.285421458702407,
          15.279523564238028,
          15.278291901860896,
          15.278034337241706,
          15.277979767253651,
          15.277968493161293,
          15.277966031439233,
          15.277965555672894,
          15.277965436453222,
          15.277965420182268,
          15.277965412727713,
          15.27796541300972,
          15.277965412221008,
          15.277965412444004,
          15.277965412312604,
          15.277965412366726,
          15.27796541234062,
          15.277965412352318,
          15.277965412346898,
          15.27796541234937,
          15.277965412348234,
          15.277965412348756,
          15.277965412348514,
          15.277965412348625,
          15.277965412348575,
          15.2779654123486,
          15.277965412348587,
          15.277965412348593
         ],
         "yaxis": "y"
        },
        {
         "hovertemplate": "variable=7<br>index=%{x}<br>value=%{y}<extra></extra>",
         "legendgroup": "7",
         "line": {
          "color": "#B6E880",
          "dash": "solid"
         },
         "marker": {
          "symbol": "circle"
         },
         "mode": "lines",
         "name": "7",
         "orientation": "v",
         "showlegend": true,
         "type": "scatter",
         "x": [
          0,
          1,
          2,
          3,
          4,
          5,
          6,
          7,
          8,
          9,
          10,
          11,
          12,
          13,
          14,
          15,
          16,
          17,
          18,
          19,
          20,
          21,
          22,
          23,
          24,
          25,
          26,
          27,
          28,
          29,
          30
         ],
         "xaxis": "x",
         "y": [
          20.382091109446304,
          20.032436192397142,
          17.870327715881498,
          15.138353780740747,
          15.024225732842762,
          15.00422940879892,
          15.000041588467672,
          14.99921491762741,
          14.999019205834959,
          14.998988193244987,
          14.998977030683829,
          14.998976811579993,
          14.998975789973496,
          14.998976022385214,
          14.998975866230857,
          14.998975927386866,
          14.998975897157399,
          14.998975910554535,
          14.998975904315824,
          14.99897590715549,
          14.998975905849393,
          14.998975906447257,
          14.998975906172983,
          14.99897590629868,
          14.998975906241046,
          14.998975906267468,
          14.998975906255353,
          14.99897590626091,
          14.998975906258362,
          14.998975906259531,
          14.998975906258995
         ],
         "yaxis": "y"
        },
        {
         "hovertemplate": "variable=8<br>index=%{x}<br>value=%{y}<extra></extra>",
         "legendgroup": "8",
         "line": {
          "color": "#FF97FF",
          "dash": "solid"
         },
         "marker": {
          "symbol": "circle"
         },
         "mode": "lines",
         "name": "8",
         "orientation": "v",
         "showlegend": true,
         "type": "scatter",
         "x": [
          0,
          1,
          2,
          3,
          4,
          5,
          6,
          7,
          8,
          9,
          10,
          11,
          12,
          13,
          14,
          15,
          16,
          17,
          18,
          19,
          20,
          21,
          22,
          23,
          24,
          25,
          26,
          27,
          28,
          29,
          30
         ],
         "xaxis": "x",
         "y": [
          21.95915952519277,
          22.268648460119454,
          22.20494717499699,
          22.114089885697982,
          21.976255515471863,
          21.749127758641446,
          21.330740873121968,
          20.444523629156528,
          18.39347368409157,
          15.536232542271243,
          15.34529102176544,
          15.31491924475172,
          15.308821951660093,
          15.307547591661137,
          15.307281910806454,
          15.307225263834761,
          15.30721372410369,
          15.307211128203422,
          15.307210660155167,
          15.307210526085667,
          15.307210514246435,
          15.307210504259954,
          15.307210505597904,
          15.307210504302912,
          15.30721050475342,
          15.307210504516718,
          15.30721050461892,
          15.307210504570724,
          15.307210504592542,
          15.307210504582478,
          15.307210504587081
         ],
         "yaxis": "y"
        },
        {
         "hovertemplate": "variable=9<br>index=%{x}<br>value=%{y}<extra></extra>",
         "legendgroup": "9",
         "line": {
          "color": "#FECB52",
          "dash": "solid"
         },
         "marker": {
          "symbol": "circle"
         },
         "mode": "lines",
         "name": "9",
         "orientation": "v",
         "showlegend": true,
         "type": "scatter",
         "x": [
          0,
          1,
          2,
          3,
          4,
          5,
          6,
          7,
          8,
          9,
          10,
          11,
          12,
          13,
          14,
          15,
          16,
          17,
          18,
          19,
          20,
          21,
          22,
          23,
          24,
          25,
          26,
          27,
          28,
          29,
          30
         ],
         "xaxis": "x",
         "y": [
          21.114123117084496,
          21.678961096030704,
          21.459276490380457,
          21.10220582525222,
          20.452439777711323,
          19.101911865055584,
          16.463637862543514,
          15.1426410811257,
          15.125510190947207,
          15.121966803074567,
          15.121242572160938,
          15.121082841212484,
          15.121052755010096,
          15.121044828515243,
          15.12104389567057,
          15.121043363081546,
          15.121043405346363,
          15.121043343512257,
          15.121043362934657,
          15.121043352152764,
          15.121043356701342,
          15.121043354532919,
          15.121043355509645,
          15.121043355058168,
          15.12104335526439,
          15.121043355169679,
          15.121043355213066,
          15.12104335519317,
          15.12104335520229,
          15.121043355198108,
          15.121043355200026
         ],
         "yaxis": "y"
        },
        {
         "hovertemplate": "variable=10<br>index=%{x}<br>value=%{y}<extra></extra>",
         "legendgroup": "10",
         "line": {
          "color": "#636efa",
          "dash": "solid"
         },
         "marker": {
          "symbol": "circle"
         },
         "mode": "lines",
         "name": "10",
         "orientation": "v",
         "showlegend": true,
         "type": "scatter",
         "x": [
          0,
          1,
          2,
          3,
          4,
          5,
          6,
          7,
          8,
          9,
          10,
          11,
          12,
          13,
          14,
          15,
          16,
          17,
          18,
          19,
          20,
          21,
          22,
          23,
          24,
          25,
          26,
          27,
          28,
          29,
          30
         ],
         "xaxis": "x",
         "y": [
          8.53982420121301,
          8.305713035161183,
          5.909768042318724,
          5.620356966568245,
          5.611710026682587,
          5.5985233578041225,
          5.60093771549106,
          5.599186851456885,
          5.59983313675761,
          5.599517651425902,
          5.599653135778674,
          5.59959156773953,
          5.5996188438164936,
          5.599606622179195,
          5.599612070614878,
          5.599609636185679,
          5.59961072281202,
          5.599610237570072,
          5.5996104542139555,
          5.599610357481563,
          5.599610400671022,
          5.599610381387368,
          5.599610389997213,
          5.59961038615306,
          5.599610387869397,
          5.599610387103088,
          5.599610387445228,
          5.599610387292472,
          5.5996103873606735,
          5.599610387330223,
          5.599610387343816
         ],
         "yaxis": "y"
        },
        {
         "hovertemplate": "variable=11<br>index=%{x}<br>value=%{y}<extra></extra>",
         "legendgroup": "11",
         "line": {
          "color": "#EF553B",
          "dash": "solid"
         },
         "marker": {
          "symbol": "circle"
         },
         "mode": "lines",
         "name": "11",
         "orientation": "v",
         "showlegend": true,
         "type": "scatter",
         "x": [
          0,
          1,
          2,
          3,
          4,
          5,
          6,
          7,
          8,
          9,
          10,
          11,
          12,
          13,
          14,
          15,
          16,
          17,
          18,
          19,
          20,
          21,
          22,
          23,
          24,
          25,
          26,
          27,
          28,
          29,
          30
         ],
         "xaxis": "x",
         "y": [
          21.981813281059306,
          22.456425492221637,
          22.449163675528872,
          22.440886072605966,
          22.431378647304456,
          22.420363515960283,
          22.407473533857562,
          22.392213882710774,
          22.373902313424384,
          22.351573073627105,
          22.323816484724365,
          22.28849900422812,
          22.242248828776333,
          22.17945098610541,
          22.090135123377753,
          21.95512825962641,
          21.733709435557493,
          21.328335437438597,
          20.475471348575944,
          18.49854807078849,
          15.57835108241053,
          15.320373487556505,
          15.282976980734219,
          15.27560869621496,
          15.27404329473937,
          15.273729989597236,
          15.273657249807737,
          15.273645120554356,
          15.27364112041219,
          15.273640944266536,
          15.273640602372264
         ],
         "yaxis": "y"
        },
        {
         "hovertemplate": "variable=12<br>index=%{x}<br>value=%{y}<extra></extra>",
         "legendgroup": "12",
         "line": {
          "color": "#00cc96",
          "dash": "solid"
         },
         "marker": {
          "symbol": "circle"
         },
         "mode": "lines",
         "name": "12",
         "orientation": "v",
         "showlegend": true,
         "type": "scatter",
         "x": [
          0,
          1,
          2,
          3,
          4,
          5,
          6,
          7,
          8,
          9,
          10,
          11,
          12,
          13,
          14,
          15,
          16,
          17,
          18,
          19,
          20,
          21,
          22,
          23,
          24,
          25,
          26,
          27,
          28,
          29,
          30
         ],
         "xaxis": "x",
         "y": [
          20.854121630129374,
          21.69788416753664,
          21.50738522779286,
          21.17351036564854,
          20.507809416904273,
          18.999399828487793,
          16.071291407293653,
          15.020592817794892,
          14.981632530057643,
          14.97396856360748,
          14.972341009078292,
          14.972015170089662,
          14.971939546047466,
          14.971926919139179,
          14.971922763531317,
          14.971922577580294,
          14.971922223145222,
          14.971922293171964,
          14.971922241629324,
          14.971922261169645,
          14.97192225135234,
          14.971922255672052,
          14.971922253653792,
          14.971922254571016,
          14.97192225414886,
          14.971922254342031,
          14.971922254253403,
          14.971922254294018,
          14.971922254275395,
          14.971922254283932,
          14.971922254280017
         ],
         "yaxis": "y"
        },
        {
         "hovertemplate": "variable=13<br>index=%{x}<br>value=%{y}<extra></extra>",
         "legendgroup": "13",
         "line": {
          "color": "#ab63fa",
          "dash": "solid"
         },
         "marker": {
          "symbol": "circle"
         },
         "mode": "lines",
         "name": "13",
         "orientation": "v",
         "showlegend": true,
         "type": "scatter",
         "x": [
          0,
          1,
          2,
          3,
          4,
          5,
          6,
          7,
          8,
          9,
          10,
          11,
          12,
          13,
          14,
          15,
          16,
          17,
          18,
          19,
          20,
          21,
          22,
          23,
          24,
          25,
          26,
          27,
          28,
          29,
          30
         ],
         "xaxis": "x",
         "y": [
          20.74865970027218,
          19.504871634594483,
          17.253389445200753,
          15.239454183882216,
          15.233506059552083,
          15.232220973491312,
          15.231972713430835,
          15.23191075812188,
          15.231902217942196,
          15.231898366442588,
          15.231898499390054,
          15.231898095103507,
          15.23189820829129,
          15.231898141217293,
          15.231898168780925,
          15.231898155471836,
          15.231898161433186,
          15.231898158670178,
          15.231898159930818,
          15.231898159351488,
          15.231898159616843,
          15.231898159495117,
          15.23189815955092,
          15.231898159525329,
          15.231898159537062,
          15.231898159531681,
          15.231898159534149,
          15.231898159533017,
          15.231898159533536,
          15.231898159533301,
          15.231898159533408
         ],
         "yaxis": "y"
        },
        {
         "hovertemplate": "variable=14<br>index=%{x}<br>value=%{y}<extra></extra>",
         "legendgroup": "14",
         "line": {
          "color": "#FFA15A",
          "dash": "solid"
         },
         "marker": {
          "symbol": "circle"
         },
         "mode": "lines",
         "name": "14",
         "orientation": "v",
         "showlegend": true,
         "type": "scatter",
         "x": [
          0,
          1,
          2,
          3,
          4,
          5,
          6,
          7,
          8,
          9,
          10,
          11,
          12,
          13,
          14,
          15,
          16,
          17,
          18,
          19,
          20,
          21,
          22,
          23,
          24,
          25,
          26,
          27,
          28,
          29,
          30
         ],
         "xaxis": "x",
         "y": [
          20.121475253041577,
          16.962531150763834,
          15.201373974216992,
          15.200868409028562,
          15.200783212202335,
          15.200755674159602,
          15.200754300177788,
          15.200751987062576,
          15.200752428918904,
          15.200752096257418,
          15.20075222143997,
          15.200752158294993,
          15.20075218603872,
          15.200752173064082,
          15.20075217895959,
          15.200752176245253,
          15.200752177487423,
          15.200752176917389,
          15.200752177178648,
          15.200752177058838,
          15.200752177113767,
          15.200752177088582,
          15.200752177100128,
          15.200752177094833,
          15.200752177097261,
          15.200752177096149,
          15.200752177096657,
          15.200752177096422,
          15.200752177096533,
          15.200752177096483,
          15.200752177096504
         ],
         "yaxis": "y"
        },
        {
         "hovertemplate": "variable=15<br>index=%{x}<br>value=%{y}<extra></extra>",
         "legendgroup": "15",
         "line": {
          "color": "#19d3f3",
          "dash": "solid"
         },
         "marker": {
          "symbol": "circle"
         },
         "mode": "lines",
         "name": "15",
         "orientation": "v",
         "showlegend": true,
         "type": "scatter",
         "x": [
          0,
          1,
          2,
          3,
          4,
          5,
          6,
          7,
          8,
          9,
          10,
          11,
          12,
          13,
          14,
          15,
          16,
          17,
          18,
          19,
          20,
          21,
          22,
          23,
          24,
          25,
          26,
          27,
          28,
          29,
          30
         ],
         "xaxis": "x",
         "y": [
          20.1729094713811,
          21.58835069316304,
          21.559573117936473,
          21.52620042708811,
          21.487538194893745,
          21.44291494347449,
          21.391779165810746,
          21.333821299446424,
          21.26906453336965,
          21.1977931773056,
          21.120105809642183,
          21.03484889822349,
          20.93770312708859,
          20.817987560112478,
          20.652530681791,
          20.39078830479478,
          19.911843364039967,
          18.89458615818647,
          16.6556408699255,
          14.547604391320814,
          14.537197054248361,
          14.534493790402648,
          14.534180559781475,
          14.533999396888941,
          14.534014211093842,
          14.533993100467896,
          14.533999765641449,
          14.533996079298962,
          14.533997635805997,
          14.533996894643828,
          14.533997228424285
         ],
         "yaxis": "y"
        },
        {
         "hovertemplate": "variable=16<br>index=%{x}<br>value=%{y}<extra></extra>",
         "legendgroup": "16",
         "line": {
          "color": "#FF6692",
          "dash": "solid"
         },
         "marker": {
          "symbol": "circle"
         },
         "mode": "lines",
         "name": "16",
         "orientation": "v",
         "showlegend": true,
         "type": "scatter",
         "x": [
          0,
          1,
          2,
          3,
          4,
          5,
          6,
          7,
          8,
          9,
          10,
          11,
          12,
          13,
          14,
          15,
          16,
          17,
          18,
          19,
          20,
          21,
          22,
          23,
          24,
          25,
          26,
          27,
          28,
          29,
          30
         ],
         "xaxis": "x",
         "y": [
          18.55052825251974,
          20.163092989326042,
          20.049426884070503,
          19.88252231714823,
          19.60528750641469,
          19.079450932024926,
          17.935095984701885,
          15.490058618528021,
          13.787141558007098,
          13.785223067784326,
          13.785065364075571,
          13.78492050874873,
          13.784941215294774,
          13.784922150316877,
          13.784928865803531,
          13.784925367630686,
          13.784926880460116,
          13.784926169063464,
          13.78492649087573,
          13.784926342696387,
          13.784926410372478,
          13.784926379347958,
          13.784926393546055,
          13.784926387043308,
          13.7849263900205,
          13.784926388657208,
          13.784926389281427,
          13.7849263889956,
          13.784926389126477,
          13.78492638906655,
          13.78492638909399
         ],
         "yaxis": "y"
        },
        {
         "hovertemplate": "variable=17<br>index=%{x}<br>value=%{y}<extra></extra>",
         "legendgroup": "17",
         "line": {
          "color": "#B6E880",
          "dash": "solid"
         },
         "marker": {
          "symbol": "circle"
         },
         "mode": "lines",
         "name": "17",
         "orientation": "v",
         "showlegend": true,
         "type": "scatter",
         "x": [
          0,
          1,
          2,
          3,
          4,
          5,
          6,
          7,
          8,
          9,
          10,
          11,
          12,
          13,
          14,
          15,
          16,
          17,
          18,
          19,
          20,
          21,
          22,
          23,
          24,
          25,
          26,
          27,
          28,
          29,
          30
         ],
         "xaxis": "x",
         "y": [
          21.31636413114351,
          21.75385603370076,
          21.56635967898718,
          21.280945626949414,
          20.799208134714256,
          19.860299451599808,
          17.84212917248249,
          15.332894802285871,
          15.221297814676845,
          15.201624637089022,
          15.197666476892765,
          15.196818431041478,
          15.196650062121766,
          15.196610228212535,
          15.196603889726973,
          15.196601623278202,
          15.196601574843923,
          15.196601368370242,
          15.196601414956046,
          15.196601383486378,
          15.196601395789553,
          15.196601389701556,
          15.19660139239894,
          15.196601391142424,
          15.196601391714385,
          15.196601391451265,
          15.196601391571722,
          15.196601391516454,
          15.196601391541787,
          15.19660139153017,
          15.196601391535495
         ],
         "yaxis": "y"
        },
        {
         "hovertemplate": "variable=18<br>index=%{x}<br>value=%{y}<extra></extra>",
         "legendgroup": "18",
         "line": {
          "color": "#FF97FF",
          "dash": "solid"
         },
         "marker": {
          "symbol": "circle"
         },
         "mode": "lines",
         "name": "18",
         "orientation": "v",
         "showlegend": true,
         "type": "scatter",
         "x": [
          0,
          1,
          2,
          3,
          4,
          5,
          6,
          7,
          8,
          9,
          10,
          11,
          12,
          13,
          14,
          15,
          16,
          17,
          18,
          19,
          20,
          21,
          22,
          23,
          24,
          25,
          26,
          27,
          28,
          29,
          30
         ],
         "xaxis": "x",
         "y": [
          21.123371682521277,
          20.33618466190686,
          18.6995499067893,
          15.929574707071932,
          15.333809955999644,
          15.287157002754089,
          15.27805797608008,
          15.276174164872728,
          15.275778702369799,
          15.275695869678767,
          15.27567833417812,
          15.275674702816985,
          15.275673913795517,
          15.275673759580926,
          15.275673721796789,
          15.275673716309282,
          15.275673714028837,
          15.275673714065935,
          15.275673713836863,
          15.275673713897309,
          15.275673713860217,
          15.275673713875253,
          15.275673713867945,
          15.275673713871209,
          15.275673713869693,
          15.275673713870383,
          15.275673713870066,
          15.275673713870212,
          15.275673713870146,
          15.275673713870177,
          15.275673713870162
         ],
         "yaxis": "y"
        },
        {
         "hovertemplate": "variable=19<br>index=%{x}<br>value=%{y}<extra></extra>",
         "legendgroup": "19",
         "line": {
          "color": "#FECB52",
          "dash": "solid"
         },
         "marker": {
          "symbol": "circle"
         },
         "mode": "lines",
         "name": "19",
         "orientation": "v",
         "showlegend": true,
         "type": "scatter",
         "x": [
          0,
          1,
          2,
          3,
          4,
          5,
          6,
          7,
          8,
          9,
          10,
          11,
          12,
          13,
          14,
          15,
          16,
          17,
          18,
          19,
          20,
          21,
          22,
          23,
          24,
          25,
          26,
          27,
          28,
          29,
          30
         ],
         "xaxis": "x",
         "y": [
          20.307462197226844,
          19.3488855829543,
          16.494789899686726,
          15.047971981158119,
          15.02726040697031,
          15.02320147272504,
          15.022277126718267,
          15.022117778608951,
          15.022068366700271,
          15.022065274781793,
          15.022061279895633,
          15.022061973378275,
          15.022061416205638,
          15.02206162133567,
          15.022061516719184,
          15.022061562456352,
          15.022061541020937,
          15.022061550749573,
          15.022061546268876,
          15.022061548318678,
          15.022061547378048,
          15.02206154780908,
          15.022061547611436,
          15.022061547702036,
          15.022061547660499,
          15.022061547679542,
          15.02206154767081,
          15.022061547674815,
          15.022061547672978,
          15.02206154767382,
          15.022061547673434
         ],
         "yaxis": "y"
        }
       ],
       "layout": {
        "legend": {
         "title": {
          "text": "Inicialização"
         },
         "tracegroupgap": 0
        },
        "template": {
         "data": {
          "bar": [
           {
            "error_x": {
             "color": "#2a3f5f"
            },
            "error_y": {
             "color": "#2a3f5f"
            },
            "marker": {
             "line": {
              "color": "#E5ECF6",
              "width": 0.5
             },
             "pattern": {
              "fillmode": "overlay",
              "size": 10,
              "solidity": 0.2
             }
            },
            "type": "bar"
           }
          ],
          "barpolar": [
           {
            "marker": {
             "line": {
              "color": "#E5ECF6",
              "width": 0.5
             },
             "pattern": {
              "fillmode": "overlay",
              "size": 10,
              "solidity": 0.2
             }
            },
            "type": "barpolar"
           }
          ],
          "carpet": [
           {
            "aaxis": {
             "endlinecolor": "#2a3f5f",
             "gridcolor": "white",
             "linecolor": "white",
             "minorgridcolor": "white",
             "startlinecolor": "#2a3f5f"
            },
            "baxis": {
             "endlinecolor": "#2a3f5f",
             "gridcolor": "white",
             "linecolor": "white",
             "minorgridcolor": "white",
             "startlinecolor": "#2a3f5f"
            },
            "type": "carpet"
           }
          ],
          "choropleth": [
           {
            "colorbar": {
             "outlinewidth": 0,
             "ticks": ""
            },
            "type": "choropleth"
           }
          ],
          "contour": [
           {
            "colorbar": {
             "outlinewidth": 0,
             "ticks": ""
            },
            "colorscale": [
             [
              0,
              "#0d0887"
             ],
             [
              0.1111111111111111,
              "#46039f"
             ],
             [
              0.2222222222222222,
              "#7201a8"
             ],
             [
              0.3333333333333333,
              "#9c179e"
             ],
             [
              0.4444444444444444,
              "#bd3786"
             ],
             [
              0.5555555555555556,
              "#d8576b"
             ],
             [
              0.6666666666666666,
              "#ed7953"
             ],
             [
              0.7777777777777778,
              "#fb9f3a"
             ],
             [
              0.8888888888888888,
              "#fdca26"
             ],
             [
              1,
              "#f0f921"
             ]
            ],
            "type": "contour"
           }
          ],
          "contourcarpet": [
           {
            "colorbar": {
             "outlinewidth": 0,
             "ticks": ""
            },
            "type": "contourcarpet"
           }
          ],
          "heatmap": [
           {
            "colorbar": {
             "outlinewidth": 0,
             "ticks": ""
            },
            "colorscale": [
             [
              0,
              "#0d0887"
             ],
             [
              0.1111111111111111,
              "#46039f"
             ],
             [
              0.2222222222222222,
              "#7201a8"
             ],
             [
              0.3333333333333333,
              "#9c179e"
             ],
             [
              0.4444444444444444,
              "#bd3786"
             ],
             [
              0.5555555555555556,
              "#d8576b"
             ],
             [
              0.6666666666666666,
              "#ed7953"
             ],
             [
              0.7777777777777778,
              "#fb9f3a"
             ],
             [
              0.8888888888888888,
              "#fdca26"
             ],
             [
              1,
              "#f0f921"
             ]
            ],
            "type": "heatmap"
           }
          ],
          "heatmapgl": [
           {
            "colorbar": {
             "outlinewidth": 0,
             "ticks": ""
            },
            "colorscale": [
             [
              0,
              "#0d0887"
             ],
             [
              0.1111111111111111,
              "#46039f"
             ],
             [
              0.2222222222222222,
              "#7201a8"
             ],
             [
              0.3333333333333333,
              "#9c179e"
             ],
             [
              0.4444444444444444,
              "#bd3786"
             ],
             [
              0.5555555555555556,
              "#d8576b"
             ],
             [
              0.6666666666666666,
              "#ed7953"
             ],
             [
              0.7777777777777778,
              "#fb9f3a"
             ],
             [
              0.8888888888888888,
              "#fdca26"
             ],
             [
              1,
              "#f0f921"
             ]
            ],
            "type": "heatmapgl"
           }
          ],
          "histogram": [
           {
            "marker": {
             "pattern": {
              "fillmode": "overlay",
              "size": 10,
              "solidity": 0.2
             }
            },
            "type": "histogram"
           }
          ],
          "histogram2d": [
           {
            "colorbar": {
             "outlinewidth": 0,
             "ticks": ""
            },
            "colorscale": [
             [
              0,
              "#0d0887"
             ],
             [
              0.1111111111111111,
              "#46039f"
             ],
             [
              0.2222222222222222,
              "#7201a8"
             ],
             [
              0.3333333333333333,
              "#9c179e"
             ],
             [
              0.4444444444444444,
              "#bd3786"
             ],
             [
              0.5555555555555556,
              "#d8576b"
             ],
             [
              0.6666666666666666,
              "#ed7953"
             ],
             [
              0.7777777777777778,
              "#fb9f3a"
             ],
             [
              0.8888888888888888,
              "#fdca26"
             ],
             [
              1,
              "#f0f921"
             ]
            ],
            "type": "histogram2d"
           }
          ],
          "histogram2dcontour": [
           {
            "colorbar": {
             "outlinewidth": 0,
             "ticks": ""
            },
            "colorscale": [
             [
              0,
              "#0d0887"
             ],
             [
              0.1111111111111111,
              "#46039f"
             ],
             [
              0.2222222222222222,
              "#7201a8"
             ],
             [
              0.3333333333333333,
              "#9c179e"
             ],
             [
              0.4444444444444444,
              "#bd3786"
             ],
             [
              0.5555555555555556,
              "#d8576b"
             ],
             [
              0.6666666666666666,
              "#ed7953"
             ],
             [
              0.7777777777777778,
              "#fb9f3a"
             ],
             [
              0.8888888888888888,
              "#fdca26"
             ],
             [
              1,
              "#f0f921"
             ]
            ],
            "type": "histogram2dcontour"
           }
          ],
          "mesh3d": [
           {
            "colorbar": {
             "outlinewidth": 0,
             "ticks": ""
            },
            "type": "mesh3d"
           }
          ],
          "parcoords": [
           {
            "line": {
             "colorbar": {
              "outlinewidth": 0,
              "ticks": ""
             }
            },
            "type": "parcoords"
           }
          ],
          "pie": [
           {
            "automargin": true,
            "type": "pie"
           }
          ],
          "scatter": [
           {
            "fillpattern": {
             "fillmode": "overlay",
             "size": 10,
             "solidity": 0.2
            },
            "type": "scatter"
           }
          ],
          "scatter3d": [
           {
            "line": {
             "colorbar": {
              "outlinewidth": 0,
              "ticks": ""
             }
            },
            "marker": {
             "colorbar": {
              "outlinewidth": 0,
              "ticks": ""
             }
            },
            "type": "scatter3d"
           }
          ],
          "scattercarpet": [
           {
            "marker": {
             "colorbar": {
              "outlinewidth": 0,
              "ticks": ""
             }
            },
            "type": "scattercarpet"
           }
          ],
          "scattergeo": [
           {
            "marker": {
             "colorbar": {
              "outlinewidth": 0,
              "ticks": ""
             }
            },
            "type": "scattergeo"
           }
          ],
          "scattergl": [
           {
            "marker": {
             "colorbar": {
              "outlinewidth": 0,
              "ticks": ""
             }
            },
            "type": "scattergl"
           }
          ],
          "scattermapbox": [
           {
            "marker": {
             "colorbar": {
              "outlinewidth": 0,
              "ticks": ""
             }
            },
            "type": "scattermapbox"
           }
          ],
          "scatterpolar": [
           {
            "marker": {
             "colorbar": {
              "outlinewidth": 0,
              "ticks": ""
             }
            },
            "type": "scatterpolar"
           }
          ],
          "scatterpolargl": [
           {
            "marker": {
             "colorbar": {
              "outlinewidth": 0,
              "ticks": ""
             }
            },
            "type": "scatterpolargl"
           }
          ],
          "scatterternary": [
           {
            "marker": {
             "colorbar": {
              "outlinewidth": 0,
              "ticks": ""
             }
            },
            "type": "scatterternary"
           }
          ],
          "surface": [
           {
            "colorbar": {
             "outlinewidth": 0,
             "ticks": ""
            },
            "colorscale": [
             [
              0,
              "#0d0887"
             ],
             [
              0.1111111111111111,
              "#46039f"
             ],
             [
              0.2222222222222222,
              "#7201a8"
             ],
             [
              0.3333333333333333,
              "#9c179e"
             ],
             [
              0.4444444444444444,
              "#bd3786"
             ],
             [
              0.5555555555555556,
              "#d8576b"
             ],
             [
              0.6666666666666666,
              "#ed7953"
             ],
             [
              0.7777777777777778,
              "#fb9f3a"
             ],
             [
              0.8888888888888888,
              "#fdca26"
             ],
             [
              1,
              "#f0f921"
             ]
            ],
            "type": "surface"
           }
          ],
          "table": [
           {
            "cells": {
             "fill": {
              "color": "#EBF0F8"
             },
             "line": {
              "color": "white"
             }
            },
            "header": {
             "fill": {
              "color": "#C8D4E3"
             },
             "line": {
              "color": "white"
             }
            },
            "type": "table"
           }
          ]
         },
         "layout": {
          "annotationdefaults": {
           "arrowcolor": "#2a3f5f",
           "arrowhead": 0,
           "arrowwidth": 1
          },
          "autotypenumbers": "strict",
          "coloraxis": {
           "colorbar": {
            "outlinewidth": 0,
            "ticks": ""
           }
          },
          "colorscale": {
           "diverging": [
            [
             0,
             "#8e0152"
            ],
            [
             0.1,
             "#c51b7d"
            ],
            [
             0.2,
             "#de77ae"
            ],
            [
             0.3,
             "#f1b6da"
            ],
            [
             0.4,
             "#fde0ef"
            ],
            [
             0.5,
             "#f7f7f7"
            ],
            [
             0.6,
             "#e6f5d0"
            ],
            [
             0.7,
             "#b8e186"
            ],
            [
             0.8,
             "#7fbc41"
            ],
            [
             0.9,
             "#4d9221"
            ],
            [
             1,
             "#276419"
            ]
           ],
           "sequential": [
            [
             0,
             "#0d0887"
            ],
            [
             0.1111111111111111,
             "#46039f"
            ],
            [
             0.2222222222222222,
             "#7201a8"
            ],
            [
             0.3333333333333333,
             "#9c179e"
            ],
            [
             0.4444444444444444,
             "#bd3786"
            ],
            [
             0.5555555555555556,
             "#d8576b"
            ],
            [
             0.6666666666666666,
             "#ed7953"
            ],
            [
             0.7777777777777778,
             "#fb9f3a"
            ],
            [
             0.8888888888888888,
             "#fdca26"
            ],
            [
             1,
             "#f0f921"
            ]
           ],
           "sequentialminus": [
            [
             0,
             "#0d0887"
            ],
            [
             0.1111111111111111,
             "#46039f"
            ],
            [
             0.2222222222222222,
             "#7201a8"
            ],
            [
             0.3333333333333333,
             "#9c179e"
            ],
            [
             0.4444444444444444,
             "#bd3786"
            ],
            [
             0.5555555555555556,
             "#d8576b"
            ],
            [
             0.6666666666666666,
             "#ed7953"
            ],
            [
             0.7777777777777778,
             "#fb9f3a"
            ],
            [
             0.8888888888888888,
             "#fdca26"
            ],
            [
             1,
             "#f0f921"
            ]
           ]
          },
          "colorway": [
           "#636efa",
           "#EF553B",
           "#00cc96",
           "#ab63fa",
           "#FFA15A",
           "#19d3f3",
           "#FF6692",
           "#B6E880",
           "#FF97FF",
           "#FECB52"
          ],
          "font": {
           "color": "#2a3f5f"
          },
          "geo": {
           "bgcolor": "white",
           "lakecolor": "white",
           "landcolor": "#E5ECF6",
           "showlakes": true,
           "showland": true,
           "subunitcolor": "white"
          },
          "hoverlabel": {
           "align": "left"
          },
          "hovermode": "closest",
          "mapbox": {
           "style": "light"
          },
          "paper_bgcolor": "white",
          "plot_bgcolor": "#E5ECF6",
          "polar": {
           "angularaxis": {
            "gridcolor": "white",
            "linecolor": "white",
            "ticks": ""
           },
           "bgcolor": "#E5ECF6",
           "radialaxis": {
            "gridcolor": "white",
            "linecolor": "white",
            "ticks": ""
           }
          },
          "scene": {
           "xaxis": {
            "backgroundcolor": "#E5ECF6",
            "gridcolor": "white",
            "gridwidth": 2,
            "linecolor": "white",
            "showbackground": true,
            "ticks": "",
            "zerolinecolor": "white"
           },
           "yaxis": {
            "backgroundcolor": "#E5ECF6",
            "gridcolor": "white",
            "gridwidth": 2,
            "linecolor": "white",
            "showbackground": true,
            "ticks": "",
            "zerolinecolor": "white"
           },
           "zaxis": {
            "backgroundcolor": "#E5ECF6",
            "gridcolor": "white",
            "gridwidth": 2,
            "linecolor": "white",
            "showbackground": true,
            "ticks": "",
            "zerolinecolor": "white"
           }
          },
          "shapedefaults": {
           "line": {
            "color": "#2a3f5f"
           }
          },
          "ternary": {
           "aaxis": {
            "gridcolor": "white",
            "linecolor": "white",
            "ticks": ""
           },
           "baxis": {
            "gridcolor": "white",
            "linecolor": "white",
            "ticks": ""
           },
           "bgcolor": "#E5ECF6",
           "caxis": {
            "gridcolor": "white",
            "linecolor": "white",
            "ticks": ""
           }
          },
          "title": {
           "x": 0.05
          },
          "xaxis": {
           "automargin": true,
           "gridcolor": "white",
           "linecolor": "white",
           "ticks": "",
           "title": {
            "standoff": 15
           },
           "zerolinecolor": "white",
           "zerolinewidth": 2
          },
          "yaxis": {
           "automargin": true,
           "gridcolor": "white",
           "linecolor": "white",
           "ticks": "",
           "title": {
            "standoff": 15
           },
           "zerolinecolor": "white",
           "zerolinewidth": 2
          }
         }
        },
        "title": {
         "text": "Treino da func. ackley em R2 com alpha 0.01 - Tempo médio para 30 iterações: 4.343 ms"
        },
        "xaxis": {
         "anchor": "y",
         "domain": [
          0,
          1
         ],
         "title": {
          "text": "Iterações"
         }
        },
        "yaxis": {
         "anchor": "x",
         "domain": [
          0,
          1
         ],
         "title": {
          "text": "Valor da função ackley"
         }
        }
       }
      }
     },
     "metadata": {},
     "output_type": "display_data"
    }
   ],
   "source": [
    "treina_gradiente(1e-2, 2, 'ackley', 30)"
   ]
  },
  {
   "attachments": {},
   "cell_type": "markdown",
   "metadata": {},
   "source": [
    "Caso 3.2: $\\alpha$ = 0.1, treinamento por 30 iterações"
   ]
  },
  {
   "cell_type": "code",
   "execution_count": 37,
   "metadata": {},
   "outputs": [
    {
     "data": {
      "application/vnd.plotly.v1+json": {
       "config": {
        "plotlyServerURL": "https://plot.ly"
       },
       "data": [
        {
         "hovertemplate": "variable=0<br>index=%{x}<br>value=%{y}<extra></extra>",
         "legendgroup": "0",
         "line": {
          "color": "#636efa",
          "dash": "solid"
         },
         "marker": {
          "symbol": "circle"
         },
         "mode": "lines",
         "name": "0",
         "orientation": "v",
         "showlegend": true,
         "type": "scatter",
         "x": [
          0,
          1,
          2,
          3,
          4,
          5,
          6,
          7,
          8,
          9,
          10,
          11,
          12,
          13,
          14,
          15,
          16,
          17,
          18,
          19,
          20,
          21,
          22,
          23,
          24,
          25,
          26,
          27,
          28,
          29,
          30
         ],
         "xaxis": "x",
         "y": [
          20.636412234883554,
          21.424050911303315,
          21.385193536092487,
          21.30081856083062,
          20.50270409752742,
          19.932039072357387,
          22.15727393406937,
          22.11730023565904,
          22.02330522063337,
          21.756617944936533,
          21.212673730987497,
          19.536927324701384,
          20.983278545625364,
          16.571782795416272,
          21.052299701021113,
          19.8847515805865,
          21.093028904779977,
          20.110980558283998,
          21.084218695068763,
          16.361378962815806,
          19.908419317091013,
          21.466047275571732,
          20.67583594839,
          15.19664907783744,
          21.991534917222893,
          21.966025975231627,
          21.902500530220887,
          21.6651303512826,
          19.140580863539725,
          22.01842807089939,
          21.773662608184498
         ],
         "yaxis": "y"
        },
        {
         "hovertemplate": "variable=1<br>index=%{x}<br>value=%{y}<extra></extra>",
         "legendgroup": "1",
         "line": {
          "color": "#EF553B",
          "dash": "solid"
         },
         "marker": {
          "symbol": "circle"
         },
         "mode": "lines",
         "name": "1",
         "orientation": "v",
         "showlegend": true,
         "type": "scatter",
         "x": [
          0,
          1,
          2,
          3,
          4,
          5,
          6,
          7,
          8,
          9,
          10,
          11,
          12,
          13,
          14,
          15,
          16,
          17,
          18,
          19,
          20,
          21,
          22,
          23,
          24,
          25,
          26,
          27,
          28,
          29,
          30
         ],
         "xaxis": "x",
         "y": [
          20.86848176808293,
          20.553035850759347,
          21.721298207348948,
          18.69765650660094,
          21.7234783515891,
          19.73606976750493,
          22.36984646462806,
          21.870527740482185,
          16.403812852027638,
          21.825802254580136,
          21.239663680425114,
          17.01662080543364,
          21.42412873937883,
          17.232032508176328,
          21.664409673198147,
          21.402904337092128,
          16.888015742036647,
          16.37865495116238,
          22.077958063203585,
          21.15942206933593,
          15.669769720501074,
          21.758387330393457,
          18.774605760833378,
          21.836904154160255,
          21.40232478266889,
          16.948737793796013,
          20.987917103172297,
          21.958084276958765,
          16.183080135382014,
          22.301899618475534,
          21.674706521925504
         ],
         "yaxis": "y"
        },
        {
         "hovertemplate": "variable=2<br>index=%{x}<br>value=%{y}<extra></extra>",
         "legendgroup": "2",
         "line": {
          "color": "#00cc96",
          "dash": "solid"
         },
         "marker": {
          "symbol": "circle"
         },
         "mode": "lines",
         "name": "2",
         "orientation": "v",
         "showlegend": true,
         "type": "scatter",
         "x": [
          0,
          1,
          2,
          3,
          4,
          5,
          6,
          7,
          8,
          9,
          10,
          11,
          12,
          13,
          14,
          15,
          16,
          17,
          18,
          19,
          20,
          21,
          22,
          23,
          24,
          25,
          26,
          27,
          28,
          29,
          30
         ],
         "xaxis": "x",
         "y": [
          20.72014954338484,
          21.990727651376623,
          21.978135549646392,
          21.952081310138684,
          21.887297426959734,
          21.650059528606615,
          19.412088744694657,
          22.06792092310934,
          21.984422500325962,
          21.66370100214597,
          18.308609981497163,
          20.763200720946823,
          15.99308414518852,
          16.032797512163103,
          15.415838737802757,
          18.93457767138781,
          19.691707734665993,
          22.26043334093669,
          22.24905194129675,
          22.227516916183312,
          22.18243675406249,
          22.0723388743042,
          21.766953558107794,
          21.437089159207055,
          21.37748859167172,
          20.703630762542563,
          18.076753824633393,
          20.675435210834266,
          18.718546320014898,
          19.09073601861488,
          22.016575459550562
         ],
         "yaxis": "y"
        },
        {
         "hovertemplate": "variable=3<br>index=%{x}<br>value=%{y}<extra></extra>",
         "legendgroup": "3",
         "line": {
          "color": "#ab63fa",
          "dash": "solid"
         },
         "marker": {
          "symbol": "circle"
         },
         "mode": "lines",
         "name": "3",
         "orientation": "v",
         "showlegend": true,
         "type": "scatter",
         "x": [
          0,
          1,
          2,
          3,
          4,
          5,
          6,
          7,
          8,
          9,
          10,
          11,
          12,
          13,
          14,
          15,
          16,
          17,
          18,
          19,
          20,
          21,
          22,
          23,
          24,
          25,
          26,
          27,
          28,
          29,
          30
         ],
         "xaxis": "x",
         "y": [
          21.585955513903585,
          17.504517973222697,
          20.619643941690633,
          22.241718138562522,
          20.96860680247676,
          21.629994333230716,
          17.35787302140457,
          20.280282800807583,
          22.56273548085238,
          22.560334478849008,
          22.55630601472946,
          22.549349525528275,
          22.53673635997713,
          22.511806700195265,
          22.453778273552125,
          22.26204158143933,
          20.71248533863454,
          22.47768964904788,
          22.341941200789588,
          21.52593127944299,
          18.788608934591792,
          21.572079427383,
          17.706263487707027,
          20.348348194273008,
          22.41433957372297,
          22.19469410028569,
          21.721913209993495,
          21.52109150432263,
          18.575669446583717,
          21.411240780082597,
          16.855693901287847
         ],
         "yaxis": "y"
        },
        {
         "hovertemplate": "variable=4<br>index=%{x}<br>value=%{y}<extra></extra>",
         "legendgroup": "4",
         "line": {
          "color": "#FFA15A",
          "dash": "solid"
         },
         "marker": {
          "symbol": "circle"
         },
         "mode": "lines",
         "name": "4",
         "orientation": "v",
         "showlegend": true,
         "type": "scatter",
         "x": [
          0,
          1,
          2,
          3,
          4,
          5,
          6,
          7,
          8,
          9,
          10,
          11,
          12,
          13,
          14,
          15,
          16,
          17,
          18,
          19,
          20,
          21,
          22,
          23,
          24,
          25,
          26,
          27,
          28,
          29,
          30
         ],
         "xaxis": "x",
         "y": [
          20.074316168296722,
          21.396503027521515,
          18.81567353648631,
          20.568606591913994,
          22.058363040085972,
          20.00586946088433,
          22.357322465745458,
          22.21849402074084,
          21.55911154558792,
          17.17221686354558,
          21.612776797622686,
          21.595663451610058,
          21.438774519674347,
          19.082000664081384,
          18.63969580528537,
          21.341776913615696,
          19.81709572164116,
          22.446308676705755,
          22.382385750980426,
          22.21073661741824,
          21.677419943771294,
          20.40450067348245,
          22.228988153344545,
          21.64417262858753,
          19.123516729109834,
          22.085735428270365,
          21.64295010819697,
          21.52470840507656,
          19.936443623660967,
          21.67512881832657,
          19.61444262854914
         ],
         "yaxis": "y"
        },
        {
         "hovertemplate": "variable=5<br>index=%{x}<br>value=%{y}<extra></extra>",
         "legendgroup": "5",
         "line": {
          "color": "#19d3f3",
          "dash": "solid"
         },
         "marker": {
          "symbol": "circle"
         },
         "mode": "lines",
         "name": "5",
         "orientation": "v",
         "showlegend": true,
         "type": "scatter",
         "x": [
          0,
          1,
          2,
          3,
          4,
          5,
          6,
          7,
          8,
          9,
          10,
          11,
          12,
          13,
          14,
          15,
          16,
          17,
          18,
          19,
          20,
          21,
          22,
          23,
          24,
          25,
          26,
          27,
          28,
          29,
          30
         ],
         "xaxis": "x",
         "y": [
          21.860494740476184,
          22.462632419976437,
          22.45069403934371,
          22.427773962714685,
          22.37785257842162,
          22.240164503159665,
          21.641239817788854,
          17.714490088663904,
          20.065954064299582,
          22.47418216500161,
          22.46253155398007,
          22.440417413986907,
          22.392897961901063,
          22.26270615850513,
          21.662421031275002,
          17.052053156411624,
          20.726850515977862,
          22.118555098074456,
          19.841280450332015,
          22.434684711937983,
          22.3980850040216,
          22.31194339218773,
          22.05459853432074,
          21.237643118629645,
          15.782132067942214,
          22.41839113923518,
          22.382714424905988,
          22.300404116191082,
          22.06246540051214,
          21.35762497991291,
          17.68529760959889
         ],
         "yaxis": "y"
        },
        {
         "hovertemplate": "variable=6<br>index=%{x}<br>value=%{y}<extra></extra>",
         "legendgroup": "6",
         "line": {
          "color": "#FF6692",
          "dash": "solid"
         },
         "marker": {
          "symbol": "circle"
         },
         "mode": "lines",
         "name": "6",
         "orientation": "v",
         "showlegend": true,
         "type": "scatter",
         "x": [
          0,
          1,
          2,
          3,
          4,
          5,
          6,
          7,
          8,
          9,
          10,
          11,
          12,
          13,
          14,
          15,
          16,
          17,
          18,
          19,
          20,
          21,
          22,
          23,
          24,
          25,
          26,
          27,
          28,
          29,
          30
         ],
         "xaxis": "x",
         "y": [
          21.678645454335076,
          18.87705383692256,
          16.263879058096336,
          22.11496307422234,
          21.6802479673474,
          21.631442605735543,
          21.11860423751941,
          16.16690799269303,
          22.241574545386683,
          21.809691955073756,
          21.65522756823377,
          20.8645595486709,
          20.468792245760074,
          22.498467646491836,
          22.461662045828323,
          22.36995140486526,
          22.034061350319842,
          19.58109242682963,
          20.423077742409905,
          22.2343789198346,
          21.633200834265114,
          19.19691931528224,
          22.127687123954082,
          21.68896852438353,
          21.686061403191577,
          21.679301692658182,
          21.631618635915494,
          21.142712975907333,
          16.00492211692109,
          22.450780122048577,
          22.33644736933637
         ],
         "yaxis": "y"
        },
        {
         "hovertemplate": "variable=7<br>index=%{x}<br>value=%{y}<extra></extra>",
         "legendgroup": "7",
         "line": {
          "color": "#B6E880",
          "dash": "solid"
         },
         "marker": {
          "symbol": "circle"
         },
         "mode": "lines",
         "name": "7",
         "orientation": "v",
         "showlegend": true,
         "type": "scatter",
         "x": [
          0,
          1,
          2,
          3,
          4,
          5,
          6,
          7,
          8,
          9,
          10,
          11,
          12,
          13,
          14,
          15,
          16,
          17,
          18,
          19,
          20,
          21,
          22,
          23,
          24,
          25,
          26,
          27,
          28,
          29,
          30
         ],
         "xaxis": "x",
         "y": [
          15.57714041529784,
          19.516049612610647,
          16.347181777628673,
          19.224209841080306,
          13.496362119493494,
          12.552481853439371,
          17.594621987532395,
          14.685696252404632,
          17.912090204741613,
          12.311320249617838,
          19.093312910660853,
          14.126646314373867,
          16.51943069167234,
          18.741702470850445,
          18.373395035413548,
          14.429995723892613,
          14.495752101860434,
          15.655546724926523,
          13.086115345633656,
          13.756538041195386,
          12.65211654107404,
          9.396116555209025,
          14.241070484814248,
          14.104136701715971,
          13.839339341124349,
          13.083858753484403,
          5.7386442573763965,
          12.330518126983096,
          10.317095181182598,
          13.18096426274252,
          9.294254610483506
         ],
         "yaxis": "y"
        },
        {
         "hovertemplate": "variable=8<br>index=%{x}<br>value=%{y}<extra></extra>",
         "legendgroup": "8",
         "line": {
          "color": "#FF97FF",
          "dash": "solid"
         },
         "marker": {
          "symbol": "circle"
         },
         "mode": "lines",
         "name": "8",
         "orientation": "v",
         "showlegend": true,
         "type": "scatter",
         "x": [
          0,
          1,
          2,
          3,
          4,
          5,
          6,
          7,
          8,
          9,
          10,
          11,
          12,
          13,
          14,
          15,
          16,
          17,
          18,
          19,
          20,
          21,
          22,
          23,
          24,
          25,
          26,
          27,
          28,
          29,
          30
         ],
         "xaxis": "x",
         "y": [
          14.730182210939049,
          16.71976841487897,
          17.247214441674128,
          15.536026978009385,
          18.499117124418103,
          18.474600520003776,
          18.393136587580557,
          17.916061125254064,
          12.226453944012004,
          19.04605354623408,
          18.951832729859174,
          18.703754137897945,
          16.969762925049807,
          18.071348922419894,
          18.05795596806404,
          18.028772003561937,
          17.972105740719197,
          17.86276067132114,
          17.61240620809093,
          16.928718617123494,
          16.768221955880154,
          15.572361570189006,
          17.144390277478507,
          13.772200866200976,
          15.351634783413136,
          13.952090443582575,
          15.00189142293064,
          12.145412233919975,
          14.545762623263876,
          17.28228683124857,
          16.237871864923626
         ],
         "yaxis": "y"
        },
        {
         "hovertemplate": "variable=9<br>index=%{x}<br>value=%{y}<extra></extra>",
         "legendgroup": "9",
         "line": {
          "color": "#FECB52",
          "dash": "solid"
         },
         "marker": {
          "symbol": "circle"
         },
         "mode": "lines",
         "name": "9",
         "orientation": "v",
         "showlegend": true,
         "type": "scatter",
         "x": [
          0,
          1,
          2,
          3,
          4,
          5,
          6,
          7,
          8,
          9,
          10,
          11,
          12,
          13,
          14,
          15,
          16,
          17,
          18,
          19,
          20,
          21,
          22,
          23,
          24,
          25,
          26,
          27,
          28,
          29,
          30
         ],
         "xaxis": "x",
         "y": [
          21.217254615201206,
          21.57506876946322,
          20.826577066952307,
          19.916349269361614,
          22.41669386201982,
          22.403289527182306,
          22.377823103274906,
          22.323865777141858,
          22.188682576926173,
          21.816681216507796,
          21.559777438877525,
          21.161943141398748,
          15.930865463480396,
          19.070872751086647,
          21.907968842689733,
          17.194123138055982,
          21.488982902081382,
          20.712330259579943,
          20.021490278585016,
          22.37381187751513,
          22.342461615323554,
          22.2676680480694,
          22.00835502319989,
          19.91862120705748,
          22.241415315114,
          21.991343710323015,
          20.214061410463835,
          22.15232719509338,
          21.708694300020795,
          21.09672595162994,
          16.677387823057696
         ],
         "yaxis": "y"
        },
        {
         "hovertemplate": "variable=10<br>index=%{x}<br>value=%{y}<extra></extra>",
         "legendgroup": "10",
         "line": {
          "color": "#636efa",
          "dash": "solid"
         },
         "marker": {
          "symbol": "circle"
         },
         "mode": "lines",
         "name": "10",
         "orientation": "v",
         "showlegend": true,
         "type": "scatter",
         "x": [
          0,
          1,
          2,
          3,
          4,
          5,
          6,
          7,
          8,
          9,
          10,
          11,
          12,
          13,
          14,
          15,
          16,
          17,
          18,
          19,
          20,
          21,
          22,
          23,
          24,
          25,
          26,
          27,
          28,
          29,
          30
         ],
         "xaxis": "x",
         "y": [
          20.204711401193595,
          22.18801098435001,
          21.110690142966597,
          21.2526940422332,
          20.59407415946392,
          22.402253088949063,
          22.30586395873758,
          21.86555321658936,
          15.720702646764872,
          22.421972358276395,
          22.401840732416357,
          22.360043668891745,
          22.253980377648357,
          21.855867188588675,
          19.23001730532799,
          19.699066663363585,
          22.369205720577202,
          22.29051891466262,
          22.06268812786675,
          21.338678434693893,
          17.324450393449126,
          21.17966256546066,
          15.88414740277107,
          22.282466404661964,
          22.118530136710277,
          21.47304690836915,
          18.249064225970923,
          20.898428774882266,
          21.67214816989796,
          15.531697149183827,
          22.41487785189894
         ],
         "yaxis": "y"
        },
        {
         "hovertemplate": "variable=11<br>index=%{x}<br>value=%{y}<extra></extra>",
         "legendgroup": "11",
         "line": {
          "color": "#EF553B",
          "dash": "solid"
         },
         "marker": {
          "symbol": "circle"
         },
         "mode": "lines",
         "name": "11",
         "orientation": "v",
         "showlegend": true,
         "type": "scatter",
         "x": [
          0,
          1,
          2,
          3,
          4,
          5,
          6,
          7,
          8,
          9,
          10,
          11,
          12,
          13,
          14,
          15,
          16,
          17,
          18,
          19,
          20,
          21,
          22,
          23,
          24,
          25,
          26,
          27,
          28,
          29,
          30
         ],
         "xaxis": "x",
         "y": [
          21.20836496977785,
          20.56702607970488,
          20.571073435370867,
          21.553253372603468,
          16.2820377250229,
          16.730754893670692,
          16.769262357435984,
          21.036687230050912,
          20.52279970921616,
          22.305916941796834,
          22.149097118645038,
          21.098427532987518,
          21.050210672642844,
          21.183031155261524,
          20.514753601932174,
          22.326861103379812,
          22.220133641643347,
          21.698339888393335,
          15.130064886023776,
          15.320485695429012,
          22.122630381320562,
          21.2581154696183,
          18.070421530143147,
          20.437864330505807,
          21.283328737930926,
          17.177517599218387,
          21.531606145890738,
          21.47082922907684,
          20.79634168685978,
          18.253466787706852,
          20.66684003330998
         ],
         "yaxis": "y"
        },
        {
         "hovertemplate": "variable=12<br>index=%{x}<br>value=%{y}<extra></extra>",
         "legendgroup": "12",
         "line": {
          "color": "#00cc96",
          "dash": "solid"
         },
         "marker": {
          "symbol": "circle"
         },
         "mode": "lines",
         "name": "12",
         "orientation": "v",
         "showlegend": true,
         "type": "scatter",
         "x": [
          0,
          1,
          2,
          3,
          4,
          5,
          6,
          7,
          8,
          9,
          10,
          11,
          12,
          13,
          14,
          15,
          16,
          17,
          18,
          19,
          20,
          21,
          22,
          23,
          24,
          25,
          26,
          27,
          28,
          29,
          30
         ],
         "xaxis": "x",
         "y": [
          20.666564690255935,
          21.949729543253557,
          16.54962592725547,
          20.031007767770912,
          21.565336097502,
          20.679730063016212,
          20.4515463526832,
          21.439818696208995,
          18.153659398232897,
          21.416675742148023,
          17.898788720421734,
          19.93549917691152,
          22.288996640733938,
          21.53660312030287,
          17.63259037095269,
          21.085632444340664,
          18.765324192370418,
          21.522234349128,
          17.60451553050365,
          20.88808205133604,
          20.848913764466367,
          22.292387340628345,
          21.444173046073328,
          19.239763852882792,
          22.11197965143278,
          18.912729333194726,
          21.723088999388548,
          16.109554734765442,
          19.648691108114555,
          22.405280125088968,
          22.2321311555604
         ],
         "yaxis": "y"
        },
        {
         "hovertemplate": "variable=13<br>index=%{x}<br>value=%{y}<extra></extra>",
         "legendgroup": "13",
         "line": {
          "color": "#ab63fa",
          "dash": "solid"
         },
         "marker": {
          "symbol": "circle"
         },
         "mode": "lines",
         "name": "13",
         "orientation": "v",
         "showlegend": true,
         "type": "scatter",
         "x": [
          0,
          1,
          2,
          3,
          4,
          5,
          6,
          7,
          8,
          9,
          10,
          11,
          12,
          13,
          14,
          15,
          16,
          17,
          18,
          19,
          20,
          21,
          22,
          23,
          24,
          25,
          26,
          27,
          28,
          29,
          30
         ],
         "xaxis": "x",
         "y": [
          20.414838460251932,
          21.142253441601124,
          18.751933236990016,
          20.624147596428653,
          20.64413660343073,
          21.099871215297867,
          17.00183299734955,
          20.585601943343054,
          18.167377833806025,
          20.786327037930498,
          20.099454200732808,
          21.99779792384,
          21.936996002920992,
          21.74565268071342,
          20.422586883456752,
          21.525481547295804,
          16.803816186889208,
          20.21022304972301,
          21.755925189639733,
          20.224801684663962,
          21.844313779596096,
          21.134188654768455,
          16.703249664863264,
          20.93364592594431,
          17.722603758595074,
          20.755756690417936,
          15.205427915422986,
          22.137351094669835,
          22.11844537874472,
          22.080827503332394,
          21.992383578628232
         ],
         "yaxis": "y"
        },
        {
         "hovertemplate": "variable=14<br>index=%{x}<br>value=%{y}<extra></extra>",
         "legendgroup": "14",
         "line": {
          "color": "#FFA15A",
          "dash": "solid"
         },
         "marker": {
          "symbol": "circle"
         },
         "mode": "lines",
         "name": "14",
         "orientation": "v",
         "showlegend": true,
         "type": "scatter",
         "x": [
          0,
          1,
          2,
          3,
          4,
          5,
          6,
          7,
          8,
          9,
          10,
          11,
          12,
          13,
          14,
          15,
          16,
          17,
          18,
          19,
          20,
          21,
          22,
          23,
          24,
          25,
          26,
          27,
          28,
          29,
          30
         ],
         "xaxis": "x",
         "y": [
          20.504469030508062,
          19.980605434096496,
          21.99830578842571,
          21.22954053077405,
          15.945732317186668,
          22.155848615722167,
          21.517053682917815,
          18.449185994206346,
          21.311246195865085,
          18.02443556975021,
          20.32135500715005,
          21.936037070428906,
          21.117964237955114,
          15.243248366947013,
          19.805846724313618,
          22.111404913680996,
          20.478970324982235,
          22.274850119124736,
          21.788490512334132,
          17.459988920500688,
          21.56726706512399,
          21.083168676492583,
          16.44119836403785,
          21.749151276751867,
          21.65272328147752,
          21.621305753715458,
          21.459472499436945,
          19.284450626101588,
          21.418132604868553,
          18.501971136925636,
          21.539233769343934
         ],
         "yaxis": "y"
        },
        {
         "hovertemplate": "variable=15<br>index=%{x}<br>value=%{y}<extra></extra>",
         "legendgroup": "15",
         "line": {
          "color": "#19d3f3",
          "dash": "solid"
         },
         "marker": {
          "symbol": "circle"
         },
         "mode": "lines",
         "name": "15",
         "orientation": "v",
         "showlegend": true,
         "type": "scatter",
         "x": [
          0,
          1,
          2,
          3,
          4,
          5,
          6,
          7,
          8,
          9,
          10,
          11,
          12,
          13,
          14,
          15,
          16,
          17,
          18,
          19,
          20,
          21,
          22,
          23,
          24,
          25,
          26,
          27,
          28,
          29,
          30
         ],
         "xaxis": "x",
         "y": [
          15.158925121684561,
          17.637997229985675,
          17.020176707187865,
          12.25011770892625,
          18.652369789077728,
          18.20813527375694,
          12.016101582507815,
          19.106554414770226,
          18.987119818590536,
          18.621656464929238,
          16.606702102315502,
          18.34975678056111,
          18.08456667508528,
          16.262933264713144,
          18.110738504388856,
          13.775722254314672,
          17.689755926579274,
          16.72359060034999,
          19.440368754722158,
          18.91415455335903,
          12.273458893876434,
          18.7593199054987,
          18.45614875333946,
          18.1172167916219,
          13.684671691770149,
          18.831392225948893,
          17.106748348803794,
          20.139411060190223,
          20.03192629782532,
          19.388661251316112,
          14.604323947458571
         ],
         "yaxis": "y"
        },
        {
         "hovertemplate": "variable=16<br>index=%{x}<br>value=%{y}<extra></extra>",
         "legendgroup": "16",
         "line": {
          "color": "#FF6692",
          "dash": "solid"
         },
         "marker": {
          "symbol": "circle"
         },
         "mode": "lines",
         "name": "16",
         "orientation": "v",
         "showlegend": true,
         "type": "scatter",
         "x": [
          0,
          1,
          2,
          3,
          4,
          5,
          6,
          7,
          8,
          9,
          10,
          11,
          12,
          13,
          14,
          15,
          16,
          17,
          18,
          19,
          20,
          21,
          22,
          23,
          24,
          25,
          26,
          27,
          28,
          29,
          30
         ],
         "xaxis": "x",
         "y": [
          22.071010212560473,
          22.39360593800727,
          22.058770413263602,
          18.068882970563514,
          21.655790369887782,
          21.357428478772395,
          16.31475400384156,
          21.08675258013039,
          19.528219212965187,
          22.355823378825693,
          21.857989383216985,
          16.11673703572621,
          21.975165791328926,
          19.794014387244204,
          21.29244999238174,
          17.973901944546498,
          21.427909124284806,
          17.28990657761406,
          21.498160889556356,
          18.66100042747417,
          18.81183016505097,
          18.76571922569894,
          21.509132923696164,
          18.03676548582997,
          21.175592302862235,
          17.32339707232776,
          21.305586014529144,
          16.026342615217544,
          21.64895393587912,
          16.944399598526708,
          19.20117874740651
         ],
         "yaxis": "y"
        },
        {
         "hovertemplate": "variable=17<br>index=%{x}<br>value=%{y}<extra></extra>",
         "legendgroup": "17",
         "line": {
          "color": "#B6E880",
          "dash": "solid"
         },
         "marker": {
          "symbol": "circle"
         },
         "mode": "lines",
         "name": "17",
         "orientation": "v",
         "showlegend": true,
         "type": "scatter",
         "x": [
          0,
          1,
          2,
          3,
          4,
          5,
          6,
          7,
          8,
          9,
          10,
          11,
          12,
          13,
          14,
          15,
          16,
          17,
          18,
          19,
          20,
          21,
          22,
          23,
          24,
          25,
          26,
          27,
          28,
          29,
          30
         ],
         "xaxis": "x",
         "y": [
          21.316587734234815,
          21.374356263161417,
          18.45277534605689,
          21.13462305163946,
          15.6467952279991,
          21.647720104609355,
          16.708356093877693,
          21.18779516063164,
          19.488606080649312,
          22.28507274112441,
          22.103560607684663,
          21.666120299585383,
          21.610180739353194,
          21.559224455522532,
          21.19525794905508,
          16.027657615089822,
          21.995581943879937,
          21.383331358174406,
          19.083280426927274,
          20.876698107961058,
          21.966236362567088,
          17.362549122398,
          19.99276854553343,
          22.37684437607433,
          22.368971729735,
          22.3549397995026,
          22.32819932556382,
          22.2712268373512,
          22.127482155975695,
          21.741434983533527,
          21.561915141786713
         ],
         "yaxis": "y"
        },
        {
         "hovertemplate": "variable=18<br>index=%{x}<br>value=%{y}<extra></extra>",
         "legendgroup": "18",
         "line": {
          "color": "#FF97FF",
          "dash": "solid"
         },
         "marker": {
          "symbol": "circle"
         },
         "mode": "lines",
         "name": "18",
         "orientation": "v",
         "showlegend": true,
         "type": "scatter",
         "x": [
          0,
          1,
          2,
          3,
          4,
          5,
          6,
          7,
          8,
          9,
          10,
          11,
          12,
          13,
          14,
          15,
          16,
          17,
          18,
          19,
          20,
          21,
          22,
          23,
          24,
          25,
          26,
          27,
          28,
          29,
          30
         ],
         "xaxis": "x",
         "y": [
          21.820432202191768,
          22.326306944715707,
          22.00430065943374,
          18.719806582621374,
          20.85145569042182,
          20.485061692716812,
          22.458851007886125,
          22.41880869878055,
          22.311007083620073,
          21.809423458032843,
          16.167989366944497,
          21.894444432957638,
          20.85236830357214,
          19.023066521223047,
          21.915967780922692,
          21.454428229070498,
          19.544055282053627,
          21.085544318700148,
          21.114922178856595,
          21.570815504050543,
          16.955278978810593,
          20.8847812864716,
          21.753023048118607,
          15.213382536473024,
          15.40310897602839,
          21.922657074755,
          21.350587037763106,
          17.72550702956406,
          19.67310114597257,
          22.249772282864406,
          21.492009268129266
         ],
         "yaxis": "y"
        },
        {
         "hovertemplate": "variable=19<br>index=%{x}<br>value=%{y}<extra></extra>",
         "legendgroup": "19",
         "line": {
          "color": "#FECB52",
          "dash": "solid"
         },
         "marker": {
          "symbol": "circle"
         },
         "mode": "lines",
         "name": "19",
         "orientation": "v",
         "showlegend": true,
         "type": "scatter",
         "x": [
          0,
          1,
          2,
          3,
          4,
          5,
          6,
          7,
          8,
          9,
          10,
          11,
          12,
          13,
          14,
          15,
          16,
          17,
          18,
          19,
          20,
          21,
          22,
          23,
          24,
          25,
          26,
          27,
          28,
          29,
          30
         ],
         "xaxis": "x",
         "y": [
          21.068741672058394,
          18.300168354905097,
          21.569641810727973,
          21.52012876625212,
          21.235925155731362,
          16.851409956538106,
          21.248718435263577,
          16.78151394464209,
          21.450570339341446,
          20.973500154264435,
          15.441764736124247,
          21.955470033045096,
          21.002586892061284,
          15.933174307256229,
          22.04615636593403,
          21.460459035152546,
          19.63145730548253,
          22.0839804126764,
          20.720794369785228,
          22.148919600238056,
          21.256893976313226,
          19.645965346856375,
          22.323672697658505,
          22.250030411756853,
          21.9643200446522,
          18.555767894910602,
          21.282385644937303,
          19.143134112318574,
          22.059513587856628,
          21.493692528371767,
          20.091043236613004
         ],
         "yaxis": "y"
        }
       ],
       "layout": {
        "legend": {
         "title": {
          "text": "Inicialização"
         },
         "tracegroupgap": 0
        },
        "template": {
         "data": {
          "bar": [
           {
            "error_x": {
             "color": "#2a3f5f"
            },
            "error_y": {
             "color": "#2a3f5f"
            },
            "marker": {
             "line": {
              "color": "#E5ECF6",
              "width": 0.5
             },
             "pattern": {
              "fillmode": "overlay",
              "size": 10,
              "solidity": 0.2
             }
            },
            "type": "bar"
           }
          ],
          "barpolar": [
           {
            "marker": {
             "line": {
              "color": "#E5ECF6",
              "width": 0.5
             },
             "pattern": {
              "fillmode": "overlay",
              "size": 10,
              "solidity": 0.2
             }
            },
            "type": "barpolar"
           }
          ],
          "carpet": [
           {
            "aaxis": {
             "endlinecolor": "#2a3f5f",
             "gridcolor": "white",
             "linecolor": "white",
             "minorgridcolor": "white",
             "startlinecolor": "#2a3f5f"
            },
            "baxis": {
             "endlinecolor": "#2a3f5f",
             "gridcolor": "white",
             "linecolor": "white",
             "minorgridcolor": "white",
             "startlinecolor": "#2a3f5f"
            },
            "type": "carpet"
           }
          ],
          "choropleth": [
           {
            "colorbar": {
             "outlinewidth": 0,
             "ticks": ""
            },
            "type": "choropleth"
           }
          ],
          "contour": [
           {
            "colorbar": {
             "outlinewidth": 0,
             "ticks": ""
            },
            "colorscale": [
             [
              0,
              "#0d0887"
             ],
             [
              0.1111111111111111,
              "#46039f"
             ],
             [
              0.2222222222222222,
              "#7201a8"
             ],
             [
              0.3333333333333333,
              "#9c179e"
             ],
             [
              0.4444444444444444,
              "#bd3786"
             ],
             [
              0.5555555555555556,
              "#d8576b"
             ],
             [
              0.6666666666666666,
              "#ed7953"
             ],
             [
              0.7777777777777778,
              "#fb9f3a"
             ],
             [
              0.8888888888888888,
              "#fdca26"
             ],
             [
              1,
              "#f0f921"
             ]
            ],
            "type": "contour"
           }
          ],
          "contourcarpet": [
           {
            "colorbar": {
             "outlinewidth": 0,
             "ticks": ""
            },
            "type": "contourcarpet"
           }
          ],
          "heatmap": [
           {
            "colorbar": {
             "outlinewidth": 0,
             "ticks": ""
            },
            "colorscale": [
             [
              0,
              "#0d0887"
             ],
             [
              0.1111111111111111,
              "#46039f"
             ],
             [
              0.2222222222222222,
              "#7201a8"
             ],
             [
              0.3333333333333333,
              "#9c179e"
             ],
             [
              0.4444444444444444,
              "#bd3786"
             ],
             [
              0.5555555555555556,
              "#d8576b"
             ],
             [
              0.6666666666666666,
              "#ed7953"
             ],
             [
              0.7777777777777778,
              "#fb9f3a"
             ],
             [
              0.8888888888888888,
              "#fdca26"
             ],
             [
              1,
              "#f0f921"
             ]
            ],
            "type": "heatmap"
           }
          ],
          "heatmapgl": [
           {
            "colorbar": {
             "outlinewidth": 0,
             "ticks": ""
            },
            "colorscale": [
             [
              0,
              "#0d0887"
             ],
             [
              0.1111111111111111,
              "#46039f"
             ],
             [
              0.2222222222222222,
              "#7201a8"
             ],
             [
              0.3333333333333333,
              "#9c179e"
             ],
             [
              0.4444444444444444,
              "#bd3786"
             ],
             [
              0.5555555555555556,
              "#d8576b"
             ],
             [
              0.6666666666666666,
              "#ed7953"
             ],
             [
              0.7777777777777778,
              "#fb9f3a"
             ],
             [
              0.8888888888888888,
              "#fdca26"
             ],
             [
              1,
              "#f0f921"
             ]
            ],
            "type": "heatmapgl"
           }
          ],
          "histogram": [
           {
            "marker": {
             "pattern": {
              "fillmode": "overlay",
              "size": 10,
              "solidity": 0.2
             }
            },
            "type": "histogram"
           }
          ],
          "histogram2d": [
           {
            "colorbar": {
             "outlinewidth": 0,
             "ticks": ""
            },
            "colorscale": [
             [
              0,
              "#0d0887"
             ],
             [
              0.1111111111111111,
              "#46039f"
             ],
             [
              0.2222222222222222,
              "#7201a8"
             ],
             [
              0.3333333333333333,
              "#9c179e"
             ],
             [
              0.4444444444444444,
              "#bd3786"
             ],
             [
              0.5555555555555556,
              "#d8576b"
             ],
             [
              0.6666666666666666,
              "#ed7953"
             ],
             [
              0.7777777777777778,
              "#fb9f3a"
             ],
             [
              0.8888888888888888,
              "#fdca26"
             ],
             [
              1,
              "#f0f921"
             ]
            ],
            "type": "histogram2d"
           }
          ],
          "histogram2dcontour": [
           {
            "colorbar": {
             "outlinewidth": 0,
             "ticks": ""
            },
            "colorscale": [
             [
              0,
              "#0d0887"
             ],
             [
              0.1111111111111111,
              "#46039f"
             ],
             [
              0.2222222222222222,
              "#7201a8"
             ],
             [
              0.3333333333333333,
              "#9c179e"
             ],
             [
              0.4444444444444444,
              "#bd3786"
             ],
             [
              0.5555555555555556,
              "#d8576b"
             ],
             [
              0.6666666666666666,
              "#ed7953"
             ],
             [
              0.7777777777777778,
              "#fb9f3a"
             ],
             [
              0.8888888888888888,
              "#fdca26"
             ],
             [
              1,
              "#f0f921"
             ]
            ],
            "type": "histogram2dcontour"
           }
          ],
          "mesh3d": [
           {
            "colorbar": {
             "outlinewidth": 0,
             "ticks": ""
            },
            "type": "mesh3d"
           }
          ],
          "parcoords": [
           {
            "line": {
             "colorbar": {
              "outlinewidth": 0,
              "ticks": ""
             }
            },
            "type": "parcoords"
           }
          ],
          "pie": [
           {
            "automargin": true,
            "type": "pie"
           }
          ],
          "scatter": [
           {
            "fillpattern": {
             "fillmode": "overlay",
             "size": 10,
             "solidity": 0.2
            },
            "type": "scatter"
           }
          ],
          "scatter3d": [
           {
            "line": {
             "colorbar": {
              "outlinewidth": 0,
              "ticks": ""
             }
            },
            "marker": {
             "colorbar": {
              "outlinewidth": 0,
              "ticks": ""
             }
            },
            "type": "scatter3d"
           }
          ],
          "scattercarpet": [
           {
            "marker": {
             "colorbar": {
              "outlinewidth": 0,
              "ticks": ""
             }
            },
            "type": "scattercarpet"
           }
          ],
          "scattergeo": [
           {
            "marker": {
             "colorbar": {
              "outlinewidth": 0,
              "ticks": ""
             }
            },
            "type": "scattergeo"
           }
          ],
          "scattergl": [
           {
            "marker": {
             "colorbar": {
              "outlinewidth": 0,
              "ticks": ""
             }
            },
            "type": "scattergl"
           }
          ],
          "scattermapbox": [
           {
            "marker": {
             "colorbar": {
              "outlinewidth": 0,
              "ticks": ""
             }
            },
            "type": "scattermapbox"
           }
          ],
          "scatterpolar": [
           {
            "marker": {
             "colorbar": {
              "outlinewidth": 0,
              "ticks": ""
             }
            },
            "type": "scatterpolar"
           }
          ],
          "scatterpolargl": [
           {
            "marker": {
             "colorbar": {
              "outlinewidth": 0,
              "ticks": ""
             }
            },
            "type": "scatterpolargl"
           }
          ],
          "scatterternary": [
           {
            "marker": {
             "colorbar": {
              "outlinewidth": 0,
              "ticks": ""
             }
            },
            "type": "scatterternary"
           }
          ],
          "surface": [
           {
            "colorbar": {
             "outlinewidth": 0,
             "ticks": ""
            },
            "colorscale": [
             [
              0,
              "#0d0887"
             ],
             [
              0.1111111111111111,
              "#46039f"
             ],
             [
              0.2222222222222222,
              "#7201a8"
             ],
             [
              0.3333333333333333,
              "#9c179e"
             ],
             [
              0.4444444444444444,
              "#bd3786"
             ],
             [
              0.5555555555555556,
              "#d8576b"
             ],
             [
              0.6666666666666666,
              "#ed7953"
             ],
             [
              0.7777777777777778,
              "#fb9f3a"
             ],
             [
              0.8888888888888888,
              "#fdca26"
             ],
             [
              1,
              "#f0f921"
             ]
            ],
            "type": "surface"
           }
          ],
          "table": [
           {
            "cells": {
             "fill": {
              "color": "#EBF0F8"
             },
             "line": {
              "color": "white"
             }
            },
            "header": {
             "fill": {
              "color": "#C8D4E3"
             },
             "line": {
              "color": "white"
             }
            },
            "type": "table"
           }
          ]
         },
         "layout": {
          "annotationdefaults": {
           "arrowcolor": "#2a3f5f",
           "arrowhead": 0,
           "arrowwidth": 1
          },
          "autotypenumbers": "strict",
          "coloraxis": {
           "colorbar": {
            "outlinewidth": 0,
            "ticks": ""
           }
          },
          "colorscale": {
           "diverging": [
            [
             0,
             "#8e0152"
            ],
            [
             0.1,
             "#c51b7d"
            ],
            [
             0.2,
             "#de77ae"
            ],
            [
             0.3,
             "#f1b6da"
            ],
            [
             0.4,
             "#fde0ef"
            ],
            [
             0.5,
             "#f7f7f7"
            ],
            [
             0.6,
             "#e6f5d0"
            ],
            [
             0.7,
             "#b8e186"
            ],
            [
             0.8,
             "#7fbc41"
            ],
            [
             0.9,
             "#4d9221"
            ],
            [
             1,
             "#276419"
            ]
           ],
           "sequential": [
            [
             0,
             "#0d0887"
            ],
            [
             0.1111111111111111,
             "#46039f"
            ],
            [
             0.2222222222222222,
             "#7201a8"
            ],
            [
             0.3333333333333333,
             "#9c179e"
            ],
            [
             0.4444444444444444,
             "#bd3786"
            ],
            [
             0.5555555555555556,
             "#d8576b"
            ],
            [
             0.6666666666666666,
             "#ed7953"
            ],
            [
             0.7777777777777778,
             "#fb9f3a"
            ],
            [
             0.8888888888888888,
             "#fdca26"
            ],
            [
             1,
             "#f0f921"
            ]
           ],
           "sequentialminus": [
            [
             0,
             "#0d0887"
            ],
            [
             0.1111111111111111,
             "#46039f"
            ],
            [
             0.2222222222222222,
             "#7201a8"
            ],
            [
             0.3333333333333333,
             "#9c179e"
            ],
            [
             0.4444444444444444,
             "#bd3786"
            ],
            [
             0.5555555555555556,
             "#d8576b"
            ],
            [
             0.6666666666666666,
             "#ed7953"
            ],
            [
             0.7777777777777778,
             "#fb9f3a"
            ],
            [
             0.8888888888888888,
             "#fdca26"
            ],
            [
             1,
             "#f0f921"
            ]
           ]
          },
          "colorway": [
           "#636efa",
           "#EF553B",
           "#00cc96",
           "#ab63fa",
           "#FFA15A",
           "#19d3f3",
           "#FF6692",
           "#B6E880",
           "#FF97FF",
           "#FECB52"
          ],
          "font": {
           "color": "#2a3f5f"
          },
          "geo": {
           "bgcolor": "white",
           "lakecolor": "white",
           "landcolor": "#E5ECF6",
           "showlakes": true,
           "showland": true,
           "subunitcolor": "white"
          },
          "hoverlabel": {
           "align": "left"
          },
          "hovermode": "closest",
          "mapbox": {
           "style": "light"
          },
          "paper_bgcolor": "white",
          "plot_bgcolor": "#E5ECF6",
          "polar": {
           "angularaxis": {
            "gridcolor": "white",
            "linecolor": "white",
            "ticks": ""
           },
           "bgcolor": "#E5ECF6",
           "radialaxis": {
            "gridcolor": "white",
            "linecolor": "white",
            "ticks": ""
           }
          },
          "scene": {
           "xaxis": {
            "backgroundcolor": "#E5ECF6",
            "gridcolor": "white",
            "gridwidth": 2,
            "linecolor": "white",
            "showbackground": true,
            "ticks": "",
            "zerolinecolor": "white"
           },
           "yaxis": {
            "backgroundcolor": "#E5ECF6",
            "gridcolor": "white",
            "gridwidth": 2,
            "linecolor": "white",
            "showbackground": true,
            "ticks": "",
            "zerolinecolor": "white"
           },
           "zaxis": {
            "backgroundcolor": "#E5ECF6",
            "gridcolor": "white",
            "gridwidth": 2,
            "linecolor": "white",
            "showbackground": true,
            "ticks": "",
            "zerolinecolor": "white"
           }
          },
          "shapedefaults": {
           "line": {
            "color": "#2a3f5f"
           }
          },
          "ternary": {
           "aaxis": {
            "gridcolor": "white",
            "linecolor": "white",
            "ticks": ""
           },
           "baxis": {
            "gridcolor": "white",
            "linecolor": "white",
            "ticks": ""
           },
           "bgcolor": "#E5ECF6",
           "caxis": {
            "gridcolor": "white",
            "linecolor": "white",
            "ticks": ""
           }
          },
          "title": {
           "x": 0.05
          },
          "xaxis": {
           "automargin": true,
           "gridcolor": "white",
           "linecolor": "white",
           "ticks": "",
           "title": {
            "standoff": 15
           },
           "zerolinecolor": "white",
           "zerolinewidth": 2
          },
          "yaxis": {
           "automargin": true,
           "gridcolor": "white",
           "linecolor": "white",
           "ticks": "",
           "title": {
            "standoff": 15
           },
           "zerolinecolor": "white",
           "zerolinewidth": 2
          }
         }
        },
        "title": {
         "text": "Treino da func. ackley em R2 com alpha 0.1 - Tempo médio para 30 iterações: 4.216 ms"
        },
        "xaxis": {
         "anchor": "y",
         "domain": [
          0,
          1
         ],
         "title": {
          "text": "Iterações"
         }
        },
        "yaxis": {
         "anchor": "x",
         "domain": [
          0,
          1
         ],
         "title": {
          "text": "Valor da função ackley"
         }
        }
       }
      }
     },
     "metadata": {},
     "output_type": "display_data"
    }
   ],
   "source": [
    "treina_gradiente(1e-1, 2, 'ackley', 30)"
   ]
  },
  {
   "attachments": {},
   "cell_type": "markdown",
   "metadata": {},
   "source": [
    "### 4. Otimização da função Ackley em $\\mathbb{R}^{3}$ com 20 inicializações:"
   ]
  },
  {
   "attachments": {},
   "cell_type": "markdown",
   "metadata": {},
   "source": [
    "Caso 4.1: $\\alpha$ = 0.005, treinamento por 30 iterações"
   ]
  },
  {
   "cell_type": "code",
   "execution_count": 38,
   "metadata": {},
   "outputs": [
    {
     "data": {
      "application/vnd.plotly.v1+json": {
       "config": {
        "plotlyServerURL": "https://plot.ly"
       },
       "data": [
        {
         "hovertemplate": "variable=0<br>index=%{x}<br>value=%{y}<extra></extra>",
         "legendgroup": "0",
         "line": {
          "color": "#636efa",
          "dash": "solid"
         },
         "marker": {
          "symbol": "circle"
         },
         "mode": "lines",
         "name": "0",
         "orientation": "v",
         "showlegend": true,
         "type": "scatter",
         "x": [
          0,
          1,
          2,
          3,
          4,
          5,
          6,
          7,
          8,
          9,
          10,
          11,
          12,
          13,
          14,
          15,
          16,
          17,
          18,
          19,
          20,
          21,
          22,
          23,
          24,
          25,
          26,
          27,
          28,
          29,
          30
         ],
         "xaxis": "x",
         "y": [
          21.15974429192578,
          20.411293162435886,
          19.471395501674884,
          17.684573488804965,
          13.492359697171551,
          4.324145934337121,
          3.6309015086794543,
          3.3582240004333923,
          3.202462349035852,
          3.1000866983809066,
          3.0269501093081854,
          2.9720286173116333,
          2.9290338952417376,
          2.894555273130003,
          2.866141574872501,
          2.842438298323771,
          2.82224342730331,
          2.8049469869146475,
          2.7898604042988713,
          2.776694803719004,
          2.765007885974207,
          2.7546661517081508,
          2.745359463817199,
          2.737035699926761,
          2.7294620865836063,
          2.7226315081239467,
          2.7163597736167167,
          2.7106655520436367,
          2.7053970011254234,
          2.70058782718683,
          2.6961088273672904
         ],
         "yaxis": "y"
        },
        {
         "hovertemplate": "variable=1<br>index=%{x}<br>value=%{y}<extra></extra>",
         "legendgroup": "1",
         "line": {
          "color": "#EF553B",
          "dash": "solid"
         },
         "marker": {
          "symbol": "circle"
         },
         "mode": "lines",
         "name": "1",
         "orientation": "v",
         "showlegend": true,
         "type": "scatter",
         "x": [
          0,
          1,
          2,
          3,
          4,
          5,
          6,
          7,
          8,
          9,
          10,
          11,
          12,
          13,
          14,
          15,
          16,
          17,
          18,
          19,
          20,
          21,
          22,
          23,
          24,
          25,
          26,
          27,
          28,
          29,
          30
         ],
         "xaxis": "x",
         "y": [
          17.71992833882952,
          20.736557715767773,
          20.649130307103885,
          20.542300860642854,
          20.411282135913098,
          20.250877702708237,
          20.05655245126599,
          19.826603950355736,
          19.5652651920398,
          19.28469353530789,
          19.001303659762893,
          18.7230703504991,
          18.431498100623323,
          18.062379126893063,
          17.46555335177676,
          16.255076320644672,
          13.206162979376584,
          5.187123646552713,
          2.4033780563063307,
          2.143389760831145,
          1.9759491720194373,
          1.8823833156069303,
          1.801213278947785,
          1.7532806839012278,
          1.7038598478435039,
          1.675270738934135,
          1.641393949835273,
          1.6228260542192143,
          1.5978326244429657,
          1.5851124672535737,
          1.5657245545867409
         ],
         "yaxis": "y"
        },
        {
         "hovertemplate": "variable=2<br>index=%{x}<br>value=%{y}<extra></extra>",
         "legendgroup": "2",
         "line": {
          "color": "#00cc96",
          "dash": "solid"
         },
         "marker": {
          "symbol": "circle"
         },
         "mode": "lines",
         "name": "2",
         "orientation": "v",
         "showlegend": true,
         "type": "scatter",
         "x": [
          0,
          1,
          2,
          3,
          4,
          5,
          6,
          7,
          8,
          9,
          10,
          11,
          12,
          13,
          14,
          15,
          16,
          17,
          18,
          19,
          20,
          21,
          22,
          23,
          24,
          25,
          26,
          27,
          28,
          29,
          30
         ],
         "xaxis": "x",
         "y": [
          21.385365705539684,
          21.996884450877346,
          21.921577731383582,
          21.82785462598076,
          21.70840085187944,
          21.551749154939607,
          21.339057094763966,
          21.03746384531102,
          20.5848921308618,
          19.849903660702097,
          18.50383411345481,
          15.534843245684444,
          8.022290910073195,
          3.1953551509082634,
          3.0905336802073724,
          3.0160403324752356,
          2.95970111269239,
          2.915927983347928,
          2.880488585556098,
          2.8515764386685736,
          2.827163245086855,
          2.806628197981088,
          2.7887775006301116,
          2.773449259184741,
          2.759834132452529,
          2.747971042361194,
          2.737254437204769,
          2.7278172304252135,
          2.719174173187796,
          2.7115030328009877,
          2.7043959603821937
         ],
         "yaxis": "y"
        },
        {
         "hovertemplate": "variable=3<br>index=%{x}<br>value=%{y}<extra></extra>",
         "legendgroup": "3",
         "line": {
          "color": "#ab63fa",
          "dash": "solid"
         },
         "marker": {
          "symbol": "circle"
         },
         "mode": "lines",
         "name": "3",
         "orientation": "v",
         "showlegend": true,
         "type": "scatter",
         "x": [
          0,
          1,
          2,
          3,
          4,
          5,
          6,
          7,
          8,
          9,
          10,
          11,
          12,
          13,
          14,
          15,
          16,
          17,
          18,
          19,
          20,
          21,
          22,
          23,
          24,
          25,
          26,
          27,
          28,
          29,
          30
         ],
         "xaxis": "x",
         "y": [
          21.364957650432036,
          20.890911643036446,
          20.479574070534444,
          19.924270139945857,
          19.107097951494513,
          17.658379245116738,
          14.28248223823431,
          5.8514414581028085,
          3.7457137418416875,
          3.418429159842358,
          3.2420942152468943,
          3.1292289076882303,
          3.05013613028293,
          2.9912952675527795,
          2.9457581637367665,
          2.9093608246265714,
          2.8796346111590663,
          2.8548364136423108,
          2.8338824141196537,
          2.8158950371356117,
          2.80033522802507,
          2.7867011518078546,
          2.7747034104199675,
          2.7640263396747504,
          2.7545076890795994,
          2.7459334598845264,
          2.7382113175856024,
          2.7311871329574946,
          2.724809286152969,
          2.7189611186196427,
          2.713615771549972
         ],
         "yaxis": "y"
        },
        {
         "hovertemplate": "variable=4<br>index=%{x}<br>value=%{y}<extra></extra>",
         "legendgroup": "4",
         "line": {
          "color": "#FFA15A",
          "dash": "solid"
         },
         "marker": {
          "symbol": "circle"
         },
         "mode": "lines",
         "name": "4",
         "orientation": "v",
         "showlegend": true,
         "type": "scatter",
         "x": [
          0,
          1,
          2,
          3,
          4,
          5,
          6,
          7,
          8,
          9,
          10,
          11,
          12,
          13,
          14,
          15,
          16,
          17,
          18,
          19,
          20,
          21,
          22,
          23,
          24,
          25,
          26,
          27,
          28,
          29,
          30
         ],
         "xaxis": "x",
         "y": [
          19.427812988352148,
          11.153922295701342,
          2.5604260239893546,
          2.5571687455881684,
          2.5536616346305974,
          2.55083441452074,
          2.547743675443759,
          2.545274743494844,
          2.542534623424985,
          2.540367110567861,
          2.5379250206458654,
          2.53601327695111,
          2.5338266342579954,
          2.532133589337232,
          2.5301675295832173,
          2.5286627661160073,
          2.5268884587074756,
          2.525546783722881,
          2.523940171518373,
          2.5227405414007475,
          2.521281385037842,
          2.5202060860143267,
          2.51887723006772,
          2.5179112459571944,
          2.5166980489540376,
          2.5158285680298538,
          2.5147184550669377,
          2.513934481543892,
          2.5129165897275,
          2.5122086348291828,
          2.511273529759148
         ],
         "yaxis": "y"
        },
        {
         "hovertemplate": "variable=5<br>index=%{x}<br>value=%{y}<extra></extra>",
         "legendgroup": "5",
         "line": {
          "color": "#19d3f3",
          "dash": "solid"
         },
         "marker": {
          "symbol": "circle"
         },
         "mode": "lines",
         "name": "5",
         "orientation": "v",
         "showlegend": true,
         "type": "scatter",
         "x": [
          0,
          1,
          2,
          3,
          4,
          5,
          6,
          7,
          8,
          9,
          10,
          11,
          12,
          13,
          14,
          15,
          16,
          17,
          18,
          19,
          20,
          21,
          22,
          23,
          24,
          25,
          26,
          27,
          28,
          29,
          30
         ],
         "xaxis": "x",
         "y": [
          19.64238836423908,
          21.74717324213297,
          21.732821649432424,
          21.716430727565086,
          21.697588291519157,
          21.675766149606133,
          21.650276822241413,
          21.620209634681974,
          21.584333916162162,
          21.540948064312566,
          21.487636259557153,
          21.420860986224934,
          21.335249243445052,
          21.222274044604813,
          21.06765876317129,
          20.84585471695981,
          20.507105409240587,
          19.943259027925226,
          18.882842131947122,
          16.514073205185277,
          10.279565899124798,
          2.176696075906652,
          2.175654582353929,
          2.1740805431484103,
          2.1731576768874317,
          2.1717201678981515,
          2.1709008587556125,
          2.169584503100783,
          2.168855973768427,
          2.167647603151981,
          2.1669989530210185
         ],
         "yaxis": "y"
        },
        {
         "hovertemplate": "variable=6<br>index=%{x}<br>value=%{y}<extra></extra>",
         "legendgroup": "6",
         "line": {
          "color": "#FF6692",
          "dash": "solid"
         },
         "marker": {
          "symbol": "circle"
         },
         "mode": "lines",
         "name": "6",
         "orientation": "v",
         "showlegend": true,
         "type": "scatter",
         "x": [
          0,
          1,
          2,
          3,
          4,
          5,
          6,
          7,
          8,
          9,
          10,
          11,
          12,
          13,
          14,
          15,
          16,
          17,
          18,
          19,
          20,
          21,
          22,
          23,
          24,
          25,
          26,
          27,
          28,
          29,
          30
         ],
         "xaxis": "x",
         "y": [
          21.56674296037763,
          22.22754906416006,
          22.17041142445659,
          22.096917933125564,
          21.999363887727327,
          21.86463969320434,
          21.66883315442489,
          21.364308151073782,
          20.844729331732832,
          19.83506439864921,
          17.488327736655076,
          11.08765968671633,
          2.650527076654783,
          2.648687554529428,
          2.6469781961186567,
          2.6453254068142447,
          2.643788954463823,
          2.6422992867351316,
          2.640914186100066,
          2.639567752999565,
          2.638315788027516,
          2.6370957184644266,
          2.635961388125914,
          2.634853274785016,
          2.6338233048945274,
          2.632814769614534,
          2.6318777267197366,
          2.63095807512352,
          2.630104058361504,
          2.6292640030223997,
          2.628484396140419
         ],
         "yaxis": "y"
        },
        {
         "hovertemplate": "variable=7<br>index=%{x}<br>value=%{y}<extra></extra>",
         "legendgroup": "7",
         "line": {
          "color": "#B6E880",
          "dash": "solid"
         },
         "marker": {
          "symbol": "circle"
         },
         "mode": "lines",
         "name": "7",
         "orientation": "v",
         "showlegend": true,
         "type": "scatter",
         "x": [
          0,
          1,
          2,
          3,
          4,
          5,
          6,
          7,
          8,
          9,
          10,
          11,
          12,
          13,
          14,
          15,
          16,
          17,
          18,
          19,
          20,
          21,
          22,
          23,
          24,
          25,
          26,
          27,
          28,
          29,
          30
         ],
         "xaxis": "x",
         "y": [
          20.438446849680886,
          22.254507319908093,
          22.2512449028502,
          22.247882288233026,
          22.24441676335295,
          22.24084562778738,
          22.23716620158777,
          22.233375833124917,
          22.229471906222027,
          22.22545184612463,
          22.221313123758172,
          22.21705325761358,
          22.21266981247791,
          22.208160394091706,
          22.20352263866689,
          22.198754196039467,
          22.193852705060753,
          22.188815759649376,
          22.1836408637346,
          22.178325373118625,
          22.1728664220698,
          22.167260832226216,
          22.161505001133506,
          22.15559476745054,
          22.149525249516632,
          22.14329065355968,
          22.136884047304154,
          22.130297094065753,
          22.123519741536573,
          22.116539858289915,
          22.10934280946377
         ],
         "yaxis": "y"
        },
        {
         "hovertemplate": "variable=8<br>index=%{x}<br>value=%{y}<extra></extra>",
         "legendgroup": "8",
         "line": {
          "color": "#FF97FF",
          "dash": "solid"
         },
         "marker": {
          "symbol": "circle"
         },
         "mode": "lines",
         "name": "8",
         "orientation": "v",
         "showlegend": true,
         "type": "scatter",
         "x": [
          0,
          1,
          2,
          3,
          4,
          5,
          6,
          7,
          8,
          9,
          10,
          11,
          12,
          13,
          14,
          15,
          16,
          17,
          18,
          19,
          20,
          21,
          22,
          23,
          24,
          25,
          26,
          27,
          28,
          29,
          30
         ],
         "xaxis": "x",
         "y": [
          21.28061662956909,
          21.41150595799556,
          21.055599804865082,
          20.49562141175103,
          19.531421573520674,
          17.622855194134647,
          13.030558356812017,
          3.705899393582748,
          3.39105741342943,
          3.2194790289580344,
          3.1087892698210315,
          3.0311103178528858,
          2.9730205396591995,
          2.928126892537908,
          2.892061632709091,
          2.862698510011907,
          2.838065216237631,
          2.8173452950079647,
          2.799443677280863,
          2.78404913496933,
          2.7704590337016453,
          2.7585858660488225,
          2.747929017658777,
          2.7385089488963,
          2.729940728830869,
          2.722299538235998,
          2.715272554559928,
          2.7089631084731605,
          2.7031065626696607,
          2.697820318312886,
          2.6928738579731406
         ],
         "yaxis": "y"
        },
        {
         "hovertemplate": "variable=9<br>index=%{x}<br>value=%{y}<extra></extra>",
         "legendgroup": "9",
         "line": {
          "color": "#FECB52",
          "dash": "solid"
         },
         "marker": {
          "symbol": "circle"
         },
         "mode": "lines",
         "name": "9",
         "orientation": "v",
         "showlegend": true,
         "type": "scatter",
         "x": [
          0,
          1,
          2,
          3,
          4,
          5,
          6,
          7,
          8,
          9,
          10,
          11,
          12,
          13,
          14,
          15,
          16,
          17,
          18,
          19,
          20,
          21,
          22,
          23,
          24,
          25,
          26,
          27,
          28,
          29,
          30
         ],
         "xaxis": "x",
         "y": [
          20.903311385593238,
          21.982090692772644,
          21.928345116693038,
          21.863268911338594,
          21.78285383277107,
          21.6810655212185,
          21.54845392645587,
          21.369494065557685,
          21.11711436853862,
          20.740346606710993,
          20.13285397890031,
          19.038940527412908,
          16.717834754486315,
          10.815341660735559,
          2.5656017290803317,
          2.564382326163902,
          2.5631779969200115,
          2.5620733946259233,
          2.5609790030937742,
          2.55997625747089,
          2.558979694460334,
          2.558067652751458,
          2.557158451006693,
          2.5563274525393216,
          2.5554965175715094,
          2.5547381529014506,
          2.553977545352741,
          2.553284460815427,
          2.5525872191744807,
          2.551952957139314,
          2.551312952319599
         ],
         "yaxis": "y"
        },
        {
         "hovertemplate": "variable=10<br>index=%{x}<br>value=%{y}<extra></extra>",
         "legendgroup": "10",
         "line": {
          "color": "#636efa",
          "dash": "solid"
         },
         "marker": {
          "symbol": "circle"
         },
         "mode": "lines",
         "name": "10",
         "orientation": "v",
         "showlegend": true,
         "type": "scatter",
         "x": [
          0,
          1,
          2,
          3,
          4,
          5,
          6,
          7,
          8,
          9,
          10,
          11,
          12,
          13,
          14,
          15,
          16,
          17,
          18,
          19,
          20,
          21,
          22,
          23,
          24,
          25,
          26,
          27,
          28,
          29,
          30
         ],
         "xaxis": "x",
         "y": [
          21.193860564909794,
          21.9887978396859,
          21.909484467400393,
          21.81338666337783,
          21.696266723480996,
          21.553156658190073,
          21.37880298529349,
          21.16878789000687,
          20.921476474412398,
          20.639955870164886,
          20.330812411559982,
          19.99432044888427,
          19.601710592368107,
          19.053850512643905,
          18.078455946832477,
          15.848570781924774,
          9.726957550634582,
          2.645414412031823,
          2.6418663884808606,
          2.638595455917017,
          2.6355088858842035,
          2.632655755035199,
          2.6299521362707847,
          2.6274475001971287,
          2.6250650956905948,
          2.6228540661194626,
          2.6207436397257706,
          2.6187821710053183,
          2.616903964742335,
          2.6151562942028623,
          2.61347784429216
         ],
         "yaxis": "y"
        },
        {
         "hovertemplate": "variable=11<br>index=%{x}<br>value=%{y}<extra></extra>",
         "legendgroup": "11",
         "line": {
          "color": "#EF553B",
          "dash": "solid"
         },
         "marker": {
          "symbol": "circle"
         },
         "mode": "lines",
         "name": "11",
         "orientation": "v",
         "showlegend": true,
         "type": "scatter",
         "x": [
          0,
          1,
          2,
          3,
          4,
          5,
          6,
          7,
          8,
          9,
          10,
          11,
          12,
          13,
          14,
          15,
          16,
          17,
          18,
          19,
          20,
          21,
          22,
          23,
          24,
          25,
          26,
          27,
          28,
          29,
          30
         ],
         "xaxis": "x",
         "y": [
          21.135041902849405,
          21.723965312124268,
          21.501741939535307,
          21.15417757206387,
          20.553969449795627,
          19.360684860139504,
          16.487658362689498,
          8.740095156560026,
          3.1038467071374005,
          3.025602949567738,
          2.9665294620685043,
          2.9198790763538836,
          2.882418839327578,
          2.851314684614565,
          2.8253961494145945,
          2.8031500418695825,
          2.784153565792981,
          2.7674551678139285,
          2.7529495168824885,
          2.7399645386343576,
          2.7285432882584897,
          2.7181700811302716,
          2.7089611033071326,
          2.7004966698086332,
          2.692929494205448,
          2.685903435428426,
          2.6795887434855854,
          2.673674045362436,
          2.668336804875804,
          2.663298868156034,
          2.658739122010268
         ],
         "yaxis": "y"
        },
        {
         "hovertemplate": "variable=12<br>index=%{x}<br>value=%{y}<extra></extra>",
         "legendgroup": "12",
         "line": {
          "color": "#00cc96",
          "dash": "solid"
         },
         "marker": {
          "symbol": "circle"
         },
         "mode": "lines",
         "name": "12",
         "orientation": "v",
         "showlegend": true,
         "type": "scatter",
         "x": [
          0,
          1,
          2,
          3,
          4,
          5,
          6,
          7,
          8,
          9,
          10,
          11,
          12,
          13,
          14,
          15,
          16,
          17,
          18,
          19,
          20,
          21,
          22,
          23,
          24,
          25,
          26,
          27,
          28,
          29,
          30
         ],
         "xaxis": "x",
         "y": [
          20.805808979271422,
          20.273509950024167,
          18.53037286433266,
          13.791210830772103,
          3.668332596911917,
          3.372174801877659,
          3.2037551901880374,
          3.0934913397739945,
          3.014622823942173,
          2.955576559079422,
          2.9092084151001996,
          2.8721591828689914,
          2.8414897286348126,
          2.816022345293661,
          2.7941992485375207,
          2.775615751085081,
          2.7592923273828593,
          2.7451471008014576,
          2.7324856804100652,
          2.721374848065047,
          2.7112790042166535,
          2.702337002300791,
          2.6941105588624414,
          2.6867737179995435,
          2.679952659844304,
          2.6738376575921987,
          2.668100419160521,
          2.662937234438726,
          2.6580537159592237,
          2.6536464997676608,
          2.649447576187186
         ],
         "yaxis": "y"
        },
        {
         "hovertemplate": "variable=13<br>index=%{x}<br>value=%{y}<extra></extra>",
         "legendgroup": "13",
         "line": {
          "color": "#ab63fa",
          "dash": "solid"
         },
         "marker": {
          "symbol": "circle"
         },
         "mode": "lines",
         "name": "13",
         "orientation": "v",
         "showlegend": true,
         "type": "scatter",
         "x": [
          0,
          1,
          2,
          3,
          4,
          5,
          6,
          7,
          8,
          9,
          10,
          11,
          12,
          13,
          14,
          15,
          16,
          17,
          18,
          19,
          20,
          21,
          22,
          23,
          24,
          25,
          26,
          27,
          28,
          29,
          30
         ],
         "xaxis": "x",
         "y": [
          20.80390758486463,
          17.363267843019997,
          12.801087002953173,
          3.574822948670328,
          3.3293109412144593,
          3.1848760601104193,
          3.0884428366346772,
          3.0188986448033472,
          2.9663027407595774,
          2.924941584386915,
          2.891629082106356,
          2.8641092366143224,
          2.841079558016251,
          2.821433241613612,
          2.8045634812513858,
          2.7898410865631402,
          2.7769639015467935,
          2.76553306441808,
          2.7553959149978664,
          2.7462773611688402,
          2.7381042066666343,
          2.730673668695179,
          2.7239572714168436,
          2.71779742491761,
          2.7121918492275268,
          2.7070128311925292,
          2.702273836776737,
          2.6978678712859723,
          2.693817981271341,
          2.6900321454720104,
          2.6865392204277936
         ],
         "yaxis": "y"
        },
        {
         "hovertemplate": "variable=14<br>index=%{x}<br>value=%{y}<extra></extra>",
         "legendgroup": "14",
         "line": {
          "color": "#FFA15A",
          "dash": "solid"
         },
         "marker": {
          "symbol": "circle"
         },
         "mode": "lines",
         "name": "14",
         "orientation": "v",
         "showlegend": true,
         "type": "scatter",
         "x": [
          0,
          1,
          2,
          3,
          4,
          5,
          6,
          7,
          8,
          9,
          10,
          11,
          12,
          13,
          14,
          15,
          16,
          17,
          18,
          19,
          20,
          21,
          22,
          23,
          24,
          25,
          26,
          27,
          28,
          29,
          30
         ],
         "xaxis": "x",
         "y": [
          21.5159986931636,
          22.5831320319827,
          22.58307052095023,
          22.583008249821905,
          22.58294520748777,
          22.5828813826378,
          22.582816763757457,
          22.58275133912311,
          22.582685096797356,
          22.582618024624182,
          22.582550110224023,
          22.58248134098867,
          22.582411704076048,
          22.582341186404836,
          22.582269774648964,
          22.582197455231924,
          22.582124214320952,
          22.582050037821038,
          22.581974911368746,
          22.581898820325893,
          22.58182174977303,
          22.58174368450274,
          22.581664609012744,
          22.581584507498807,
          22.58150336384744,
          22.581421161628388,
          22.581337884086913,
          22.58125351413583,
          22.581168034347314,
          22.581081426944465,
          22.580993673792637
         ],
         "yaxis": "y"
        },
        {
         "hovertemplate": "variable=15<br>index=%{x}<br>value=%{y}<extra></extra>",
         "legendgroup": "15",
         "line": {
          "color": "#19d3f3",
          "dash": "solid"
         },
         "marker": {
          "symbol": "circle"
         },
         "mode": "lines",
         "name": "15",
         "orientation": "v",
         "showlegend": true,
         "type": "scatter",
         "x": [
          0,
          1,
          2,
          3,
          4,
          5,
          6,
          7,
          8,
          9,
          10,
          11,
          12,
          13,
          14,
          15,
          16,
          17,
          18,
          19,
          20,
          21,
          22,
          23,
          24,
          25,
          26,
          27,
          28,
          29,
          30
         ],
         "xaxis": "x",
         "y": [
          16.76466274534041,
          19.835535480296247,
          19.438506361174355,
          18.668177325353362,
          16.859927360823605,
          11.606322788111331,
          1.2631188370655662,
          1.211521997912826,
          1.1727256857326975,
          1.138151343072423,
          1.1116398975784283,
          1.0867536817393533,
          1.0675592323565302,
          1.0487424386340938,
          1.0342650960507815,
          1.0195160809059272,
          1.008258965428333,
          0.9963766137127341,
          0.9874154257622476,
          0.9776334601520529,
          0.9703659715038602,
          0.9621715427686763,
          0.9561882950158247,
          0.9492246730152414,
          0.9442374542147083,
          0.9382484966612208,
          0.9340485153551659,
          0.9288453402110446,
          0.9252776210958982,
          0.9207177494676029,
          0.9176648466535977
         ],
         "yaxis": "y"
        },
        {
         "hovertemplate": "variable=16<br>index=%{x}<br>value=%{y}<extra></extra>",
         "legendgroup": "16",
         "line": {
          "color": "#FF6692",
          "dash": "solid"
         },
         "marker": {
          "symbol": "circle"
         },
         "mode": "lines",
         "name": "16",
         "orientation": "v",
         "showlegend": true,
         "type": "scatter",
         "x": [
          0,
          1,
          2,
          3,
          4,
          5,
          6,
          7,
          8,
          9,
          10,
          11,
          12,
          13,
          14,
          15,
          16,
          17,
          18,
          19,
          20,
          21,
          22,
          23,
          24,
          25,
          26,
          27,
          28,
          29,
          30
         ],
         "xaxis": "x",
         "y": [
          21.030410752919384,
          18.76023934832187,
          14.887967560970237,
          5.307570709683631,
          3.8613165333493744,
          3.4974709951126326,
          3.3027206603531565,
          3.1785229993529467,
          3.0914853468903165,
          3.026867419345067,
          2.9767819175868238,
          2.936833948569341,
          2.9041288021256837,
          2.8769151579576193,
          2.853847731172007,
          2.8341080343691343,
          2.816966822117522,
          2.8020036833368356,
          2.7887767148775393,
          2.77705820158856,
          2.7665563812280642,
          2.7571455166149303,
          2.748619348734732,
          2.7409097572208343,
          2.733862620887781,
          2.727443998468179,
          2.7215333995076674,
          2.716117903804396,
          2.711099768620667,
          2.7064793394024353,
          2.7021749023416253
         ],
         "yaxis": "y"
        },
        {
         "hovertemplate": "variable=17<br>index=%{x}<br>value=%{y}<extra></extra>",
         "legendgroup": "17",
         "line": {
          "color": "#B6E880",
          "dash": "solid"
         },
         "marker": {
          "symbol": "circle"
         },
         "mode": "lines",
         "name": "17",
         "orientation": "v",
         "showlegend": true,
         "type": "scatter",
         "x": [
          0,
          1,
          2,
          3,
          4,
          5,
          6,
          7,
          8,
          9,
          10,
          11,
          12,
          13,
          14,
          15,
          16,
          17,
          18,
          19,
          20,
          21,
          22,
          23,
          24,
          25,
          26,
          27,
          28,
          29,
          30
         ],
         "xaxis": "x",
         "y": [
          21.034952406290742,
          22.10595893670639,
          22.08612878762634,
          22.06314730117243,
          22.036205166280787,
          22.004203069932853,
          21.96561019252277,
          21.91823235858254,
          21.858815894298502,
          21.782336512100976,
          21.68064536004416,
          21.539700742713467,
          21.333390039076683,
          21.00814888676007,
          20.43901872642939,
          19.281057350730016,
          16.38156266912042,
          8.260575545552356,
          3.302485270220633,
          3.1570915381850786,
          3.0565728856210375,
          2.984013917800287,
          2.927605944350969,
          2.883757616542447,
          2.8474132866297315,
          2.8179947749044385,
          2.7925617431612655,
          2.7714660962361504,
          2.7526574606120353,
          2.736814362702479,
          2.7223422360426643
         ],
         "yaxis": "y"
        },
        {
         "hovertemplate": "variable=18<br>index=%{x}<br>value=%{y}<extra></extra>",
         "legendgroup": "18",
         "line": {
          "color": "#FF97FF",
          "dash": "solid"
         },
         "marker": {
          "symbol": "circle"
         },
         "mode": "lines",
         "name": "18",
         "orientation": "v",
         "showlegend": true,
         "type": "scatter",
         "x": [
          0,
          1,
          2,
          3,
          4,
          5,
          6,
          7,
          8,
          9,
          10,
          11,
          12,
          13,
          14,
          15,
          16,
          17,
          18,
          19,
          20,
          21,
          22,
          23,
          24,
          25,
          26,
          27,
          28,
          29,
          30
         ],
         "xaxis": "x",
         "y": [
          21.619311043316834,
          21.723532332387492,
          21.573790746019295,
          21.395404481601112,
          21.188718444689343,
          20.960271490680576,
          20.724983285333703,
          20.504228104042515,
          20.31784035746797,
          20.174528454431815,
          20.068824416161675,
          19.985673294722673,
          19.905882855413697,
          19.807020806885237,
          19.658310081633864,
          19.406664223761695,
          18.940046397665323,
          17.97257037778654,
          15.613193549092594,
          9.065482086351228,
          2.8643063262058637,
          2.842224929449419,
          2.8233610728074052,
          2.807085129765117,
          2.792879148019001,
          2.7803976671207313,
          2.769327459102968,
          2.759466463577493,
          2.750610956072134,
          2.7426374982833903,
          2.735405594820105
         ],
         "yaxis": "y"
        },
        {
         "hovertemplate": "variable=19<br>index=%{x}<br>value=%{y}<extra></extra>",
         "legendgroup": "19",
         "line": {
          "color": "#FECB52",
          "dash": "solid"
         },
         "marker": {
          "symbol": "circle"
         },
         "mode": "lines",
         "name": "19",
         "orientation": "v",
         "showlegend": true,
         "type": "scatter",
         "x": [
          0,
          1,
          2,
          3,
          4,
          5,
          6,
          7,
          8,
          9,
          10,
          11,
          12,
          13,
          14,
          15,
          16,
          17,
          18,
          19,
          20,
          21,
          22,
          23,
          24,
          25,
          26,
          27,
          28,
          29,
          30
         ],
         "xaxis": "x",
         "y": [
          17.910795872336003,
          11.328088656596302,
          2.0119634082981297,
          2.0113472360027207,
          2.011324590652212,
          2.0107440017359726,
          2.010734157562372,
          2.0101866600099325,
          2.0101881287108623,
          2.00967144482015,
          2.009682894085348,
          2.009194937895906,
          2.009215173729434,
          2.0087540313015713,
          2.008781982636297,
          2.0083458947628725,
          2.008380600026993,
          2.0079679470286753,
          2.008008542380829,
          2.007617830692578,
          2.007663539688082,
          2.0072933899905725,
          2.007343514479626,
          2.0069926511680554,
          2.007046563257543,
          2.0067138050715347,
          2.00677094000848,
          2.006455191673393,
          2.00651504152895,
          2.0062152862808706,
          2.00627739433212
         ],
         "yaxis": "y"
        }
       ],
       "layout": {
        "legend": {
         "title": {
          "text": "Inicialização"
         },
         "tracegroupgap": 0
        },
        "template": {
         "data": {
          "bar": [
           {
            "error_x": {
             "color": "#2a3f5f"
            },
            "error_y": {
             "color": "#2a3f5f"
            },
            "marker": {
             "line": {
              "color": "#E5ECF6",
              "width": 0.5
             },
             "pattern": {
              "fillmode": "overlay",
              "size": 10,
              "solidity": 0.2
             }
            },
            "type": "bar"
           }
          ],
          "barpolar": [
           {
            "marker": {
             "line": {
              "color": "#E5ECF6",
              "width": 0.5
             },
             "pattern": {
              "fillmode": "overlay",
              "size": 10,
              "solidity": 0.2
             }
            },
            "type": "barpolar"
           }
          ],
          "carpet": [
           {
            "aaxis": {
             "endlinecolor": "#2a3f5f",
             "gridcolor": "white",
             "linecolor": "white",
             "minorgridcolor": "white",
             "startlinecolor": "#2a3f5f"
            },
            "baxis": {
             "endlinecolor": "#2a3f5f",
             "gridcolor": "white",
             "linecolor": "white",
             "minorgridcolor": "white",
             "startlinecolor": "#2a3f5f"
            },
            "type": "carpet"
           }
          ],
          "choropleth": [
           {
            "colorbar": {
             "outlinewidth": 0,
             "ticks": ""
            },
            "type": "choropleth"
           }
          ],
          "contour": [
           {
            "colorbar": {
             "outlinewidth": 0,
             "ticks": ""
            },
            "colorscale": [
             [
              0,
              "#0d0887"
             ],
             [
              0.1111111111111111,
              "#46039f"
             ],
             [
              0.2222222222222222,
              "#7201a8"
             ],
             [
              0.3333333333333333,
              "#9c179e"
             ],
             [
              0.4444444444444444,
              "#bd3786"
             ],
             [
              0.5555555555555556,
              "#d8576b"
             ],
             [
              0.6666666666666666,
              "#ed7953"
             ],
             [
              0.7777777777777778,
              "#fb9f3a"
             ],
             [
              0.8888888888888888,
              "#fdca26"
             ],
             [
              1,
              "#f0f921"
             ]
            ],
            "type": "contour"
           }
          ],
          "contourcarpet": [
           {
            "colorbar": {
             "outlinewidth": 0,
             "ticks": ""
            },
            "type": "contourcarpet"
           }
          ],
          "heatmap": [
           {
            "colorbar": {
             "outlinewidth": 0,
             "ticks": ""
            },
            "colorscale": [
             [
              0,
              "#0d0887"
             ],
             [
              0.1111111111111111,
              "#46039f"
             ],
             [
              0.2222222222222222,
              "#7201a8"
             ],
             [
              0.3333333333333333,
              "#9c179e"
             ],
             [
              0.4444444444444444,
              "#bd3786"
             ],
             [
              0.5555555555555556,
              "#d8576b"
             ],
             [
              0.6666666666666666,
              "#ed7953"
             ],
             [
              0.7777777777777778,
              "#fb9f3a"
             ],
             [
              0.8888888888888888,
              "#fdca26"
             ],
             [
              1,
              "#f0f921"
             ]
            ],
            "type": "heatmap"
           }
          ],
          "heatmapgl": [
           {
            "colorbar": {
             "outlinewidth": 0,
             "ticks": ""
            },
            "colorscale": [
             [
              0,
              "#0d0887"
             ],
             [
              0.1111111111111111,
              "#46039f"
             ],
             [
              0.2222222222222222,
              "#7201a8"
             ],
             [
              0.3333333333333333,
              "#9c179e"
             ],
             [
              0.4444444444444444,
              "#bd3786"
             ],
             [
              0.5555555555555556,
              "#d8576b"
             ],
             [
              0.6666666666666666,
              "#ed7953"
             ],
             [
              0.7777777777777778,
              "#fb9f3a"
             ],
             [
              0.8888888888888888,
              "#fdca26"
             ],
             [
              1,
              "#f0f921"
             ]
            ],
            "type": "heatmapgl"
           }
          ],
          "histogram": [
           {
            "marker": {
             "pattern": {
              "fillmode": "overlay",
              "size": 10,
              "solidity": 0.2
             }
            },
            "type": "histogram"
           }
          ],
          "histogram2d": [
           {
            "colorbar": {
             "outlinewidth": 0,
             "ticks": ""
            },
            "colorscale": [
             [
              0,
              "#0d0887"
             ],
             [
              0.1111111111111111,
              "#46039f"
             ],
             [
              0.2222222222222222,
              "#7201a8"
             ],
             [
              0.3333333333333333,
              "#9c179e"
             ],
             [
              0.4444444444444444,
              "#bd3786"
             ],
             [
              0.5555555555555556,
              "#d8576b"
             ],
             [
              0.6666666666666666,
              "#ed7953"
             ],
             [
              0.7777777777777778,
              "#fb9f3a"
             ],
             [
              0.8888888888888888,
              "#fdca26"
             ],
             [
              1,
              "#f0f921"
             ]
            ],
            "type": "histogram2d"
           }
          ],
          "histogram2dcontour": [
           {
            "colorbar": {
             "outlinewidth": 0,
             "ticks": ""
            },
            "colorscale": [
             [
              0,
              "#0d0887"
             ],
             [
              0.1111111111111111,
              "#46039f"
             ],
             [
              0.2222222222222222,
              "#7201a8"
             ],
             [
              0.3333333333333333,
              "#9c179e"
             ],
             [
              0.4444444444444444,
              "#bd3786"
             ],
             [
              0.5555555555555556,
              "#d8576b"
             ],
             [
              0.6666666666666666,
              "#ed7953"
             ],
             [
              0.7777777777777778,
              "#fb9f3a"
             ],
             [
              0.8888888888888888,
              "#fdca26"
             ],
             [
              1,
              "#f0f921"
             ]
            ],
            "type": "histogram2dcontour"
           }
          ],
          "mesh3d": [
           {
            "colorbar": {
             "outlinewidth": 0,
             "ticks": ""
            },
            "type": "mesh3d"
           }
          ],
          "parcoords": [
           {
            "line": {
             "colorbar": {
              "outlinewidth": 0,
              "ticks": ""
             }
            },
            "type": "parcoords"
           }
          ],
          "pie": [
           {
            "automargin": true,
            "type": "pie"
           }
          ],
          "scatter": [
           {
            "fillpattern": {
             "fillmode": "overlay",
             "size": 10,
             "solidity": 0.2
            },
            "type": "scatter"
           }
          ],
          "scatter3d": [
           {
            "line": {
             "colorbar": {
              "outlinewidth": 0,
              "ticks": ""
             }
            },
            "marker": {
             "colorbar": {
              "outlinewidth": 0,
              "ticks": ""
             }
            },
            "type": "scatter3d"
           }
          ],
          "scattercarpet": [
           {
            "marker": {
             "colorbar": {
              "outlinewidth": 0,
              "ticks": ""
             }
            },
            "type": "scattercarpet"
           }
          ],
          "scattergeo": [
           {
            "marker": {
             "colorbar": {
              "outlinewidth": 0,
              "ticks": ""
             }
            },
            "type": "scattergeo"
           }
          ],
          "scattergl": [
           {
            "marker": {
             "colorbar": {
              "outlinewidth": 0,
              "ticks": ""
             }
            },
            "type": "scattergl"
           }
          ],
          "scattermapbox": [
           {
            "marker": {
             "colorbar": {
              "outlinewidth": 0,
              "ticks": ""
             }
            },
            "type": "scattermapbox"
           }
          ],
          "scatterpolar": [
           {
            "marker": {
             "colorbar": {
              "outlinewidth": 0,
              "ticks": ""
             }
            },
            "type": "scatterpolar"
           }
          ],
          "scatterpolargl": [
           {
            "marker": {
             "colorbar": {
              "outlinewidth": 0,
              "ticks": ""
             }
            },
            "type": "scatterpolargl"
           }
          ],
          "scatterternary": [
           {
            "marker": {
             "colorbar": {
              "outlinewidth": 0,
              "ticks": ""
             }
            },
            "type": "scatterternary"
           }
          ],
          "surface": [
           {
            "colorbar": {
             "outlinewidth": 0,
             "ticks": ""
            },
            "colorscale": [
             [
              0,
              "#0d0887"
             ],
             [
              0.1111111111111111,
              "#46039f"
             ],
             [
              0.2222222222222222,
              "#7201a8"
             ],
             [
              0.3333333333333333,
              "#9c179e"
             ],
             [
              0.4444444444444444,
              "#bd3786"
             ],
             [
              0.5555555555555556,
              "#d8576b"
             ],
             [
              0.6666666666666666,
              "#ed7953"
             ],
             [
              0.7777777777777778,
              "#fb9f3a"
             ],
             [
              0.8888888888888888,
              "#fdca26"
             ],
             [
              1,
              "#f0f921"
             ]
            ],
            "type": "surface"
           }
          ],
          "table": [
           {
            "cells": {
             "fill": {
              "color": "#EBF0F8"
             },
             "line": {
              "color": "white"
             }
            },
            "header": {
             "fill": {
              "color": "#C8D4E3"
             },
             "line": {
              "color": "white"
             }
            },
            "type": "table"
           }
          ]
         },
         "layout": {
          "annotationdefaults": {
           "arrowcolor": "#2a3f5f",
           "arrowhead": 0,
           "arrowwidth": 1
          },
          "autotypenumbers": "strict",
          "coloraxis": {
           "colorbar": {
            "outlinewidth": 0,
            "ticks": ""
           }
          },
          "colorscale": {
           "diverging": [
            [
             0,
             "#8e0152"
            ],
            [
             0.1,
             "#c51b7d"
            ],
            [
             0.2,
             "#de77ae"
            ],
            [
             0.3,
             "#f1b6da"
            ],
            [
             0.4,
             "#fde0ef"
            ],
            [
             0.5,
             "#f7f7f7"
            ],
            [
             0.6,
             "#e6f5d0"
            ],
            [
             0.7,
             "#b8e186"
            ],
            [
             0.8,
             "#7fbc41"
            ],
            [
             0.9,
             "#4d9221"
            ],
            [
             1,
             "#276419"
            ]
           ],
           "sequential": [
            [
             0,
             "#0d0887"
            ],
            [
             0.1111111111111111,
             "#46039f"
            ],
            [
             0.2222222222222222,
             "#7201a8"
            ],
            [
             0.3333333333333333,
             "#9c179e"
            ],
            [
             0.4444444444444444,
             "#bd3786"
            ],
            [
             0.5555555555555556,
             "#d8576b"
            ],
            [
             0.6666666666666666,
             "#ed7953"
            ],
            [
             0.7777777777777778,
             "#fb9f3a"
            ],
            [
             0.8888888888888888,
             "#fdca26"
            ],
            [
             1,
             "#f0f921"
            ]
           ],
           "sequentialminus": [
            [
             0,
             "#0d0887"
            ],
            [
             0.1111111111111111,
             "#46039f"
            ],
            [
             0.2222222222222222,
             "#7201a8"
            ],
            [
             0.3333333333333333,
             "#9c179e"
            ],
            [
             0.4444444444444444,
             "#bd3786"
            ],
            [
             0.5555555555555556,
             "#d8576b"
            ],
            [
             0.6666666666666666,
             "#ed7953"
            ],
            [
             0.7777777777777778,
             "#fb9f3a"
            ],
            [
             0.8888888888888888,
             "#fdca26"
            ],
            [
             1,
             "#f0f921"
            ]
           ]
          },
          "colorway": [
           "#636efa",
           "#EF553B",
           "#00cc96",
           "#ab63fa",
           "#FFA15A",
           "#19d3f3",
           "#FF6692",
           "#B6E880",
           "#FF97FF",
           "#FECB52"
          ],
          "font": {
           "color": "#2a3f5f"
          },
          "geo": {
           "bgcolor": "white",
           "lakecolor": "white",
           "landcolor": "#E5ECF6",
           "showlakes": true,
           "showland": true,
           "subunitcolor": "white"
          },
          "hoverlabel": {
           "align": "left"
          },
          "hovermode": "closest",
          "mapbox": {
           "style": "light"
          },
          "paper_bgcolor": "white",
          "plot_bgcolor": "#E5ECF6",
          "polar": {
           "angularaxis": {
            "gridcolor": "white",
            "linecolor": "white",
            "ticks": ""
           },
           "bgcolor": "#E5ECF6",
           "radialaxis": {
            "gridcolor": "white",
            "linecolor": "white",
            "ticks": ""
           }
          },
          "scene": {
           "xaxis": {
            "backgroundcolor": "#E5ECF6",
            "gridcolor": "white",
            "gridwidth": 2,
            "linecolor": "white",
            "showbackground": true,
            "ticks": "",
            "zerolinecolor": "white"
           },
           "yaxis": {
            "backgroundcolor": "#E5ECF6",
            "gridcolor": "white",
            "gridwidth": 2,
            "linecolor": "white",
            "showbackground": true,
            "ticks": "",
            "zerolinecolor": "white"
           },
           "zaxis": {
            "backgroundcolor": "#E5ECF6",
            "gridcolor": "white",
            "gridwidth": 2,
            "linecolor": "white",
            "showbackground": true,
            "ticks": "",
            "zerolinecolor": "white"
           }
          },
          "shapedefaults": {
           "line": {
            "color": "#2a3f5f"
           }
          },
          "ternary": {
           "aaxis": {
            "gridcolor": "white",
            "linecolor": "white",
            "ticks": ""
           },
           "baxis": {
            "gridcolor": "white",
            "linecolor": "white",
            "ticks": ""
           },
           "bgcolor": "#E5ECF6",
           "caxis": {
            "gridcolor": "white",
            "linecolor": "white",
            "ticks": ""
           }
          },
          "title": {
           "x": 0.05
          },
          "xaxis": {
           "automargin": true,
           "gridcolor": "white",
           "linecolor": "white",
           "ticks": "",
           "title": {
            "standoff": 15
           },
           "zerolinecolor": "white",
           "zerolinewidth": 2
          },
          "yaxis": {
           "automargin": true,
           "gridcolor": "white",
           "linecolor": "white",
           "ticks": "",
           "title": {
            "standoff": 15
           },
           "zerolinecolor": "white",
           "zerolinewidth": 2
          }
         }
        },
        "title": {
         "text": "Treino da func. ackley em R3 com alpha 0.005 - Tempo médio para 30 iterações: 3.809 ms"
        },
        "xaxis": {
         "anchor": "y",
         "domain": [
          0,
          1
         ],
         "title": {
          "text": "Iterações"
         }
        },
        "yaxis": {
         "anchor": "x",
         "domain": [
          0,
          1
         ],
         "title": {
          "text": "Valor da função ackley"
         }
        }
       }
      }
     },
     "metadata": {},
     "output_type": "display_data"
    }
   ],
   "source": [
    "treina_gradiente(5e-3, 3, 'ackley', 30)"
   ]
  },
  {
   "attachments": {},
   "cell_type": "markdown",
   "metadata": {},
   "source": [
    "Caso 4.2: $\\alpha$ = 0.01, treinamento por 30 iterações"
   ]
  },
  {
   "cell_type": "code",
   "execution_count": 39,
   "metadata": {},
   "outputs": [
    {
     "data": {
      "application/vnd.plotly.v1+json": {
       "config": {
        "plotlyServerURL": "https://plot.ly"
       },
       "data": [
        {
         "hovertemplate": "variable=0<br>index=%{x}<br>value=%{y}<extra></extra>",
         "legendgroup": "0",
         "line": {
          "color": "#636efa",
          "dash": "solid"
         },
         "marker": {
          "symbol": "circle"
         },
         "mode": "lines",
         "name": "0",
         "orientation": "v",
         "showlegend": true,
         "type": "scatter",
         "x": [
          0,
          1,
          2,
          3,
          4,
          5,
          6,
          7,
          8,
          9,
          10,
          11,
          12,
          13,
          14,
          15,
          16,
          17,
          18,
          19,
          20,
          21,
          22,
          23,
          24,
          25,
          26,
          27,
          28,
          29,
          30
         ],
         "xaxis": "x",
         "y": [
          20.75590671377921,
          21.35860164898274,
          20.764855699838286,
          19.28031440836192,
          13.892357698393438,
          4.514650910358405,
          11.849222883140698,
          10.510227794034416,
          12.661842271485034,
          9.018807674522202,
          14.110069387861582,
          5.846408129730321,
          13.966214254490398,
          6.381750682084565,
          14.467981537730276,
          5.526140460342862,
          13.8135818444369,
          7.341253285668364,
          14.995643779593617,
          4.728953432126513,
          12.557800642508411,
          10.23406112863768,
          13.74722503013177,
          7.631450511202745,
          15.039884818332684,
          4.662479512754658,
          12.416407914532831,
          10.51280332018487,
          13.449517795896117,
          8.318561326773034,
          14.95725900828863
         ],
         "yaxis": "y"
        },
        {
         "hovertemplate": "variable=1<br>index=%{x}<br>value=%{y}<extra></extra>",
         "legendgroup": "1",
         "line": {
          "color": "#EF553B",
          "dash": "solid"
         },
         "marker": {
          "symbol": "circle"
         },
         "mode": "lines",
         "name": "1",
         "orientation": "v",
         "showlegend": true,
         "type": "scatter",
         "x": [
          0,
          1,
          2,
          3,
          4,
          5,
          6,
          7,
          8,
          9,
          10,
          11,
          12,
          13,
          14,
          15,
          16,
          17,
          18,
          19,
          20,
          21,
          22,
          23,
          24,
          25,
          26,
          27,
          28,
          29,
          30
         ],
         "xaxis": "x",
         "y": [
          20.40091089833988,
          22.12340059712321,
          22.08347952805561,
          22.03237673304535,
          21.965406140152503,
          21.875331935979137,
          21.750855715488857,
          21.57462653801241,
          21.32239350325853,
          20.970844126821646,
          20.533127096145716,
          20.116803174662316,
          19.86525030501747,
          19.7737365069206,
          19.749114655142723,
          19.740961058362785,
          19.733046228958404,
          19.716783591241246,
          19.67846326633301,
          19.58526883943062,
          19.348261934873985,
          18.679652679776037,
          16.27667884864448,
          5.111893510776817,
          12.197573024301269,
          6.393067086954311,
          12.95895610985895,
          4.716204252970684,
          11.69768643305775,
          7.493902989051618,
          12.869406725039605
         ],
         "yaxis": "y"
        },
        {
         "hovertemplate": "variable=2<br>index=%{x}<br>value=%{y}<extra></extra>",
         "legendgroup": "2",
         "line": {
          "color": "#00cc96",
          "dash": "solid"
         },
         "marker": {
          "symbol": "circle"
         },
         "mode": "lines",
         "name": "2",
         "orientation": "v",
         "showlegend": true,
         "type": "scatter",
         "x": [
          0,
          1,
          2,
          3,
          4,
          5,
          6,
          7,
          8,
          9,
          10,
          11,
          12,
          13,
          14,
          15,
          16,
          17,
          18,
          19,
          20,
          21,
          22,
          23,
          24,
          25,
          26,
          27,
          28,
          29,
          30
         ],
         "xaxis": "x",
         "y": [
          20.753101003992757,
          17.298409986687744,
          3.208481053340375,
          6.807531297576485,
          13.683490720249505,
          5.306094106273587,
          13.209866114128106,
          7.950272721971247,
          14.674649815969426,
          4.950712789438182,
          12.818447428249252,
          9.484152355945314,
          14.325160903316005,
          6.295848132794568,
          14.587263126599495,
          5.850239924856776,
          14.215812363471011,
          6.760852420919106,
          14.884570165772596,
          5.221233024024301,
          13.400806458323535,
          8.657763310804148,
          14.93489330194699,
          5.110540900258403,
          13.218336369944305,
          9.063746127239023,
          14.754403343642167,
          5.514092056323186,
          13.82458200236596,
          7.68497265362452,
          15.10314599931371
         ],
         "yaxis": "y"
        },
        {
         "hovertemplate": "variable=3<br>index=%{x}<br>value=%{y}<extra></extra>",
         "legendgroup": "3",
         "line": {
          "color": "#ab63fa",
          "dash": "solid"
         },
         "marker": {
          "symbol": "circle"
         },
         "mode": "lines",
         "name": "3",
         "orientation": "v",
         "showlegend": true,
         "type": "scatter",
         "x": [
          0,
          1,
          2,
          3,
          4,
          5,
          6,
          7,
          8,
          9,
          10,
          11,
          12,
          13,
          14,
          15,
          16,
          17,
          18,
          19,
          20,
          21,
          22,
          23,
          24,
          25,
          26,
          27,
          28,
          29,
          30
         ],
         "xaxis": "x",
         "y": [
          19.49076650773785,
          21.91436337355989,
          21.902925677296977,
          21.890037078919608,
          21.87540763646931,
          21.858663461827977,
          21.839313125525706,
          21.816696198278144,
          21.78990172573951,
          21.75763396051432,
          21.71798103463716,
          21.66799466877403,
          21.60287633313046,
          21.514273413934486,
          21.386344283808096,
          21.185437730947623,
          20.82797419593542,
          20.05349668185499,
          17.724337238034693,
          7.466909393296072,
          12.980071127700912,
          5.067508744721049,
          13.044504506131046,
          6.213172297887532,
          13.907767061992216,
          4.458187708103793,
          12.352828792695574,
          8.178031963995826,
          13.93469086601756,
          4.807497129161508,
          13.032494825953028
         ],
         "yaxis": "y"
        },
        {
         "hovertemplate": "variable=4<br>index=%{x}<br>value=%{y}<extra></extra>",
         "legendgroup": "4",
         "line": {
          "color": "#FFA15A",
          "dash": "solid"
         },
         "marker": {
          "symbol": "circle"
         },
         "mode": "lines",
         "name": "4",
         "orientation": "v",
         "showlegend": true,
         "type": "scatter",
         "x": [
          0,
          1,
          2,
          3,
          4,
          5,
          6,
          7,
          8,
          9,
          10,
          11,
          12,
          13,
          14,
          15,
          16,
          17,
          18,
          19,
          20,
          21,
          22,
          23,
          24,
          25,
          26,
          27,
          28,
          29,
          30
         ],
         "xaxis": "x",
         "y": [
          21.068312369692045,
          21.020481470442817,
          19.793800387317763,
          16.288126844414524,
          3.9115894712990316,
          9.815189694972943,
          12.160445539248649,
          8.821662620564187,
          14.059585582869952,
          6.134680039318088,
          14.43542128743568,
          6.106518572641303,
          14.451562297409156,
          6.1555859592712565,
          14.496699615002006,
          6.060270860475512,
          14.416881433808607,
          6.247448019190564,
          14.568964185886877,
          5.893663909784873,
          14.261476792048896,
          6.612222878696439,
          14.802734595771494,
          5.360055257511959,
          13.617883444793568,
          8.118388939381918,
          15.057227694584988,
          4.801427398053786,
          12.650197473120267,
          10.218275771263318,
          13.858583864957222
         ],
         "yaxis": "y"
        },
        {
         "hovertemplate": "variable=5<br>index=%{x}<br>value=%{y}<extra></extra>",
         "legendgroup": "5",
         "line": {
          "color": "#19d3f3",
          "dash": "solid"
         },
         "marker": {
          "symbol": "circle"
         },
         "mode": "lines",
         "name": "5",
         "orientation": "v",
         "showlegend": true,
         "type": "scatter",
         "x": [
          0,
          1,
          2,
          3,
          4,
          5,
          6,
          7,
          8,
          9,
          10,
          11,
          12,
          13,
          14,
          15,
          16,
          17,
          18,
          19,
          20,
          21,
          22,
          23,
          24,
          25,
          26,
          27,
          28,
          29,
          30
         ],
         "xaxis": "x",
         "y": [
          20.513734979343962,
          22.139812635459965,
          22.085207565857097,
          22.00826861606892,
          21.892636955671808,
          21.7021783169197,
          21.34200855873318,
          20.489871804435907,
          17.5351741782445,
          4.234172272400016,
          11.263504926167359,
          10.737934089890745,
          11.847636328283029,
          10.169080456435205,
          12.792686970528017,
          8.389852847448774,
          14.28409395734352,
          5.157249833149191,
          13.26556603538301,
          7.810301771442122,
          14.741826491782955,
          4.6819458354134085,
          12.596954101101375,
          9.719030127843562,
          13.946336441057603,
          6.702171462847431,
          14.74109421000984,
          4.876246114445028,
          12.963776472099594,
          8.96347270687783,
          14.491774668283954
         ],
         "yaxis": "y"
        },
        {
         "hovertemplate": "variable=6<br>index=%{x}<br>value=%{y}<extra></extra>",
         "legendgroup": "6",
         "line": {
          "color": "#FF6692",
          "dash": "solid"
         },
         "marker": {
          "symbol": "circle"
         },
         "mode": "lines",
         "name": "6",
         "orientation": "v",
         "showlegend": true,
         "type": "scatter",
         "x": [
          0,
          1,
          2,
          3,
          4,
          5,
          6,
          7,
          8,
          9,
          10,
          11,
          12,
          13,
          14,
          15,
          16,
          17,
          18,
          19,
          20,
          21,
          22,
          23,
          24,
          25,
          26,
          27,
          28,
          29,
          30
         ],
         "xaxis": "x",
         "y": [
          19.586321450661977,
          20.08854748469297,
          19.063427574809307,
          16.9211167974876,
          7.895867576683235,
          12.550513015609381,
          5.273792297127752,
          12.360287091405015,
          5.722250222040056,
          12.698208683853569,
          5.097743016329222,
          12.347201421583648,
          6.452299550538921,
          13.607678145729917,
          5.157454585345928,
          13.365450559000662,
          7.457748407269351,
          14.755912752813305,
          4.471266057098724,
          12.289182693906907,
          10.03937175482026,
          13.424155369078296,
          7.57278469939993,
          14.778213946693526,
          4.456519335056992,
          12.258404245689713,
          10.100656667580486,
          13.360108725461068,
          7.721075815342779,
          14.7646739903742,
          4.4853455787077365
         ],
         "yaxis": "y"
        },
        {
         "hovertemplate": "variable=7<br>index=%{x}<br>value=%{y}<extra></extra>",
         "legendgroup": "7",
         "line": {
          "color": "#B6E880",
          "dash": "solid"
         },
         "marker": {
          "symbol": "circle"
         },
         "mode": "lines",
         "name": "7",
         "orientation": "v",
         "showlegend": true,
         "type": "scatter",
         "x": [
          0,
          1,
          2,
          3,
          4,
          5,
          6,
          7,
          8,
          9,
          10,
          11,
          12,
          13,
          14,
          15,
          16,
          17,
          18,
          19,
          20,
          21,
          22,
          23,
          24,
          25,
          26,
          27,
          28,
          29,
          30
         ],
         "xaxis": "x",
         "y": [
          14.766681029411998,
          2.509549093677905,
          10.102841491718259,
          8.606952479567573,
          11.241507900737503,
          6.3644736362716365,
          12.921965867310226,
          2.580544296773532,
          10.317192525778335,
          8.415776544363275,
          11.561790315516966,
          5.727227419096117,
          13.039439352633416,
          2.359076116695715,
          9.788404943059344,
          9.388594436178707,
          10.31581329131406,
          8.418733628856987,
          11.561466482478863,
          5.727379540692592,
          13.040009795916314,
          2.3577942557334386,
          9.785111213390188,
          9.394271675440654,
          10.30731832840546,
          8.43526732131506,
          11.543596026213198,
          5.768862748623967,
          13.038627426266682,
          2.360605041696911,
          9.792297264051882
         ],
         "yaxis": "y"
        },
        {
         "hovertemplate": "variable=8<br>index=%{x}<br>value=%{y}<extra></extra>",
         "legendgroup": "8",
         "line": {
          "color": "#FF97FF",
          "dash": "solid"
         },
         "marker": {
          "symbol": "circle"
         },
         "mode": "lines",
         "name": "8",
         "orientation": "v",
         "showlegend": true,
         "type": "scatter",
         "x": [
          0,
          1,
          2,
          3,
          4,
          5,
          6,
          7,
          8,
          9,
          10,
          11,
          12,
          13,
          14,
          15,
          16,
          17,
          18,
          19,
          20,
          21,
          22,
          23,
          24,
          25,
          26,
          27,
          28,
          29,
          30
         ],
         "xaxis": "x",
         "y": [
          21.42630779334201,
          22.392907121491124,
          22.363803229120705,
          22.327118978874676,
          22.279737645511176,
          22.216726018106606,
          22.12992344795182,
          22.005136356729324,
          21.81626786148554,
          21.512437408646026,
          20.98834340759566,
          20.005446565097795,
          17.812592631948934,
          9.924612353965816,
          11.193149636294578,
          9.129082125943864,
          12.141177456448991,
          7.221965320189446,
          13.273250704942694,
          4.973871858820377,
          12.271302766622556,
          8.281043577118908,
          14.142488478637564,
          5.636031770899269,
          13.898224215241433,
          7.203339653689037,
          14.98280998563719,
          4.8819415650801865,
          12.817977613770363,
          9.852117994778203,
          14.175850447059153
         ],
         "yaxis": "y"
        },
        {
         "hovertemplate": "variable=9<br>index=%{x}<br>value=%{y}<extra></extra>",
         "legendgroup": "9",
         "line": {
          "color": "#FECB52",
          "dash": "solid"
         },
         "marker": {
          "symbol": "circle"
         },
         "mode": "lines",
         "name": "9",
         "orientation": "v",
         "showlegend": true,
         "type": "scatter",
         "x": [
          0,
          1,
          2,
          3,
          4,
          5,
          6,
          7,
          8,
          9,
          10,
          11,
          12,
          13,
          14,
          15,
          16,
          17,
          18,
          19,
          20,
          21,
          22,
          23,
          24,
          25,
          26,
          27,
          28,
          29,
          30
         ],
         "xaxis": "x",
         "y": [
          21.29992251009813,
          21.389214723485104,
          20.764257527453783,
          19.31813379324972,
          14.625442254619914,
          3.219190800314735,
          6.9112881664770605,
          14.516825855055652,
          5.1384875354335335,
          13.083296541080228,
          8.719302443365915,
          14.656866703551028,
          5.386378368566621,
          13.611905253290494,
          8.095755932645169,
          15.067301422046285,
          4.824350343287119,
          12.674148262719255,
          10.234755754518268,
          13.887115567609687,
          7.56478274669823,
          15.103320141415939,
          4.770856545029702,
          12.562354067315246,
          10.457409439197548,
          13.658153678795795,
          8.096940702174178,
          15.086435322151258,
          4.806787640071658,
          12.637931683336328,
          10.307697116688066
         ],
         "yaxis": "y"
        },
        {
         "hovertemplate": "variable=10<br>index=%{x}<br>value=%{y}<extra></extra>",
         "legendgroup": "10",
         "line": {
          "color": "#636efa",
          "dash": "solid"
         },
         "marker": {
          "symbol": "circle"
         },
         "mode": "lines",
         "name": "10",
         "orientation": "v",
         "showlegend": true,
         "type": "scatter",
         "x": [
          0,
          1,
          2,
          3,
          4,
          5,
          6,
          7,
          8,
          9,
          10,
          11,
          12,
          13,
          14,
          15,
          16,
          17,
          18,
          19,
          20,
          21,
          22,
          23,
          24,
          25,
          26,
          27,
          28,
          29,
          30
         ],
         "xaxis": "x",
         "y": [
          18.60677909018801,
          20.981063690306833,
          20.696234295308262,
          20.292190390172426,
          19.786599903022832,
          19.29374752165156,
          18.875773966603642,
          18.245158911400054,
          16.2826497158478,
          6.991068416139042,
          12.293099063305027,
          4.589209207744673,
          11.654217713176378,
          6.009988404733054,
          12.429239556900026,
          4.308322521850442,
          11.33040174129529,
          6.793934961857886,
          12.450680487806244,
          4.550114818127923,
          11.902515590402427,
          6.789364472760328,
          13.577164368061748,
          4.738340607710171,
          13.002116059652922,
          7.155793572070301,
          14.319622858412641,
          4.156191615593443,
          12.076276827068858,
          9.241829038326886,
          13.312751217003488
         ],
         "yaxis": "y"
        },
        {
         "hovertemplate": "variable=11<br>index=%{x}<br>value=%{y}<extra></extra>",
         "legendgroup": "11",
         "line": {
          "color": "#EF553B",
          "dash": "solid"
         },
         "marker": {
          "symbol": "circle"
         },
         "mode": "lines",
         "name": "11",
         "orientation": "v",
         "showlegend": true,
         "type": "scatter",
         "x": [
          0,
          1,
          2,
          3,
          4,
          5,
          6,
          7,
          8,
          9,
          10,
          11,
          12,
          13,
          14,
          15,
          16,
          17,
          18,
          19,
          20,
          21,
          22,
          23,
          24,
          25,
          26,
          27,
          28,
          29,
          30
         ],
         "xaxis": "x",
         "y": [
          21.50206417452418,
          21.96321757496705,
          21.709214687327837,
          21.239181039002748,
          20.198088879211486,
          17.111361823946986,
          5.33081533255708,
          12.431919101925489,
          6.6762575501777555,
          13.286173148653209,
          5.03766537589399,
          12.344945185470554,
          8.204494810787539,
          14.245164900762585,
          5.609416774815315,
          13.923803866000675,
          7.431942714169665,
          15.087167915250081,
          4.804690219794438,
          12.631532573917386,
          10.325092301552608,
          13.802974792923106,
          7.766355246041387,
          15.113995069067727,
          4.753028827610013,
          12.522026175083829,
          10.540967327566053,
          13.573436710686725,
          8.296501224030727,
          15.053880519628809,
          4.8812818934268805
         ],
         "yaxis": "y"
        },
        {
         "hovertemplate": "variable=12<br>index=%{x}<br>value=%{y}<extra></extra>",
         "legendgroup": "12",
         "line": {
          "color": "#00cc96",
          "dash": "solid"
         },
         "marker": {
          "symbol": "circle"
         },
         "mode": "lines",
         "name": "12",
         "orientation": "v",
         "showlegend": true,
         "type": "scatter",
         "x": [
          0,
          1,
          2,
          3,
          4,
          5,
          6,
          7,
          8,
          9,
          10,
          11,
          12,
          13,
          14,
          15,
          16,
          17,
          18,
          19,
          20,
          21,
          22,
          23,
          24,
          25,
          26,
          27,
          28,
          29,
          30
         ],
         "xaxis": "x",
         "y": [
          21.37526811059733,
          22.23708754920042,
          22.186524533953623,
          22.120358855476265,
          22.029103573593186,
          21.89385290152508,
          21.671751462979234,
          21.245940128366612,
          20.19507492088606,
          16.227595980605024,
          2.6613175678517718,
          3.243335460486748,
          7.167364636892005,
          14.600503335859916,
          5.167666203508851,
          13.326920576378118,
          8.746931721789085,
          14.87498191113049,
          5.170082351437749,
          13.332011859628935,
          8.73913409747908,
          14.878779452619598,
          5.162291474081449,
          13.319342273626779,
          8.767475482167386,
          14.867167908053482,
          5.188031190475712,
          13.360978657442185,
          8.674219057434842,
          14.904216780034119,
          5.106104373516445
         ],
         "yaxis": "y"
        },
        {
         "hovertemplate": "variable=13<br>index=%{x}<br>value=%{y}<extra></extra>",
         "legendgroup": "13",
         "line": {
          "color": "#ab63fa",
          "dash": "solid"
         },
         "marker": {
          "symbol": "circle"
         },
         "mode": "lines",
         "name": "13",
         "orientation": "v",
         "showlegend": true,
         "type": "scatter",
         "x": [
          0,
          1,
          2,
          3,
          4,
          5,
          6,
          7,
          8,
          9,
          10,
          11,
          12,
          13,
          14,
          15,
          16,
          17,
          18,
          19,
          20,
          21,
          22,
          23,
          24,
          25,
          26,
          27,
          28,
          29,
          30
         ],
         "xaxis": "x",
         "y": [
          19.035252549208757,
          19.309932000878703,
          14.820439798781585,
          2.6726859303690778,
          5.901857162406927,
          13.254610125099669,
          5.23162904804574,
          13.333031083292898,
          6.559857266525984,
          14.367290565298434,
          4.605850704700455,
          12.657863404512298,
          8.796739687841507,
          14.1802516071404,
          5.336771717249494,
          13.698174602133296,
          6.480744663302161,
          14.50096780839287,
          4.631239662423422,
          12.717481686579633,
          8.731309987315289,
          14.229495448461707,
          5.241339924920361,
          13.591221567961863,
          6.733900608203859,
          14.579111818623218,
          4.461237904306714,
          12.405665169525626,
          9.39599980566711,
          13.763193313145823,
          6.3289095295527
         ],
         "yaxis": "y"
        },
        {
         "hovertemplate": "variable=14<br>index=%{x}<br>value=%{y}<extra></extra>",
         "legendgroup": "14",
         "line": {
          "color": "#FFA15A",
          "dash": "solid"
         },
         "marker": {
          "symbol": "circle"
         },
         "mode": "lines",
         "name": "14",
         "orientation": "v",
         "showlegend": true,
         "type": "scatter",
         "x": [
          0,
          1,
          2,
          3,
          4,
          5,
          6,
          7,
          8,
          9,
          10,
          11,
          12,
          13,
          14,
          15,
          16,
          17,
          18,
          19,
          20,
          21,
          22,
          23,
          24,
          25,
          26,
          27,
          28,
          29,
          30
         ],
         "xaxis": "x",
         "y": [
          17.83739474073961,
          21.154194979573585,
          21.153483364120177,
          21.15274709335719,
          21.15198506884204,
          21.151196118413182,
          21.15037898950739,
          21.14953234174273,
          21.148654738671713,
          21.147744638594645,
          21.146800384306292,
          21.145820191628836,
          21.14480213656055,
          21.143744140841665,
          21.142643955705584,
          21.14149914354395,
          21.140307057166822,
          21.13906481628194,
          21.13776928074881,
          21.13641702007993,
          21.135004278560864,
          21.133526935237523,
          21.131980457868227,
          21.13035984975224,
          21.128659588116463,
          21.126873552456033,
          21.12499494086673,
          21.12301617195738,
          21.120928769361207,
          21.118723225140634,
          21.11638883745156
         ],
         "yaxis": "y"
        },
        {
         "hovertemplate": "variable=15<br>index=%{x}<br>value=%{y}<extra></extra>",
         "legendgroup": "15",
         "line": {
          "color": "#19d3f3",
          "dash": "solid"
         },
         "marker": {
          "symbol": "circle"
         },
         "mode": "lines",
         "name": "15",
         "orientation": "v",
         "showlegend": true,
         "type": "scatter",
         "x": [
          0,
          1,
          2,
          3,
          4,
          5,
          6,
          7,
          8,
          9,
          10,
          11,
          12,
          13,
          14,
          15,
          16,
          17,
          18,
          19,
          20,
          21,
          22,
          23,
          24,
          25,
          26,
          27,
          28,
          29,
          30
         ],
         "xaxis": "x",
         "y": [
          21.348374644992504,
          21.248618550136204,
          20.017065026245525,
          15.222798062502978,
          3.6132640043348343,
          8.842971616815047,
          14.355338692263807,
          5.849233892124484,
          14.181391738584875,
          6.794417860930459,
          14.897988270350545,
          5.213571231155683,
          13.381490761143588,
          8.737466106141035,
          14.92149248211113,
          5.176482051707147,
          13.321238971821208,
          8.872657695642882,
          14.865060498307495,
          5.302002366888885,
          13.520113896108077,
          8.424941962436753,
          15.025140388225608,
          4.949785847029702,
          12.91884105571826,
          9.743506845536727,
          14.33091340899252,
          6.533255248793491,
          14.770709026326045,
          5.514303873871192,
          13.821392148832777
         ],
         "yaxis": "y"
        },
        {
         "hovertemplate": "variable=16<br>index=%{x}<br>value=%{y}<extra></extra>",
         "legendgroup": "16",
         "line": {
          "color": "#FF6692",
          "dash": "solid"
         },
         "marker": {
          "symbol": "circle"
         },
         "mode": "lines",
         "name": "16",
         "orientation": "v",
         "showlegend": true,
         "type": "scatter",
         "x": [
          0,
          1,
          2,
          3,
          4,
          5,
          6,
          7,
          8,
          9,
          10,
          11,
          12,
          13,
          14,
          15,
          16,
          17,
          18,
          19,
          20,
          21,
          22,
          23,
          24,
          25,
          26,
          27,
          28,
          29,
          30
         ],
         "xaxis": "x",
         "y": [
          20.481004518574714,
          21.756137814927534,
          21.496223457566625,
          21.013073857927633,
          19.923666113465828,
          16.55674569258084,
          4.077308353231583,
          10.506988485041989,
          10.28633978873791,
          10.998011292700765,
          10.290104420042146,
          12.054566492132242,
          9.638053040610155,
          13.663866516512343,
          6.990618313653448,
          14.802711875830429,
          4.714984926368505,
          12.646575809991642,
          9.691231407233712,
          14.037276079148334,
          6.55292315678183,
          14.69724713582894,
          5.031095992106966,
          13.208869227339246,
          8.47739642138234,
          14.764426739447574,
          4.8830456113133955,
          12.96013277541199,
          9.028413305856818,
          14.505759603051528,
          5.462802364751891
         ],
         "yaxis": "y"
        },
        {
         "hovertemplate": "variable=17<br>index=%{x}<br>value=%{y}<extra></extra>",
         "legendgroup": "17",
         "line": {
          "color": "#B6E880",
          "dash": "solid"
         },
         "marker": {
          "symbol": "circle"
         },
         "mode": "lines",
         "name": "17",
         "orientation": "v",
         "showlegend": true,
         "type": "scatter",
         "x": [
          0,
          1,
          2,
          3,
          4,
          5,
          6,
          7,
          8,
          9,
          10,
          11,
          12,
          13,
          14,
          15,
          16,
          17,
          18,
          19,
          20,
          21,
          22,
          23,
          24,
          25,
          26,
          27,
          28,
          29,
          30
         ],
         "xaxis": "x",
         "y": [
          20.88745175378067,
          21.756237121225045,
          21.504500894570246,
          20.9916155274235,
          19.602170787589273,
          13.645150353447299,
          6.5957907462310565,
          14.349398325974388,
          5.170323817100336,
          13.09011547051643,
          8.085450635695771,
          14.504356924592281,
          4.961173211170738,
          12.829790217320161,
          8.975352742501654,
          14.373724514985732,
          5.711186204192696,
          14.015546339850571,
          6.8436293620451405,
          14.858037243292332,
          5.0230384143665425,
          13.118155504345188,
          9.058401190726206,
          14.645555202434226,
          5.531998702470808,
          13.865978615817664,
          7.354266639589277,
          15.00929963069995,
          4.727406818651282,
          12.557457710829068,
          10.235030379388032
         ],
         "yaxis": "y"
        },
        {
         "hovertemplate": "variable=18<br>index=%{x}<br>value=%{y}<extra></extra>",
         "legendgroup": "18",
         "line": {
          "color": "#FF97FF",
          "dash": "solid"
         },
         "marker": {
          "symbol": "circle"
         },
         "mode": "lines",
         "name": "18",
         "orientation": "v",
         "showlegend": true,
         "type": "scatter",
         "x": [
          0,
          1,
          2,
          3,
          4,
          5,
          6,
          7,
          8,
          9,
          10,
          11,
          12,
          13,
          14,
          15,
          16,
          17,
          18,
          19,
          20,
          21,
          22,
          23,
          24,
          25,
          26,
          27,
          28,
          29,
          30
         ],
         "xaxis": "x",
         "y": [
          17.0413561212571,
          17.8992622893271,
          16.22052009394585,
          8.577989236449781,
          9.906587748544215,
          7.62622944057229,
          10.968183555112564,
          5.3948834689126315,
          11.870261228572641,
          3.4553987561376727,
          10.428432469635908,
          6.85914394021183,
          11.881855502364344,
          4.439346018849843,
          12.306793227419456,
          5.491121639499607,
          13.460440356683801,
          3.9914712324423154,
          12.213939609962067,
          7.046977176236338,
          13.613949346393142,
          3.8038644807087114,
          11.921710665693633,
          7.703702302586244,
          13.344764608205242,
          4.412187067659211,
          12.748752438155357,
          5.807063825398263,
          13.640076273462526,
          3.7468207461816836,
          11.825644718654898
         ],
         "yaxis": "y"
        },
        {
         "hovertemplate": "variable=19<br>index=%{x}<br>value=%{y}<extra></extra>",
         "legendgroup": "19",
         "line": {
          "color": "#FECB52",
          "dash": "solid"
         },
         "marker": {
          "symbol": "circle"
         },
         "mode": "lines",
         "name": "19",
         "orientation": "v",
         "showlegend": true,
         "type": "scatter",
         "x": [
          0,
          1,
          2,
          3,
          4,
          5,
          6,
          7,
          8,
          9,
          10,
          11,
          12,
          13,
          14,
          15,
          16,
          17,
          18,
          19,
          20,
          21,
          22,
          23,
          24,
          25,
          26,
          27,
          28,
          29,
          30
         ],
         "xaxis": "x",
         "y": [
          21.06111188377201,
          21.473523967479018,
          21.16864658299382,
          20.75861656058939,
          20.293073600601133,
          19.87037494871365,
          19.404649460968866,
          18.319109739777783,
          13.916818859814743,
          3.4576135437678706,
          8.064139434953109,
          12.904528301647394,
          5.439073264623985,
          12.538230099805299,
          6.287457734489809,
          13.123671511027508,
          5.1504477307121235,
          12.405283746256226,
          7.443367854245503,
          13.989677097967396,
          5.225587904014812,
          13.136936201103008,
          8.05069759582766,
          14.518075210876482,
          4.941325964097185,
          12.697949803398101,
          9.085869736473208,
          14.137719367240004,
          5.92934178900655,
          14.051173617621956,
          6.34345521387295
         ],
         "yaxis": "y"
        }
       ],
       "layout": {
        "legend": {
         "title": {
          "text": "Inicialização"
         },
         "tracegroupgap": 0
        },
        "template": {
         "data": {
          "bar": [
           {
            "error_x": {
             "color": "#2a3f5f"
            },
            "error_y": {
             "color": "#2a3f5f"
            },
            "marker": {
             "line": {
              "color": "#E5ECF6",
              "width": 0.5
             },
             "pattern": {
              "fillmode": "overlay",
              "size": 10,
              "solidity": 0.2
             }
            },
            "type": "bar"
           }
          ],
          "barpolar": [
           {
            "marker": {
             "line": {
              "color": "#E5ECF6",
              "width": 0.5
             },
             "pattern": {
              "fillmode": "overlay",
              "size": 10,
              "solidity": 0.2
             }
            },
            "type": "barpolar"
           }
          ],
          "carpet": [
           {
            "aaxis": {
             "endlinecolor": "#2a3f5f",
             "gridcolor": "white",
             "linecolor": "white",
             "minorgridcolor": "white",
             "startlinecolor": "#2a3f5f"
            },
            "baxis": {
             "endlinecolor": "#2a3f5f",
             "gridcolor": "white",
             "linecolor": "white",
             "minorgridcolor": "white",
             "startlinecolor": "#2a3f5f"
            },
            "type": "carpet"
           }
          ],
          "choropleth": [
           {
            "colorbar": {
             "outlinewidth": 0,
             "ticks": ""
            },
            "type": "choropleth"
           }
          ],
          "contour": [
           {
            "colorbar": {
             "outlinewidth": 0,
             "ticks": ""
            },
            "colorscale": [
             [
              0,
              "#0d0887"
             ],
             [
              0.1111111111111111,
              "#46039f"
             ],
             [
              0.2222222222222222,
              "#7201a8"
             ],
             [
              0.3333333333333333,
              "#9c179e"
             ],
             [
              0.4444444444444444,
              "#bd3786"
             ],
             [
              0.5555555555555556,
              "#d8576b"
             ],
             [
              0.6666666666666666,
              "#ed7953"
             ],
             [
              0.7777777777777778,
              "#fb9f3a"
             ],
             [
              0.8888888888888888,
              "#fdca26"
             ],
             [
              1,
              "#f0f921"
             ]
            ],
            "type": "contour"
           }
          ],
          "contourcarpet": [
           {
            "colorbar": {
             "outlinewidth": 0,
             "ticks": ""
            },
            "type": "contourcarpet"
           }
          ],
          "heatmap": [
           {
            "colorbar": {
             "outlinewidth": 0,
             "ticks": ""
            },
            "colorscale": [
             [
              0,
              "#0d0887"
             ],
             [
              0.1111111111111111,
              "#46039f"
             ],
             [
              0.2222222222222222,
              "#7201a8"
             ],
             [
              0.3333333333333333,
              "#9c179e"
             ],
             [
              0.4444444444444444,
              "#bd3786"
             ],
             [
              0.5555555555555556,
              "#d8576b"
             ],
             [
              0.6666666666666666,
              "#ed7953"
             ],
             [
              0.7777777777777778,
              "#fb9f3a"
             ],
             [
              0.8888888888888888,
              "#fdca26"
             ],
             [
              1,
              "#f0f921"
             ]
            ],
            "type": "heatmap"
           }
          ],
          "heatmapgl": [
           {
            "colorbar": {
             "outlinewidth": 0,
             "ticks": ""
            },
            "colorscale": [
             [
              0,
              "#0d0887"
             ],
             [
              0.1111111111111111,
              "#46039f"
             ],
             [
              0.2222222222222222,
              "#7201a8"
             ],
             [
              0.3333333333333333,
              "#9c179e"
             ],
             [
              0.4444444444444444,
              "#bd3786"
             ],
             [
              0.5555555555555556,
              "#d8576b"
             ],
             [
              0.6666666666666666,
              "#ed7953"
             ],
             [
              0.7777777777777778,
              "#fb9f3a"
             ],
             [
              0.8888888888888888,
              "#fdca26"
             ],
             [
              1,
              "#f0f921"
             ]
            ],
            "type": "heatmapgl"
           }
          ],
          "histogram": [
           {
            "marker": {
             "pattern": {
              "fillmode": "overlay",
              "size": 10,
              "solidity": 0.2
             }
            },
            "type": "histogram"
           }
          ],
          "histogram2d": [
           {
            "colorbar": {
             "outlinewidth": 0,
             "ticks": ""
            },
            "colorscale": [
             [
              0,
              "#0d0887"
             ],
             [
              0.1111111111111111,
              "#46039f"
             ],
             [
              0.2222222222222222,
              "#7201a8"
             ],
             [
              0.3333333333333333,
              "#9c179e"
             ],
             [
              0.4444444444444444,
              "#bd3786"
             ],
             [
              0.5555555555555556,
              "#d8576b"
             ],
             [
              0.6666666666666666,
              "#ed7953"
             ],
             [
              0.7777777777777778,
              "#fb9f3a"
             ],
             [
              0.8888888888888888,
              "#fdca26"
             ],
             [
              1,
              "#f0f921"
             ]
            ],
            "type": "histogram2d"
           }
          ],
          "histogram2dcontour": [
           {
            "colorbar": {
             "outlinewidth": 0,
             "ticks": ""
            },
            "colorscale": [
             [
              0,
              "#0d0887"
             ],
             [
              0.1111111111111111,
              "#46039f"
             ],
             [
              0.2222222222222222,
              "#7201a8"
             ],
             [
              0.3333333333333333,
              "#9c179e"
             ],
             [
              0.4444444444444444,
              "#bd3786"
             ],
             [
              0.5555555555555556,
              "#d8576b"
             ],
             [
              0.6666666666666666,
              "#ed7953"
             ],
             [
              0.7777777777777778,
              "#fb9f3a"
             ],
             [
              0.8888888888888888,
              "#fdca26"
             ],
             [
              1,
              "#f0f921"
             ]
            ],
            "type": "histogram2dcontour"
           }
          ],
          "mesh3d": [
           {
            "colorbar": {
             "outlinewidth": 0,
             "ticks": ""
            },
            "type": "mesh3d"
           }
          ],
          "parcoords": [
           {
            "line": {
             "colorbar": {
              "outlinewidth": 0,
              "ticks": ""
             }
            },
            "type": "parcoords"
           }
          ],
          "pie": [
           {
            "automargin": true,
            "type": "pie"
           }
          ],
          "scatter": [
           {
            "fillpattern": {
             "fillmode": "overlay",
             "size": 10,
             "solidity": 0.2
            },
            "type": "scatter"
           }
          ],
          "scatter3d": [
           {
            "line": {
             "colorbar": {
              "outlinewidth": 0,
              "ticks": ""
             }
            },
            "marker": {
             "colorbar": {
              "outlinewidth": 0,
              "ticks": ""
             }
            },
            "type": "scatter3d"
           }
          ],
          "scattercarpet": [
           {
            "marker": {
             "colorbar": {
              "outlinewidth": 0,
              "ticks": ""
             }
            },
            "type": "scattercarpet"
           }
          ],
          "scattergeo": [
           {
            "marker": {
             "colorbar": {
              "outlinewidth": 0,
              "ticks": ""
             }
            },
            "type": "scattergeo"
           }
          ],
          "scattergl": [
           {
            "marker": {
             "colorbar": {
              "outlinewidth": 0,
              "ticks": ""
             }
            },
            "type": "scattergl"
           }
          ],
          "scattermapbox": [
           {
            "marker": {
             "colorbar": {
              "outlinewidth": 0,
              "ticks": ""
             }
            },
            "type": "scattermapbox"
           }
          ],
          "scatterpolar": [
           {
            "marker": {
             "colorbar": {
              "outlinewidth": 0,
              "ticks": ""
             }
            },
            "type": "scatterpolar"
           }
          ],
          "scatterpolargl": [
           {
            "marker": {
             "colorbar": {
              "outlinewidth": 0,
              "ticks": ""
             }
            },
            "type": "scatterpolargl"
           }
          ],
          "scatterternary": [
           {
            "marker": {
             "colorbar": {
              "outlinewidth": 0,
              "ticks": ""
             }
            },
            "type": "scatterternary"
           }
          ],
          "surface": [
           {
            "colorbar": {
             "outlinewidth": 0,
             "ticks": ""
            },
            "colorscale": [
             [
              0,
              "#0d0887"
             ],
             [
              0.1111111111111111,
              "#46039f"
             ],
             [
              0.2222222222222222,
              "#7201a8"
             ],
             [
              0.3333333333333333,
              "#9c179e"
             ],
             [
              0.4444444444444444,
              "#bd3786"
             ],
             [
              0.5555555555555556,
              "#d8576b"
             ],
             [
              0.6666666666666666,
              "#ed7953"
             ],
             [
              0.7777777777777778,
              "#fb9f3a"
             ],
             [
              0.8888888888888888,
              "#fdca26"
             ],
             [
              1,
              "#f0f921"
             ]
            ],
            "type": "surface"
           }
          ],
          "table": [
           {
            "cells": {
             "fill": {
              "color": "#EBF0F8"
             },
             "line": {
              "color": "white"
             }
            },
            "header": {
             "fill": {
              "color": "#C8D4E3"
             },
             "line": {
              "color": "white"
             }
            },
            "type": "table"
           }
          ]
         },
         "layout": {
          "annotationdefaults": {
           "arrowcolor": "#2a3f5f",
           "arrowhead": 0,
           "arrowwidth": 1
          },
          "autotypenumbers": "strict",
          "coloraxis": {
           "colorbar": {
            "outlinewidth": 0,
            "ticks": ""
           }
          },
          "colorscale": {
           "diverging": [
            [
             0,
             "#8e0152"
            ],
            [
             0.1,
             "#c51b7d"
            ],
            [
             0.2,
             "#de77ae"
            ],
            [
             0.3,
             "#f1b6da"
            ],
            [
             0.4,
             "#fde0ef"
            ],
            [
             0.5,
             "#f7f7f7"
            ],
            [
             0.6,
             "#e6f5d0"
            ],
            [
             0.7,
             "#b8e186"
            ],
            [
             0.8,
             "#7fbc41"
            ],
            [
             0.9,
             "#4d9221"
            ],
            [
             1,
             "#276419"
            ]
           ],
           "sequential": [
            [
             0,
             "#0d0887"
            ],
            [
             0.1111111111111111,
             "#46039f"
            ],
            [
             0.2222222222222222,
             "#7201a8"
            ],
            [
             0.3333333333333333,
             "#9c179e"
            ],
            [
             0.4444444444444444,
             "#bd3786"
            ],
            [
             0.5555555555555556,
             "#d8576b"
            ],
            [
             0.6666666666666666,
             "#ed7953"
            ],
            [
             0.7777777777777778,
             "#fb9f3a"
            ],
            [
             0.8888888888888888,
             "#fdca26"
            ],
            [
             1,
             "#f0f921"
            ]
           ],
           "sequentialminus": [
            [
             0,
             "#0d0887"
            ],
            [
             0.1111111111111111,
             "#46039f"
            ],
            [
             0.2222222222222222,
             "#7201a8"
            ],
            [
             0.3333333333333333,
             "#9c179e"
            ],
            [
             0.4444444444444444,
             "#bd3786"
            ],
            [
             0.5555555555555556,
             "#d8576b"
            ],
            [
             0.6666666666666666,
             "#ed7953"
            ],
            [
             0.7777777777777778,
             "#fb9f3a"
            ],
            [
             0.8888888888888888,
             "#fdca26"
            ],
            [
             1,
             "#f0f921"
            ]
           ]
          },
          "colorway": [
           "#636efa",
           "#EF553B",
           "#00cc96",
           "#ab63fa",
           "#FFA15A",
           "#19d3f3",
           "#FF6692",
           "#B6E880",
           "#FF97FF",
           "#FECB52"
          ],
          "font": {
           "color": "#2a3f5f"
          },
          "geo": {
           "bgcolor": "white",
           "lakecolor": "white",
           "landcolor": "#E5ECF6",
           "showlakes": true,
           "showland": true,
           "subunitcolor": "white"
          },
          "hoverlabel": {
           "align": "left"
          },
          "hovermode": "closest",
          "mapbox": {
           "style": "light"
          },
          "paper_bgcolor": "white",
          "plot_bgcolor": "#E5ECF6",
          "polar": {
           "angularaxis": {
            "gridcolor": "white",
            "linecolor": "white",
            "ticks": ""
           },
           "bgcolor": "#E5ECF6",
           "radialaxis": {
            "gridcolor": "white",
            "linecolor": "white",
            "ticks": ""
           }
          },
          "scene": {
           "xaxis": {
            "backgroundcolor": "#E5ECF6",
            "gridcolor": "white",
            "gridwidth": 2,
            "linecolor": "white",
            "showbackground": true,
            "ticks": "",
            "zerolinecolor": "white"
           },
           "yaxis": {
            "backgroundcolor": "#E5ECF6",
            "gridcolor": "white",
            "gridwidth": 2,
            "linecolor": "white",
            "showbackground": true,
            "ticks": "",
            "zerolinecolor": "white"
           },
           "zaxis": {
            "backgroundcolor": "#E5ECF6",
            "gridcolor": "white",
            "gridwidth": 2,
            "linecolor": "white",
            "showbackground": true,
            "ticks": "",
            "zerolinecolor": "white"
           }
          },
          "shapedefaults": {
           "line": {
            "color": "#2a3f5f"
           }
          },
          "ternary": {
           "aaxis": {
            "gridcolor": "white",
            "linecolor": "white",
            "ticks": ""
           },
           "baxis": {
            "gridcolor": "white",
            "linecolor": "white",
            "ticks": ""
           },
           "bgcolor": "#E5ECF6",
           "caxis": {
            "gridcolor": "white",
            "linecolor": "white",
            "ticks": ""
           }
          },
          "title": {
           "x": 0.05
          },
          "xaxis": {
           "automargin": true,
           "gridcolor": "white",
           "linecolor": "white",
           "ticks": "",
           "title": {
            "standoff": 15
           },
           "zerolinecolor": "white",
           "zerolinewidth": 2
          },
          "yaxis": {
           "automargin": true,
           "gridcolor": "white",
           "linecolor": "white",
           "ticks": "",
           "title": {
            "standoff": 15
           },
           "zerolinecolor": "white",
           "zerolinewidth": 2
          }
         }
        },
        "title": {
         "text": "Treino da func. ackley em R3 com alpha 0.01 - Tempo médio para 30 iterações: 5.867 ms"
        },
        "xaxis": {
         "anchor": "y",
         "domain": [
          0,
          1
         ],
         "title": {
          "text": "Iterações"
         }
        },
        "yaxis": {
         "anchor": "x",
         "domain": [
          0,
          1
         ],
         "title": {
          "text": "Valor da função ackley"
         }
        }
       }
      }
     },
     "metadata": {},
     "output_type": "display_data"
    }
   ],
   "source": [
    "treina_gradiente(1e-2, 3, 'ackley', 30)"
   ]
  },
  {
   "attachments": {},
   "cell_type": "markdown",
   "metadata": {},
   "source": [
    "## **Exercício 02 - Algoritmo Genético**"
   ]
  },
  {
   "attachments": {},
   "cell_type": "markdown",
   "metadata": {},
   "source": [
    "## **Exercício 03 - Enxame de Partículas**"
   ]
  },
  {
   "attachments": {},
   "cell_type": "markdown",
   "metadata": {},
   "source": [
    "## **Exercício 04 - Considerações**"
   ]
  }
 ],
 "metadata": {
  "kernelspec": {
   "display_name": "Python 3",
   "language": "python",
   "name": "python3"
  },
  "language_info": {
   "codemirror_mode": {
    "name": "ipython",
    "version": 3
   },
   "file_extension": ".py",
   "mimetype": "text/x-python",
   "name": "python",
   "nbconvert_exporter": "python",
   "pygments_lexer": "ipython3",
   "version": "3.10.11"
  },
  "orig_nbformat": 4
 },
 "nbformat": 4,
 "nbformat_minor": 2
}
