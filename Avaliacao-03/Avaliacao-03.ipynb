{
 "cells": [
  {
   "attachments": {},
   "cell_type": "markdown",
   "metadata": {},
   "source": [
    "# **Avaliação 03 - ENGA74 2023.1**\n",
    "**Aluno:** André Paiva Conrado Rodrigues"
   ]
  },
  {
   "attachments": {},
   "cell_type": "markdown",
   "metadata": {},
   "source": [
    "## **Importação de dependências para os códigos**"
   ]
  },
  {
   "cell_type": "code",
   "execution_count": 2,
   "metadata": {},
   "outputs": [],
   "source": [
    "import numpy as np\n",
    "from numpy.random import rand\n",
    "import pandas as pd\n",
    "import plotly.express as px\n",
    "import plotly.graph_objects as go\n",
    "from plotly.subplots import make_subplots"
   ]
  },
  {
   "attachments": {},
   "cell_type": "markdown",
   "metadata": {},
   "source": [
    "## **Funções de ***benchmark*****"
   ]
  },
  {
   "attachments": {},
   "cell_type": "markdown",
   "metadata": {},
   "source": [
    "Esfera:"
   ]
  },
  {
   "cell_type": "code",
   "execution_count": 3,
   "metadata": {},
   "outputs": [],
   "source": [
    "#Função Esfera\n",
    "def esfera(x_array, derivada=False):\n",
    "    if(not derivada):\n",
    "        return np.sum(np.power(x_array, 2), axis=1)\n",
    "    else:\n",
    "        return 2 * x_array"
   ]
  },
  {
   "attachments": {},
   "cell_type": "markdown",
   "metadata": {},
   "source": [
    "Ackley:"
   ]
  },
  {
   "cell_type": "code",
   "execution_count": 4,
   "metadata": {},
   "outputs": [],
   "source": [
    "#Função Ackley\n",
    "def ackley(x_array, derivada=False):\n",
    "    if(not derivada):\n",
    "        exp1 = np.exp(-0.2 * np.sqrt(np.sum(np.power(x_array, 2), axis=1)/x_array.shape[0]))\n",
    "        exp2 = np.exp(np.sum(np.cos(2 * np.pi * x_array), axis=1)/x_array.shape[0])\n",
    "        return (-20 * exp1) - exp2 + 20 + np.e\n",
    "    else:\n",
    "        aux1 = np.tile(np.sqrt(np.sum(np.power(x_array, 2), axis=1)), (3, 1)).transpose()\n",
    "        aux2 = np.divide(x_array, aux1)\n",
    "        exp1 = np.exp(-0.2 * np.sqrt(np.sum(np.power(x_array, 2), axis=1)/x_array.shape[0]))\n",
    "        exp1 = np.tile(exp1, (3, 1)).transpose()\n",
    "        exp2 = np.exp(np.sum(np.cos(2 * np.pi * x_array), axis=1)/x_array.shape[0])\n",
    "        exp2 = np.tile(exp2, (3, 1)).transpose()\n",
    "        coef1 = 2.828\n",
    "        coef2 = np.pi\n",
    "        if(x_array.shape[0] == 3):\n",
    "            coef1 = 5.6562/np.sqrt(3)\n",
    "            coef2 = 2 * np.pi / 3\n",
    "        return (coef1 * aux2 * exp1) + (coef2 * exp2 * np.sin(2 * np.pi * x_array))"
   ]
  },
  {
   "attachments": {},
   "cell_type": "markdown",
   "metadata": {},
   "source": [
    "## **Funções de treinamento**"
   ]
  },
  {
   "attachments": {},
   "cell_type": "markdown",
   "metadata": {},
   "source": [
    "Gradiente Descendente:"
   ]
  },
  {
   "cell_type": "code",
   "execution_count": 5,
   "metadata": {},
   "outputs": [],
   "source": [
    "def gradiente(x_matrix, funcao, iteracoes, alpha_inicial=10e-3):\n",
    "    x_trained_matrix = np.zeros(x_matrix.shape)\n",
    "    print(x_trained_matrix.shape)\n",
    "    for _ in range(0, iteracoes):\n",
    "        pass\n"
   ]
  },
  {
   "cell_type": "code",
   "execution_count": 6,
   "metadata": {},
   "outputs": [
    {
     "name": "stdout",
     "output_type": "stream",
     "text": [
      "(20, 3)\n"
     ]
    }
   ],
   "source": [
    "#teste\n",
    "teste = (rand(20, 3) * 60) - 30"
   ]
  },
  {
   "attachments": {},
   "cell_type": "markdown",
   "metadata": {},
   "source": [
    "Algoritmo Genético:"
   ]
  },
  {
   "cell_type": "code",
   "execution_count": null,
   "metadata": {},
   "outputs": [],
   "source": []
  },
  {
   "attachments": {},
   "cell_type": "markdown",
   "metadata": {},
   "source": [
    "Enxame de Partículas:"
   ]
  },
  {
   "cell_type": "code",
   "execution_count": null,
   "metadata": {},
   "outputs": [],
   "source": []
  }
 ],
 "metadata": {
  "kernelspec": {
   "display_name": "Python 3",
   "language": "python",
   "name": "python3"
  },
  "language_info": {
   "codemirror_mode": {
    "name": "ipython",
    "version": 3
   },
   "file_extension": ".py",
   "mimetype": "text/x-python",
   "name": "python",
   "nbconvert_exporter": "python",
   "pygments_lexer": "ipython3",
   "version": "3.10.11"
  },
  "orig_nbformat": 4
 },
 "nbformat": 4,
 "nbformat_minor": 2
}
